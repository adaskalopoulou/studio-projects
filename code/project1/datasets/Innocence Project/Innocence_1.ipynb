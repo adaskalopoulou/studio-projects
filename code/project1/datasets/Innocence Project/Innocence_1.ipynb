{
 "cells": [
  {
   "cell_type": "code",
   "execution_count": 121,
   "metadata": {},
   "outputs": [],
   "source": [
    "from urllib.request import Request, urlopen\n",
    "from bs4 import BeautifulSoup"
   ]
  },
  {
   "cell_type": "code",
   "execution_count": 122,
   "metadata": {},
   "outputs": [],
   "source": [
    "#req = Request(\"https://www.innocenceproject.org/all-cases/\")\n",
    "#raw_html = urlopen(req).read()\n",
    "#soup_doc = BeautifulSoup(raw_html, \"html.parser\")\n",
    "#contents = open(\"json\").read()"
   ]
  },
  {
   "cell_type": "code",
   "execution_count": 123,
   "metadata": {
    "collapsed": true
   },
   "outputs": [],
   "source": [
    "import pandas as pd\n",
    "import json"
   ]
  },
  {
   "cell_type": "code",
   "execution_count": 124,
   "metadata": {},
   "outputs": [
    {
     "data": {
      "text/plain": [
       "{'cases_cat': ['exonerated-by-dna'],\n",
       " 'count': '350',\n",
       " 'custom_cat': [],\n",
       " 'msg': '<div class=\"col-md-6 left-single-case\"><div class=\"col-md-12 filtered-item ivory-section one \">\\n                                                <a href=\"https://www.innocenceproject.org/cases/joseph-abbitt/\">\\n                                                    <div class=\"row\">\\n                                                        <div class=\"col-md-4 col-xs-3 no-padding\">\\n                                                            <div class=\"has-background\" style=\"background-image: url(https://www.innocenceproject.org/wp-content/uploads/2016/02/8f038d8e-e7ae-4ea0-bc1c-c5632286e9d6.jpeg);\">\\n                                                            </div>\\n                                                        </div>\\n                                                        <div class=\"col-md-6 col-xs-7\">\\n                                                            <h3>Joseph Abbitt</h3>\\n                                                            <div class=\"caption\"> Time served: 14 years</div>\\n                                                        </div>\\n                                                        <div class=\"col-md-2 col-xs-2\">\\n                                                            <i class=\"fa fa-chevron-right\"></i>\\n                                                        </div>\\n                                                    </div>\\n                                                    </a>\\n                                                </div></div><div class=\"col-md-6 right-single-case\"><div class=\"col-md-12 filtered-item ivory-section one \">\\n                                                <a href=\"https://www.innocenceproject.org/cases/habib-wahir-abdal/\">\\n                                                    <div class=\"row\">\\n                                                        <div class=\"col-md-4 col-xs-3 no-padding\">\\n                                                            \\n                                                        </div>\\n                                                        <div class=\"col-md-6 col-xs-7\">\\n                                                            <h3>Habib Wahir Abdal</h3>\\n                                                            <div class=\"caption\"> Time served: 16 years</div>\\n                                                        </div>\\n                                                        <div class=\"col-md-2 col-xs-2\">\\n                                                            <i class=\"fa fa-chevron-right\"></i>\\n                                                        </div>\\n                                                    </div>\\n                                                    </a>\\n                                                </div></div><div class=\"col-md-6 left-single-case\"><div class=\"col-md-12 filtered-item ivory-section one \">\\n                                                <a href=\"https://www.innocenceproject.org/cases/christopher-abernathy/\">\\n                                                    <div class=\"row\">\\n                                                        <div class=\"col-md-4 col-xs-3 no-padding\">\\n                                                            <div class=\"has-background\" style=\"background-image: url(https://www.innocenceproject.org/wp-content/uploads/2016/02/925b00c6-b04b-44b9-938b-a3fa387373c0.jpeg);\">\\n                                                            </div>\\n                                                        </div>\\n                                                        <div class=\"col-md-6 col-xs-7\">\\n                                                            <h3>Christopher Abernathy</h3>\\n                                                            <div class=\"caption\"> Time served: 28 years</div>\\n                                                        </div>\\n                                                        <div class=\"col-md-2 col-xs-2\">\\n                                                            <i class=\"fa fa-chevron-right\"></i>\\n                                                        </div>\\n                                                    </div>\\n                                                    </a>\\n                                                </div></div><div class=\"col-md-6 right-single-case\"><div class=\"col-md-12 filtered-item ivory-section one \">\\n                                                <a href=\"https://www.innocenceproject.org/cases/kenneth-adams/\">\\n                                                    <div class=\"row\">\\n                                                        <div class=\"col-md-4 col-xs-3 no-padding\">\\n                                                            <div class=\"has-background\" style=\"background-image: url(https://www.innocenceproject.org/wp-content/uploads/2016/02/mark.png);\">\\n                                                            </div>\\n                                                        </div>\\n                                                        <div class=\"col-md-6 col-xs-7\">\\n                                                            <h3>Kenneth Adams</h3>\\n                                                            <div class=\"caption\"> Time served: 18 years</div>\\n                                                        </div>\\n                                                        <div class=\"col-md-2 col-xs-2\">\\n                                                            <i class=\"fa fa-chevron-right\"></i>\\n                                                        </div>\\n                                                    </div>\\n                                                    </a>\\n                                                </div></div><div class=\"col-md-6 left-single-case\"><div class=\"col-md-12 filtered-item ivory-section one \">\\n                                                <a href=\"https://www.innocenceproject.org/cases/gilbert-alejandro/\">\\n                                                    <div class=\"row\">\\n                                                        <div class=\"col-md-4 col-xs-3 no-padding\">\\n                                                            \\n                                                        </div>\\n                                                        <div class=\"col-md-6 col-xs-7\">\\n                                                            <h3>Gilbert Alejandro</h3>\\n                                                            <div class=\"caption\"> Time served: 4 years</div>\\n                                                        </div>\\n                                                        <div class=\"col-md-2 col-xs-2\">\\n                                                            <i class=\"fa fa-chevron-right\"></i>\\n                                                        </div>\\n                                                    </div>\\n                                                    </a>\\n                                                </div></div><div class=\"col-md-6 right-single-case\"><div class=\"col-md-12 filtered-item ivory-section one \">\\n                                                <a href=\"https://www.innocenceproject.org/cases/richard-alexander/\">\\n                                                    <div class=\"row\">\\n                                                        <div class=\"col-md-4 col-xs-3 no-padding\">\\n                                                            <div class=\"has-background\" style=\"background-image: url(https://www.innocenceproject.org/wp-content/uploads/2016/02/richarda.png);\">\\n                                                            </div>\\n                                                        </div>\\n                                                        <div class=\"col-md-6 col-xs-7\">\\n                                                            <h3>Richard Alexander</h3>\\n                                                            <div class=\"caption\"> Time served: 3 years</div>\\n                                                        </div>\\n                                                        <div class=\"col-md-2 col-xs-2\">\\n                                                            <i class=\"fa fa-chevron-right\"></i>\\n                                                        </div>\\n                                                    </div>\\n                                                    </a>\\n                                                </div></div><div class=\"col-md-6 left-single-case\"><div class=\"col-md-12 filtered-item ivory-section one \">\\n                                                <a href=\"https://www.innocenceproject.org/cases/donovan-allen/\">\\n                                                    <div class=\"row\">\\n                                                        <div class=\"col-md-4 col-xs-3 no-padding\">\\n                                                            <div class=\"has-background\" style=\"background-image: url(https://www.innocenceproject.org/wp-content/uploads/2016/02/0626e436-3bbd-40e9-b653-ae3f438a8cd1.jpeg);\">\\n                                                            </div>\\n                                                        </div>\\n                                                        <div class=\"col-md-6 col-xs-7\">\\n                                                            <h3>Donovan Allen</h3>\\n                                                            \\n                                                        </div>\\n                                                        <div class=\"col-md-2 col-xs-2\">\\n                                                            <i class=\"fa fa-chevron-right\"></i>\\n                                                        </div>\\n                                                    </div>\\n                                                    </a>\\n                                                </div></div><div class=\"col-md-6 right-single-case\"><div class=\"col-md-12 filtered-item ivory-section one \">\\n                                                <a href=\"https://www.innocenceproject.org/cases/marvin-anderson/\">\\n                                                    <div class=\"row\">\\n                                                        <div class=\"col-md-4 col-xs-3 no-padding\">\\n                                                            <div class=\"has-background\" style=\"background-image: url(https://www.innocenceproject.org/wp-content/uploads/2016/02/marvina.jpg);\">\\n                                                            </div>\\n                                                        </div>\\n                                                        <div class=\"col-md-6 col-xs-7\">\\n                                                            <h3>Marvin Anderson</h3>\\n                                                            <div class=\"caption\"> Time served: 20 years</div>\\n                                                        </div>\\n                                                        <div class=\"col-md-2 col-xs-2\">\\n                                                            <i class=\"fa fa-chevron-right\"></i>\\n                                                        </div>\\n                                                    </div>\\n                                                    </a>\\n                                                </div></div><div class=\"col-md-6 left-single-case\"><div class=\"col-md-12 filtered-item ivory-section one \">\\n                                                <a href=\"https://www.innocenceproject.org/cases/randolph-arledge/\">\\n                                                    <div class=\"row\">\\n                                                        <div class=\"col-md-4 col-xs-3 no-padding\">\\n                                                            <div class=\"has-background\" style=\"background-image: url(https://www.innocenceproject.org/wp-content/uploads/2016/02/d67c8f15-72f5-45f4-b318-43032bb79b1a.jpeg);\">\\n                                                            </div>\\n                                                        </div>\\n                                                        <div class=\"col-md-6 col-xs-7\">\\n                                                            <h3>Randolph Arledge</h3>\\n                                                            <div class=\"caption\"> Time served: 29 years</div>\\n                                                        </div>\\n                                                        <div class=\"col-md-2 col-xs-2\">\\n                                                            <i class=\"fa fa-chevron-right\"></i>\\n                                                        </div>\\n                                                    </div>\\n                                                    </a>\\n                                                </div></div><div class=\"col-md-6 right-single-case\"><div class=\"col-md-12 filtered-item ivory-section one \">\\n                                                <a href=\"https://www.innocenceproject.org/cases/herman-atkins/\">\\n                                                    <div class=\"row\">\\n                                                        <div class=\"col-md-4 col-xs-3 no-padding\">\\n                                                            <div class=\"has-background\" style=\"background-image: url(https://www.innocenceproject.org/wp-content/uploads/2016/02/hermana.jpg);\">\\n                                                            </div>\\n                                                        </div>\\n                                                        <div class=\"col-md-6 col-xs-7\">\\n                                                            <h3>Herman Atkins</h3>\\n                                                            <div class=\"caption\"> Time served: 12 years</div>\\n                                                        </div>\\n                                                        <div class=\"col-md-2 col-xs-2\">\\n                                                            <i class=\"fa fa-chevron-right\"></i>\\n                                                        </div>\\n                                                    </div>\\n                                                    </a>\\n                                                </div></div><div class=\"col-md-6 left-single-case\"><div class=\"col-md-12 filtered-item ivory-section one \">\\n                                                <a href=\"https://www.innocenceproject.org/cases/steven-avery/\">\\n                                                    <div class=\"row\">\\n                                                        <div class=\"col-md-4 col-xs-3 no-padding\">\\n                                                            <div class=\"has-background\" style=\"background-image: url(https://www.innocenceproject.org/wp-content/uploads/2016/02/steven-avery.jpg);\">\\n                                                            </div>\\n                                                        </div>\\n                                                        <div class=\"col-md-6 col-xs-7\">\\n                                                            <h3>Steven Avery</h3>\\n                                                            <div class=\"caption\"> Time served: 18 years</div>\\n                                                        </div>\\n                                                        <div class=\"col-md-2 col-xs-2\">\\n                                                            <i class=\"fa fa-chevron-right\"></i>\\n                                                        </div>\\n                                                    </div>\\n                                                    </a>\\n                                                </div></div><div class=\"col-md-6 right-single-case\"><div class=\"col-md-12 filtered-item ivory-section one \">\\n                                                <a href=\"https://www.innocenceproject.org/cases/william-d-avery/\">\\n                                                    <div class=\"row\">\\n                                                        <div class=\"col-md-4 col-xs-3 no-padding\">\\n                                                            \\n                                                        </div>\\n                                                        <div class=\"col-md-6 col-xs-7\">\\n                                                            <h3>William D. Avery</h3>\\n                                                            <div class=\"caption\"> Time served: 5 years</div>\\n                                                        </div>\\n                                                        <div class=\"col-md-2 col-xs-2\">\\n                                                            <i class=\"fa fa-chevron-right\"></i>\\n                                                        </div>\\n                                                    </div>\\n                                                    </a>\\n                                                </div></div><div class=\"col-md-6 left-single-case\"><div class=\"col-md-12 filtered-item ivory-section one \">\\n                                                <a href=\"https://www.innocenceproject.org/cases/david-ayers/\">\\n                                                    <div class=\"row\">\\n                                                        <div class=\"col-md-4 col-xs-3 no-padding\">\\n                                                            <div class=\"has-background\" style=\"background-image: url(https://www.innocenceproject.org/wp-content/uploads/2016/02/a798c671-20a6-4c11-a20c-0592330ba5be.jpeg);\">\\n                                                            </div>\\n                                                        </div>\\n                                                        <div class=\"col-md-6 col-xs-7\">\\n                                                            <h3>David Ayers</h3>\\n                                                            <div class=\"caption\"> Time served: 11 years</div>\\n                                                        </div>\\n                                                        <div class=\"col-md-2 col-xs-2\">\\n                                                            <i class=\"fa fa-chevron-right\"></i>\\n                                                        </div>\\n                                                    </div>\\n                                                    </a>\\n                                                </div></div><div class=\"col-md-6 right-single-case\"><div class=\"col-md-12 filtered-item ivory-section one \">\\n                                                <a href=\"https://www.innocenceproject.org/cases/james-bain/\">\\n                                                    <div class=\"row\">\\n                                                        <div class=\"col-md-4 col-xs-3 no-padding\">\\n                                                            <div class=\"has-background\" style=\"background-image: url(https://www.innocenceproject.org/wp-content/uploads/2016/02/jamesb.jpg);\">\\n                                                            </div>\\n                                                        </div>\\n                                                        <div class=\"col-md-6 col-xs-7\">\\n                                                            <h3>James Bain</h3>\\n                                                            <div class=\"caption\"> Time served: 35 years</div>\\n                                                        </div>\\n                                                        <div class=\"col-md-2 col-xs-2\">\\n                                                            <i class=\"fa fa-chevron-right\"></i>\\n                                                        </div>\\n                                                    </div>\\n                                                    </a>\\n                                                </div></div><div class=\"col-md-6 left-single-case\"><div class=\"col-md-12 filtered-item ivory-section one \">\\n                                                <a href=\"https://www.innocenceproject.org/cases/bennett-barbour/\">\\n                                                    <div class=\"row\">\\n                                                        <div class=\"col-md-4 col-xs-3 no-padding\">\\n                                                            <div class=\"has-background\" style=\"background-image: url(https://www.innocenceproject.org/wp-content/uploads/2016/02/6ee235dd-6dc8-4fc2-8e35-883ec49d2815.jpeg);\">\\n                                                            </div>\\n                                                        </div>\\n                                                        <div class=\"col-md-6 col-xs-7\">\\n                                                            <h3>Bennett Barbour</h3>\\n                                                            <div class=\"caption\"> Time served: 34 years</div>\\n                                                        </div>\\n                                                        <div class=\"col-md-2 col-xs-2\">\\n                                                            <i class=\"fa fa-chevron-right\"></i>\\n                                                        </div>\\n                                                    </div>\\n                                                    </a>\\n                                                </div></div><div class=\"col-md-6 right-single-case\"><div class=\"col-md-12 filtered-item ivory-section one \">\\n                                                <a href=\"https://www.innocenceproject.org/cases/steven-barnes/\">\\n                                                    <div class=\"row\">\\n                                                        <div class=\"col-md-4 col-xs-3 no-padding\">\\n                                                            <div class=\"has-background\" style=\"background-image: url(https://www.innocenceproject.org/wp-content/uploads/2016/02/stevenb.jpg);\">\\n                                                            </div>\\n                                                        </div>\\n                                                        <div class=\"col-md-6 col-xs-7\">\\n                                                            <h3>Steven Barnes</h3>\\n                                                            <div class=\"caption\"> Time served: 20 years</div>\\n                                                        </div>\\n                                                        <div class=\"col-md-2 col-xs-2\">\\n                                                            <i class=\"fa fa-chevron-right\"></i>\\n                                                        </div>\\n                                                    </div>\\n                                                    </a>\\n                                                </div></div><div class=\"col-md-6 left-single-case\"><div class=\"col-md-12 filtered-item ivory-section one \">\\n                                                <a href=\"https://www.innocenceproject.org/cases/william-barnhouse/\">\\n                                                    <div class=\"row\">\\n                                                        <div class=\"col-md-4 col-xs-3 no-padding\">\\n                                                            <div class=\"has-background\" style=\"background-image: url(https://www.innocenceproject.org/wp-content/uploads/2017/05/IMG_2581-e1496177393141.jpg);\">\\n                                                            </div>\\n                                                        </div>\\n                                                        <div class=\"col-md-6 col-xs-7\">\\n                                                            <h3>William Barnhouse</h3>\\n                                                            <div class=\"caption\"> Time served: 25 years</div>\\n                                                        </div>\\n                                                        <div class=\"col-md-2 col-xs-2\">\\n                                                            <i class=\"fa fa-chevron-right\"></i>\\n                                                        </div>\\n                                                    </div>\\n                                                    </a>\\n                                                </div></div><div class=\"col-md-6 right-single-case\"><div class=\"col-md-12 filtered-item ivory-section one \">\\n                                                <a href=\"https://www.innocenceproject.org/cases/jonathan-barr/\">\\n                                                    <div class=\"row\">\\n                                                        <div class=\"col-md-4 col-xs-3 no-padding\">\\n                                                            <div class=\"has-background\" style=\"background-image: url(https://www.innocenceproject.org/wp-content/uploads/2016/02/89c15ae2-e78c-4dc8-ac0b-820b8dc6ffa7.jpeg);\">\\n                                                            </div>\\n                                                        </div>\\n                                                        <div class=\"col-md-6 col-xs-7\">\\n                                                            <h3>Jonathan Barr</h3>\\n                                                            <div class=\"caption\"> Time served: 14 years</div>\\n                                                        </div>\\n                                                        <div class=\"col-md-2 col-xs-2\">\\n                                                            <i class=\"fa fa-chevron-right\"></i>\\n                                                        </div>\\n                                                    </div>\\n                                                    </a>\\n                                                </div></div><div class=\"col-md-6 left-single-case\"><div class=\"col-md-12 filtered-item ivory-section one \">\\n                                                <a href=\"https://www.innocenceproject.org/cases/chester-bauer/\">\\n                                                    <div class=\"row\">\\n                                                        <div class=\"col-md-4 col-xs-3 no-padding\">\\n                                                            \\n                                                        </div>\\n                                                        <div class=\"col-md-6 col-xs-7\">\\n                                                            <h3>Chester Bauer</h3>\\n                                                            <div class=\"caption\"> Time served: 14 years</div>\\n                                                        </div>\\n                                                        <div class=\"col-md-2 col-xs-2\">\\n                                                            <i class=\"fa fa-chevron-right\"></i>\\n                                                        </div>\\n                                                    </div>\\n                                                    </a>\\n                                                </div></div><div class=\"col-md-6 right-single-case\"><div class=\"col-md-12 filtered-item ivory-section one \">\\n                                                <a href=\"https://www.innocenceproject.org/cases/antonio-beaver/\">\\n                                                    <div class=\"row\">\\n                                                        <div class=\"col-md-4 col-xs-3 no-padding\">\\n                                                            <div class=\"has-background\" style=\"background-image: url(https://www.innocenceproject.org/wp-content/uploads/2016/02/3c7502f8-6b33-44bc-b88b-0c2f20ba5e47.jpeg);\">\\n                                                            </div>\\n                                                        </div>\\n                                                        <div class=\"col-md-6 col-xs-7\">\\n                                                            <h3>Antonio Beaver</h3>\\n                                                            <div class=\"caption\"> Time served: 10 years</div>\\n                                                        </div>\\n                                                        <div class=\"col-md-2 col-xs-2\">\\n                                                            <i class=\"fa fa-chevron-right\"></i>\\n                                                        </div>\\n                                                    </div>\\n                                                    </a>\\n                                                </div></div>',\n",
       " 'type': 'ok'}"
      ]
     },
     "execution_count": 124,
     "metadata": {},
     "output_type": "execute_result"
    }
   ],
   "source": [
    "contents = open(\"output.json\").read()\n",
    "cases = json.loads(contents)\n",
    "cases"
   ]
  },
  {
   "cell_type": "code",
   "execution_count": 125,
   "metadata": {},
   "outputs": [
    {
     "data": {
      "text/plain": [
       "'<div class=\"col-md-6 left-single-case\"><div class=\"col-md-12 filtered-item ivory-section one \">\\n                                                <a href=\"https://www.innocenceproject.org/cases/joseph-abbitt/\">\\n                                                    <div class=\"row\">\\n                                                        <div class=\"col-md-4 col-xs-3 no-padding\">\\n                                                            <div class=\"has-background\" style=\"background-image: url(https://www.innocenceproject.org/wp-content/uploads/2016/02/8f038d8e-e7ae-4ea0-bc1c-c5632286e9d6.jpeg);\">\\n                                                            </div>\\n                                                        </div>\\n                                                        <div class=\"col-md-6 col-xs-7\">\\n                                                            <h3>Joseph Abbitt</h3>\\n                                                            <div class=\"caption\"> Time served: 14 years</div>\\n                                                        </div>\\n                                                        <div class=\"col-md-2 col-xs-2\">\\n                                                            <i class=\"fa fa-chevron-right\"></i>\\n                                                        </div>\\n                                                    </div>\\n                                                    </a>\\n                                                </div></div><div class=\"col-md-6 right-single-case\"><div class=\"col-md-12 filtered-item ivory-section one \">\\n                                                <a href=\"https://www.innocenceproject.org/cases/habib-wahir-abdal/\">\\n                                                    <div class=\"row\">\\n                                                        <div class=\"col-md-4 col-xs-3 no-padding\">\\n                                                            \\n                                                        </div>\\n                                                        <div class=\"col-md-6 col-xs-7\">\\n                                                            <h3>Habib Wahir Abdal</h3>\\n                                                            <div class=\"caption\"> Time served: 16 years</div>\\n                                                        </div>\\n                                                        <div class=\"col-md-2 col-xs-2\">\\n                                                            <i class=\"fa fa-chevron-right\"></i>\\n                                                        </div>\\n                                                    </div>\\n                                                    </a>\\n                                                </div></div><div class=\"col-md-6 left-single-case\"><div class=\"col-md-12 filtered-item ivory-section one \">\\n                                                <a href=\"https://www.innocenceproject.org/cases/christopher-abernathy/\">\\n                                                    <div class=\"row\">\\n                                                        <div class=\"col-md-4 col-xs-3 no-padding\">\\n                                                            <div class=\"has-background\" style=\"background-image: url(https://www.innocenceproject.org/wp-content/uploads/2016/02/925b00c6-b04b-44b9-938b-a3fa387373c0.jpeg);\">\\n                                                            </div>\\n                                                        </div>\\n                                                        <div class=\"col-md-6 col-xs-7\">\\n                                                            <h3>Christopher Abernathy</h3>\\n                                                            <div class=\"caption\"> Time served: 28 years</div>\\n                                                        </div>\\n                                                        <div class=\"col-md-2 col-xs-2\">\\n                                                            <i class=\"fa fa-chevron-right\"></i>\\n                                                        </div>\\n                                                    </div>\\n                                                    </a>\\n                                                </div></div><div class=\"col-md-6 right-single-case\"><div class=\"col-md-12 filtered-item ivory-section one \">\\n                                                <a href=\"https://www.innocenceproject.org/cases/kenneth-adams/\">\\n                                                    <div class=\"row\">\\n                                                        <div class=\"col-md-4 col-xs-3 no-padding\">\\n                                                            <div class=\"has-background\" style=\"background-image: url(https://www.innocenceproject.org/wp-content/uploads/2016/02/mark.png);\">\\n                                                            </div>\\n                                                        </div>\\n                                                        <div class=\"col-md-6 col-xs-7\">\\n                                                            <h3>Kenneth Adams</h3>\\n                                                            <div class=\"caption\"> Time served: 18 years</div>\\n                                                        </div>\\n                                                        <div class=\"col-md-2 col-xs-2\">\\n                                                            <i class=\"fa fa-chevron-right\"></i>\\n                                                        </div>\\n                                                    </div>\\n                                                    </a>\\n                                                </div></div><div class=\"col-md-6 left-single-case\"><div class=\"col-md-12 filtered-item ivory-section one \">\\n                                                <a href=\"https://www.innocenceproject.org/cases/gilbert-alejandro/\">\\n                                                    <div class=\"row\">\\n                                                        <div class=\"col-md-4 col-xs-3 no-padding\">\\n                                                            \\n                                                        </div>\\n                                                        <div class=\"col-md-6 col-xs-7\">\\n                                                            <h3>Gilbert Alejandro</h3>\\n                                                            <div class=\"caption\"> Time served: 4 years</div>\\n                                                        </div>\\n                                                        <div class=\"col-md-2 col-xs-2\">\\n                                                            <i class=\"fa fa-chevron-right\"></i>\\n                                                        </div>\\n                                                    </div>\\n                                                    </a>\\n                                                </div></div><div class=\"col-md-6 right-single-case\"><div class=\"col-md-12 filtered-item ivory-section one \">\\n                                                <a href=\"https://www.innocenceproject.org/cases/richard-alexander/\">\\n                                                    <div class=\"row\">\\n                                                        <div class=\"col-md-4 col-xs-3 no-padding\">\\n                                                            <div class=\"has-background\" style=\"background-image: url(https://www.innocenceproject.org/wp-content/uploads/2016/02/richarda.png);\">\\n                                                            </div>\\n                                                        </div>\\n                                                        <div class=\"col-md-6 col-xs-7\">\\n                                                            <h3>Richard Alexander</h3>\\n                                                            <div class=\"caption\"> Time served: 3 years</div>\\n                                                        </div>\\n                                                        <div class=\"col-md-2 col-xs-2\">\\n                                                            <i class=\"fa fa-chevron-right\"></i>\\n                                                        </div>\\n                                                    </div>\\n                                                    </a>\\n                                                </div></div><div class=\"col-md-6 left-single-case\"><div class=\"col-md-12 filtered-item ivory-section one \">\\n                                                <a href=\"https://www.innocenceproject.org/cases/donovan-allen/\">\\n                                                    <div class=\"row\">\\n                                                        <div class=\"col-md-4 col-xs-3 no-padding\">\\n                                                            <div class=\"has-background\" style=\"background-image: url(https://www.innocenceproject.org/wp-content/uploads/2016/02/0626e436-3bbd-40e9-b653-ae3f438a8cd1.jpeg);\">\\n                                                            </div>\\n                                                        </div>\\n                                                        <div class=\"col-md-6 col-xs-7\">\\n                                                            <h3>Donovan Allen</h3>\\n                                                            \\n                                                        </div>\\n                                                        <div class=\"col-md-2 col-xs-2\">\\n                                                            <i class=\"fa fa-chevron-right\"></i>\\n                                                        </div>\\n                                                    </div>\\n                                                    </a>\\n                                                </div></div><div class=\"col-md-6 right-single-case\"><div class=\"col-md-12 filtered-item ivory-section one \">\\n                                                <a href=\"https://www.innocenceproject.org/cases/marvin-anderson/\">\\n                                                    <div class=\"row\">\\n                                                        <div class=\"col-md-4 col-xs-3 no-padding\">\\n                                                            <div class=\"has-background\" style=\"background-image: url(https://www.innocenceproject.org/wp-content/uploads/2016/02/marvina.jpg);\">\\n                                                            </div>\\n                                                        </div>\\n                                                        <div class=\"col-md-6 col-xs-7\">\\n                                                            <h3>Marvin Anderson</h3>\\n                                                            <div class=\"caption\"> Time served: 20 years</div>\\n                                                        </div>\\n                                                        <div class=\"col-md-2 col-xs-2\">\\n                                                            <i class=\"fa fa-chevron-right\"></i>\\n                                                        </div>\\n                                                    </div>\\n                                                    </a>\\n                                                </div></div><div class=\"col-md-6 left-single-case\"><div class=\"col-md-12 filtered-item ivory-section one \">\\n                                                <a href=\"https://www.innocenceproject.org/cases/randolph-arledge/\">\\n                                                    <div class=\"row\">\\n                                                        <div class=\"col-md-4 col-xs-3 no-padding\">\\n                                                            <div class=\"has-background\" style=\"background-image: url(https://www.innocenceproject.org/wp-content/uploads/2016/02/d67c8f15-72f5-45f4-b318-43032bb79b1a.jpeg);\">\\n                                                            </div>\\n                                                        </div>\\n                                                        <div class=\"col-md-6 col-xs-7\">\\n                                                            <h3>Randolph Arledge</h3>\\n                                                            <div class=\"caption\"> Time served: 29 years</div>\\n                                                        </div>\\n                                                        <div class=\"col-md-2 col-xs-2\">\\n                                                            <i class=\"fa fa-chevron-right\"></i>\\n                                                        </div>\\n                                                    </div>\\n                                                    </a>\\n                                                </div></div><div class=\"col-md-6 right-single-case\"><div class=\"col-md-12 filtered-item ivory-section one \">\\n                                                <a href=\"https://www.innocenceproject.org/cases/herman-atkins/\">\\n                                                    <div class=\"row\">\\n                                                        <div class=\"col-md-4 col-xs-3 no-padding\">\\n                                                            <div class=\"has-background\" style=\"background-image: url(https://www.innocenceproject.org/wp-content/uploads/2016/02/hermana.jpg);\">\\n                                                            </div>\\n                                                        </div>\\n                                                        <div class=\"col-md-6 col-xs-7\">\\n                                                            <h3>Herman Atkins</h3>\\n                                                            <div class=\"caption\"> Time served: 12 years</div>\\n                                                        </div>\\n                                                        <div class=\"col-md-2 col-xs-2\">\\n                                                            <i class=\"fa fa-chevron-right\"></i>\\n                                                        </div>\\n                                                    </div>\\n                                                    </a>\\n                                                </div></div><div class=\"col-md-6 left-single-case\"><div class=\"col-md-12 filtered-item ivory-section one \">\\n                                                <a href=\"https://www.innocenceproject.org/cases/steven-avery/\">\\n                                                    <div class=\"row\">\\n                                                        <div class=\"col-md-4 col-xs-3 no-padding\">\\n                                                            <div class=\"has-background\" style=\"background-image: url(https://www.innocenceproject.org/wp-content/uploads/2016/02/steven-avery.jpg);\">\\n                                                            </div>\\n                                                        </div>\\n                                                        <div class=\"col-md-6 col-xs-7\">\\n                                                            <h3>Steven Avery</h3>\\n                                                            <div class=\"caption\"> Time served: 18 years</div>\\n                                                        </div>\\n                                                        <div class=\"col-md-2 col-xs-2\">\\n                                                            <i class=\"fa fa-chevron-right\"></i>\\n                                                        </div>\\n                                                    </div>\\n                                                    </a>\\n                                                </div></div><div class=\"col-md-6 right-single-case\"><div class=\"col-md-12 filtered-item ivory-section one \">\\n                                                <a href=\"https://www.innocenceproject.org/cases/william-d-avery/\">\\n                                                    <div class=\"row\">\\n                                                        <div class=\"col-md-4 col-xs-3 no-padding\">\\n                                                            \\n                                                        </div>\\n                                                        <div class=\"col-md-6 col-xs-7\">\\n                                                            <h3>William D. Avery</h3>\\n                                                            <div class=\"caption\"> Time served: 5 years</div>\\n                                                        </div>\\n                                                        <div class=\"col-md-2 col-xs-2\">\\n                                                            <i class=\"fa fa-chevron-right\"></i>\\n                                                        </div>\\n                                                    </div>\\n                                                    </a>\\n                                                </div></div><div class=\"col-md-6 left-single-case\"><div class=\"col-md-12 filtered-item ivory-section one \">\\n                                                <a href=\"https://www.innocenceproject.org/cases/david-ayers/\">\\n                                                    <div class=\"row\">\\n                                                        <div class=\"col-md-4 col-xs-3 no-padding\">\\n                                                            <div class=\"has-background\" style=\"background-image: url(https://www.innocenceproject.org/wp-content/uploads/2016/02/a798c671-20a6-4c11-a20c-0592330ba5be.jpeg);\">\\n                                                            </div>\\n                                                        </div>\\n                                                        <div class=\"col-md-6 col-xs-7\">\\n                                                            <h3>David Ayers</h3>\\n                                                            <div class=\"caption\"> Time served: 11 years</div>\\n                                                        </div>\\n                                                        <div class=\"col-md-2 col-xs-2\">\\n                                                            <i class=\"fa fa-chevron-right\"></i>\\n                                                        </div>\\n                                                    </div>\\n                                                    </a>\\n                                                </div></div><div class=\"col-md-6 right-single-case\"><div class=\"col-md-12 filtered-item ivory-section one \">\\n                                                <a href=\"https://www.innocenceproject.org/cases/james-bain/\">\\n                                                    <div class=\"row\">\\n                                                        <div class=\"col-md-4 col-xs-3 no-padding\">\\n                                                            <div class=\"has-background\" style=\"background-image: url(https://www.innocenceproject.org/wp-content/uploads/2016/02/jamesb.jpg);\">\\n                                                            </div>\\n                                                        </div>\\n                                                        <div class=\"col-md-6 col-xs-7\">\\n                                                            <h3>James Bain</h3>\\n                                                            <div class=\"caption\"> Time served: 35 years</div>\\n                                                        </div>\\n                                                        <div class=\"col-md-2 col-xs-2\">\\n                                                            <i class=\"fa fa-chevron-right\"></i>\\n                                                        </div>\\n                                                    </div>\\n                                                    </a>\\n                                                </div></div><div class=\"col-md-6 left-single-case\"><div class=\"col-md-12 filtered-item ivory-section one \">\\n                                                <a href=\"https://www.innocenceproject.org/cases/bennett-barbour/\">\\n                                                    <div class=\"row\">\\n                                                        <div class=\"col-md-4 col-xs-3 no-padding\">\\n                                                            <div class=\"has-background\" style=\"background-image: url(https://www.innocenceproject.org/wp-content/uploads/2016/02/6ee235dd-6dc8-4fc2-8e35-883ec49d2815.jpeg);\">\\n                                                            </div>\\n                                                        </div>\\n                                                        <div class=\"col-md-6 col-xs-7\">\\n                                                            <h3>Bennett Barbour</h3>\\n                                                            <div class=\"caption\"> Time served: 34 years</div>\\n                                                        </div>\\n                                                        <div class=\"col-md-2 col-xs-2\">\\n                                                            <i class=\"fa fa-chevron-right\"></i>\\n                                                        </div>\\n                                                    </div>\\n                                                    </a>\\n                                                </div></div><div class=\"col-md-6 right-single-case\"><div class=\"col-md-12 filtered-item ivory-section one \">\\n                                                <a href=\"https://www.innocenceproject.org/cases/steven-barnes/\">\\n                                                    <div class=\"row\">\\n                                                        <div class=\"col-md-4 col-xs-3 no-padding\">\\n                                                            <div class=\"has-background\" style=\"background-image: url(https://www.innocenceproject.org/wp-content/uploads/2016/02/stevenb.jpg);\">\\n                                                            </div>\\n                                                        </div>\\n                                                        <div class=\"col-md-6 col-xs-7\">\\n                                                            <h3>Steven Barnes</h3>\\n                                                            <div class=\"caption\"> Time served: 20 years</div>\\n                                                        </div>\\n                                                        <div class=\"col-md-2 col-xs-2\">\\n                                                            <i class=\"fa fa-chevron-right\"></i>\\n                                                        </div>\\n                                                    </div>\\n                                                    </a>\\n                                                </div></div><div class=\"col-md-6 left-single-case\"><div class=\"col-md-12 filtered-item ivory-section one \">\\n                                                <a href=\"https://www.innocenceproject.org/cases/william-barnhouse/\">\\n                                                    <div class=\"row\">\\n                                                        <div class=\"col-md-4 col-xs-3 no-padding\">\\n                                                            <div class=\"has-background\" style=\"background-image: url(https://www.innocenceproject.org/wp-content/uploads/2017/05/IMG_2581-e1496177393141.jpg);\">\\n                                                            </div>\\n                                                        </div>\\n                                                        <div class=\"col-md-6 col-xs-7\">\\n                                                            <h3>William Barnhouse</h3>\\n                                                            <div class=\"caption\"> Time served: 25 years</div>\\n                                                        </div>\\n                                                        <div class=\"col-md-2 col-xs-2\">\\n                                                            <i class=\"fa fa-chevron-right\"></i>\\n                                                        </div>\\n                                                    </div>\\n                                                    </a>\\n                                                </div></div><div class=\"col-md-6 right-single-case\"><div class=\"col-md-12 filtered-item ivory-section one \">\\n                                                <a href=\"https://www.innocenceproject.org/cases/jonathan-barr/\">\\n                                                    <div class=\"row\">\\n                                                        <div class=\"col-md-4 col-xs-3 no-padding\">\\n                                                            <div class=\"has-background\" style=\"background-image: url(https://www.innocenceproject.org/wp-content/uploads/2016/02/89c15ae2-e78c-4dc8-ac0b-820b8dc6ffa7.jpeg);\">\\n                                                            </div>\\n                                                        </div>\\n                                                        <div class=\"col-md-6 col-xs-7\">\\n                                                            <h3>Jonathan Barr</h3>\\n                                                            <div class=\"caption\"> Time served: 14 years</div>\\n                                                        </div>\\n                                                        <div class=\"col-md-2 col-xs-2\">\\n                                                            <i class=\"fa fa-chevron-right\"></i>\\n                                                        </div>\\n                                                    </div>\\n                                                    </a>\\n                                                </div></div><div class=\"col-md-6 left-single-case\"><div class=\"col-md-12 filtered-item ivory-section one \">\\n                                                <a href=\"https://www.innocenceproject.org/cases/chester-bauer/\">\\n                                                    <div class=\"row\">\\n                                                        <div class=\"col-md-4 col-xs-3 no-padding\">\\n                                                            \\n                                                        </div>\\n                                                        <div class=\"col-md-6 col-xs-7\">\\n                                                            <h3>Chester Bauer</h3>\\n                                                            <div class=\"caption\"> Time served: 14 years</div>\\n                                                        </div>\\n                                                        <div class=\"col-md-2 col-xs-2\">\\n                                                            <i class=\"fa fa-chevron-right\"></i>\\n                                                        </div>\\n                                                    </div>\\n                                                    </a>\\n                                                </div></div><div class=\"col-md-6 right-single-case\"><div class=\"col-md-12 filtered-item ivory-section one \">\\n                                                <a href=\"https://www.innocenceproject.org/cases/antonio-beaver/\">\\n                                                    <div class=\"row\">\\n                                                        <div class=\"col-md-4 col-xs-3 no-padding\">\\n                                                            <div class=\"has-background\" style=\"background-image: url(https://www.innocenceproject.org/wp-content/uploads/2016/02/3c7502f8-6b33-44bc-b88b-0c2f20ba5e47.jpeg);\">\\n                                                            </div>\\n                                                        </div>\\n                                                        <div class=\"col-md-6 col-xs-7\">\\n                                                            <h3>Antonio Beaver</h3>\\n                                                            <div class=\"caption\"> Time served: 10 years</div>\\n                                                        </div>\\n                                                        <div class=\"col-md-2 col-xs-2\">\\n                                                            <i class=\"fa fa-chevron-right\"></i>\\n                                                        </div>\\n                                                    </div>\\n                                                    </a>\\n                                                </div></div>'"
      ]
     },
     "execution_count": 125,
     "metadata": {},
     "output_type": "execute_result"
    }
   ],
   "source": [
    "cases['msg']"
   ]
  },
  {
   "cell_type": "code",
   "execution_count": 126,
   "metadata": {},
   "outputs": [
    {
     "data": {
      "text/plain": [
       "<div class=\"col-md-6 left-single-case\"><div class=\"col-md-12 filtered-item ivory-section one \">\n",
       "<a href=\"https://www.innocenceproject.org/cases/joseph-abbitt/\">\n",
       "<div class=\"row\">\n",
       "<div class=\"col-md-4 col-xs-3 no-padding\">\n",
       "<div class=\"has-background\" style=\"background-image: url(https://www.innocenceproject.org/wp-content/uploads/2016/02/8f038d8e-e7ae-4ea0-bc1c-c5632286e9d6.jpeg);\">\n",
       "</div>\n",
       "</div>\n",
       "<div class=\"col-md-6 col-xs-7\">\n",
       "<h3>Joseph Abbitt</h3>\n",
       "<div class=\"caption\"> Time served: 14 years</div>\n",
       "</div>\n",
       "<div class=\"col-md-2 col-xs-2\">\n",
       "<i class=\"fa fa-chevron-right\"></i>\n",
       "</div>\n",
       "</div>\n",
       "</a>\n",
       "</div></div><div class=\"col-md-6 right-single-case\"><div class=\"col-md-12 filtered-item ivory-section one \">\n",
       "<a href=\"https://www.innocenceproject.org/cases/habib-wahir-abdal/\">\n",
       "<div class=\"row\">\n",
       "<div class=\"col-md-4 col-xs-3 no-padding\">\n",
       "</div>\n",
       "<div class=\"col-md-6 col-xs-7\">\n",
       "<h3>Habib Wahir Abdal</h3>\n",
       "<div class=\"caption\"> Time served: 16 years</div>\n",
       "</div>\n",
       "<div class=\"col-md-2 col-xs-2\">\n",
       "<i class=\"fa fa-chevron-right\"></i>\n",
       "</div>\n",
       "</div>\n",
       "</a>\n",
       "</div></div><div class=\"col-md-6 left-single-case\"><div class=\"col-md-12 filtered-item ivory-section one \">\n",
       "<a href=\"https://www.innocenceproject.org/cases/christopher-abernathy/\">\n",
       "<div class=\"row\">\n",
       "<div class=\"col-md-4 col-xs-3 no-padding\">\n",
       "<div class=\"has-background\" style=\"background-image: url(https://www.innocenceproject.org/wp-content/uploads/2016/02/925b00c6-b04b-44b9-938b-a3fa387373c0.jpeg);\">\n",
       "</div>\n",
       "</div>\n",
       "<div class=\"col-md-6 col-xs-7\">\n",
       "<h3>Christopher Abernathy</h3>\n",
       "<div class=\"caption\"> Time served: 28 years</div>\n",
       "</div>\n",
       "<div class=\"col-md-2 col-xs-2\">\n",
       "<i class=\"fa fa-chevron-right\"></i>\n",
       "</div>\n",
       "</div>\n",
       "</a>\n",
       "</div></div><div class=\"col-md-6 right-single-case\"><div class=\"col-md-12 filtered-item ivory-section one \">\n",
       "<a href=\"https://www.innocenceproject.org/cases/kenneth-adams/\">\n",
       "<div class=\"row\">\n",
       "<div class=\"col-md-4 col-xs-3 no-padding\">\n",
       "<div class=\"has-background\" style=\"background-image: url(https://www.innocenceproject.org/wp-content/uploads/2016/02/mark.png);\">\n",
       "</div>\n",
       "</div>\n",
       "<div class=\"col-md-6 col-xs-7\">\n",
       "<h3>Kenneth Adams</h3>\n",
       "<div class=\"caption\"> Time served: 18 years</div>\n",
       "</div>\n",
       "<div class=\"col-md-2 col-xs-2\">\n",
       "<i class=\"fa fa-chevron-right\"></i>\n",
       "</div>\n",
       "</div>\n",
       "</a>\n",
       "</div></div><div class=\"col-md-6 left-single-case\"><div class=\"col-md-12 filtered-item ivory-section one \">\n",
       "<a href=\"https://www.innocenceproject.org/cases/gilbert-alejandro/\">\n",
       "<div class=\"row\">\n",
       "<div class=\"col-md-4 col-xs-3 no-padding\">\n",
       "</div>\n",
       "<div class=\"col-md-6 col-xs-7\">\n",
       "<h3>Gilbert Alejandro</h3>\n",
       "<div class=\"caption\"> Time served: 4 years</div>\n",
       "</div>\n",
       "<div class=\"col-md-2 col-xs-2\">\n",
       "<i class=\"fa fa-chevron-right\"></i>\n",
       "</div>\n",
       "</div>\n",
       "</a>\n",
       "</div></div><div class=\"col-md-6 right-single-case\"><div class=\"col-md-12 filtered-item ivory-section one \">\n",
       "<a href=\"https://www.innocenceproject.org/cases/richard-alexander/\">\n",
       "<div class=\"row\">\n",
       "<div class=\"col-md-4 col-xs-3 no-padding\">\n",
       "<div class=\"has-background\" style=\"background-image: url(https://www.innocenceproject.org/wp-content/uploads/2016/02/richarda.png);\">\n",
       "</div>\n",
       "</div>\n",
       "<div class=\"col-md-6 col-xs-7\">\n",
       "<h3>Richard Alexander</h3>\n",
       "<div class=\"caption\"> Time served: 3 years</div>\n",
       "</div>\n",
       "<div class=\"col-md-2 col-xs-2\">\n",
       "<i class=\"fa fa-chevron-right\"></i>\n",
       "</div>\n",
       "</div>\n",
       "</a>\n",
       "</div></div><div class=\"col-md-6 left-single-case\"><div class=\"col-md-12 filtered-item ivory-section one \">\n",
       "<a href=\"https://www.innocenceproject.org/cases/donovan-allen/\">\n",
       "<div class=\"row\">\n",
       "<div class=\"col-md-4 col-xs-3 no-padding\">\n",
       "<div class=\"has-background\" style=\"background-image: url(https://www.innocenceproject.org/wp-content/uploads/2016/02/0626e436-3bbd-40e9-b653-ae3f438a8cd1.jpeg);\">\n",
       "</div>\n",
       "</div>\n",
       "<div class=\"col-md-6 col-xs-7\">\n",
       "<h3>Donovan Allen</h3>\n",
       "</div>\n",
       "<div class=\"col-md-2 col-xs-2\">\n",
       "<i class=\"fa fa-chevron-right\"></i>\n",
       "</div>\n",
       "</div>\n",
       "</a>\n",
       "</div></div><div class=\"col-md-6 right-single-case\"><div class=\"col-md-12 filtered-item ivory-section one \">\n",
       "<a href=\"https://www.innocenceproject.org/cases/marvin-anderson/\">\n",
       "<div class=\"row\">\n",
       "<div class=\"col-md-4 col-xs-3 no-padding\">\n",
       "<div class=\"has-background\" style=\"background-image: url(https://www.innocenceproject.org/wp-content/uploads/2016/02/marvina.jpg);\">\n",
       "</div>\n",
       "</div>\n",
       "<div class=\"col-md-6 col-xs-7\">\n",
       "<h3>Marvin Anderson</h3>\n",
       "<div class=\"caption\"> Time served: 20 years</div>\n",
       "</div>\n",
       "<div class=\"col-md-2 col-xs-2\">\n",
       "<i class=\"fa fa-chevron-right\"></i>\n",
       "</div>\n",
       "</div>\n",
       "</a>\n",
       "</div></div><div class=\"col-md-6 left-single-case\"><div class=\"col-md-12 filtered-item ivory-section one \">\n",
       "<a href=\"https://www.innocenceproject.org/cases/randolph-arledge/\">\n",
       "<div class=\"row\">\n",
       "<div class=\"col-md-4 col-xs-3 no-padding\">\n",
       "<div class=\"has-background\" style=\"background-image: url(https://www.innocenceproject.org/wp-content/uploads/2016/02/d67c8f15-72f5-45f4-b318-43032bb79b1a.jpeg);\">\n",
       "</div>\n",
       "</div>\n",
       "<div class=\"col-md-6 col-xs-7\">\n",
       "<h3>Randolph Arledge</h3>\n",
       "<div class=\"caption\"> Time served: 29 years</div>\n",
       "</div>\n",
       "<div class=\"col-md-2 col-xs-2\">\n",
       "<i class=\"fa fa-chevron-right\"></i>\n",
       "</div>\n",
       "</div>\n",
       "</a>\n",
       "</div></div><div class=\"col-md-6 right-single-case\"><div class=\"col-md-12 filtered-item ivory-section one \">\n",
       "<a href=\"https://www.innocenceproject.org/cases/herman-atkins/\">\n",
       "<div class=\"row\">\n",
       "<div class=\"col-md-4 col-xs-3 no-padding\">\n",
       "<div class=\"has-background\" style=\"background-image: url(https://www.innocenceproject.org/wp-content/uploads/2016/02/hermana.jpg);\">\n",
       "</div>\n",
       "</div>\n",
       "<div class=\"col-md-6 col-xs-7\">\n",
       "<h3>Herman Atkins</h3>\n",
       "<div class=\"caption\"> Time served: 12 years</div>\n",
       "</div>\n",
       "<div class=\"col-md-2 col-xs-2\">\n",
       "<i class=\"fa fa-chevron-right\"></i>\n",
       "</div>\n",
       "</div>\n",
       "</a>\n",
       "</div></div><div class=\"col-md-6 left-single-case\"><div class=\"col-md-12 filtered-item ivory-section one \">\n",
       "<a href=\"https://www.innocenceproject.org/cases/steven-avery/\">\n",
       "<div class=\"row\">\n",
       "<div class=\"col-md-4 col-xs-3 no-padding\">\n",
       "<div class=\"has-background\" style=\"background-image: url(https://www.innocenceproject.org/wp-content/uploads/2016/02/steven-avery.jpg);\">\n",
       "</div>\n",
       "</div>\n",
       "<div class=\"col-md-6 col-xs-7\">\n",
       "<h3>Steven Avery</h3>\n",
       "<div class=\"caption\"> Time served: 18 years</div>\n",
       "</div>\n",
       "<div class=\"col-md-2 col-xs-2\">\n",
       "<i class=\"fa fa-chevron-right\"></i>\n",
       "</div>\n",
       "</div>\n",
       "</a>\n",
       "</div></div><div class=\"col-md-6 right-single-case\"><div class=\"col-md-12 filtered-item ivory-section one \">\n",
       "<a href=\"https://www.innocenceproject.org/cases/william-d-avery/\">\n",
       "<div class=\"row\">\n",
       "<div class=\"col-md-4 col-xs-3 no-padding\">\n",
       "</div>\n",
       "<div class=\"col-md-6 col-xs-7\">\n",
       "<h3>William D. Avery</h3>\n",
       "<div class=\"caption\"> Time served: 5 years</div>\n",
       "</div>\n",
       "<div class=\"col-md-2 col-xs-2\">\n",
       "<i class=\"fa fa-chevron-right\"></i>\n",
       "</div>\n",
       "</div>\n",
       "</a>\n",
       "</div></div><div class=\"col-md-6 left-single-case\"><div class=\"col-md-12 filtered-item ivory-section one \">\n",
       "<a href=\"https://www.innocenceproject.org/cases/david-ayers/\">\n",
       "<div class=\"row\">\n",
       "<div class=\"col-md-4 col-xs-3 no-padding\">\n",
       "<div class=\"has-background\" style=\"background-image: url(https://www.innocenceproject.org/wp-content/uploads/2016/02/a798c671-20a6-4c11-a20c-0592330ba5be.jpeg);\">\n",
       "</div>\n",
       "</div>\n",
       "<div class=\"col-md-6 col-xs-7\">\n",
       "<h3>David Ayers</h3>\n",
       "<div class=\"caption\"> Time served: 11 years</div>\n",
       "</div>\n",
       "<div class=\"col-md-2 col-xs-2\">\n",
       "<i class=\"fa fa-chevron-right\"></i>\n",
       "</div>\n",
       "</div>\n",
       "</a>\n",
       "</div></div><div class=\"col-md-6 right-single-case\"><div class=\"col-md-12 filtered-item ivory-section one \">\n",
       "<a href=\"https://www.innocenceproject.org/cases/james-bain/\">\n",
       "<div class=\"row\">\n",
       "<div class=\"col-md-4 col-xs-3 no-padding\">\n",
       "<div class=\"has-background\" style=\"background-image: url(https://www.innocenceproject.org/wp-content/uploads/2016/02/jamesb.jpg);\">\n",
       "</div>\n",
       "</div>\n",
       "<div class=\"col-md-6 col-xs-7\">\n",
       "<h3>James Bain</h3>\n",
       "<div class=\"caption\"> Time served: 35 years</div>\n",
       "</div>\n",
       "<div class=\"col-md-2 col-xs-2\">\n",
       "<i class=\"fa fa-chevron-right\"></i>\n",
       "</div>\n",
       "</div>\n",
       "</a>\n",
       "</div></div><div class=\"col-md-6 left-single-case\"><div class=\"col-md-12 filtered-item ivory-section one \">\n",
       "<a href=\"https://www.innocenceproject.org/cases/bennett-barbour/\">\n",
       "<div class=\"row\">\n",
       "<div class=\"col-md-4 col-xs-3 no-padding\">\n",
       "<div class=\"has-background\" style=\"background-image: url(https://www.innocenceproject.org/wp-content/uploads/2016/02/6ee235dd-6dc8-4fc2-8e35-883ec49d2815.jpeg);\">\n",
       "</div>\n",
       "</div>\n",
       "<div class=\"col-md-6 col-xs-7\">\n",
       "<h3>Bennett Barbour</h3>\n",
       "<div class=\"caption\"> Time served: 34 years</div>\n",
       "</div>\n",
       "<div class=\"col-md-2 col-xs-2\">\n",
       "<i class=\"fa fa-chevron-right\"></i>\n",
       "</div>\n",
       "</div>\n",
       "</a>\n",
       "</div></div><div class=\"col-md-6 right-single-case\"><div class=\"col-md-12 filtered-item ivory-section one \">\n",
       "<a href=\"https://www.innocenceproject.org/cases/steven-barnes/\">\n",
       "<div class=\"row\">\n",
       "<div class=\"col-md-4 col-xs-3 no-padding\">\n",
       "<div class=\"has-background\" style=\"background-image: url(https://www.innocenceproject.org/wp-content/uploads/2016/02/stevenb.jpg);\">\n",
       "</div>\n",
       "</div>\n",
       "<div class=\"col-md-6 col-xs-7\">\n",
       "<h3>Steven Barnes</h3>\n",
       "<div class=\"caption\"> Time served: 20 years</div>\n",
       "</div>\n",
       "<div class=\"col-md-2 col-xs-2\">\n",
       "<i class=\"fa fa-chevron-right\"></i>\n",
       "</div>\n",
       "</div>\n",
       "</a>\n",
       "</div></div><div class=\"col-md-6 left-single-case\"><div class=\"col-md-12 filtered-item ivory-section one \">\n",
       "<a href=\"https://www.innocenceproject.org/cases/william-barnhouse/\">\n",
       "<div class=\"row\">\n",
       "<div class=\"col-md-4 col-xs-3 no-padding\">\n",
       "<div class=\"has-background\" style=\"background-image: url(https://www.innocenceproject.org/wp-content/uploads/2017/05/IMG_2581-e1496177393141.jpg);\">\n",
       "</div>\n",
       "</div>\n",
       "<div class=\"col-md-6 col-xs-7\">\n",
       "<h3>William Barnhouse</h3>\n",
       "<div class=\"caption\"> Time served: 25 years</div>\n",
       "</div>\n",
       "<div class=\"col-md-2 col-xs-2\">\n",
       "<i class=\"fa fa-chevron-right\"></i>\n",
       "</div>\n",
       "</div>\n",
       "</a>\n",
       "</div></div><div class=\"col-md-6 right-single-case\"><div class=\"col-md-12 filtered-item ivory-section one \">\n",
       "<a href=\"https://www.innocenceproject.org/cases/jonathan-barr/\">\n",
       "<div class=\"row\">\n",
       "<div class=\"col-md-4 col-xs-3 no-padding\">\n",
       "<div class=\"has-background\" style=\"background-image: url(https://www.innocenceproject.org/wp-content/uploads/2016/02/89c15ae2-e78c-4dc8-ac0b-820b8dc6ffa7.jpeg);\">\n",
       "</div>\n",
       "</div>\n",
       "<div class=\"col-md-6 col-xs-7\">\n",
       "<h3>Jonathan Barr</h3>\n",
       "<div class=\"caption\"> Time served: 14 years</div>\n",
       "</div>\n",
       "<div class=\"col-md-2 col-xs-2\">\n",
       "<i class=\"fa fa-chevron-right\"></i>\n",
       "</div>\n",
       "</div>\n",
       "</a>\n",
       "</div></div><div class=\"col-md-6 left-single-case\"><div class=\"col-md-12 filtered-item ivory-section one \">\n",
       "<a href=\"https://www.innocenceproject.org/cases/chester-bauer/\">\n",
       "<div class=\"row\">\n",
       "<div class=\"col-md-4 col-xs-3 no-padding\">\n",
       "</div>\n",
       "<div class=\"col-md-6 col-xs-7\">\n",
       "<h3>Chester Bauer</h3>\n",
       "<div class=\"caption\"> Time served: 14 years</div>\n",
       "</div>\n",
       "<div class=\"col-md-2 col-xs-2\">\n",
       "<i class=\"fa fa-chevron-right\"></i>\n",
       "</div>\n",
       "</div>\n",
       "</a>\n",
       "</div></div><div class=\"col-md-6 right-single-case\"><div class=\"col-md-12 filtered-item ivory-section one \">\n",
       "<a href=\"https://www.innocenceproject.org/cases/antonio-beaver/\">\n",
       "<div class=\"row\">\n",
       "<div class=\"col-md-4 col-xs-3 no-padding\">\n",
       "<div class=\"has-background\" style=\"background-image: url(https://www.innocenceproject.org/wp-content/uploads/2016/02/3c7502f8-6b33-44bc-b88b-0c2f20ba5e47.jpeg);\">\n",
       "</div>\n",
       "</div>\n",
       "<div class=\"col-md-6 col-xs-7\">\n",
       "<h3>Antonio Beaver</h3>\n",
       "<div class=\"caption\"> Time served: 10 years</div>\n",
       "</div>\n",
       "<div class=\"col-md-2 col-xs-2\">\n",
       "<i class=\"fa fa-chevron-right\"></i>\n",
       "</div>\n",
       "</div>\n",
       "</a>\n",
       "</div></div>"
      ]
     },
     "execution_count": 126,
     "metadata": {},
     "output_type": "execute_result"
    }
   ],
   "source": [
    "soup_doc = BeautifulSoup(cases['msg'], \"html.parser\")\n",
    "soup_doc"
   ]
  },
  {
   "cell_type": "code",
   "execution_count": 127,
   "metadata": {},
   "outputs": [
    {
     "data": {
      "text/plain": [
       "'https://www.innocenceproject.org/cases/joseph-abbitt/'"
      ]
     },
     "execution_count": 127,
     "metadata": {},
     "output_type": "execute_result"
    }
   ],
   "source": [
    "links = soup_doc.find_all('a')\n",
    "links[0]['href']"
   ]
  },
  {
   "cell_type": "code",
   "execution_count": 128,
   "metadata": {
    "scrolled": true
   },
   "outputs": [
    {
     "name": "stdout",
     "output_type": "stream",
     "text": [
      "https://www.innocenceproject.org/cases/joseph-abbitt/\n",
      "https://www.innocenceproject.org/cases/habib-wahir-abdal/\n",
      "https://www.innocenceproject.org/cases/christopher-abernathy/\n",
      "https://www.innocenceproject.org/cases/kenneth-adams/\n",
      "https://www.innocenceproject.org/cases/gilbert-alejandro/\n",
      "https://www.innocenceproject.org/cases/richard-alexander/\n",
      "https://www.innocenceproject.org/cases/donovan-allen/\n",
      "https://www.innocenceproject.org/cases/marvin-anderson/\n",
      "https://www.innocenceproject.org/cases/randolph-arledge/\n",
      "https://www.innocenceproject.org/cases/herman-atkins/\n",
      "https://www.innocenceproject.org/cases/steven-avery/\n",
      "https://www.innocenceproject.org/cases/william-d-avery/\n",
      "https://www.innocenceproject.org/cases/david-ayers/\n",
      "https://www.innocenceproject.org/cases/james-bain/\n",
      "https://www.innocenceproject.org/cases/bennett-barbour/\n",
      "https://www.innocenceproject.org/cases/steven-barnes/\n",
      "https://www.innocenceproject.org/cases/william-barnhouse/\n",
      "https://www.innocenceproject.org/cases/jonathan-barr/\n",
      "https://www.innocenceproject.org/cases/chester-bauer/\n",
      "https://www.innocenceproject.org/cases/antonio-beaver/\n"
     ]
    }
   ],
   "source": [
    "for url in links:\n",
    "    print(url['href'])"
   ]
  },
  {
   "cell_type": "code",
   "execution_count": 129,
   "metadata": {},
   "outputs": [
    {
     "data": {
      "text/plain": [
       "{'cases_cat': ['exonerated-by-dna', 'forensic-dna'],\n",
       " 'count': '10',\n",
       " 'custom_cat': [],\n",
       " 'msg': '<div class=\"col-md-6 left-single-case\"><div class=\"col-md-12 filtered-item ivory-section one \">\\n                                                <a href=\"https://www.innocenceproject.org/cases/gilbert-alejandro/\">\\n                                                    <div class=\"row\">\\n                                                        <div class=\"col-md-4 col-xs-3 no-padding\">\\n                                                            \\n                                                        </div>\\n                                                        <div class=\"col-md-6 col-xs-7\">\\n                                                            <h3>Gilbert Alejandro</h3>\\n                                                            <div class=\"caption\"> Time served: 4 years</div>\\n                                                        </div>\\n                                                        <div class=\"col-md-2 col-xs-2\">\\n                                                            <i class=\"fa fa-chevron-right\"></i>\\n                                                        </div>\\n                                                    </div>\\n                                                    </a>\\n                                                </div></div><div class=\"col-md-6 right-single-case\"><div class=\"col-md-12 filtered-item ivory-section one \">\\n                                                <a href=\"https://www.innocenceproject.org/cases/gene-bibbins/\">\\n                                                    <div class=\"row\">\\n                                                        <div class=\"col-md-4 col-xs-3 no-padding\">\\n                                                            <div class=\"has-background\" style=\"background-image: url(https://www.innocenceproject.org/wp-content/uploads/2016/02/geneb.jpg);\">\\n                                                            </div>\\n                                                        </div>\\n                                                        <div class=\"col-md-6 col-xs-7\">\\n                                                            <h3>Gene Bibbins</h3>\\n                                                            <div class=\"caption\"> Time served: 16 years</div>\\n                                                        </div>\\n                                                        <div class=\"col-md-2 col-xs-2\">\\n                                                            <i class=\"fa fa-chevron-right\"></i>\\n                                                        </div>\\n                                                    </div>\\n                                                    </a>\\n                                                </div></div><div class=\"col-md-6 left-single-case\"><div class=\"col-md-12 filtered-item ivory-section one \">\\n                                                <a href=\"https://www.innocenceproject.org/cases/stephan-cowans/\">\\n                                                    <div class=\"row\">\\n                                                        <div class=\"col-md-4 col-xs-3 no-padding\">\\n                                                            <div class=\"has-background\" style=\"background-image: url(https://www.innocenceproject.org/wp-content/uploads/2016/02/stephanc.jpg);\">\\n                                                            </div>\\n                                                        </div>\\n                                                        <div class=\"col-md-6 col-xs-7\">\\n                                                            <h3>Stephan Cowans</h3>\\n                                                            <div class=\"caption\"> Time served: 6 years</div>\\n                                                        </div>\\n                                                        <div class=\"col-md-2 col-xs-2\">\\n                                                            <i class=\"fa fa-chevron-right\"></i>\\n                                                        </div>\\n                                                    </div>\\n                                                    </a>\\n                                                </div></div><div class=\"col-md-6 right-single-case\"><div class=\"col-md-12 filtered-item ivory-section one \">\\n                                                <a href=\"https://www.innocenceproject.org/cases/timothy-durham/\">\\n                                                    <div class=\"row\">\\n                                                        <div class=\"col-md-4 col-xs-3 no-padding\">\\n                                                            <div class=\"has-background\" style=\"background-image: url(https://www.innocenceproject.org/wp-content/uploads/2016/02/timothyd.jpg);\">\\n                                                            </div>\\n                                                        </div>\\n                                                        <div class=\"col-md-6 col-xs-7\">\\n                                                            <h3>Timothy Durham</h3>\\n                                                            <div class=\"caption\"> Time served: 4 years</div>\\n                                                        </div>\\n                                                        <div class=\"col-md-2 col-xs-2\">\\n                                                            <i class=\"fa fa-chevron-right\"></i>\\n                                                        </div>\\n                                                    </div>\\n                                                    </a>\\n                                                </div></div><div class=\"col-md-6 left-single-case\"><div class=\"col-md-12 filtered-item ivory-section one \">\\n                                                <a href=\"https://www.innocenceproject.org/cases/chad-heins/\">\\n                                                    <div class=\"row\">\\n                                                        <div class=\"col-md-4 col-xs-3 no-padding\">\\n                                                            <div class=\"has-background\" style=\"background-image: url(https://www.innocenceproject.org/wp-content/uploads/2016/02/chad.jpeg);\">\\n                                                            </div>\\n                                                        </div>\\n                                                        <div class=\"col-md-6 col-xs-7\">\\n                                                            <h3>Chad Heins</h3>\\n                                                            <div class=\"caption\"> Time served: 11 Years</div>\\n                                                        </div>\\n                                                        <div class=\"col-md-2 col-xs-2\">\\n                                                            <i class=\"fa fa-chevron-right\"></i>\\n                                                        </div>\\n                                                    </div>\\n                                                    </a>\\n                                                </div></div><div class=\"col-md-6 right-single-case\"><div class=\"col-md-12 filtered-item ivory-section one \">\\n                                                <a href=\"https://www.innocenceproject.org/cases/dana-holland/\">\\n                                                    <div class=\"row\">\\n                                                        <div class=\"col-md-4 col-xs-3 no-padding\">\\n                                                            <div class=\"has-background\" style=\"background-image: url(https://www.innocenceproject.org/wp-content/uploads/2016/02/dana.jpeg);\">\\n                                                            </div>\\n                                                        </div>\\n                                                        <div class=\"col-md-6 col-xs-7\">\\n                                                            <h3>Dana Holland</h3>\\n                                                            <div class=\"caption\"> Time served: 6 Years</div>\\n                                                        </div>\\n                                                        <div class=\"col-md-2 col-xs-2\">\\n                                                            <i class=\"fa fa-chevron-right\"></i>\\n                                                        </div>\\n                                                    </div>\\n                                                    </a>\\n                                                </div></div><div class=\"col-md-6 left-single-case\"><div class=\"col-md-12 filtered-item ivory-section one \">\\n                                                <a href=\"https://www.innocenceproject.org/cases/dwayne-jackson/\">\\n                                                    <div class=\"row\">\\n                                                        <div class=\"col-md-4 col-xs-3 no-padding\">\\n                                                            \\n                                                        </div>\\n                                                        <div class=\"col-md-6 col-xs-7\">\\n                                                            <h3>Dwayne Jackson</h3>\\n                                                            <div class=\"caption\"> Time served: 8 Years</div>\\n                                                        </div>\\n                                                        <div class=\"col-md-2 col-xs-2\">\\n                                                            <i class=\"fa fa-chevron-right\"></i>\\n                                                        </div>\\n                                                    </div>\\n                                                    </a>\\n                                                </div></div><div class=\"col-md-6 right-single-case\"><div class=\"col-md-12 filtered-item ivory-section one \">\\n                                                <a href=\"https://www.innocenceproject.org/cases/marlon-pendleton/\">\\n                                                    <div class=\"row\">\\n                                                        <div class=\"col-md-4 col-xs-3 no-padding\">\\n                                                            <div class=\"has-background\" style=\"background-image: url(https://www.innocenceproject.org/wp-content/uploads/2016/02/marlon.jpeg);\">\\n                                                            </div>\\n                                                        </div>\\n                                                        <div class=\"col-md-6 col-xs-7\">\\n                                                            <h3>Marlon Pendleton</h3>\\n                                                            <div class=\"caption\"> Time served: 10 Years</div>\\n                                                        </div>\\n                                                        <div class=\"col-md-2 col-xs-2\">\\n                                                            <i class=\"fa fa-chevron-right\"></i>\\n                                                        </div>\\n                                                    </div>\\n                                                    </a>\\n                                                </div></div><div class=\"col-md-6 left-single-case\"><div class=\"col-md-12 filtered-item ivory-section one \">\\n                                                <a href=\"https://www.innocenceproject.org/cases/anthony-powell/\">\\n                                                    <div class=\"row\">\\n                                                        <div class=\"col-md-4 col-xs-3 no-padding\">\\n                                                            <div class=\"has-background\" style=\"background-image: url(https://www.innocenceproject.org/wp-content/uploads/2016/02/anothonyp.jpg);\">\\n                                                            </div>\\n                                                        </div>\\n                                                        <div class=\"col-md-6 col-xs-7\">\\n                                                            <h3>Anthony Powell</h3>\\n                                                            <div class=\"caption\"> Time served: 12 years</div>\\n                                                        </div>\\n                                                        <div class=\"col-md-2 col-xs-2\">\\n                                                            <i class=\"fa fa-chevron-right\"></i>\\n                                                        </div>\\n                                                    </div>\\n                                                    </a>\\n                                                </div></div><div class=\"col-md-6 right-single-case\"><div class=\"col-md-12 filtered-item ivory-section one \">\\n                                                <a href=\"https://www.innocenceproject.org/cases/josiah-sutton/\">\\n                                                    <div class=\"row\">\\n                                                        <div class=\"col-md-4 col-xs-3 no-padding\">\\n                                                            \\n                                                        </div>\\n                                                        <div class=\"col-md-6 col-xs-7\">\\n                                                            <h3>Josiah Sutton</h3>\\n                                                            <div class=\"caption\"> Time served: 5 years</div>\\n                                                        </div>\\n                                                        <div class=\"col-md-2 col-xs-2\">\\n                                                            <i class=\"fa fa-chevron-right\"></i>\\n                                                        </div>\\n                                                    </div>\\n                                                    </a>\\n                                                </div></div>',\n",
       " 'type': 'ok'}"
      ]
     },
     "execution_count": 129,
     "metadata": {},
     "output_type": "execute_result"
    }
   ],
   "source": [
    "contents1 = open(\"output1.json\").read()\n",
    "cases1 = json.loads(contents1)\n",
    "cases1"
   ]
  },
  {
   "cell_type": "code",
   "execution_count": 130,
   "metadata": {},
   "outputs": [
    {
     "data": {
      "text/plain": [
       "'<div class=\"col-md-6 left-single-case\"><div class=\"col-md-12 filtered-item ivory-section one \">\\n                                                <a href=\"https://www.innocenceproject.org/cases/gilbert-alejandro/\">\\n                                                    <div class=\"row\">\\n                                                        <div class=\"col-md-4 col-xs-3 no-padding\">\\n                                                            \\n                                                        </div>\\n                                                        <div class=\"col-md-6 col-xs-7\">\\n                                                            <h3>Gilbert Alejandro</h3>\\n                                                            <div class=\"caption\"> Time served: 4 years</div>\\n                                                        </div>\\n                                                        <div class=\"col-md-2 col-xs-2\">\\n                                                            <i class=\"fa fa-chevron-right\"></i>\\n                                                        </div>\\n                                                    </div>\\n                                                    </a>\\n                                                </div></div><div class=\"col-md-6 right-single-case\"><div class=\"col-md-12 filtered-item ivory-section one \">\\n                                                <a href=\"https://www.innocenceproject.org/cases/gene-bibbins/\">\\n                                                    <div class=\"row\">\\n                                                        <div class=\"col-md-4 col-xs-3 no-padding\">\\n                                                            <div class=\"has-background\" style=\"background-image: url(https://www.innocenceproject.org/wp-content/uploads/2016/02/geneb.jpg);\">\\n                                                            </div>\\n                                                        </div>\\n                                                        <div class=\"col-md-6 col-xs-7\">\\n                                                            <h3>Gene Bibbins</h3>\\n                                                            <div class=\"caption\"> Time served: 16 years</div>\\n                                                        </div>\\n                                                        <div class=\"col-md-2 col-xs-2\">\\n                                                            <i class=\"fa fa-chevron-right\"></i>\\n                                                        </div>\\n                                                    </div>\\n                                                    </a>\\n                                                </div></div><div class=\"col-md-6 left-single-case\"><div class=\"col-md-12 filtered-item ivory-section one \">\\n                                                <a href=\"https://www.innocenceproject.org/cases/stephan-cowans/\">\\n                                                    <div class=\"row\">\\n                                                        <div class=\"col-md-4 col-xs-3 no-padding\">\\n                                                            <div class=\"has-background\" style=\"background-image: url(https://www.innocenceproject.org/wp-content/uploads/2016/02/stephanc.jpg);\">\\n                                                            </div>\\n                                                        </div>\\n                                                        <div class=\"col-md-6 col-xs-7\">\\n                                                            <h3>Stephan Cowans</h3>\\n                                                            <div class=\"caption\"> Time served: 6 years</div>\\n                                                        </div>\\n                                                        <div class=\"col-md-2 col-xs-2\">\\n                                                            <i class=\"fa fa-chevron-right\"></i>\\n                                                        </div>\\n                                                    </div>\\n                                                    </a>\\n                                                </div></div><div class=\"col-md-6 right-single-case\"><div class=\"col-md-12 filtered-item ivory-section one \">\\n                                                <a href=\"https://www.innocenceproject.org/cases/timothy-durham/\">\\n                                                    <div class=\"row\">\\n                                                        <div class=\"col-md-4 col-xs-3 no-padding\">\\n                                                            <div class=\"has-background\" style=\"background-image: url(https://www.innocenceproject.org/wp-content/uploads/2016/02/timothyd.jpg);\">\\n                                                            </div>\\n                                                        </div>\\n                                                        <div class=\"col-md-6 col-xs-7\">\\n                                                            <h3>Timothy Durham</h3>\\n                                                            <div class=\"caption\"> Time served: 4 years</div>\\n                                                        </div>\\n                                                        <div class=\"col-md-2 col-xs-2\">\\n                                                            <i class=\"fa fa-chevron-right\"></i>\\n                                                        </div>\\n                                                    </div>\\n                                                    </a>\\n                                                </div></div><div class=\"col-md-6 left-single-case\"><div class=\"col-md-12 filtered-item ivory-section one \">\\n                                                <a href=\"https://www.innocenceproject.org/cases/chad-heins/\">\\n                                                    <div class=\"row\">\\n                                                        <div class=\"col-md-4 col-xs-3 no-padding\">\\n                                                            <div class=\"has-background\" style=\"background-image: url(https://www.innocenceproject.org/wp-content/uploads/2016/02/chad.jpeg);\">\\n                                                            </div>\\n                                                        </div>\\n                                                        <div class=\"col-md-6 col-xs-7\">\\n                                                            <h3>Chad Heins</h3>\\n                                                            <div class=\"caption\"> Time served: 11 Years</div>\\n                                                        </div>\\n                                                        <div class=\"col-md-2 col-xs-2\">\\n                                                            <i class=\"fa fa-chevron-right\"></i>\\n                                                        </div>\\n                                                    </div>\\n                                                    </a>\\n                                                </div></div><div class=\"col-md-6 right-single-case\"><div class=\"col-md-12 filtered-item ivory-section one \">\\n                                                <a href=\"https://www.innocenceproject.org/cases/dana-holland/\">\\n                                                    <div class=\"row\">\\n                                                        <div class=\"col-md-4 col-xs-3 no-padding\">\\n                                                            <div class=\"has-background\" style=\"background-image: url(https://www.innocenceproject.org/wp-content/uploads/2016/02/dana.jpeg);\">\\n                                                            </div>\\n                                                        </div>\\n                                                        <div class=\"col-md-6 col-xs-7\">\\n                                                            <h3>Dana Holland</h3>\\n                                                            <div class=\"caption\"> Time served: 6 Years</div>\\n                                                        </div>\\n                                                        <div class=\"col-md-2 col-xs-2\">\\n                                                            <i class=\"fa fa-chevron-right\"></i>\\n                                                        </div>\\n                                                    </div>\\n                                                    </a>\\n                                                </div></div><div class=\"col-md-6 left-single-case\"><div class=\"col-md-12 filtered-item ivory-section one \">\\n                                                <a href=\"https://www.innocenceproject.org/cases/dwayne-jackson/\">\\n                                                    <div class=\"row\">\\n                                                        <div class=\"col-md-4 col-xs-3 no-padding\">\\n                                                            \\n                                                        </div>\\n                                                        <div class=\"col-md-6 col-xs-7\">\\n                                                            <h3>Dwayne Jackson</h3>\\n                                                            <div class=\"caption\"> Time served: 8 Years</div>\\n                                                        </div>\\n                                                        <div class=\"col-md-2 col-xs-2\">\\n                                                            <i class=\"fa fa-chevron-right\"></i>\\n                                                        </div>\\n                                                    </div>\\n                                                    </a>\\n                                                </div></div><div class=\"col-md-6 right-single-case\"><div class=\"col-md-12 filtered-item ivory-section one \">\\n                                                <a href=\"https://www.innocenceproject.org/cases/marlon-pendleton/\">\\n                                                    <div class=\"row\">\\n                                                        <div class=\"col-md-4 col-xs-3 no-padding\">\\n                                                            <div class=\"has-background\" style=\"background-image: url(https://www.innocenceproject.org/wp-content/uploads/2016/02/marlon.jpeg);\">\\n                                                            </div>\\n                                                        </div>\\n                                                        <div class=\"col-md-6 col-xs-7\">\\n                                                            <h3>Marlon Pendleton</h3>\\n                                                            <div class=\"caption\"> Time served: 10 Years</div>\\n                                                        </div>\\n                                                        <div class=\"col-md-2 col-xs-2\">\\n                                                            <i class=\"fa fa-chevron-right\"></i>\\n                                                        </div>\\n                                                    </div>\\n                                                    </a>\\n                                                </div></div><div class=\"col-md-6 left-single-case\"><div class=\"col-md-12 filtered-item ivory-section one \">\\n                                                <a href=\"https://www.innocenceproject.org/cases/anthony-powell/\">\\n                                                    <div class=\"row\">\\n                                                        <div class=\"col-md-4 col-xs-3 no-padding\">\\n                                                            <div class=\"has-background\" style=\"background-image: url(https://www.innocenceproject.org/wp-content/uploads/2016/02/anothonyp.jpg);\">\\n                                                            </div>\\n                                                        </div>\\n                                                        <div class=\"col-md-6 col-xs-7\">\\n                                                            <h3>Anthony Powell</h3>\\n                                                            <div class=\"caption\"> Time served: 12 years</div>\\n                                                        </div>\\n                                                        <div class=\"col-md-2 col-xs-2\">\\n                                                            <i class=\"fa fa-chevron-right\"></i>\\n                                                        </div>\\n                                                    </div>\\n                                                    </a>\\n                                                </div></div><div class=\"col-md-6 right-single-case\"><div class=\"col-md-12 filtered-item ivory-section one \">\\n                                                <a href=\"https://www.innocenceproject.org/cases/josiah-sutton/\">\\n                                                    <div class=\"row\">\\n                                                        <div class=\"col-md-4 col-xs-3 no-padding\">\\n                                                            \\n                                                        </div>\\n                                                        <div class=\"col-md-6 col-xs-7\">\\n                                                            <h3>Josiah Sutton</h3>\\n                                                            <div class=\"caption\"> Time served: 5 years</div>\\n                                                        </div>\\n                                                        <div class=\"col-md-2 col-xs-2\">\\n                                                            <i class=\"fa fa-chevron-right\"></i>\\n                                                        </div>\\n                                                    </div>\\n                                                    </a>\\n                                                </div></div>'"
      ]
     },
     "execution_count": 130,
     "metadata": {},
     "output_type": "execute_result"
    }
   ],
   "source": [
    "cases1['msg']"
   ]
  },
  {
   "cell_type": "code",
   "execution_count": 131,
   "metadata": {},
   "outputs": [
    {
     "data": {
      "text/plain": [
       "<div class=\"col-md-6 left-single-case\"><div class=\"col-md-12 filtered-item ivory-section one \">\n",
       "<a href=\"https://www.innocenceproject.org/cases/gilbert-alejandro/\">\n",
       "<div class=\"row\">\n",
       "<div class=\"col-md-4 col-xs-3 no-padding\">\n",
       "</div>\n",
       "<div class=\"col-md-6 col-xs-7\">\n",
       "<h3>Gilbert Alejandro</h3>\n",
       "<div class=\"caption\"> Time served: 4 years</div>\n",
       "</div>\n",
       "<div class=\"col-md-2 col-xs-2\">\n",
       "<i class=\"fa fa-chevron-right\"></i>\n",
       "</div>\n",
       "</div>\n",
       "</a>\n",
       "</div></div><div class=\"col-md-6 right-single-case\"><div class=\"col-md-12 filtered-item ivory-section one \">\n",
       "<a href=\"https://www.innocenceproject.org/cases/gene-bibbins/\">\n",
       "<div class=\"row\">\n",
       "<div class=\"col-md-4 col-xs-3 no-padding\">\n",
       "<div class=\"has-background\" style=\"background-image: url(https://www.innocenceproject.org/wp-content/uploads/2016/02/geneb.jpg);\">\n",
       "</div>\n",
       "</div>\n",
       "<div class=\"col-md-6 col-xs-7\">\n",
       "<h3>Gene Bibbins</h3>\n",
       "<div class=\"caption\"> Time served: 16 years</div>\n",
       "</div>\n",
       "<div class=\"col-md-2 col-xs-2\">\n",
       "<i class=\"fa fa-chevron-right\"></i>\n",
       "</div>\n",
       "</div>\n",
       "</a>\n",
       "</div></div><div class=\"col-md-6 left-single-case\"><div class=\"col-md-12 filtered-item ivory-section one \">\n",
       "<a href=\"https://www.innocenceproject.org/cases/stephan-cowans/\">\n",
       "<div class=\"row\">\n",
       "<div class=\"col-md-4 col-xs-3 no-padding\">\n",
       "<div class=\"has-background\" style=\"background-image: url(https://www.innocenceproject.org/wp-content/uploads/2016/02/stephanc.jpg);\">\n",
       "</div>\n",
       "</div>\n",
       "<div class=\"col-md-6 col-xs-7\">\n",
       "<h3>Stephan Cowans</h3>\n",
       "<div class=\"caption\"> Time served: 6 years</div>\n",
       "</div>\n",
       "<div class=\"col-md-2 col-xs-2\">\n",
       "<i class=\"fa fa-chevron-right\"></i>\n",
       "</div>\n",
       "</div>\n",
       "</a>\n",
       "</div></div><div class=\"col-md-6 right-single-case\"><div class=\"col-md-12 filtered-item ivory-section one \">\n",
       "<a href=\"https://www.innocenceproject.org/cases/timothy-durham/\">\n",
       "<div class=\"row\">\n",
       "<div class=\"col-md-4 col-xs-3 no-padding\">\n",
       "<div class=\"has-background\" style=\"background-image: url(https://www.innocenceproject.org/wp-content/uploads/2016/02/timothyd.jpg);\">\n",
       "</div>\n",
       "</div>\n",
       "<div class=\"col-md-6 col-xs-7\">\n",
       "<h3>Timothy Durham</h3>\n",
       "<div class=\"caption\"> Time served: 4 years</div>\n",
       "</div>\n",
       "<div class=\"col-md-2 col-xs-2\">\n",
       "<i class=\"fa fa-chevron-right\"></i>\n",
       "</div>\n",
       "</div>\n",
       "</a>\n",
       "</div></div><div class=\"col-md-6 left-single-case\"><div class=\"col-md-12 filtered-item ivory-section one \">\n",
       "<a href=\"https://www.innocenceproject.org/cases/chad-heins/\">\n",
       "<div class=\"row\">\n",
       "<div class=\"col-md-4 col-xs-3 no-padding\">\n",
       "<div class=\"has-background\" style=\"background-image: url(https://www.innocenceproject.org/wp-content/uploads/2016/02/chad.jpeg);\">\n",
       "</div>\n",
       "</div>\n",
       "<div class=\"col-md-6 col-xs-7\">\n",
       "<h3>Chad Heins</h3>\n",
       "<div class=\"caption\"> Time served: 11 Years</div>\n",
       "</div>\n",
       "<div class=\"col-md-2 col-xs-2\">\n",
       "<i class=\"fa fa-chevron-right\"></i>\n",
       "</div>\n",
       "</div>\n",
       "</a>\n",
       "</div></div><div class=\"col-md-6 right-single-case\"><div class=\"col-md-12 filtered-item ivory-section one \">\n",
       "<a href=\"https://www.innocenceproject.org/cases/dana-holland/\">\n",
       "<div class=\"row\">\n",
       "<div class=\"col-md-4 col-xs-3 no-padding\">\n",
       "<div class=\"has-background\" style=\"background-image: url(https://www.innocenceproject.org/wp-content/uploads/2016/02/dana.jpeg);\">\n",
       "</div>\n",
       "</div>\n",
       "<div class=\"col-md-6 col-xs-7\">\n",
       "<h3>Dana Holland</h3>\n",
       "<div class=\"caption\"> Time served: 6 Years</div>\n",
       "</div>\n",
       "<div class=\"col-md-2 col-xs-2\">\n",
       "<i class=\"fa fa-chevron-right\"></i>\n",
       "</div>\n",
       "</div>\n",
       "</a>\n",
       "</div></div><div class=\"col-md-6 left-single-case\"><div class=\"col-md-12 filtered-item ivory-section one \">\n",
       "<a href=\"https://www.innocenceproject.org/cases/dwayne-jackson/\">\n",
       "<div class=\"row\">\n",
       "<div class=\"col-md-4 col-xs-3 no-padding\">\n",
       "</div>\n",
       "<div class=\"col-md-6 col-xs-7\">\n",
       "<h3>Dwayne Jackson</h3>\n",
       "<div class=\"caption\"> Time served: 8 Years</div>\n",
       "</div>\n",
       "<div class=\"col-md-2 col-xs-2\">\n",
       "<i class=\"fa fa-chevron-right\"></i>\n",
       "</div>\n",
       "</div>\n",
       "</a>\n",
       "</div></div><div class=\"col-md-6 right-single-case\"><div class=\"col-md-12 filtered-item ivory-section one \">\n",
       "<a href=\"https://www.innocenceproject.org/cases/marlon-pendleton/\">\n",
       "<div class=\"row\">\n",
       "<div class=\"col-md-4 col-xs-3 no-padding\">\n",
       "<div class=\"has-background\" style=\"background-image: url(https://www.innocenceproject.org/wp-content/uploads/2016/02/marlon.jpeg);\">\n",
       "</div>\n",
       "</div>\n",
       "<div class=\"col-md-6 col-xs-7\">\n",
       "<h3>Marlon Pendleton</h3>\n",
       "<div class=\"caption\"> Time served: 10 Years</div>\n",
       "</div>\n",
       "<div class=\"col-md-2 col-xs-2\">\n",
       "<i class=\"fa fa-chevron-right\"></i>\n",
       "</div>\n",
       "</div>\n",
       "</a>\n",
       "</div></div><div class=\"col-md-6 left-single-case\"><div class=\"col-md-12 filtered-item ivory-section one \">\n",
       "<a href=\"https://www.innocenceproject.org/cases/anthony-powell/\">\n",
       "<div class=\"row\">\n",
       "<div class=\"col-md-4 col-xs-3 no-padding\">\n",
       "<div class=\"has-background\" style=\"background-image: url(https://www.innocenceproject.org/wp-content/uploads/2016/02/anothonyp.jpg);\">\n",
       "</div>\n",
       "</div>\n",
       "<div class=\"col-md-6 col-xs-7\">\n",
       "<h3>Anthony Powell</h3>\n",
       "<div class=\"caption\"> Time served: 12 years</div>\n",
       "</div>\n",
       "<div class=\"col-md-2 col-xs-2\">\n",
       "<i class=\"fa fa-chevron-right\"></i>\n",
       "</div>\n",
       "</div>\n",
       "</a>\n",
       "</div></div><div class=\"col-md-6 right-single-case\"><div class=\"col-md-12 filtered-item ivory-section one \">\n",
       "<a href=\"https://www.innocenceproject.org/cases/josiah-sutton/\">\n",
       "<div class=\"row\">\n",
       "<div class=\"col-md-4 col-xs-3 no-padding\">\n",
       "</div>\n",
       "<div class=\"col-md-6 col-xs-7\">\n",
       "<h3>Josiah Sutton</h3>\n",
       "<div class=\"caption\"> Time served: 5 years</div>\n",
       "</div>\n",
       "<div class=\"col-md-2 col-xs-2\">\n",
       "<i class=\"fa fa-chevron-right\"></i>\n",
       "</div>\n",
       "</div>\n",
       "</a>\n",
       "</div></div>"
      ]
     },
     "execution_count": 131,
     "metadata": {},
     "output_type": "execute_result"
    }
   ],
   "source": [
    "soup_doc1 = BeautifulSoup(cases1['msg'], \"html.parser\")\n",
    "soup_doc1"
   ]
  },
  {
   "cell_type": "code",
   "execution_count": 132,
   "metadata": {
    "scrolled": true
   },
   "outputs": [
    {
     "name": "stdout",
     "output_type": "stream",
     "text": [
      "https://www.innocenceproject.org/cases/gilbert-alejandro/\n",
      "https://www.innocenceproject.org/cases/gene-bibbins/\n",
      "https://www.innocenceproject.org/cases/stephan-cowans/\n",
      "https://www.innocenceproject.org/cases/timothy-durham/\n",
      "https://www.innocenceproject.org/cases/chad-heins/\n",
      "https://www.innocenceproject.org/cases/dana-holland/\n",
      "https://www.innocenceproject.org/cases/dwayne-jackson/\n",
      "https://www.innocenceproject.org/cases/marlon-pendleton/\n",
      "https://www.innocenceproject.org/cases/anthony-powell/\n",
      "https://www.innocenceproject.org/cases/josiah-sutton/\n"
     ]
    }
   ],
   "source": [
    "links1 = soup_doc1.find_all('a')\n",
    "dna_links =[]\n",
    "for url in links1:\n",
    "    dna_links.append(url['href'])\n",
    "    print(url['href'])"
   ]
  },
  {
   "cell_type": "code",
   "execution_count": 133,
   "metadata": {},
   "outputs": [
    {
     "data": {
      "text/plain": [
       "['https://www.innocenceproject.org/cases/gilbert-alejandro/',\n",
       " 'https://www.innocenceproject.org/cases/gene-bibbins/',\n",
       " 'https://www.innocenceproject.org/cases/stephan-cowans/',\n",
       " 'https://www.innocenceproject.org/cases/timothy-durham/',\n",
       " 'https://www.innocenceproject.org/cases/chad-heins/',\n",
       " 'https://www.innocenceproject.org/cases/dana-holland/',\n",
       " 'https://www.innocenceproject.org/cases/dwayne-jackson/',\n",
       " 'https://www.innocenceproject.org/cases/marlon-pendleton/',\n",
       " 'https://www.innocenceproject.org/cases/anthony-powell/',\n",
       " 'https://www.innocenceproject.org/cases/josiah-sutton/']"
      ]
     },
     "execution_count": 133,
     "metadata": {},
     "output_type": "execute_result"
    }
   ],
   "source": [
    "dna_links"
   ]
  },
  {
   "cell_type": "code",
   "execution_count": 134,
   "metadata": {
    "collapsed": true
   },
   "outputs": [],
   "source": [
    "import selenium\n",
    "from selenium import webdriver\n",
    "driver = webdriver.Chrome()"
   ]
  },
  {
   "cell_type": "code",
   "execution_count": 135,
   "metadata": {},
   "outputs": [
    {
     "data": {
      "text/plain": [
       "'Gilbert Alejandro'"
      ]
     },
     "execution_count": 135,
     "metadata": {},
     "output_type": "execute_result"
    }
   ],
   "source": [
    "driver.get(\"https://www.innocenceproject.org/cases/gilbert-alejandro/\")\n",
    "driver.find_element_by_class_name(\"info\").text\n",
    "driver.find_element_by_tag_name(\"h1\").text"
   ]
  },
  {
   "cell_type": "code",
   "execution_count": 138,
   "metadata": {},
   "outputs": [
    {
     "name": "stdout",
     "output_type": "stream",
     "text": [
      "[{'name': 'Gilbert Alejandro'}, {'name': 'Gene Bibbins'}, {'name': 'Stephan Cowans'}, {'name': 'Timothy Durham'}, {'name': 'Chad Heins'}, {'name': 'Dana Holland'}, {'name': 'Dwayne Jackson'}, {'name': 'Marlon Pendleton'}, {'name': 'Anthony Powell'}, {'name': 'Josiah Sutton'}]\n"
     ]
    }
   ],
   "source": [
    "dna_list = []\n",
    "\n",
    "for link in dna_links:\n",
    "    dna_dic = {}\n",
    "    driver = webdriver.Chrome()\n",
    "    driver.get(link)\n",
    "    driver.find_element_by_class_name(\"info\").text\n",
    "    name = driver.find_element_by_tag_name(\"h1\").text\n",
    "    \n",
    "    dna_dic['name'] = name  \n",
    "    dna_list.append(dna_dic)\n",
    "driver.quit\n",
    "    \n",
    "print(dna_list)\n"
   ]
  },
  {
   "cell_type": "code",
   "execution_count": 153,
   "metadata": {},
   "outputs": [
    {
     "data": {
      "text/html": [
       "<div>\n",
       "<style>\n",
       "    .dataframe thead tr:only-child th {\n",
       "        text-align: right;\n",
       "    }\n",
       "\n",
       "    .dataframe thead th {\n",
       "        text-align: left;\n",
       "    }\n",
       "\n",
       "    .dataframe tbody tr th {\n",
       "        vertical-align: top;\n",
       "    }\n",
       "</style>\n",
       "<table border=\"1\" class=\"dataframe\">\n",
       "  <thead>\n",
       "    <tr style=\"text-align: right;\">\n",
       "      <th></th>\n",
       "      <th>name</th>\n",
       "      <th>science_problem</th>\n",
       "    </tr>\n",
       "  </thead>\n",
       "  <tbody>\n",
       "    <tr>\n",
       "      <th>0</th>\n",
       "      <td>Gilbert Alejandro</td>\n",
       "      <td>DNA</td>\n",
       "    </tr>\n",
       "    <tr>\n",
       "      <th>1</th>\n",
       "      <td>Gene Bibbins</td>\n",
       "      <td>DNA</td>\n",
       "    </tr>\n",
       "    <tr>\n",
       "      <th>2</th>\n",
       "      <td>Stephan Cowans</td>\n",
       "      <td>DNA</td>\n",
       "    </tr>\n",
       "    <tr>\n",
       "      <th>3</th>\n",
       "      <td>Timothy Durham</td>\n",
       "      <td>DNA</td>\n",
       "    </tr>\n",
       "    <tr>\n",
       "      <th>4</th>\n",
       "      <td>Chad Heins</td>\n",
       "      <td>DNA</td>\n",
       "    </tr>\n",
       "    <tr>\n",
       "      <th>5</th>\n",
       "      <td>Dana Holland</td>\n",
       "      <td>DNA</td>\n",
       "    </tr>\n",
       "    <tr>\n",
       "      <th>6</th>\n",
       "      <td>Dwayne Jackson</td>\n",
       "      <td>DNA</td>\n",
       "    </tr>\n",
       "    <tr>\n",
       "      <th>7</th>\n",
       "      <td>Marlon Pendleton</td>\n",
       "      <td>DNA</td>\n",
       "    </tr>\n",
       "    <tr>\n",
       "      <th>8</th>\n",
       "      <td>Anthony Powell</td>\n",
       "      <td>DNA</td>\n",
       "    </tr>\n",
       "    <tr>\n",
       "      <th>9</th>\n",
       "      <td>Josiah Sutton</td>\n",
       "      <td>DNA</td>\n",
       "    </tr>\n",
       "  </tbody>\n",
       "</table>\n",
       "</div>"
      ],
      "text/plain": [
       "                name science_problem\n",
       "0  Gilbert Alejandro             DNA\n",
       "1       Gene Bibbins             DNA\n",
       "2     Stephan Cowans             DNA\n",
       "3     Timothy Durham             DNA\n",
       "4         Chad Heins             DNA\n",
       "5       Dana Holland             DNA\n",
       "6     Dwayne Jackson             DNA\n",
       "7   Marlon Pendleton             DNA\n",
       "8     Anthony Powell             DNA\n",
       "9      Josiah Sutton             DNA"
      ]
     },
     "execution_count": 153,
     "metadata": {},
     "output_type": "execute_result"
    }
   ],
   "source": [
    "import pandas as pd\n",
    "df_dna = pd.DataFrame(dna_list)\n",
    "df_dna['science_problem'] = 'DNA'\n",
    "df_dna"
   ]
  },
  {
   "cell_type": "code",
   "execution_count": 154,
   "metadata": {
    "collapsed": true
   },
   "outputs": [],
   "source": [
    "df_dna.to_csv(\"In_project_test.csv\", index=False)"
   ]
  },
  {
   "cell_type": "code",
   "execution_count": null,
   "metadata": {},
   "outputs": [],
   "source": []
  },
  {
   "cell_type": "code",
   "execution_count": null,
   "metadata": {
    "collapsed": true
   },
   "outputs": [],
   "source": []
  },
  {
   "cell_type": "code",
   "execution_count": null,
   "metadata": {
    "collapsed": true
   },
   "outputs": [],
   "source": []
  },
  {
   "cell_type": "code",
   "execution_count": null,
   "metadata": {
    "collapsed": true
   },
   "outputs": [],
   "source": []
  },
  {
   "cell_type": "code",
   "execution_count": null,
   "metadata": {
    "collapsed": true
   },
   "outputs": [],
   "source": []
  }
 ],
 "metadata": {
  "kernelspec": {
   "display_name": "Python 3",
   "language": "python",
   "name": "python3"
  },
  "language_info": {
   "codemirror_mode": {
    "name": "ipython",
    "version": 3
   },
   "file_extension": ".py",
   "mimetype": "text/x-python",
   "name": "python",
   "nbconvert_exporter": "python",
   "pygments_lexer": "ipython3",
   "version": "3.6.1"
  }
 },
 "nbformat": 4,
 "nbformat_minor": 2
}
