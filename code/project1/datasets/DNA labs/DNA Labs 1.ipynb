{
 "cells": [
  {
   "cell_type": "code",
   "execution_count": 2,
   "metadata": {
    "collapsed": true
   },
   "outputs": [],
   "source": [
    "import pandas as pd\n",
    "%matplotlib inline\n"
   ]
  },
  {
   "cell_type": "code",
   "execution_count": 3,
   "metadata": {},
   "outputs": [
    {
     "data": {
      "text/html": [
       "<div>\n",
       "<style>\n",
       "    .dataframe thead tr:only-child th {\n",
       "        text-align: right;\n",
       "    }\n",
       "\n",
       "    .dataframe thead th {\n",
       "        text-align: left;\n",
       "    }\n",
       "\n",
       "    .dataframe tbody tr th {\n",
       "        vertical-align: top;\n",
       "    }\n",
       "</style>\n",
       "<table border=\"1\" class=\"dataframe\">\n",
       "  <thead>\n",
       "    <tr style=\"text-align: right;\">\n",
       "      <th></th>\n",
       "      <th>Cases</th>\n",
       "      <th>Number of labs</th>\n",
       "      <th>Cases received</th>\n",
       "      <th>Cases analyzed</th>\n",
       "      <th>Backlog of cases</th>\n",
       "      <th>Year</th>\n",
       "    </tr>\n",
       "  </thead>\n",
       "  <tbody>\n",
       "    <tr>\n",
       "      <th>0</th>\n",
       "      <td>Casework</td>\n",
       "      <td>81</td>\n",
       "      <td>20707</td>\n",
       "      <td>15884</td>\n",
       "      <td>NaN</td>\n",
       "      <td>1999</td>\n",
       "    </tr>\n",
       "    <tr>\n",
       "      <th>1</th>\n",
       "      <td>Known subject</td>\n",
       "      <td>77</td>\n",
       "      <td>13809</td>\n",
       "      <td>10987</td>\n",
       "      <td>NaN</td>\n",
       "      <td>1999</td>\n",
       "    </tr>\n",
       "    <tr>\n",
       "      <th>2</th>\n",
       "      <td>Unknown subject</td>\n",
       "      <td>77</td>\n",
       "      <td>4155</td>\n",
       "      <td>2408</td>\n",
       "      <td>NaN</td>\n",
       "      <td>1999</td>\n",
       "    </tr>\n",
       "    <tr>\n",
       "      <th>3</th>\n",
       "      <td>Convicted offender</td>\n",
       "      <td>92</td>\n",
       "      <td>100242</td>\n",
       "      <td>61036</td>\n",
       "      <td>NaN</td>\n",
       "      <td>1999</td>\n",
       "    </tr>\n",
       "    <tr>\n",
       "      <th>4</th>\n",
       "      <td>Casework</td>\n",
       "      <td>88</td>\n",
       "      <td>31394</td>\n",
       "      <td>24790</td>\n",
       "      <td>15981.0</td>\n",
       "      <td>2000</td>\n",
       "    </tr>\n",
       "    <tr>\n",
       "      <th>5</th>\n",
       "      <td>Known subject</td>\n",
       "      <td>83</td>\n",
       "      <td>18125</td>\n",
       "      <td>14999</td>\n",
       "      <td>5068.0</td>\n",
       "      <td>2000</td>\n",
       "    </tr>\n",
       "    <tr>\n",
       "      <th>6</th>\n",
       "      <td>Unknown subject</td>\n",
       "      <td>83</td>\n",
       "      <td>7244</td>\n",
       "      <td>4070</td>\n",
       "      <td>5606.0</td>\n",
       "      <td>2000</td>\n",
       "    </tr>\n",
       "    <tr>\n",
       "      <th>7</th>\n",
       "      <td>Convicted offender</td>\n",
       "      <td>91</td>\n",
       "      <td>177184</td>\n",
       "      <td>148347</td>\n",
       "      <td>265329.0</td>\n",
       "      <td>2000</td>\n",
       "    </tr>\n",
       "    <tr>\n",
       "      <th>8</th>\n",
       "      <td>Known subject</td>\n",
       "      <td>58</td>\n",
       "      <td>11479</td>\n",
       "      <td>8812</td>\n",
       "      <td>NaN</td>\n",
       "      <td>1996</td>\n",
       "    </tr>\n",
       "    <tr>\n",
       "      <th>9</th>\n",
       "      <td>Unknown subject</td>\n",
       "      <td>49</td>\n",
       "      <td>3663</td>\n",
       "      <td>1339</td>\n",
       "      <td>NaN</td>\n",
       "      <td>1996</td>\n",
       "    </tr>\n",
       "    <tr>\n",
       "      <th>10</th>\n",
       "      <td>Convicted offender</td>\n",
       "      <td>66</td>\n",
       "      <td>71926</td>\n",
       "      <td>36893</td>\n",
       "      <td>NaN</td>\n",
       "      <td>1996</td>\n",
       "    </tr>\n",
       "    <tr>\n",
       "      <th>11</th>\n",
       "      <td>Known subject</td>\n",
       "      <td>75</td>\n",
       "      <td>15595</td>\n",
       "      <td>12095</td>\n",
       "      <td>2738.0</td>\n",
       "      <td>1997</td>\n",
       "    </tr>\n",
       "    <tr>\n",
       "      <th>12</th>\n",
       "      <td>Unknown subject</td>\n",
       "      <td>62</td>\n",
       "      <td>5198</td>\n",
       "      <td>2194</td>\n",
       "      <td>4062.0</td>\n",
       "      <td>1997</td>\n",
       "    </tr>\n",
       "    <tr>\n",
       "      <th>13</th>\n",
       "      <td>Convicted offender</td>\n",
       "      <td>69</td>\n",
       "      <td>115681</td>\n",
       "      <td>44810</td>\n",
       "      <td>286819.0</td>\n",
       "      <td>1997</td>\n",
       "    </tr>\n",
       "  </tbody>\n",
       "</table>\n",
       "</div>"
      ],
      "text/plain": [
       "                 Cases  Number of labs  Cases received  Cases analyzed  \\\n",
       "0             Casework              81           20707           15884   \n",
       "1        Known subject              77           13809           10987   \n",
       "2      Unknown subject              77            4155            2408   \n",
       "3   Convicted offender              92          100242           61036   \n",
       "4             Casework              88           31394           24790   \n",
       "5        Known subject              83           18125           14999   \n",
       "6      Unknown subject              83            7244            4070   \n",
       "7   Convicted offender              91          177184          148347   \n",
       "8        Known subject              58           11479            8812   \n",
       "9      Unknown subject              49            3663            1339   \n",
       "10  Convicted offender              66           71926           36893   \n",
       "11       Known subject              75           15595           12095   \n",
       "12     Unknown subject              62            5198            2194   \n",
       "13  Convicted offender              69          115681           44810   \n",
       "\n",
       "    Backlog of cases  Year  \n",
       "0                NaN  1999  \n",
       "1                NaN  1999  \n",
       "2                NaN  1999  \n",
       "3                NaN  1999  \n",
       "4            15981.0  2000  \n",
       "5             5068.0  2000  \n",
       "6             5606.0  2000  \n",
       "7           265329.0  2000  \n",
       "8                NaN  1996  \n",
       "9                NaN  1996  \n",
       "10               NaN  1996  \n",
       "11            2738.0  1997  \n",
       "12            4062.0  1997  \n",
       "13          286819.0  1997  "
      ]
     },
     "execution_count": 3,
     "metadata": {},
     "output_type": "execute_result"
    }
   ],
   "source": [
    "df1 = pd.read_csv(\"cases.csv\")\n",
    "df1"
   ]
  },
  {
   "cell_type": "code",
   "execution_count": 4,
   "metadata": {},
   "outputs": [
    {
     "data": {
      "text/plain": [
       "Cases                object\n",
       "Number of labs        int64\n",
       "Cases received        int64\n",
       "Cases analyzed        int64\n",
       "Backlog of cases    float64\n",
       "Year                  int64\n",
       "dtype: object"
      ]
     },
     "execution_count": 4,
     "metadata": {},
     "output_type": "execute_result"
    }
   ],
   "source": [
    "df1.dtypes"
   ]
  },
  {
   "cell_type": "code",
   "execution_count": 8,
   "metadata": {},
   "outputs": [
    {
     "data": {
      "text/plain": [
       "Cases\n",
       "Convicted offender    291086\n",
       "Known subject          46893\n",
       "Casework               40674\n",
       "Unknown subject        10011\n",
       "Name: Cases analyzed, dtype: int64"
      ]
     },
     "execution_count": 8,
     "metadata": {},
     "output_type": "execute_result"
    }
   ],
   "source": [
    "df1.groupby('Cases')['Cases analyzed'].sum().sort_values(ascending=False)"
   ]
  },
  {
   "cell_type": "code",
   "execution_count": 9,
   "metadata": {},
   "outputs": [
    {
     "data": {
      "text/plain": [
       "Cases\n",
       "Casework              0.104651\n",
       "Convicted offender    0.748940\n",
       "Known subject         0.120652\n",
       "Unknown subject       0.025757\n",
       "Name: Cases analyzed, dtype: float64"
      ]
     },
     "execution_count": 9,
     "metadata": {},
     "output_type": "execute_result"
    }
   ],
   "source": [
    "(df1.groupby('Cases')['Cases analyzed'].sum()) / (df1['Cases analyzed'].sum())"
   ]
  },
  {
   "cell_type": "code",
   "execution_count": null,
   "metadata": {
    "collapsed": true
   },
   "outputs": [],
   "source": []
  }
 ],
 "metadata": {
  "kernelspec": {
   "display_name": "Python 3",
   "language": "python",
   "name": "python3"
  },
  "language_info": {
   "codemirror_mode": {
    "name": "ipython",
    "version": 3
   },
   "file_extension": ".py",
   "mimetype": "text/x-python",
   "name": "python",
   "nbconvert_exporter": "python",
   "pygments_lexer": "ipython3",
   "version": "3.6.1"
  }
 },
 "nbformat": 4,
 "nbformat_minor": 2
}
