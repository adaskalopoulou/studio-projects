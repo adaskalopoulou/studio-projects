{
 "cells": [
  {
   "cell_type": "code",
   "execution_count": 79,
   "metadata": {
    "collapsed": true
   },
   "outputs": [],
   "source": [
    "import pandas as pd\n",
    "import numpy as np\n",
    "%matplotlib inline\n",
    "import pandas as pd\n",
    "import matplotlib.pyplot as plt\n",
    "import matplotlib\n",
    "matplotlib.rcParams['pdf.fonttype'] =42\n",
    "import matplotlib.ticker as ticker\n",
    "import matplotlib.patches as mpatches\n",
    "import re\n",
    "import seaborn as sns"
   ]
  },
  {
   "cell_type": "code",
   "execution_count": 2,
   "metadata": {
    "scrolled": true
   },
   "outputs": [
    {
     "data": {
      "text/html": [
       "<div>\n",
       "<style>\n",
       "    .dataframe thead tr:only-child th {\n",
       "        text-align: right;\n",
       "    }\n",
       "\n",
       "    .dataframe thead th {\n",
       "        text-align: left;\n",
       "    }\n",
       "\n",
       "    .dataframe tbody tr th {\n",
       "        vertical-align: top;\n",
       "    }\n",
       "</style>\n",
       "<table border=\"1\" class=\"dataframe\">\n",
       "  <thead>\n",
       "    <tr style=\"text-align: right;\">\n",
       "      <th></th>\n",
       "      <th>user_id</th>\n",
       "      <th>current_weight</th>\n",
       "      <th>current_height</th>\n",
       "      <th>salads_per_week</th>\n",
       "      <th>veggies_fruits_per_day</th>\n",
       "      <th>healthy_diet</th>\n",
       "      <th>aerobic_per_week</th>\n",
       "      <th>sports_per_week</th>\n",
       "      <th>current_smoking</th>\n",
       "      <th>survey.month</th>\n",
       "    </tr>\n",
       "  </thead>\n",
       "  <tbody>\n",
       "    <tr>\n",
       "      <th>0</th>\n",
       "      <td>55</td>\n",
       "      <td>140.0</td>\n",
       "      <td>69.0</td>\n",
       "      <td>0.0</td>\n",
       "      <td>0.0</td>\n",
       "      <td>Below average</td>\n",
       "      <td>2.0</td>\n",
       "      <td>0.0</td>\n",
       "      <td>Never</td>\n",
       "      <td>2008.09</td>\n",
       "    </tr>\n",
       "    <tr>\n",
       "      <th>1</th>\n",
       "      <td>36</td>\n",
       "      <td>150.0</td>\n",
       "      <td>67.0</td>\n",
       "      <td>2.0</td>\n",
       "      <td>1.0</td>\n",
       "      <td>Below average</td>\n",
       "      <td>3.0</td>\n",
       "      <td>3.0</td>\n",
       "      <td>Never</td>\n",
       "      <td>2008.09</td>\n",
       "    </tr>\n",
       "    <tr>\n",
       "      <th>2</th>\n",
       "      <td>39</td>\n",
       "      <td>105.0</td>\n",
       "      <td>66.0</td>\n",
       "      <td>0.0</td>\n",
       "      <td>2.0</td>\n",
       "      <td>Average</td>\n",
       "      <td>1.0</td>\n",
       "      <td>0.0</td>\n",
       "      <td>Never</td>\n",
       "      <td>2008.09</td>\n",
       "    </tr>\n",
       "    <tr>\n",
       "      <th>3</th>\n",
       "      <td>37</td>\n",
       "      <td>220.0</td>\n",
       "      <td>77.0</td>\n",
       "      <td>2.0</td>\n",
       "      <td>5.0</td>\n",
       "      <td>Very healthy</td>\n",
       "      <td>5.0</td>\n",
       "      <td>5.0</td>\n",
       "      <td>Never</td>\n",
       "      <td>2008.09</td>\n",
       "    </tr>\n",
       "    <tr>\n",
       "      <th>4</th>\n",
       "      <td>72</td>\n",
       "      <td>135.0</td>\n",
       "      <td>62.0</td>\n",
       "      <td>0.0</td>\n",
       "      <td>1.0</td>\n",
       "      <td>Unhealthy</td>\n",
       "      <td>0.0</td>\n",
       "      <td>0.0</td>\n",
       "      <td>Never</td>\n",
       "      <td>2008.09</td>\n",
       "    </tr>\n",
       "  </tbody>\n",
       "</table>\n",
       "</div>"
      ],
      "text/plain": [
       "   user_id  current_weight  current_height  salads_per_week  \\\n",
       "0       55           140.0            69.0              0.0   \n",
       "1       36           150.0            67.0              2.0   \n",
       "2       39           105.0            66.0              0.0   \n",
       "3       37           220.0            77.0              2.0   \n",
       "4       72           135.0            62.0              0.0   \n",
       "\n",
       "   veggies_fruits_per_day   healthy_diet  aerobic_per_week  sports_per_week  \\\n",
       "0                     0.0  Below average               2.0              0.0   \n",
       "1                     1.0  Below average               3.0              3.0   \n",
       "2                     2.0        Average               1.0              0.0   \n",
       "3                     5.0   Very healthy               5.0              5.0   \n",
       "4                     1.0      Unhealthy               0.0              0.0   \n",
       "\n",
       "  current_smoking  survey.month  \n",
       "0           Never       2008.09  \n",
       "1           Never       2008.09  \n",
       "2           Never       2008.09  \n",
       "3           Never       2008.09  \n",
       "4           Never       2008.09  "
      ]
     },
     "execution_count": 2,
     "metadata": {},
     "output_type": "execute_result"
    }
   ],
   "source": [
    "df_health = pd.read_csv(\"Health.csv\")\n",
    "df_health.head()"
   ]
  },
  {
   "cell_type": "code",
   "execution_count": 3,
   "metadata": {},
   "outputs": [
    {
     "data": {
      "text/plain": [
       "user_id  survey.month\n",
       "1        2008.09         1\n",
       "         2008.10         1\n",
       "         2008.12         1\n",
       "         2009.03         1\n",
       "         2009.04         1\n",
       "         2009.06         1\n",
       "2        2008.09         1\n",
       "         2008.10         1\n",
       "         2008.12         1\n",
       "         2009.03         1\n",
       "Name: survey.month, dtype: int64"
      ]
     },
     "execution_count": 3,
     "metadata": {},
     "output_type": "execute_result"
    }
   ],
   "source": [
    "df_health.groupby('user_id')['survey.month'].value_counts().head(10)"
   ]
  },
  {
   "cell_type": "code",
   "execution_count": 4,
   "metadata": {},
   "outputs": [
    {
     "data": {
      "text/html": [
       "<div>\n",
       "<style>\n",
       "    .dataframe thead tr:only-child th {\n",
       "        text-align: right;\n",
       "    }\n",
       "\n",
       "    .dataframe thead th {\n",
       "        text-align: left;\n",
       "    }\n",
       "\n",
       "    .dataframe tbody tr th {\n",
       "        vertical-align: top;\n",
       "    }\n",
       "</style>\n",
       "<table border=\"1\" class=\"dataframe\">\n",
       "  <thead>\n",
       "    <tr style=\"text-align: right;\">\n",
       "      <th></th>\n",
       "      <th>current_weight</th>\n",
       "      <th>current_height</th>\n",
       "      <th>salads_per_week</th>\n",
       "      <th>veggies_fruits_per_day</th>\n",
       "      <th>healthy_diet</th>\n",
       "      <th>aerobic_per_week</th>\n",
       "      <th>sports_per_week</th>\n",
       "      <th>current_smoking</th>\n",
       "      <th>survey.month</th>\n",
       "    </tr>\n",
       "    <tr>\n",
       "      <th>user_id</th>\n",
       "      <th></th>\n",
       "      <th></th>\n",
       "      <th></th>\n",
       "      <th></th>\n",
       "      <th></th>\n",
       "      <th></th>\n",
       "      <th></th>\n",
       "      <th></th>\n",
       "      <th></th>\n",
       "    </tr>\n",
       "  </thead>\n",
       "  <tbody>\n",
       "    <tr>\n",
       "      <th>55</th>\n",
       "      <td>140.0</td>\n",
       "      <td>69.0</td>\n",
       "      <td>0.0</td>\n",
       "      <td>0.0</td>\n",
       "      <td>Below average</td>\n",
       "      <td>2.0</td>\n",
       "      <td>0.0</td>\n",
       "      <td>Never</td>\n",
       "      <td>2008.09</td>\n",
       "    </tr>\n",
       "    <tr>\n",
       "      <th>36</th>\n",
       "      <td>150.0</td>\n",
       "      <td>67.0</td>\n",
       "      <td>2.0</td>\n",
       "      <td>1.0</td>\n",
       "      <td>Below average</td>\n",
       "      <td>3.0</td>\n",
       "      <td>3.0</td>\n",
       "      <td>Never</td>\n",
       "      <td>2008.09</td>\n",
       "    </tr>\n",
       "    <tr>\n",
       "      <th>39</th>\n",
       "      <td>105.0</td>\n",
       "      <td>66.0</td>\n",
       "      <td>0.0</td>\n",
       "      <td>2.0</td>\n",
       "      <td>Average</td>\n",
       "      <td>1.0</td>\n",
       "      <td>0.0</td>\n",
       "      <td>Never</td>\n",
       "      <td>2008.09</td>\n",
       "    </tr>\n",
       "    <tr>\n",
       "      <th>37</th>\n",
       "      <td>220.0</td>\n",
       "      <td>77.0</td>\n",
       "      <td>2.0</td>\n",
       "      <td>5.0</td>\n",
       "      <td>Very healthy</td>\n",
       "      <td>5.0</td>\n",
       "      <td>5.0</td>\n",
       "      <td>Never</td>\n",
       "      <td>2008.09</td>\n",
       "    </tr>\n",
       "    <tr>\n",
       "      <th>72</th>\n",
       "      <td>135.0</td>\n",
       "      <td>62.0</td>\n",
       "      <td>0.0</td>\n",
       "      <td>1.0</td>\n",
       "      <td>Unhealthy</td>\n",
       "      <td>0.0</td>\n",
       "      <td>0.0</td>\n",
       "      <td>Never</td>\n",
       "      <td>2008.09</td>\n",
       "    </tr>\n",
       "  </tbody>\n",
       "</table>\n",
       "</div>"
      ],
      "text/plain": [
       "         current_weight  current_height  salads_per_week  \\\n",
       "user_id                                                    \n",
       "55                140.0            69.0              0.0   \n",
       "36                150.0            67.0              2.0   \n",
       "39                105.0            66.0              0.0   \n",
       "37                220.0            77.0              2.0   \n",
       "72                135.0            62.0              0.0   \n",
       "\n",
       "         veggies_fruits_per_day   healthy_diet  aerobic_per_week  \\\n",
       "user_id                                                            \n",
       "55                          0.0  Below average               2.0   \n",
       "36                          1.0  Below average               3.0   \n",
       "39                          2.0        Average               1.0   \n",
       "37                          5.0   Very healthy               5.0   \n",
       "72                          1.0      Unhealthy               0.0   \n",
       "\n",
       "         sports_per_week current_smoking  survey.month  \n",
       "user_id                                                 \n",
       "55                   0.0           Never       2008.09  \n",
       "36                   3.0           Never       2008.09  \n",
       "39                   0.0           Never       2008.09  \n",
       "37                   5.0           Never       2008.09  \n",
       "72                   0.0           Never       2008.09  "
      ]
     },
     "execution_count": 4,
     "metadata": {},
     "output_type": "execute_result"
    }
   ],
   "source": [
    "df_new = df_health[(df_health['survey.month'] == 2008.09) | (df_health['survey.month'] == 2009.06)]\n",
    "df_new = df_new.set_index('user_id')\n",
    "df_new.head()"
   ]
  },
  {
   "cell_type": "code",
   "execution_count": 5,
   "metadata": {
    "collapsed": true
   },
   "outputs": [],
   "source": [
    "#df_new.to_csv('health_oneyear.csv')"
   ]
  },
  {
   "cell_type": "code",
   "execution_count": 6,
   "metadata": {},
   "outputs": [
    {
     "data": {
      "text/html": [
       "<div>\n",
       "<style>\n",
       "    .dataframe thead tr:only-child th {\n",
       "        text-align: right;\n",
       "    }\n",
       "\n",
       "    .dataframe thead th {\n",
       "        text-align: left;\n",
       "    }\n",
       "\n",
       "    .dataframe tbody tr th {\n",
       "        vertical-align: top;\n",
       "    }\n",
       "</style>\n",
       "<table border=\"1\" class=\"dataframe\">\n",
       "  <thead>\n",
       "    <tr style=\"text-align: right;\">\n",
       "      <th></th>\n",
       "      <th>index</th>\n",
       "      <th>user_id</th>\n",
       "    </tr>\n",
       "  </thead>\n",
       "  <tbody>\n",
       "    <tr>\n",
       "      <th>53</th>\n",
       "      <td>18</td>\n",
       "      <td>1</td>\n",
       "    </tr>\n",
       "    <tr>\n",
       "      <th>54</th>\n",
       "      <td>13</td>\n",
       "      <td>1</td>\n",
       "    </tr>\n",
       "    <tr>\n",
       "      <th>55</th>\n",
       "      <td>15</td>\n",
       "      <td>1</td>\n",
       "    </tr>\n",
       "    <tr>\n",
       "      <th>56</th>\n",
       "      <td>12</td>\n",
       "      <td>1</td>\n",
       "    </tr>\n",
       "    <tr>\n",
       "      <th>57</th>\n",
       "      <td>16</td>\n",
       "      <td>1</td>\n",
       "    </tr>\n",
       "  </tbody>\n",
       "</table>\n",
       "</div>"
      ],
      "text/plain": [
       "    index  user_id\n",
       "53     18        1\n",
       "54     13        1\n",
       "55     15        1\n",
       "56     12        1\n",
       "57     16        1"
      ]
     },
     "execution_count": 6,
     "metadata": {},
     "output_type": "execute_result"
    }
   ],
   "source": [
    "df = df_new.index.value_counts().reset_index()\n",
    "df = df.loc[df.user_id == 1]\n",
    "df.head()"
   ]
  },
  {
   "cell_type": "code",
   "execution_count": 7,
   "metadata": {},
   "outputs": [
    {
     "data": {
      "text/plain": [
       "[18,\n",
       " 13,\n",
       " 15,\n",
       " 12,\n",
       " 16,\n",
       " 17,\n",
       " 80,\n",
       " 19,\n",
       " 25,\n",
       " 30,\n",
       " 32,\n",
       " 38,\n",
       " 79,\n",
       " 41,\n",
       " 50,\n",
       " 51,\n",
       " 53,\n",
       " 55,\n",
       " 63,\n",
       " 75,\n",
       " 76,\n",
       " 77,\n",
       " 39]"
      ]
     },
     "execution_count": 7,
     "metadata": {},
     "output_type": "execute_result"
    }
   ],
   "source": [
    "my_list = df['index'].tolist()\n",
    "my_list"
   ]
  },
  {
   "cell_type": "code",
   "execution_count": 37,
   "metadata": {},
   "outputs": [
    {
     "data": {
      "text/html": [
       "<div>\n",
       "<style>\n",
       "    .dataframe thead tr:only-child th {\n",
       "        text-align: right;\n",
       "    }\n",
       "\n",
       "    .dataframe thead th {\n",
       "        text-align: left;\n",
       "    }\n",
       "\n",
       "    .dataframe tbody tr th {\n",
       "        vertical-align: top;\n",
       "    }\n",
       "</style>\n",
       "<table border=\"1\" class=\"dataframe\">\n",
       "  <thead>\n",
       "    <tr style=\"text-align: right;\">\n",
       "      <th></th>\n",
       "      <th>user_id</th>\n",
       "      <th>current_weight</th>\n",
       "      <th>current_height</th>\n",
       "      <th>salads_per_week</th>\n",
       "      <th>veggies_fruits_per_day</th>\n",
       "      <th>healthy_diet</th>\n",
       "      <th>aerobic_per_week</th>\n",
       "      <th>sports_per_week</th>\n",
       "      <th>current_smoking</th>\n",
       "      <th>survey.month</th>\n",
       "    </tr>\n",
       "  </thead>\n",
       "  <tbody>\n",
       "    <tr>\n",
       "      <th>0</th>\n",
       "      <td>55</td>\n",
       "      <td>140.0</td>\n",
       "      <td>69.0</td>\n",
       "      <td>0.0</td>\n",
       "      <td>0.0</td>\n",
       "      <td>Below average</td>\n",
       "      <td>2.0</td>\n",
       "      <td>0.0</td>\n",
       "      <td>Never</td>\n",
       "      <td>2008.09</td>\n",
       "    </tr>\n",
       "    <tr>\n",
       "      <th>1</th>\n",
       "      <td>36</td>\n",
       "      <td>150.0</td>\n",
       "      <td>67.0</td>\n",
       "      <td>2.0</td>\n",
       "      <td>1.0</td>\n",
       "      <td>Below average</td>\n",
       "      <td>3.0</td>\n",
       "      <td>3.0</td>\n",
       "      <td>Never</td>\n",
       "      <td>2008.09</td>\n",
       "    </tr>\n",
       "    <tr>\n",
       "      <th>2</th>\n",
       "      <td>39</td>\n",
       "      <td>105.0</td>\n",
       "      <td>66.0</td>\n",
       "      <td>0.0</td>\n",
       "      <td>2.0</td>\n",
       "      <td>Average</td>\n",
       "      <td>1.0</td>\n",
       "      <td>0.0</td>\n",
       "      <td>Never</td>\n",
       "      <td>2008.09</td>\n",
       "    </tr>\n",
       "    <tr>\n",
       "      <th>3</th>\n",
       "      <td>37</td>\n",
       "      <td>220.0</td>\n",
       "      <td>77.0</td>\n",
       "      <td>2.0</td>\n",
       "      <td>5.0</td>\n",
       "      <td>Very healthy</td>\n",
       "      <td>5.0</td>\n",
       "      <td>5.0</td>\n",
       "      <td>Never</td>\n",
       "      <td>2008.09</td>\n",
       "    </tr>\n",
       "    <tr>\n",
       "      <th>4</th>\n",
       "      <td>72</td>\n",
       "      <td>135.0</td>\n",
       "      <td>62.0</td>\n",
       "      <td>0.0</td>\n",
       "      <td>1.0</td>\n",
       "      <td>Unhealthy</td>\n",
       "      <td>0.0</td>\n",
       "      <td>0.0</td>\n",
       "      <td>Never</td>\n",
       "      <td>2008.09</td>\n",
       "    </tr>\n",
       "  </tbody>\n",
       "</table>\n",
       "</div>"
      ],
      "text/plain": [
       "   user_id  current_weight  current_height  salads_per_week  \\\n",
       "0       55           140.0            69.0              0.0   \n",
       "1       36           150.0            67.0              2.0   \n",
       "2       39           105.0            66.0              0.0   \n",
       "3       37           220.0            77.0              2.0   \n",
       "4       72           135.0            62.0              0.0   \n",
       "\n",
       "   veggies_fruits_per_day   healthy_diet  aerobic_per_week  sports_per_week  \\\n",
       "0                     0.0  Below average               2.0              0.0   \n",
       "1                     1.0  Below average               3.0              3.0   \n",
       "2                     2.0        Average               1.0              0.0   \n",
       "3                     5.0   Very healthy               5.0              5.0   \n",
       "4                     1.0      Unhealthy               0.0              0.0   \n",
       "\n",
       "  current_smoking  survey.month  \n",
       "0           Never       2008.09  \n",
       "1           Never       2008.09  \n",
       "2           Never       2008.09  \n",
       "3           Never       2008.09  \n",
       "4           Never       2008.09  "
      ]
     },
     "execution_count": 37,
     "metadata": {},
     "output_type": "execute_result"
    }
   ],
   "source": [
    "df_new = pd.read_csv('health_oneyear.csv')\n",
    "df_new.head()"
   ]
  },
  {
   "cell_type": "code",
   "execution_count": 38,
   "metadata": {
    "collapsed": true,
    "scrolled": true
   },
   "outputs": [],
   "source": [
    "# df_new.loc[df_new['survey.month'] == 2008.09, \"weight2008\"] = df_new.current_weight\n",
    "# df_new"
   ]
  },
  {
   "cell_type": "code",
   "execution_count": 39,
   "metadata": {
    "collapsed": true
   },
   "outputs": [],
   "source": [
    "# df_new.loc[df_new['survey.month'] == 2009.06, \"weight2009\"] = df_new.current_weight\n",
    "# df_new"
   ]
  },
  {
   "cell_type": "code",
   "execution_count": 40,
   "metadata": {},
   "outputs": [
    {
     "data": {
      "text/html": [
       "<div>\n",
       "<style>\n",
       "    .dataframe thead tr:only-child th {\n",
       "        text-align: right;\n",
       "    }\n",
       "\n",
       "    .dataframe thead th {\n",
       "        text-align: left;\n",
       "    }\n",
       "\n",
       "    .dataframe tbody tr th {\n",
       "        vertical-align: top;\n",
       "    }\n",
       "</style>\n",
       "<table border=\"1\" class=\"dataframe\">\n",
       "  <thead>\n",
       "    <tr style=\"text-align: right;\">\n",
       "      <th></th>\n",
       "      <th>user_id</th>\n",
       "      <th>weight2008</th>\n",
       "      <th>height2008</th>\n",
       "      <th>salads_week_2008</th>\n",
       "      <th>vegfru_day_2008</th>\n",
       "      <th>healthy_diet_2008</th>\n",
       "      <th>aerobic_week_2008</th>\n",
       "      <th>sports_week_2008</th>\n",
       "      <th>smoking_2008</th>\n",
       "      <th>survey_month_2008</th>\n",
       "    </tr>\n",
       "  </thead>\n",
       "  <tbody>\n",
       "    <tr>\n",
       "      <th>0</th>\n",
       "      <td>55</td>\n",
       "      <td>140.0</td>\n",
       "      <td>69.0</td>\n",
       "      <td>0.0</td>\n",
       "      <td>0.0</td>\n",
       "      <td>Below average</td>\n",
       "      <td>2.0</td>\n",
       "      <td>0.0</td>\n",
       "      <td>Never</td>\n",
       "      <td>2008.09</td>\n",
       "    </tr>\n",
       "    <tr>\n",
       "      <th>1</th>\n",
       "      <td>36</td>\n",
       "      <td>150.0</td>\n",
       "      <td>67.0</td>\n",
       "      <td>2.0</td>\n",
       "      <td>1.0</td>\n",
       "      <td>Below average</td>\n",
       "      <td>3.0</td>\n",
       "      <td>3.0</td>\n",
       "      <td>Never</td>\n",
       "      <td>2008.09</td>\n",
       "    </tr>\n",
       "    <tr>\n",
       "      <th>2</th>\n",
       "      <td>39</td>\n",
       "      <td>105.0</td>\n",
       "      <td>66.0</td>\n",
       "      <td>0.0</td>\n",
       "      <td>2.0</td>\n",
       "      <td>Average</td>\n",
       "      <td>1.0</td>\n",
       "      <td>0.0</td>\n",
       "      <td>Never</td>\n",
       "      <td>2008.09</td>\n",
       "    </tr>\n",
       "    <tr>\n",
       "      <th>3</th>\n",
       "      <td>37</td>\n",
       "      <td>220.0</td>\n",
       "      <td>77.0</td>\n",
       "      <td>2.0</td>\n",
       "      <td>5.0</td>\n",
       "      <td>Very healthy</td>\n",
       "      <td>5.0</td>\n",
       "      <td>5.0</td>\n",
       "      <td>Never</td>\n",
       "      <td>2008.09</td>\n",
       "    </tr>\n",
       "    <tr>\n",
       "      <th>4</th>\n",
       "      <td>72</td>\n",
       "      <td>135.0</td>\n",
       "      <td>62.0</td>\n",
       "      <td>0.0</td>\n",
       "      <td>1.0</td>\n",
       "      <td>Unhealthy</td>\n",
       "      <td>0.0</td>\n",
       "      <td>0.0</td>\n",
       "      <td>Never</td>\n",
       "      <td>2008.09</td>\n",
       "    </tr>\n",
       "  </tbody>\n",
       "</table>\n",
       "</div>"
      ],
      "text/plain": [
       "   user_id  weight2008  height2008  salads_week_2008  vegfru_day_2008  \\\n",
       "0       55       140.0        69.0               0.0              0.0   \n",
       "1       36       150.0        67.0               2.0              1.0   \n",
       "2       39       105.0        66.0               0.0              2.0   \n",
       "3       37       220.0        77.0               2.0              5.0   \n",
       "4       72       135.0        62.0               0.0              1.0   \n",
       "\n",
       "  healthy_diet_2008  aerobic_week_2008  sports_week_2008 smoking_2008  \\\n",
       "0     Below average                2.0               0.0        Never   \n",
       "1     Below average                3.0               3.0        Never   \n",
       "2           Average                1.0               0.0        Never   \n",
       "3      Very healthy                5.0               5.0        Never   \n",
       "4         Unhealthy                0.0               0.0        Never   \n",
       "\n",
       "   survey_month_2008  \n",
       "0            2008.09  \n",
       "1            2008.09  \n",
       "2            2008.09  \n",
       "3            2008.09  \n",
       "4            2008.09  "
      ]
     },
     "execution_count": 40,
     "metadata": {},
     "output_type": "execute_result"
    }
   ],
   "source": [
    "df_new2008 = df_new.loc[df_new['survey.month'] == 2008.09]\n",
    "df_new2008.columns = ['user_id', 'weight2008', 'height2008', 'salads_week_2008', 'vegfru_day_2008', 'healthy_diet_2008', 'aerobic_week_2008', 'sports_week_2008', 'smoking_2008', 'survey_month_2008']\n",
    "df_new2008.head()"
   ]
  },
  {
   "cell_type": "code",
   "execution_count": 41,
   "metadata": {},
   "outputs": [
    {
     "data": {
      "text/html": [
       "<div>\n",
       "<style>\n",
       "    .dataframe thead tr:only-child th {\n",
       "        text-align: right;\n",
       "    }\n",
       "\n",
       "    .dataframe thead th {\n",
       "        text-align: left;\n",
       "    }\n",
       "\n",
       "    .dataframe tbody tr th {\n",
       "        vertical-align: top;\n",
       "    }\n",
       "</style>\n",
       "<table border=\"1\" class=\"dataframe\">\n",
       "  <thead>\n",
       "    <tr style=\"text-align: right;\">\n",
       "      <th></th>\n",
       "      <th>user_id</th>\n",
       "      <th>weight2009</th>\n",
       "      <th>height2009</th>\n",
       "      <th>salads_week_2009</th>\n",
       "      <th>vegfru_day_2009</th>\n",
       "      <th>healthy_diet_2009</th>\n",
       "      <th>aerobic_week_2009</th>\n",
       "      <th>sports_week_2009</th>\n",
       "      <th>smoking_2009</th>\n",
       "      <th>survey_month_2009</th>\n",
       "    </tr>\n",
       "  </thead>\n",
       "  <tbody>\n",
       "    <tr>\n",
       "      <th>67</th>\n",
       "      <td>7</td>\n",
       "      <td>140.0</td>\n",
       "      <td>65.0</td>\n",
       "      <td>1.0</td>\n",
       "      <td>1.0</td>\n",
       "      <td>Unhealthy</td>\n",
       "      <td>1.0</td>\n",
       "      <td>0.0</td>\n",
       "      <td>Never</td>\n",
       "      <td>2009.06</td>\n",
       "    </tr>\n",
       "    <tr>\n",
       "      <th>68</th>\n",
       "      <td>36</td>\n",
       "      <td>155.0</td>\n",
       "      <td>67.0</td>\n",
       "      <td>2.0</td>\n",
       "      <td>1.0</td>\n",
       "      <td>Unhealthy</td>\n",
       "      <td>0.0</td>\n",
       "      <td>4.0</td>\n",
       "      <td>Never</td>\n",
       "      <td>2009.06</td>\n",
       "    </tr>\n",
       "    <tr>\n",
       "      <th>69</th>\n",
       "      <td>49</td>\n",
       "      <td>135.0</td>\n",
       "      <td>65.0</td>\n",
       "      <td>0.0</td>\n",
       "      <td>1.0</td>\n",
       "      <td>Average</td>\n",
       "      <td>0.0</td>\n",
       "      <td>0.0</td>\n",
       "      <td>Once in a while</td>\n",
       "      <td>2009.06</td>\n",
       "    </tr>\n",
       "    <tr>\n",
       "      <th>70</th>\n",
       "      <td>6</td>\n",
       "      <td>145.0</td>\n",
       "      <td>68.0</td>\n",
       "      <td>1.0</td>\n",
       "      <td>5.0</td>\n",
       "      <td>Healthy</td>\n",
       "      <td>3.0</td>\n",
       "      <td>1.0</td>\n",
       "      <td>Never</td>\n",
       "      <td>2009.06</td>\n",
       "    </tr>\n",
       "    <tr>\n",
       "      <th>71</th>\n",
       "      <td>11</td>\n",
       "      <td>169.0</td>\n",
       "      <td>69.0</td>\n",
       "      <td>0.0</td>\n",
       "      <td>0.0</td>\n",
       "      <td>Unhealthy</td>\n",
       "      <td>1.0</td>\n",
       "      <td>0.0</td>\n",
       "      <td>Never</td>\n",
       "      <td>2009.06</td>\n",
       "    </tr>\n",
       "  </tbody>\n",
       "</table>\n",
       "</div>"
      ],
      "text/plain": [
       "    user_id  weight2009  height2009  salads_week_2009  vegfru_day_2009  \\\n",
       "67        7       140.0        65.0               1.0              1.0   \n",
       "68       36       155.0        67.0               2.0              1.0   \n",
       "69       49       135.0        65.0               0.0              1.0   \n",
       "70        6       145.0        68.0               1.0              5.0   \n",
       "71       11       169.0        69.0               0.0              0.0   \n",
       "\n",
       "   healthy_diet_2009  aerobic_week_2009  sports_week_2009     smoking_2009  \\\n",
       "67         Unhealthy                1.0               0.0            Never   \n",
       "68         Unhealthy                0.0               4.0            Never   \n",
       "69           Average                0.0               0.0  Once in a while   \n",
       "70           Healthy                3.0               1.0            Never   \n",
       "71         Unhealthy                1.0               0.0            Never   \n",
       "\n",
       "    survey_month_2009  \n",
       "67            2009.06  \n",
       "68            2009.06  \n",
       "69            2009.06  \n",
       "70            2009.06  \n",
       "71            2009.06  "
      ]
     },
     "execution_count": 41,
     "metadata": {},
     "output_type": "execute_result"
    }
   ],
   "source": [
    "df_new2009 = df_new.loc[df_new['survey.month'] == 2009.06]\n",
    "df_new2009.columns = ['user_id', 'weight2009', 'height2009', 'salads_week_2009', 'vegfru_day_2009', 'healthy_diet_2009', 'aerobic_week_2009', 'sports_week_2009', 'smoking_2009', 'survey_month_2009']\n",
    "df_new2009.head()"
   ]
  },
  {
   "cell_type": "code",
   "execution_count": 42,
   "metadata": {},
   "outputs": [
    {
     "data": {
      "text/html": [
       "<div>\n",
       "<style>\n",
       "    .dataframe thead tr:only-child th {\n",
       "        text-align: right;\n",
       "    }\n",
       "\n",
       "    .dataframe thead th {\n",
       "        text-align: left;\n",
       "    }\n",
       "\n",
       "    .dataframe tbody tr th {\n",
       "        vertical-align: top;\n",
       "    }\n",
       "</style>\n",
       "<table border=\"1\" class=\"dataframe\">\n",
       "  <thead>\n",
       "    <tr style=\"text-align: right;\">\n",
       "      <th></th>\n",
       "      <th>user_id</th>\n",
       "      <th>weight2008</th>\n",
       "      <th>height2008</th>\n",
       "      <th>salads_week_2008</th>\n",
       "      <th>vegfru_day_2008</th>\n",
       "      <th>healthy_diet_2008</th>\n",
       "      <th>aerobic_week_2008</th>\n",
       "      <th>sports_week_2008</th>\n",
       "      <th>smoking_2008</th>\n",
       "      <th>survey_month_2008</th>\n",
       "      <th>weight2009</th>\n",
       "      <th>height2009</th>\n",
       "      <th>salads_week_2009</th>\n",
       "      <th>vegfru_day_2009</th>\n",
       "      <th>healthy_diet_2009</th>\n",
       "      <th>aerobic_week_2009</th>\n",
       "      <th>sports_week_2009</th>\n",
       "      <th>smoking_2009</th>\n",
       "      <th>survey_month_2009</th>\n",
       "    </tr>\n",
       "  </thead>\n",
       "  <tbody>\n",
       "    <tr>\n",
       "      <th>0</th>\n",
       "      <td>36</td>\n",
       "      <td>150.0</td>\n",
       "      <td>67.0</td>\n",
       "      <td>2.0</td>\n",
       "      <td>1.0</td>\n",
       "      <td>Below average</td>\n",
       "      <td>3.0</td>\n",
       "      <td>3.0</td>\n",
       "      <td>Never</td>\n",
       "      <td>2008.09</td>\n",
       "      <td>155.0</td>\n",
       "      <td>67.0</td>\n",
       "      <td>2.0</td>\n",
       "      <td>1.0</td>\n",
       "      <td>Unhealthy</td>\n",
       "      <td>0.0</td>\n",
       "      <td>4.0</td>\n",
       "      <td>Never</td>\n",
       "      <td>2009.06</td>\n",
       "    </tr>\n",
       "    <tr>\n",
       "      <th>1</th>\n",
       "      <td>37</td>\n",
       "      <td>220.0</td>\n",
       "      <td>77.0</td>\n",
       "      <td>2.0</td>\n",
       "      <td>5.0</td>\n",
       "      <td>Very healthy</td>\n",
       "      <td>5.0</td>\n",
       "      <td>5.0</td>\n",
       "      <td>Never</td>\n",
       "      <td>2008.09</td>\n",
       "      <td>220.0</td>\n",
       "      <td>77.0</td>\n",
       "      <td>1.0</td>\n",
       "      <td>3.0</td>\n",
       "      <td>Healthy</td>\n",
       "      <td>3.0</td>\n",
       "      <td>3.0</td>\n",
       "      <td>Never</td>\n",
       "      <td>2009.06</td>\n",
       "    </tr>\n",
       "    <tr>\n",
       "      <th>2</th>\n",
       "      <td>72</td>\n",
       "      <td>135.0</td>\n",
       "      <td>62.0</td>\n",
       "      <td>0.0</td>\n",
       "      <td>1.0</td>\n",
       "      <td>Unhealthy</td>\n",
       "      <td>0.0</td>\n",
       "      <td>0.0</td>\n",
       "      <td>Never</td>\n",
       "      <td>2008.09</td>\n",
       "      <td>140.0</td>\n",
       "      <td>62.0</td>\n",
       "      <td>0.0</td>\n",
       "      <td>1.0</td>\n",
       "      <td>Below average</td>\n",
       "      <td>0.0</td>\n",
       "      <td>0.0</td>\n",
       "      <td>Never</td>\n",
       "      <td>2009.06</td>\n",
       "    </tr>\n",
       "    <tr>\n",
       "      <th>3</th>\n",
       "      <td>11</td>\n",
       "      <td>180.0</td>\n",
       "      <td>69.0</td>\n",
       "      <td>0.0</td>\n",
       "      <td>1.0</td>\n",
       "      <td>Unhealthy</td>\n",
       "      <td>5.0</td>\n",
       "      <td>0.0</td>\n",
       "      <td>Never</td>\n",
       "      <td>2008.09</td>\n",
       "      <td>169.0</td>\n",
       "      <td>69.0</td>\n",
       "      <td>0.0</td>\n",
       "      <td>0.0</td>\n",
       "      <td>Unhealthy</td>\n",
       "      <td>1.0</td>\n",
       "      <td>0.0</td>\n",
       "      <td>Never</td>\n",
       "      <td>2009.06</td>\n",
       "    </tr>\n",
       "    <tr>\n",
       "      <th>4</th>\n",
       "      <td>21</td>\n",
       "      <td>240.0</td>\n",
       "      <td>75.0</td>\n",
       "      <td>0.0</td>\n",
       "      <td>1.0</td>\n",
       "      <td>Unhealthy</td>\n",
       "      <td>1.0</td>\n",
       "      <td>0.0</td>\n",
       "      <td>Never</td>\n",
       "      <td>2008.09</td>\n",
       "      <td>265.0</td>\n",
       "      <td>75.0</td>\n",
       "      <td>0.0</td>\n",
       "      <td>1.0</td>\n",
       "      <td>Unhealthy</td>\n",
       "      <td>1.0</td>\n",
       "      <td>0.0</td>\n",
       "      <td>Never</td>\n",
       "      <td>2009.06</td>\n",
       "    </tr>\n",
       "  </tbody>\n",
       "</table>\n",
       "</div>"
      ],
      "text/plain": [
       "   user_id  weight2008  height2008  salads_week_2008  vegfru_day_2008  \\\n",
       "0       36       150.0        67.0               2.0              1.0   \n",
       "1       37       220.0        77.0               2.0              5.0   \n",
       "2       72       135.0        62.0               0.0              1.0   \n",
       "3       11       180.0        69.0               0.0              1.0   \n",
       "4       21       240.0        75.0               0.0              1.0   \n",
       "\n",
       "  healthy_diet_2008  aerobic_week_2008  sports_week_2008 smoking_2008  \\\n",
       "0     Below average                3.0               3.0        Never   \n",
       "1      Very healthy                5.0               5.0        Never   \n",
       "2         Unhealthy                0.0               0.0        Never   \n",
       "3         Unhealthy                5.0               0.0        Never   \n",
       "4         Unhealthy                1.0               0.0        Never   \n",
       "\n",
       "   survey_month_2008  weight2009  height2009  salads_week_2009  \\\n",
       "0            2008.09       155.0        67.0               2.0   \n",
       "1            2008.09       220.0        77.0               1.0   \n",
       "2            2008.09       140.0        62.0               0.0   \n",
       "3            2008.09       169.0        69.0               0.0   \n",
       "4            2008.09       265.0        75.0               0.0   \n",
       "\n",
       "   vegfru_day_2009 healthy_diet_2009  aerobic_week_2009  sports_week_2009  \\\n",
       "0              1.0         Unhealthy                0.0               4.0   \n",
       "1              3.0           Healthy                3.0               3.0   \n",
       "2              1.0     Below average                0.0               0.0   \n",
       "3              0.0         Unhealthy                1.0               0.0   \n",
       "4              1.0         Unhealthy                1.0               0.0   \n",
       "\n",
       "  smoking_2009  survey_month_2009  \n",
       "0        Never            2009.06  \n",
       "1        Never            2009.06  \n",
       "2        Never            2009.06  \n",
       "3        Never            2009.06  \n",
       "4        Never            2009.06  "
      ]
     },
     "execution_count": 42,
     "metadata": {},
     "output_type": "execute_result"
    }
   ],
   "source": [
    "df_year = df_new2008.merge(df_new2009, left_on='user_id', right_on='user_id')\n",
    "df_year.head()"
   ]
  },
  {
   "cell_type": "code",
   "execution_count": 56,
   "metadata": {
    "scrolled": true
   },
   "outputs": [
    {
     "data": {
      "text/html": [
       "<div>\n",
       "<style>\n",
       "    .dataframe thead tr:only-child th {\n",
       "        text-align: right;\n",
       "    }\n",
       "\n",
       "    .dataframe thead th {\n",
       "        text-align: left;\n",
       "    }\n",
       "\n",
       "    .dataframe tbody tr th {\n",
       "        vertical-align: top;\n",
       "    }\n",
       "</style>\n",
       "<table border=\"1\" class=\"dataframe\">\n",
       "  <thead>\n",
       "    <tr style=\"text-align: right;\">\n",
       "      <th></th>\n",
       "      <th>weight2008</th>\n",
       "      <th>height2008</th>\n",
       "      <th>salads_week_2008</th>\n",
       "      <th>vegfru_day_2008</th>\n",
       "      <th>healthy_diet_2008</th>\n",
       "      <th>aerobic_week_2008</th>\n",
       "      <th>sports_week_2008</th>\n",
       "      <th>smoking_2008</th>\n",
       "      <th>survey_month_2008</th>\n",
       "      <th>weight2009</th>\n",
       "      <th>...</th>\n",
       "      <th>aerobic_week_2009</th>\n",
       "      <th>sports_week_2009</th>\n",
       "      <th>smoking_2009</th>\n",
       "      <th>survey_month_2009</th>\n",
       "      <th>weight_difference</th>\n",
       "      <th>salads_difference</th>\n",
       "      <th>vegfru_difference</th>\n",
       "      <th>aerobic_difference</th>\n",
       "      <th>sports_difference</th>\n",
       "      <th>height_difference</th>\n",
       "    </tr>\n",
       "    <tr>\n",
       "      <th>user_id</th>\n",
       "      <th></th>\n",
       "      <th></th>\n",
       "      <th></th>\n",
       "      <th></th>\n",
       "      <th></th>\n",
       "      <th></th>\n",
       "      <th></th>\n",
       "      <th></th>\n",
       "      <th></th>\n",
       "      <th></th>\n",
       "      <th></th>\n",
       "      <th></th>\n",
       "      <th></th>\n",
       "      <th></th>\n",
       "      <th></th>\n",
       "      <th></th>\n",
       "      <th></th>\n",
       "      <th></th>\n",
       "      <th></th>\n",
       "      <th></th>\n",
       "      <th></th>\n",
       "    </tr>\n",
       "  </thead>\n",
       "  <tbody>\n",
       "    <tr>\n",
       "      <th>36</th>\n",
       "      <td>150.0</td>\n",
       "      <td>67.0</td>\n",
       "      <td>2.0</td>\n",
       "      <td>1.0</td>\n",
       "      <td>Below average</td>\n",
       "      <td>3.0</td>\n",
       "      <td>3.0</td>\n",
       "      <td>Never</td>\n",
       "      <td>2008.09</td>\n",
       "      <td>155.0</td>\n",
       "      <td>...</td>\n",
       "      <td>0.0</td>\n",
       "      <td>4.0</td>\n",
       "      <td>Never</td>\n",
       "      <td>2009.06</td>\n",
       "      <td>5.0</td>\n",
       "      <td>0.0</td>\n",
       "      <td>0.0</td>\n",
       "      <td>-3.0</td>\n",
       "      <td>1.0</td>\n",
       "      <td>0.0</td>\n",
       "    </tr>\n",
       "    <tr>\n",
       "      <th>37</th>\n",
       "      <td>220.0</td>\n",
       "      <td>77.0</td>\n",
       "      <td>2.0</td>\n",
       "      <td>5.0</td>\n",
       "      <td>Very healthy</td>\n",
       "      <td>5.0</td>\n",
       "      <td>5.0</td>\n",
       "      <td>Never</td>\n",
       "      <td>2008.09</td>\n",
       "      <td>220.0</td>\n",
       "      <td>...</td>\n",
       "      <td>3.0</td>\n",
       "      <td>3.0</td>\n",
       "      <td>Never</td>\n",
       "      <td>2009.06</td>\n",
       "      <td>0.0</td>\n",
       "      <td>-1.0</td>\n",
       "      <td>-2.0</td>\n",
       "      <td>-2.0</td>\n",
       "      <td>-2.0</td>\n",
       "      <td>0.0</td>\n",
       "    </tr>\n",
       "    <tr>\n",
       "      <th>72</th>\n",
       "      <td>135.0</td>\n",
       "      <td>62.0</td>\n",
       "      <td>0.0</td>\n",
       "      <td>1.0</td>\n",
       "      <td>Unhealthy</td>\n",
       "      <td>0.0</td>\n",
       "      <td>0.0</td>\n",
       "      <td>Never</td>\n",
       "      <td>2008.09</td>\n",
       "      <td>140.0</td>\n",
       "      <td>...</td>\n",
       "      <td>0.0</td>\n",
       "      <td>0.0</td>\n",
       "      <td>Never</td>\n",
       "      <td>2009.06</td>\n",
       "      <td>5.0</td>\n",
       "      <td>0.0</td>\n",
       "      <td>0.0</td>\n",
       "      <td>0.0</td>\n",
       "      <td>0.0</td>\n",
       "      <td>0.0</td>\n",
       "    </tr>\n",
       "    <tr>\n",
       "      <th>11</th>\n",
       "      <td>180.0</td>\n",
       "      <td>69.0</td>\n",
       "      <td>0.0</td>\n",
       "      <td>1.0</td>\n",
       "      <td>Unhealthy</td>\n",
       "      <td>5.0</td>\n",
       "      <td>0.0</td>\n",
       "      <td>Never</td>\n",
       "      <td>2008.09</td>\n",
       "      <td>169.0</td>\n",
       "      <td>...</td>\n",
       "      <td>1.0</td>\n",
       "      <td>0.0</td>\n",
       "      <td>Never</td>\n",
       "      <td>2009.06</td>\n",
       "      <td>-11.0</td>\n",
       "      <td>0.0</td>\n",
       "      <td>-1.0</td>\n",
       "      <td>-4.0</td>\n",
       "      <td>0.0</td>\n",
       "      <td>0.0</td>\n",
       "    </tr>\n",
       "    <tr>\n",
       "      <th>21</th>\n",
       "      <td>240.0</td>\n",
       "      <td>75.0</td>\n",
       "      <td>0.0</td>\n",
       "      <td>1.0</td>\n",
       "      <td>Unhealthy</td>\n",
       "      <td>1.0</td>\n",
       "      <td>0.0</td>\n",
       "      <td>Never</td>\n",
       "      <td>2008.09</td>\n",
       "      <td>265.0</td>\n",
       "      <td>...</td>\n",
       "      <td>1.0</td>\n",
       "      <td>0.0</td>\n",
       "      <td>Never</td>\n",
       "      <td>2009.06</td>\n",
       "      <td>25.0</td>\n",
       "      <td>0.0</td>\n",
       "      <td>0.0</td>\n",
       "      <td>0.0</td>\n",
       "      <td>0.0</td>\n",
       "      <td>0.0</td>\n",
       "    </tr>\n",
       "  </tbody>\n",
       "</table>\n",
       "<p>5 rows × 24 columns</p>\n",
       "</div>"
      ],
      "text/plain": [
       "         weight2008  height2008  salads_week_2008  vegfru_day_2008  \\\n",
       "user_id                                                              \n",
       "36            150.0        67.0               2.0              1.0   \n",
       "37            220.0        77.0               2.0              5.0   \n",
       "72            135.0        62.0               0.0              1.0   \n",
       "11            180.0        69.0               0.0              1.0   \n",
       "21            240.0        75.0               0.0              1.0   \n",
       "\n",
       "        healthy_diet_2008  aerobic_week_2008  sports_week_2008 smoking_2008  \\\n",
       "user_id                                                                       \n",
       "36          Below average                3.0               3.0        Never   \n",
       "37           Very healthy                5.0               5.0        Never   \n",
       "72              Unhealthy                0.0               0.0        Never   \n",
       "11              Unhealthy                5.0               0.0        Never   \n",
       "21              Unhealthy                1.0               0.0        Never   \n",
       "\n",
       "         survey_month_2008  weight2009        ...          aerobic_week_2009  \\\n",
       "user_id                                       ...                              \n",
       "36                 2008.09       155.0        ...                        0.0   \n",
       "37                 2008.09       220.0        ...                        3.0   \n",
       "72                 2008.09       140.0        ...                        0.0   \n",
       "11                 2008.09       169.0        ...                        1.0   \n",
       "21                 2008.09       265.0        ...                        1.0   \n",
       "\n",
       "         sports_week_2009  smoking_2009 survey_month_2009  weight_difference  \\\n",
       "user_id                                                                        \n",
       "36                    4.0         Never           2009.06                5.0   \n",
       "37                    3.0         Never           2009.06                0.0   \n",
       "72                    0.0         Never           2009.06                5.0   \n",
       "11                    0.0         Never           2009.06              -11.0   \n",
       "21                    0.0         Never           2009.06               25.0   \n",
       "\n",
       "         salads_difference vegfru_difference  aerobic_difference  \\\n",
       "user_id                                                            \n",
       "36                     0.0               0.0                -3.0   \n",
       "37                    -1.0              -2.0                -2.0   \n",
       "72                     0.0               0.0                 0.0   \n",
       "11                     0.0              -1.0                -4.0   \n",
       "21                     0.0               0.0                 0.0   \n",
       "\n",
       "         sports_difference  height_difference  \n",
       "user_id                                        \n",
       "36                     1.0                0.0  \n",
       "37                    -2.0                0.0  \n",
       "72                     0.0                0.0  \n",
       "11                     0.0                0.0  \n",
       "21                     0.0                0.0  \n",
       "\n",
       "[5 rows x 24 columns]"
      ]
     },
     "execution_count": 56,
     "metadata": {},
     "output_type": "execute_result"
    }
   ],
   "source": [
    "df_year['weight_difference'] = df_year['weight2009'] - df_year['weight2008']\n",
    "df_year['salads_difference'] = df_year['salads_week_2009'] - df_year['salads_week_2008']\n",
    "df_year['vegfru_difference'] = df_year['vegfru_day_2009'] - df_year['vegfru_day_2008']\n",
    "df_year['aerobic_difference'] = df_year['aerobic_week_2009'] - df_year['aerobic_week_2008']\n",
    "df_year['sports_difference'] = df_year['sports_week_2009'] - df_year['sports_week_2008']\n",
    "df_year['height_difference'] = df_year['height2009'] - df_year['height2008']\n",
    "df_year.set_index('user_id').head()"
   ]
  },
  {
   "cell_type": "code",
   "execution_count": 57,
   "metadata": {},
   "outputs": [
    {
     "data": {
      "text/html": [
       "<div>\n",
       "<style>\n",
       "    .dataframe thead tr:only-child th {\n",
       "        text-align: right;\n",
       "    }\n",
       "\n",
       "    .dataframe thead th {\n",
       "        text-align: left;\n",
       "    }\n",
       "\n",
       "    .dataframe tbody tr th {\n",
       "        vertical-align: top;\n",
       "    }\n",
       "</style>\n",
       "<table border=\"1\" class=\"dataframe\">\n",
       "  <thead>\n",
       "    <tr style=\"text-align: right;\">\n",
       "      <th></th>\n",
       "      <th>user_id</th>\n",
       "      <th>year_school</th>\n",
       "      <th>floor</th>\n",
       "    </tr>\n",
       "  </thead>\n",
       "  <tbody>\n",
       "    <tr>\n",
       "      <th>0</th>\n",
       "      <td>1</td>\n",
       "      <td>GRT / Other</td>\n",
       "      <td>f282.2</td>\n",
       "    </tr>\n",
       "    <tr>\n",
       "      <th>1</th>\n",
       "      <td>2</td>\n",
       "      <td>Freshman</td>\n",
       "      <td>f282.4</td>\n",
       "    </tr>\n",
       "    <tr>\n",
       "      <th>2</th>\n",
       "      <td>3</td>\n",
       "      <td>Sophomore</td>\n",
       "      <td>f282.4</td>\n",
       "    </tr>\n",
       "    <tr>\n",
       "      <th>3</th>\n",
       "      <td>4</td>\n",
       "      <td>Sophomore</td>\n",
       "      <td>f282.1</td>\n",
       "    </tr>\n",
       "    <tr>\n",
       "      <th>4</th>\n",
       "      <td>5</td>\n",
       "      <td>Freshman</td>\n",
       "      <td>f282.3</td>\n",
       "    </tr>\n",
       "  </tbody>\n",
       "</table>\n",
       "</div>"
      ],
      "text/plain": [
       "   user_id  year_school   floor\n",
       "0        1  GRT / Other  f282.2\n",
       "1        2     Freshman  f282.4\n",
       "2        3    Sophomore  f282.4\n",
       "3        4    Sophomore  f282.1\n",
       "4        5     Freshman  f282.3"
      ]
     },
     "execution_count": 57,
     "metadata": {},
     "output_type": "execute_result"
    }
   ],
   "source": [
    "df_subjects = pd.read_csv(\"Subjects.csv\")\n",
    "df_subjects.head()"
   ]
  },
  {
   "cell_type": "code",
   "execution_count": 58,
   "metadata": {
    "collapsed": true
   },
   "outputs": [],
   "source": [
    "df_students = df_year.merge(df_subjects, left_on='user_id', right_on='user_id', how='left')"
   ]
  },
  {
   "cell_type": "code",
   "execution_count": 59,
   "metadata": {
    "scrolled": false
   },
   "outputs": [
    {
     "data": {
      "text/html": [
       "<div>\n",
       "<style>\n",
       "    .dataframe thead tr:only-child th {\n",
       "        text-align: right;\n",
       "    }\n",
       "\n",
       "    .dataframe thead th {\n",
       "        text-align: left;\n",
       "    }\n",
       "\n",
       "    .dataframe tbody tr th {\n",
       "        vertical-align: top;\n",
       "    }\n",
       "</style>\n",
       "<table border=\"1\" class=\"dataframe\">\n",
       "  <thead>\n",
       "    <tr style=\"text-align: right;\">\n",
       "      <th></th>\n",
       "      <th>user_id</th>\n",
       "      <th>weight2008</th>\n",
       "      <th>height2008</th>\n",
       "      <th>salads_week_2008</th>\n",
       "      <th>vegfru_day_2008</th>\n",
       "      <th>healthy_diet_2008</th>\n",
       "      <th>aerobic_week_2008</th>\n",
       "      <th>sports_week_2008</th>\n",
       "      <th>smoking_2008</th>\n",
       "      <th>survey_month_2008</th>\n",
       "      <th>...</th>\n",
       "      <th>smoking_2009</th>\n",
       "      <th>survey_month_2009</th>\n",
       "      <th>weight_difference</th>\n",
       "      <th>salads_difference</th>\n",
       "      <th>vegfru_difference</th>\n",
       "      <th>aerobic_difference</th>\n",
       "      <th>sports_difference</th>\n",
       "      <th>height_difference</th>\n",
       "      <th>year_school</th>\n",
       "      <th>floor</th>\n",
       "    </tr>\n",
       "  </thead>\n",
       "  <tbody>\n",
       "    <tr>\n",
       "      <th>0</th>\n",
       "      <td>36</td>\n",
       "      <td>150.0</td>\n",
       "      <td>67.0</td>\n",
       "      <td>2.0</td>\n",
       "      <td>1.0</td>\n",
       "      <td>Below average</td>\n",
       "      <td>3.0</td>\n",
       "      <td>3.0</td>\n",
       "      <td>Never</td>\n",
       "      <td>2008.09</td>\n",
       "      <td>...</td>\n",
       "      <td>Never</td>\n",
       "      <td>2009.06</td>\n",
       "      <td>5.0</td>\n",
       "      <td>0.0</td>\n",
       "      <td>0.0</td>\n",
       "      <td>-3.0</td>\n",
       "      <td>1.0</td>\n",
       "      <td>0.0</td>\n",
       "      <td>Sophomore</td>\n",
       "      <td>f282.3</td>\n",
       "    </tr>\n",
       "  </tbody>\n",
       "</table>\n",
       "<p>1 rows × 27 columns</p>\n",
       "</div>"
      ],
      "text/plain": [
       "   user_id  weight2008  height2008  salads_week_2008  vegfru_day_2008  \\\n",
       "0       36       150.0        67.0               2.0              1.0   \n",
       "\n",
       "  healthy_diet_2008  aerobic_week_2008  sports_week_2008 smoking_2008  \\\n",
       "0     Below average                3.0               3.0        Never   \n",
       "\n",
       "   survey_month_2008   ...    smoking_2009  survey_month_2009  \\\n",
       "0            2008.09   ...           Never            2009.06   \n",
       "\n",
       "   weight_difference  salads_difference vegfru_difference  aerobic_difference  \\\n",
       "0                5.0                0.0               0.0                -3.0   \n",
       "\n",
       "   sports_difference height_difference  year_school   floor  \n",
       "0                1.0               0.0    Sophomore  f282.3  \n",
       "\n",
       "[1 rows x 27 columns]"
      ]
     },
     "execution_count": 59,
     "metadata": {},
     "output_type": "execute_result"
    }
   ],
   "source": [
    "df_students.head(1)"
   ]
  },
  {
   "cell_type": "code",
   "execution_count": 60,
   "metadata": {},
   "outputs": [
    {
     "data": {
      "text/plain": [
       "(51, 27)"
      ]
     },
     "execution_count": 60,
     "metadata": {},
     "output_type": "execute_result"
    }
   ],
   "source": [
    "df_students.shape"
   ]
  },
  {
   "cell_type": "code",
   "execution_count": 64,
   "metadata": {},
   "outputs": [
    {
     "data": {
      "text/plain": [
       "Sophomore      17\n",
       "Freshman       15\n",
       "Senior         10\n",
       "Junior          4\n",
       "GRT / Other     4\n",
       "Name: year_school, dtype: int64"
      ]
     },
     "execution_count": 64,
     "metadata": {},
     "output_type": "execute_result"
    }
   ],
   "source": [
    "df_students['year_school'].value_counts()"
   ]
  },
  {
   "cell_type": "code",
   "execution_count": 61,
   "metadata": {},
   "outputs": [
    {
     "data": {
      "text/plain": [
       "year_school\n",
       "Freshman        3.866667\n",
       "GRT / Other     6.750000\n",
       "Junior          5.000000\n",
       "Senior          0.000000\n",
       "Sophomore      10.294118\n",
       "Name: weight_difference, dtype: float64"
      ]
     },
     "execution_count": 61,
     "metadata": {},
     "output_type": "execute_result"
    }
   ],
   "source": [
    "df_students.groupby('year_school')['weight_difference'].mean()"
   ]
  },
  {
   "cell_type": "code",
   "execution_count": 62,
   "metadata": {},
   "outputs": [
    {
     "data": {
      "text/plain": [
       "year_school\n",
       "Freshman      -0.666667\n",
       "GRT / Other    4.000000\n",
       "Junior         0.000000\n",
       "Senior        -0.200000\n",
       "Sophomore     -0.235294\n",
       "Name: height_difference, dtype: float64"
      ]
     },
     "execution_count": 62,
     "metadata": {},
     "output_type": "execute_result"
    }
   ],
   "source": [
    "#controling for height differneces\n",
    "df_students.groupby('year_school')['height_difference'].mean()"
   ]
  },
  {
   "cell_type": "code",
   "execution_count": 63,
   "metadata": {},
   "outputs": [
    {
     "data": {
      "text/plain": [
       "<matplotlib.axes._subplots.AxesSubplot at 0x1161ee6d8>"
      ]
     },
     "execution_count": 63,
     "metadata": {},
     "output_type": "execute_result"
    },
    {
     "data": {
      "image/png": "[encoded data removed]",
      "text/plain": [
       "<matplotlib.figure.Figure at 0x116175fd0>"
      ]
     },
     "metadata": {},
     "output_type": "display_data"
    }
   ],
   "source": [
    "df_students.groupby('year_school')['weight_difference'].mean().plot(kind='bar')"
   ]
  },
  {
   "cell_type": "code",
   "execution_count": 103,
   "metadata": {},
   "outputs": [
    {
     "data": {
      "image/png": "[encoded data removed]",
      "text/plain": [
       "<matplotlib.figure.Figure at 0x11780cb70>"
      ]
     },
     "metadata": {},
     "output_type": "display_data"
    }
   ],
   "source": [
    "sns_plot = sns.pointplot(x=\"year_school\", y=\"weight_difference\", data=df_students, order=['Freshman', 'Sophomore', 'Junior', 'Senior'], ci=\"sd\")\n",
    "fig = sns_plot.get_figure()\n",
    "fig.savefig(\"weight_difference.pdf\")"
   ]
  },
  {
   "cell_type": "code",
   "execution_count": 52,
   "metadata": {},
   "outputs": [
    {
     "data": {
      "text/plain": [
       "year_school\n",
       "Freshman       0.200000\n",
       "GRT / Other   -0.500000\n",
       "Junior        -0.250000\n",
       "Senior        -0.300000\n",
       "Sophomore      0.117647\n",
       "Name: salads_difference, dtype: float64"
      ]
     },
     "execution_count": 52,
     "metadata": {},
     "output_type": "execute_result"
    }
   ],
   "source": [
    "df_students.groupby('year_school')['salads_difference'].mean()"
   ]
  },
  {
   "cell_type": "code",
   "execution_count": 102,
   "metadata": {},
   "outputs": [
    {
     "data": {
      "image/png": "[encoded data removed]",
      "text/plain": [
       "<matplotlib.figure.Figure at 0x1176925c0>"
      ]
     },
     "metadata": {},
     "output_type": "display_data"
    }
   ],
   "source": [
    "sns_plot = sns.pointplot(x=\"year_school\", y=\"salads_difference\", data=df_students, order=['Freshman', 'Sophomore', 'Junior', 'Senior'], ci=\"sd\")\n",
    "fig = sns_plot.get_figure()\n",
    "fig.savefig(\"salads_difference.pdf\")"
   ]
  },
  {
   "cell_type": "code",
   "execution_count": 53,
   "metadata": {},
   "outputs": [
    {
     "data": {
      "text/plain": [
       "year_school\n",
       "Freshman      -0.600000\n",
       "GRT / Other   -0.250000\n",
       "Junior        -0.750000\n",
       "Senior        -0.300000\n",
       "Sophomore     -0.117647\n",
       "Name: vegfru_difference, dtype: float64"
      ]
     },
     "execution_count": 53,
     "metadata": {},
     "output_type": "execute_result"
    }
   ],
   "source": [
    "df_students.groupby('year_school')['vegfru_difference'].mean()"
   ]
  },
  {
   "cell_type": "code",
   "execution_count": 65,
   "metadata": {},
   "outputs": [
    {
     "data": {
      "text/plain": [
       "<matplotlib.axes._subplots.AxesSubplot at 0x116203710>"
      ]
     },
     "execution_count": 65,
     "metadata": {},
     "output_type": "execute_result"
    },
    {
     "data": {
      "image/png": "[encoded data removed]",
      "text/plain": [
       "<matplotlib.figure.Figure at 0x116175080>"
      ]
     },
     "metadata": {},
     "output_type": "display_data"
    }
   ],
   "source": [
    "df_students.groupby('year_school')['vegfru_difference'].mean().plot(kind='bar')"
   ]
  },
  {
   "cell_type": "code",
   "execution_count": 101,
   "metadata": {},
   "outputs": [
    {
     "data": {
      "image/png": "[encoded data removed]",
      "text/plain": [
       "<matplotlib.figure.Figure at 0x1175b8e80>"
      ]
     },
     "metadata": {},
     "output_type": "display_data"
    }
   ],
   "source": [
    "sns_plot = sns.pointplot(x=\"year_school\", y=\"vegfru_difference\", data=df_students, order=['Freshman', 'Sophomore', 'Junior', 'Senior'], ci=\"sd\")\n",
    "fig = sns_plot.get_figure()\n",
    "fig.savefig(\"vegfru_difference.pdf\")"
   ]
  },
  {
   "cell_type": "code",
   "execution_count": 66,
   "metadata": {},
   "outputs": [
    {
     "data": {
      "text/plain": [
       "year_school\n",
       "Freshman      -0.214286\n",
       "GRT / Other    0.000000\n",
       "Junior         0.750000\n",
       "Senior        -1.300000\n",
       "Sophomore     -0.529412\n",
       "Name: aerobic_difference, dtype: float64"
      ]
     },
     "execution_count": 66,
     "metadata": {},
     "output_type": "execute_result"
    }
   ],
   "source": [
    "df_students.groupby('year_school')['aerobic_difference'].mean()"
   ]
  },
  {
   "cell_type": "code",
   "execution_count": 76,
   "metadata": {},
   "outputs": [
    {
     "data": {
      "text/plain": [
       "<matplotlib.axes._subplots.AxesSubplot at 0x116b1ef98>"
      ]
     },
     "execution_count": 76,
     "metadata": {},
     "output_type": "execute_result"
    },
    {
     "data": {
      "image/png": "[encoded data removed]",
      "text/plain": [
       "<matplotlib.figure.Figure at 0x116baf860>"
      ]
     },
     "metadata": {},
     "output_type": "display_data"
    }
   ],
   "source": [
    "df_students.groupby('year_school')['aerobic_difference'].mean().plot(kind='bar')"
   ]
  },
  {
   "cell_type": "code",
   "execution_count": 100,
   "metadata": {},
   "outputs": [
    {
     "data": {
      "image/png": "[encoded data removed]",
      "text/plain": [
       "<matplotlib.figure.Figure at 0x1174b0240>"
      ]
     },
     "metadata": {},
     "output_type": "display_data"
    }
   ],
   "source": [
    "sns_plot = sns.pointplot(x=\"year_school\", y=\"aerobic_difference\", data=df_students, order=['Freshman', 'Sophomore', 'Junior', 'Senior'], ci=\"sd\")\n",
    "fig = sns_plot.get_figure()\n",
    "fig.savefig(\"aerobic_difference.pdf\")"
   ]
  },
  {
   "cell_type": "code",
   "execution_count": 55,
   "metadata": {},
   "outputs": [
    {
     "data": {
      "text/plain": [
       "year_school\n",
       "Freshman      -0.642857\n",
       "GRT / Other   -0.250000\n",
       "Junior         0.000000\n",
       "Senior        -0.300000\n",
       "Sophomore     -0.352941\n",
       "Name: sports_difference, dtype: float64"
      ]
     },
     "execution_count": 55,
     "metadata": {},
     "output_type": "execute_result"
    }
   ],
   "source": [
    "df_students.groupby('year_school')['sports_difference'].mean()"
   ]
  },
  {
   "cell_type": "code",
   "execution_count": 75,
   "metadata": {},
   "outputs": [
    {
     "data": {
      "text/plain": [
       "<matplotlib.axes._subplots.AxesSubplot at 0x1165a8b70>"
      ]
     },
     "execution_count": 75,
     "metadata": {},
     "output_type": "execute_result"
    },
    {
     "data": {
      "image/png": "[encoded data removed]",
      "text/plain": [
       "<matplotlib.figure.Figure at 0x116b0e710>"
      ]
     },
     "metadata": {},
     "output_type": "display_data"
    }
   ],
   "source": [
    "df_students.groupby('year_school')['sports_difference'].mean().plot(kind='bar')"
   ]
  },
  {
   "cell_type": "code",
   "execution_count": 99,
   "metadata": {},
   "outputs": [
    {
     "data": {
      "image/png": "[encoded data removed]",
      "text/plain": [
       "<matplotlib.figure.Figure at 0x11156e9b0>"
      ]
     },
     "metadata": {},
     "output_type": "display_data"
    }
   ],
   "source": [
    "sns_plot = sns.pointplot(x=\"year_school\", y=\"sports_difference\", data=df_students, order=['Freshman', 'Sophomore', 'Junior', 'Senior'], ci=\"sd\")\n",
    "fig = sns_plot.get_figure()\n",
    "fig.savefig(\"sports_difference.pdf\")"
   ]
  },
  {
   "cell_type": "code",
   "execution_count": 44,
   "metadata": {},
   "outputs": [
    {
     "data": {
      "text/plain": [
       "year_school\n",
       "Freshman       -5.0\n",
       "GRT / Other    -3.0\n",
       "Junior          0.0\n",
       "Senior        -11.0\n",
       "Sophomore     -15.0\n",
       "Name: weight_difference, dtype: float64"
      ]
     },
     "execution_count": 44,
     "metadata": {},
     "output_type": "execute_result"
    }
   ],
   "source": [
    "df_students.groupby('year_school')['weight_difference'].min()"
   ]
  },
  {
   "cell_type": "code",
   "execution_count": null,
   "metadata": {
    "collapsed": true
   },
   "outputs": [],
   "source": []
  }
 ],
 "metadata": {
  "kernelspec": {
   "display_name": "Python 3",
   "language": "python",
   "name": "python3"
  },
  "language_info": {
   "codemirror_mode": {
    "name": "ipython",
    "version": 3
   },
   "file_extension": ".py",
   "mimetype": "text/x-python",
   "name": "python",
   "nbconvert_exporter": "python",
   "pygments_lexer": "ipython3",
   "version": "3.6.1"
  }
 },
 "nbformat": 4,
 "nbformat_minor": 2
}
