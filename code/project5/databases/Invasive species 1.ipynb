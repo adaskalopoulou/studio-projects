{
 "cells": [
  {
   "cell_type": "code",
   "execution_count": 1,
   "metadata": {
    "collapsed": true
   },
   "outputs": [],
   "source": [
    "import pandas as pd"
   ]
  },
  {
   "cell_type": "code",
   "execution_count": 2,
   "metadata": {},
   "outputs": [
    {
     "data": {
      "text/html": [
       "<div>\n",
       "<style>\n",
       "    .dataframe thead tr:only-child th {\n",
       "        text-align: right;\n",
       "    }\n",
       "\n",
       "    .dataframe thead th {\n",
       "        text-align: left;\n",
       "    }\n",
       "\n",
       "    .dataframe tbody tr th {\n",
       "        vertical-align: top;\n",
       "    }\n",
       "</style>\n",
       "<table border=\"1\" class=\"dataframe\">\n",
       "  <thead>\n",
       "    <tr style=\"text-align: right;\">\n",
       "      <th></th>\n",
       "      <th>name</th>\n",
       "      <th>country</th>\n",
       "      <th>kingdom</th>\n",
       "      <th>authority</th>\n",
       "      <th>Unnamed: 4</th>\n",
       "    </tr>\n",
       "  </thead>\n",
       "  <tbody>\n",
       "    <tr>\n",
       "      <th>0</th>\n",
       "      <td>Acabaria erythraea</td>\n",
       "      <td>Israel</td>\n",
       "      <td>Animalia</td>\n",
       "      <td>Ehrenberg, 1834</td>\n",
       "      <td>NaN</td>\n",
       "    </tr>\n",
       "    <tr>\n",
       "      <th>1</th>\n",
       "      <td>Acar plicata</td>\n",
       "      <td>Israel</td>\n",
       "      <td>Animalia</td>\n",
       "      <td>Dillwyn, 1817</td>\n",
       "      <td>NaN</td>\n",
       "    </tr>\n",
       "    <tr>\n",
       "      <th>2</th>\n",
       "      <td>Acartia tonsa</td>\n",
       "      <td>Spain</td>\n",
       "      <td>Animalia</td>\n",
       "      <td>Dana, 1849</td>\n",
       "      <td>NaN</td>\n",
       "    </tr>\n",
       "    <tr>\n",
       "      <th>3</th>\n",
       "      <td>Acrothamnion preissii</td>\n",
       "      <td>Spain</td>\n",
       "      <td>Plantae</td>\n",
       "      <td>E.M.Wollaston (Sonder)</td>\n",
       "      <td>NaN</td>\n",
       "    </tr>\n",
       "    <tr>\n",
       "      <th>4</th>\n",
       "      <td>Alepes djedaba</td>\n",
       "      <td>Israel</td>\n",
       "      <td>Animalia</td>\n",
       "      <td>(Forsskål, 1775)</td>\n",
       "      <td>NaN</td>\n",
       "    </tr>\n",
       "  </tbody>\n",
       "</table>\n",
       "</div>"
      ],
      "text/plain": [
       "                    name country   kingdom               authority Unnamed: 4\n",
       "0     Acabaria erythraea  Israel  Animalia         Ehrenberg, 1834        NaN\n",
       "1           Acar plicata  Israel  Animalia           Dillwyn, 1817        NaN\n",
       "2          Acartia tonsa   Spain  Animalia              Dana, 1849        NaN\n",
       "3  Acrothamnion preissii   Spain   Plantae  E.M.Wollaston (Sonder)        NaN\n",
       "4         Alepes djedaba  Israel  Animalia        (Forsskål, 1775)        NaN"
      ]
     },
     "execution_count": 2,
     "metadata": {},
     "output_type": "execute_result"
    }
   ],
   "source": [
    "df = pd.read_excel(\"invasive.xlsx\")\n",
    "df.head()"
   ]
  },
  {
   "cell_type": "code",
   "execution_count": 10,
   "metadata": {},
   "outputs": [
    {
     "data": {
      "text/plain": [
       "country\n",
       "Albania      1\n",
       "Slovenia     1\n",
       "Greece       3\n",
       "Spain        7\n",
       "Malta       11\n",
       "Cyprus      12\n",
       "France      13\n",
       "Tunisia     22\n",
       "Croatia     27\n",
       "Turkey      30\n",
       "Israel      64\n",
       "Name: name, dtype: int64"
      ]
     },
     "execution_count": 10,
     "metadata": {},
     "output_type": "execute_result"
    }
   ],
   "source": [
    "df.groupby('country')['name'].count().sort_values()"
   ]
  },
  {
   "cell_type": "code",
   "execution_count": 4,
   "metadata": {},
   "outputs": [
    {
     "data": {
      "text/plain": [
       "'<p>Caulerpa racemosa</p>'"
      ]
     },
     "execution_count": 4,
     "metadata": {},
     "output_type": "execute_result"
    }
   ],
   "source": [
    "df1 = df.groupby('country')['name'].apply(lambda x: \"<p>%s</p>\" % '</p><p> '.join(x)).reset_index(name='name')\n",
    "df1.iloc[0]['name']"
   ]
  },
  {
   "cell_type": "code",
   "execution_count": 5,
   "metadata": {},
   "outputs": [
    {
     "data": {
      "text/html": [
       "<div>\n",
       "<style>\n",
       "    .dataframe thead tr:only-child th {\n",
       "        text-align: right;\n",
       "    }\n",
       "\n",
       "    .dataframe thead th {\n",
       "        text-align: left;\n",
       "    }\n",
       "\n",
       "    .dataframe tbody tr th {\n",
       "        vertical-align: top;\n",
       "    }\n",
       "</style>\n",
       "<table border=\"1\" class=\"dataframe\">\n",
       "  <thead>\n",
       "    <tr style=\"text-align: right;\">\n",
       "      <th></th>\n",
       "      <th>country</th>\n",
       "      <th>name</th>\n",
       "    </tr>\n",
       "  </thead>\n",
       "  <tbody>\n",
       "    <tr>\n",
       "      <th>0</th>\n",
       "      <td>Albania</td>\n",
       "      <td>&lt;p&gt;Caulerpa racemosa&lt;/p&gt;</td>\n",
       "    </tr>\n",
       "    <tr>\n",
       "      <th>1</th>\n",
       "      <td>Croatia</td>\n",
       "      <td>&lt;p&gt;Anadara kagoshimensis&lt;/p&gt;&lt;p&gt; Anadara transversa&lt;/p&gt;&lt;p&gt; Aplysia dactylomela&lt;/p&gt;&lt;p&gt; Arcuatula senhousia&lt;/p&gt;&lt;p&gt; Asparagopsis armata&lt;/p&gt;&lt;p&gt; Brachidontes pharaonis&lt;/p&gt;&lt;p&gt; Bursatella leachii &lt;/p&gt;&lt;p&gt; Callinectes sapidus&lt;/p&gt;&lt;p&gt; Caulerpa taxifolia&lt;/p&gt;&lt;p&gt; Clavenlina oblonga&lt;/p&gt;&lt;p&gt; Cocconeis caulerpacola&lt;/p&gt;&lt;p&gt; Cochlodinium polykrikoides&lt;/p&gt;&lt;p&gt; Crassostrea gigas&lt;/p&gt;&lt;p&gt; Ficopomatus enigmaticus&lt;/p&gt;&lt;p&gt; Fistularia commersonii&lt;/p&gt;&lt;p&gt; Lagocephalus sceleratus&lt;/p&gt;&lt;p&gt; Neopseudocapitella brasiliensis&lt;/p&gt;&lt;p&gt; Ostreopsis ovata&lt;/p&gt;&lt;p&gt; Paraleucilla magna&lt;/p&gt;&lt;p&gt; Parvocalanus crassirostris&lt;/p&gt;&lt;p&gt; Percnon gibbesi&lt;/p&gt;&lt;p&gt; Pinctada imbricata &lt;/p&gt;&lt;p&gt; Siganus luridus&lt;/p&gt;&lt;p&gt; Siganus rivulatus&lt;/p&gt;&lt;p&gt; Sphyraena chrysotaenia&lt;/p&gt;&lt;p&gt; Stephanolepis diaspros&lt;/p&gt;&lt;p&gt; Xenostrobus securis&lt;/p&gt;</td>\n",
       "    </tr>\n",
       "    <tr>\n",
       "      <th>2</th>\n",
       "      <td>Cyprus</td>\n",
       "      <td>&lt;p&gt;Brachidontes pharaonis&lt;/p&gt;&lt;p&gt; Caulerpa racemosa &lt;/p&gt;&lt;p&gt; Cerithium scabridum&lt;/p&gt;&lt;p&gt; Charybdis hellerii&lt;/p&gt;&lt;p&gt; Conomurex persicus &lt;/p&gt;&lt;p&gt; Fistularia commersonii&lt;/p&gt;&lt;p&gt; Infundibulops erythraeus &lt;/p&gt;&lt;p&gt; Lagocephalus sceleratus&lt;/p&gt;&lt;p&gt; Pinctada imbricata &lt;/p&gt;&lt;p&gt; Pseudonereis anomala&lt;/p&gt;&lt;p&gt; Siganus luridus&lt;/p&gt;&lt;p&gt; Siganus rivulatus&lt;/p&gt;</td>\n",
       "    </tr>\n",
       "    <tr>\n",
       "      <th>3</th>\n",
       "      <td>France</td>\n",
       "      <td>&lt;p&gt;Caulerpa racemosa var. cylindracea&lt;/p&gt;&lt;p&gt; Corbicula sp.&lt;/p&gt;&lt;p&gt; Crassostrea gigas&lt;/p&gt;&lt;p&gt; Crepidula fornicata&lt;/p&gt;&lt;p&gt; Eriocheir sinensis&lt;/p&gt;&lt;p&gt; Hemigrapsus sanguineus&lt;/p&gt;&lt;p&gt; Mnemiopsis leidyi&lt;/p&gt;&lt;p&gt; Mya arenaria&lt;/p&gt;&lt;p&gt; Mytilicola intestinalis&lt;/p&gt;&lt;p&gt; Mytilicola orientalis&lt;/p&gt;&lt;p&gt; Rapana venosa&lt;/p&gt;&lt;p&gt; Sargassum muticum&lt;/p&gt;&lt;p&gt; Undaria pinnatifida&lt;/p&gt;</td>\n",
       "    </tr>\n",
       "    <tr>\n",
       "      <th>4</th>\n",
       "      <td>Greece</td>\n",
       "      <td>&lt;p&gt;Amphistegina lobifera&lt;/p&gt;&lt;p&gt; Callinectes sapidus&lt;/p&gt;&lt;p&gt; Caulerpa racemosa var. lamourouxii&lt;/p&gt;</td>\n",
       "    </tr>\n",
       "    <tr>\n",
       "      <th>5</th>\n",
       "      <td>Israel</td>\n",
       "      <td>&lt;p&gt;Acabaria erythraea&lt;/p&gt;&lt;p&gt; Acar plicata&lt;/p&gt;&lt;p&gt; Alepes djedaba&lt;/p&gt;&lt;p&gt; Alpheus edwardsii &lt;/p&gt;&lt;p&gt; Alpheus inopinatus&lt;/p&gt;&lt;p&gt; Alpheus rapacida&lt;/p&gt;&lt;p&gt; Aquilonastra burtoni &lt;/p&gt;&lt;p&gt; Atherinomorus lacunosus &lt;/p&gt;&lt;p&gt; Brachidontes pharaonis&lt;/p&gt;&lt;p&gt; Calanopia elliptica&lt;/p&gt;&lt;p&gt; Callionymus filamentosus&lt;/p&gt;&lt;p&gt; Caloria indica&lt;/p&gt;&lt;p&gt; Caulerpa racemosa&lt;/p&gt;&lt;p&gt; Caulerpa scalpelliformis&lt;/p&gt;&lt;p&gt; Cellana radiata &lt;/p&gt;&lt;p&gt; Cerithium columna&lt;/p&gt;&lt;p&gt; Cerithium scabridum&lt;/p&gt;&lt;p&gt; Chama pacifica&lt;/p&gt;&lt;p&gt; Charybdis longicollis&lt;/p&gt;&lt;p&gt; Chrysallida fischeri&lt;/p&gt;&lt;p&gt; Diala semistriata&lt;/p&gt;&lt;p&gt; Dussumieria elopsoides&lt;/p&gt;&lt;p&gt; Erugosquilla massavensis&lt;/p&gt;&lt;p&gt; Etrumeus teres&lt;/p&gt;&lt;p&gt; Ficopomatus enigmaticus&lt;/p&gt;&lt;p&gt; Fistularia commersonii&lt;/p&gt;&lt;p&gt; Glyphidohaptor plectocirra&lt;/p&gt;&lt;p&gt; Herklotsichthys punctatus&lt;/p&gt;&lt;p&gt; Heterosaccus dollfusi&lt;/p&gt;&lt;p&gt; Hydroides brachyacanthus&lt;/p&gt;&lt;p&gt; Hydroides elegans&lt;/p&gt;&lt;p&gt; Hydroides heterocerus&lt;/p&gt;&lt;p&gt; Hydroides homoceros&lt;/p&gt;&lt;p&gt; Hydroides minax&lt;/p&gt;&lt;p&gt; Hydroides operculatus&lt;/p&gt;&lt;p&gt; Hysterolecitha sigani&lt;/p&gt;&lt;p&gt; Lagocephalus sceleratus&lt;/p&gt;&lt;p&gt; Lagocephalus suezensis&lt;/p&gt;&lt;p&gt; Lepidonotus tenuisetosus&lt;/p&gt;&lt;p&gt; Marsupenaeus japonicus&lt;/p&gt;&lt;p&gt; Metapenaeopsis aegyptia&lt;/p&gt;&lt;p&gt; Metapenaeus monoceros&lt;/p&gt;&lt;p&gt; Metapenaeus stebbingi&lt;/p&gt;&lt;p&gt; Oculina patagonica&lt;/p&gt;&lt;p&gt; Ophiactis savignyi&lt;/p&gt;&lt;p&gt; Papilloculiceps longiceps&lt;/p&gt;&lt;p&gt; Parexocoetus mento&lt;/p&gt;&lt;p&gt; Penaeus semisulcatus&lt;/p&gt;&lt;p&gt; Perkinsyllis augeneri&lt;/p&gt;&lt;p&gt; Petroscirtes ancylodon&lt;/p&gt;&lt;p&gt; Philinopsis speciosa&lt;/p&gt;&lt;p&gt; Portunus pelagicus&lt;/p&gt;&lt;p&gt; Pterois miles&lt;/p&gt;&lt;p&gt; Rhinoclavis kochi&lt;/p&gt;&lt;p&gt; Rhopilema nomadica&lt;/p&gt;&lt;p&gt; Saurida undosquamis&lt;/p&gt;&lt;p&gt; Scomberomorus commerson&lt;/p&gt;&lt;p&gt; Siganus luridus&lt;/p&gt;&lt;p&gt; Siganus rivulatus&lt;/p&gt;&lt;p&gt; Sphyraena chrysotaenia&lt;/p&gt;&lt;p&gt; Spondylus spinosus&lt;/p&gt;&lt;p&gt; Synanceia verrucosa&lt;/p&gt;&lt;p&gt; Terebella ehrenbergi&lt;/p&gt;&lt;p&gt; Upeneus pori&lt;/p&gt;</td>\n",
       "    </tr>\n",
       "    <tr>\n",
       "      <th>6</th>\n",
       "      <td>Malta</td>\n",
       "      <td>&lt;p&gt;Brachidontes pharaonis&lt;/p&gt;&lt;p&gt; Bursatella leachii&lt;/p&gt;&lt;p&gt; Caulerpa racemosa &lt;/p&gt;&lt;p&gt; Caulerpa racemosa var. cylindracea&lt;/p&gt;&lt;p&gt; Fistularia commersonii&lt;/p&gt;&lt;p&gt; Lophocladia lallemandii&lt;/p&gt;&lt;p&gt; Percnon gibbesi&lt;/p&gt;&lt;p&gt; Rhopilema nomadica&lt;/p&gt;&lt;p&gt; Siganus luridus&lt;/p&gt;&lt;p&gt; Sphoeroides pachygaster&lt;/p&gt;&lt;p&gt; Womersleyella setacea&lt;/p&gt;</td>\n",
       "    </tr>\n",
       "    <tr>\n",
       "      <th>7</th>\n",
       "      <td>Slovenia</td>\n",
       "      <td>&lt;p&gt;Crassostrea gigas&lt;/p&gt;</td>\n",
       "    </tr>\n",
       "    <tr>\n",
       "      <th>8</th>\n",
       "      <td>Spain</td>\n",
       "      <td>&lt;p&gt;Acartia tonsa&lt;/p&gt;&lt;p&gt; Acrothamnion preissii&lt;/p&gt;&lt;p&gt; Asparagopsis taxiformis&lt;/p&gt;&lt;p&gt; Caulerpa taxifolia&lt;/p&gt;&lt;p&gt; Gracilaria vermiculophylla&lt;/p&gt;&lt;p&gt; Lophocladia lallemandii&lt;/p&gt;&lt;p&gt; Sargassum muticum&lt;/p&gt;</td>\n",
       "    </tr>\n",
       "    <tr>\n",
       "      <th>9</th>\n",
       "      <td>Tunisia</td>\n",
       "      <td>&lt;p&gt;Arcuatula senhousia &lt;/p&gt;&lt;p&gt; Bursatella leachii&lt;/p&gt;&lt;p&gt; Caulerpa chemnitzia &lt;/p&gt;&lt;p&gt; Caulerpa cylindracea &lt;/p&gt;&lt;p&gt; Caulerpa racemosa&lt;/p&gt;&lt;p&gt; Caulerpa taxifolia&lt;/p&gt;&lt;p&gt; Codium fragile subsp. fragile &lt;/p&gt;&lt;p&gt; Erosaria turdus&lt;/p&gt;&lt;p&gt; Eucrate crenata&lt;/p&gt;&lt;p&gt; Ficopomatus enigmaticus&lt;/p&gt;&lt;p&gt; Fulvia fragilis&lt;/p&gt;&lt;p&gt; Lagocephalus sceleratus&lt;/p&gt;&lt;p&gt; Libinia dubia&lt;/p&gt;&lt;p&gt; Metapenaeus monoceros&lt;/p&gt;&lt;p&gt; Oculina patagonica&lt;/p&gt;&lt;p&gt; Percnon gibbesi&lt;/p&gt;&lt;p&gt; Pinctada imbricata &lt;/p&gt;&lt;p&gt; Rimapenaeus similis&lt;/p&gt;&lt;p&gt; Seriola fasciata&lt;/p&gt;&lt;p&gt; Siganus luridus&lt;/p&gt;&lt;p&gt; Siphonaria pectinata&lt;/p&gt;&lt;p&gt; Sphyraena chrysotaenia&lt;/p&gt;</td>\n",
       "    </tr>\n",
       "    <tr>\n",
       "      <th>10</th>\n",
       "      <td>Turkey</td>\n",
       "      <td>&lt;p&gt;Branchiomma bairdi&lt;/p&gt;&lt;p&gt; Branchiomma luctuosum&lt;/p&gt;&lt;p&gt; Bursatella leachii &lt;/p&gt;&lt;p&gt; Cassiopea andromeda&lt;/p&gt;&lt;p&gt; Ceratonereis mirabilis&lt;/p&gt;&lt;p&gt; Charybdis longicollis&lt;/p&gt;&lt;p&gt; Desdemona ornata&lt;/p&gt;&lt;p&gt; Dorvillea similis&lt;/p&gt;&lt;p&gt; Erugosquilla massavensis &lt;/p&gt;&lt;p&gt; Eunice antennata &lt;/p&gt;&lt;p&gt; Ficopomatus enigmaticus&lt;/p&gt;&lt;p&gt; Hydroides dianthus&lt;/p&gt;&lt;p&gt; Hydroides elegans&lt;/p&gt;&lt;p&gt; Hydroides operculatus&lt;/p&gt;&lt;p&gt; Laonome triangularis&lt;/p&gt;&lt;p&gt; Leonnates indicus&lt;/p&gt;&lt;p&gt; Leonnates persicus&lt;/p&gt;&lt;p&gt; Marsupenaeus japonicus&lt;/p&gt;&lt;p&gt; Microspongium globosum&lt;/p&gt;&lt;p&gt; Notomastus mossambicus&lt;/p&gt;&lt;p&gt; Phyllodoce longifrons&lt;/p&gt;&lt;p&gt; Polydora cornuta&lt;/p&gt;&lt;p&gt; Prionospio aucklandica &lt;/p&gt;&lt;p&gt; Prionospio saccifera&lt;/p&gt;&lt;p&gt; Pseudonereis anomala&lt;/p&gt;&lt;p&gt; Pseudopolydora paucibranchiata&lt;/p&gt;&lt;p&gt; Rhopilema nomadica&lt;/p&gt;&lt;p&gt; Spirobranchus kraussii&lt;/p&gt;&lt;p&gt; Spirorbis marioni&lt;/p&gt;&lt;p&gt; Streblospio gynobranchiata&lt;/p&gt;</td>\n",
       "    </tr>\n",
       "  </tbody>\n",
       "</table>\n",
       "</div>"
      ],
      "text/plain": [
       "     country  \\\n",
       "0    Albania   \n",
       "1    Croatia   \n",
       "2     Cyprus   \n",
       "3     France   \n",
       "4     Greece   \n",
       "5     Israel   \n",
       "6      Malta   \n",
       "7   Slovenia   \n",
       "8      Spain   \n",
       "9    Tunisia   \n",
       "10    Turkey   \n",
       "\n",
       "                                                                                                                                                                                                                                                                                                                                                                                                                                                                                                                                                                                                                                                                                                                                                                                                                                                                                                                                                                                                                                                                                                                                                                                                                                                                                                                                                                                                                                                                                                                                                                                                                                                                                                                                                                                                                                name  \n",
       "0                                                                                                                                                                                                                                                                                                                                                                                                                                                                                                                                                                                                                                                                                                                                                                                                                                                                                                                                                                                                                                                                                                                                                                                                                                                                                                                                                                                                                                                                                                                                                                                                                                                                                                                                                                                                           <p>Caulerpa racemosa</p>  \n",
       "1                                                                                                                                                                                                                                                                                                                                                                                                                                                                                                                                                                                                                                                                                                                                                                                                                                                                                                                                                                                                                                           <p>Anadara kagoshimensis</p><p> Anadara transversa</p><p> Aplysia dactylomela</p><p> Arcuatula senhousia</p><p> Asparagopsis armata</p><p> Brachidontes pharaonis</p><p> Bursatella leachii </p><p> Callinectes sapidus</p><p> Caulerpa taxifolia</p><p> Clavenlina oblonga</p><p> Cocconeis caulerpacola</p><p> Cochlodinium polykrikoides</p><p> Crassostrea gigas</p><p> Ficopomatus enigmaticus</p><p> Fistularia commersonii</p><p> Lagocephalus sceleratus</p><p> Neopseudocapitella brasiliensis</p><p> Ostreopsis ovata</p><p> Paraleucilla magna</p><p> Parvocalanus crassirostris</p><p> Percnon gibbesi</p><p> Pinctada imbricata </p><p> Siganus luridus</p><p> Siganus rivulatus</p><p> Sphyraena chrysotaenia</p><p> Stephanolepis diaspros</p><p> Xenostrobus securis</p>  \n",
       "2                                                                                                                                                                                                                                                                                                                                                                                                                                                                                                                                                                                                                                                                                                                                                                                                                                                                                                                                                                                                                                                                                                                                                                                                                                                                                                                                                                                                                                                                                       <p>Brachidontes pharaonis</p><p> Caulerpa racemosa </p><p> Cerithium scabridum</p><p> Charybdis hellerii</p><p> Conomurex persicus </p><p> Fistularia commersonii</p><p> Infundibulops erythraeus </p><p> Lagocephalus sceleratus</p><p> Pinctada imbricata </p><p> Pseudonereis anomala</p><p> Siganus luridus</p><p> Siganus rivulatus</p>  \n",
       "3                                                                                                                                                                                                                                                                                                                                                                                                                                                                                                                                                                                                                                                                                                                                                                                                                                                                                                                                                                                                                                                                                                                                                                                                                                                                                                                                                                                                                                                                       <p>Caulerpa racemosa var. cylindracea</p><p> Corbicula sp.</p><p> Crassostrea gigas</p><p> Crepidula fornicata</p><p> Eriocheir sinensis</p><p> Hemigrapsus sanguineus</p><p> Mnemiopsis leidyi</p><p> Mya arenaria</p><p> Mytilicola intestinalis</p><p> Mytilicola orientalis</p><p> Rapana venosa</p><p> Sargassum muticum</p><p> Undaria pinnatifida</p>  \n",
       "4                                                                                                                                                                                                                                                                                                                                                                                                                                                                                                                                                                                                                                                                                                                                                                                                                                                                                                                                                                                                                                                                                                                                                                                                                                                                                                                                                                                                                                                                                                                                                                                                                                                                                                                                  <p>Amphistegina lobifera</p><p> Callinectes sapidus</p><p> Caulerpa racemosa var. lamourouxii</p>  \n",
       "5   <p>Acabaria erythraea</p><p> Acar plicata</p><p> Alepes djedaba</p><p> Alpheus edwardsii </p><p> Alpheus inopinatus</p><p> Alpheus rapacida</p><p> Aquilonastra burtoni </p><p> Atherinomorus lacunosus </p><p> Brachidontes pharaonis</p><p> Calanopia elliptica</p><p> Callionymus filamentosus</p><p> Caloria indica</p><p> Caulerpa racemosa</p><p> Caulerpa scalpelliformis</p><p> Cellana radiata </p><p> Cerithium columna</p><p> Cerithium scabridum</p><p> Chama pacifica</p><p> Charybdis longicollis</p><p> Chrysallida fischeri</p><p> Diala semistriata</p><p> Dussumieria elopsoides</p><p> Erugosquilla massavensis</p><p> Etrumeus teres</p><p> Ficopomatus enigmaticus</p><p> Fistularia commersonii</p><p> Glyphidohaptor plectocirra</p><p> Herklotsichthys punctatus</p><p> Heterosaccus dollfusi</p><p> Hydroides brachyacanthus</p><p> Hydroides elegans</p><p> Hydroides heterocerus</p><p> Hydroides homoceros</p><p> Hydroides minax</p><p> Hydroides operculatus</p><p> Hysterolecitha sigani</p><p> Lagocephalus sceleratus</p><p> Lagocephalus suezensis</p><p> Lepidonotus tenuisetosus</p><p> Marsupenaeus japonicus</p><p> Metapenaeopsis aegyptia</p><p> Metapenaeus monoceros</p><p> Metapenaeus stebbingi</p><p> Oculina patagonica</p><p> Ophiactis savignyi</p><p> Papilloculiceps longiceps</p><p> Parexocoetus mento</p><p> Penaeus semisulcatus</p><p> Perkinsyllis augeneri</p><p> Petroscirtes ancylodon</p><p> Philinopsis speciosa</p><p> Portunus pelagicus</p><p> Pterois miles</p><p> Rhinoclavis kochi</p><p> Rhopilema nomadica</p><p> Saurida undosquamis</p><p> Scomberomorus commerson</p><p> Siganus luridus</p><p> Siganus rivulatus</p><p> Sphyraena chrysotaenia</p><p> Spondylus spinosus</p><p> Synanceia verrucosa</p><p> Terebella ehrenbergi</p><p> Upeneus pori</p>  \n",
       "6                                                                                                                                                                                                                                                                                                                                                                                                                                                                                                                                                                                                                                                                                                                                                                                                                                                                                                                                                                                                                                                                                                                                                                                                                                                                                                                                                                                                                                                                                                       <p>Brachidontes pharaonis</p><p> Bursatella leachii</p><p> Caulerpa racemosa </p><p> Caulerpa racemosa var. cylindracea</p><p> Fistularia commersonii</p><p> Lophocladia lallemandii</p><p> Percnon gibbesi</p><p> Rhopilema nomadica</p><p> Siganus luridus</p><p> Sphoeroides pachygaster</p><p> Womersleyella setacea</p>  \n",
       "7                                                                                                                                                                                                                                                                                                                                                                                                                                                                                                                                                                                                                                                                                                                                                                                                                                                                                                                                                                                                                                                                                                                                                                                                                                                                                                                                                                                                                                                                                                                                                                                                                                                                                                                                                                                                           <p>Crassostrea gigas</p>  \n",
       "8                                                                                                                                                                                                                                                                                                                                                                                                                                                                                                                                                                                                                                                                                                                                                                                                                                                                                                                                                                                                                                                                                                                                                                                                                                                                                                                                                                                                                                                                                                                                                                                                                               <p>Acartia tonsa</p><p> Acrothamnion preissii</p><p> Asparagopsis taxiformis</p><p> Caulerpa taxifolia</p><p> Gracilaria vermiculophylla</p><p> Lophocladia lallemandii</p><p> Sargassum muticum</p>  \n",
       "9                                                                                                                                                                                                                                                                                                                                                                                                                                                                                                                                                                                                                                                                                                                                                                                                                                                                                                                                                                                                                                                                                                                                                                                                                       <p>Arcuatula senhousia </p><p> Bursatella leachii</p><p> Caulerpa chemnitzia </p><p> Caulerpa cylindracea </p><p> Caulerpa racemosa</p><p> Caulerpa taxifolia</p><p> Codium fragile subsp. fragile </p><p> Erosaria turdus</p><p> Eucrate crenata</p><p> Ficopomatus enigmaticus</p><p> Fulvia fragilis</p><p> Lagocephalus sceleratus</p><p> Libinia dubia</p><p> Metapenaeus monoceros</p><p> Oculina patagonica</p><p> Percnon gibbesi</p><p> Pinctada imbricata </p><p> Rimapenaeus similis</p><p> Seriola fasciata</p><p> Siganus luridus</p><p> Siphonaria pectinata</p><p> Sphyraena chrysotaenia</p>  \n",
       "10                                                                                                                                                                                                                                                                                                                                                                                                                                                                                                                                                                                                                                                                                                                                                                                                                                                                                                                                                   <p>Branchiomma bairdi</p><p> Branchiomma luctuosum</p><p> Bursatella leachii </p><p> Cassiopea andromeda</p><p> Ceratonereis mirabilis</p><p> Charybdis longicollis</p><p> Desdemona ornata</p><p> Dorvillea similis</p><p> Erugosquilla massavensis </p><p> Eunice antennata </p><p> Ficopomatus enigmaticus</p><p> Hydroides dianthus</p><p> Hydroides elegans</p><p> Hydroides operculatus</p><p> Laonome triangularis</p><p> Leonnates indicus</p><p> Leonnates persicus</p><p> Marsupenaeus japonicus</p><p> Microspongium globosum</p><p> Notomastus mossambicus</p><p> Phyllodoce longifrons</p><p> Polydora cornuta</p><p> Prionospio aucklandica </p><p> Prionospio saccifera</p><p> Pseudonereis anomala</p><p> Pseudopolydora paucibranchiata</p><p> Rhopilema nomadica</p><p> Spirobranchus kraussii</p><p> Spirorbis marioni</p><p> Streblospio gynobranchiata</p>  "
      ]
     },
     "execution_count": 5,
     "metadata": {},
     "output_type": "execute_result"
    }
   ],
   "source": [
    "pd.options.display.max_colwidth = 1000000\n",
    "df1"
   ]
  },
  {
   "cell_type": "code",
   "execution_count": 6,
   "metadata": {
    "collapsed": true
   },
   "outputs": [],
   "source": [
    "df_number = df.groupby('country')['name'].nunique().reset_index(name='number')"
   ]
  },
  {
   "cell_type": "code",
   "execution_count": 7,
   "metadata": {
    "collapsed": true
   },
   "outputs": [],
   "source": [
    "df_number['number'] = \"In \" + df_number[\"country\"] + \" there are confirmed impacts from \" + df_number[\"number\"].map(str) + \" marine alien species.\""
   ]
  },
  {
   "cell_type": "code",
   "execution_count": 8,
   "metadata": {
    "collapsed": true
   },
   "outputs": [],
   "source": [
    "df_species = df1.merge(df_number, right_on = 'country', left_on = 'country')"
   ]
  },
  {
   "cell_type": "code",
   "execution_count": 9,
   "metadata": {},
   "outputs": [
    {
     "data": {
      "text/html": [
       "<div>\n",
       "<style>\n",
       "    .dataframe thead tr:only-child th {\n",
       "        text-align: right;\n",
       "    }\n",
       "\n",
       "    .dataframe thead th {\n",
       "        text-align: left;\n",
       "    }\n",
       "\n",
       "    .dataframe tbody tr th {\n",
       "        vertical-align: top;\n",
       "    }\n",
       "</style>\n",
       "<table border=\"1\" class=\"dataframe\">\n",
       "  <thead>\n",
       "    <tr style=\"text-align: right;\">\n",
       "      <th></th>\n",
       "      <th>country</th>\n",
       "      <th>name</th>\n",
       "      <th>number</th>\n",
       "    </tr>\n",
       "  </thead>\n",
       "  <tbody>\n",
       "    <tr>\n",
       "      <th>0</th>\n",
       "      <td>Albania</td>\n",
       "      <td>&lt;p&gt;Caulerpa racemosa&lt;/p&gt;</td>\n",
       "      <td>In Albania there are confirmed impacts from 1 marine alien species.</td>\n",
       "    </tr>\n",
       "    <tr>\n",
       "      <th>1</th>\n",
       "      <td>Croatia</td>\n",
       "      <td>&lt;p&gt;Anadara kagoshimensis&lt;/p&gt;&lt;p&gt; Anadara transversa&lt;/p&gt;&lt;p&gt; Aplysia dactylomela&lt;/p&gt;&lt;p&gt; Arcuatula senhousia&lt;/p&gt;&lt;p&gt; Asparagopsis armata&lt;/p&gt;&lt;p&gt; Brachidontes pharaonis&lt;/p&gt;&lt;p&gt; Bursatella leachii &lt;/p&gt;&lt;p&gt; Callinectes sapidus&lt;/p&gt;&lt;p&gt; Caulerpa taxifolia&lt;/p&gt;&lt;p&gt; Clavenlina oblonga&lt;/p&gt;&lt;p&gt; Cocconeis caulerpacola&lt;/p&gt;&lt;p&gt; Cochlodinium polykrikoides&lt;/p&gt;&lt;p&gt; Crassostrea gigas&lt;/p&gt;&lt;p&gt; Ficopomatus enigmaticus&lt;/p&gt;&lt;p&gt; Fistularia commersonii&lt;/p&gt;&lt;p&gt; Lagocephalus sceleratus&lt;/p&gt;&lt;p&gt; Neopseudocapitella brasiliensis&lt;/p&gt;&lt;p&gt; Ostreopsis ovata&lt;/p&gt;&lt;p&gt; Paraleucilla magna&lt;/p&gt;&lt;p&gt; Parvocalanus crassirostris&lt;/p&gt;&lt;p&gt; Percnon gibbesi&lt;/p&gt;&lt;p&gt; Pinctada imbricata &lt;/p&gt;&lt;p&gt; Siganus luridus&lt;/p&gt;&lt;p&gt; Siganus rivulatus&lt;/p&gt;&lt;p&gt; Sphyraena chrysotaenia&lt;/p&gt;&lt;p&gt; Stephanolepis diaspros&lt;/p&gt;&lt;p&gt; Xenostrobus securis&lt;/p&gt;</td>\n",
       "      <td>In Croatia there are confirmed impacts from 27 marine alien species.</td>\n",
       "    </tr>\n",
       "    <tr>\n",
       "      <th>2</th>\n",
       "      <td>Cyprus</td>\n",
       "      <td>&lt;p&gt;Brachidontes pharaonis&lt;/p&gt;&lt;p&gt; Caulerpa racemosa &lt;/p&gt;&lt;p&gt; Cerithium scabridum&lt;/p&gt;&lt;p&gt; Charybdis hellerii&lt;/p&gt;&lt;p&gt; Conomurex persicus &lt;/p&gt;&lt;p&gt; Fistularia commersonii&lt;/p&gt;&lt;p&gt; Infundibulops erythraeus &lt;/p&gt;&lt;p&gt; Lagocephalus sceleratus&lt;/p&gt;&lt;p&gt; Pinctada imbricata &lt;/p&gt;&lt;p&gt; Pseudonereis anomala&lt;/p&gt;&lt;p&gt; Siganus luridus&lt;/p&gt;&lt;p&gt; Siganus rivulatus&lt;/p&gt;</td>\n",
       "      <td>In Cyprus there are confirmed impacts from 12 marine alien species.</td>\n",
       "    </tr>\n",
       "    <tr>\n",
       "      <th>3</th>\n",
       "      <td>France</td>\n",
       "      <td>&lt;p&gt;Caulerpa racemosa var. cylindracea&lt;/p&gt;&lt;p&gt; Corbicula sp.&lt;/p&gt;&lt;p&gt; Crassostrea gigas&lt;/p&gt;&lt;p&gt; Crepidula fornicata&lt;/p&gt;&lt;p&gt; Eriocheir sinensis&lt;/p&gt;&lt;p&gt; Hemigrapsus sanguineus&lt;/p&gt;&lt;p&gt; Mnemiopsis leidyi&lt;/p&gt;&lt;p&gt; Mya arenaria&lt;/p&gt;&lt;p&gt; Mytilicola intestinalis&lt;/p&gt;&lt;p&gt; Mytilicola orientalis&lt;/p&gt;&lt;p&gt; Rapana venosa&lt;/p&gt;&lt;p&gt; Sargassum muticum&lt;/p&gt;&lt;p&gt; Undaria pinnatifida&lt;/p&gt;</td>\n",
       "      <td>In France there are confirmed impacts from 13 marine alien species.</td>\n",
       "    </tr>\n",
       "    <tr>\n",
       "      <th>4</th>\n",
       "      <td>Greece</td>\n",
       "      <td>&lt;p&gt;Amphistegina lobifera&lt;/p&gt;&lt;p&gt; Callinectes sapidus&lt;/p&gt;&lt;p&gt; Caulerpa racemosa var. lamourouxii&lt;/p&gt;</td>\n",
       "      <td>In Greece there are confirmed impacts from 3 marine alien species.</td>\n",
       "    </tr>\n",
       "  </tbody>\n",
       "</table>\n",
       "</div>"
      ],
      "text/plain": [
       "   country  \\\n",
       "0  Albania   \n",
       "1  Croatia   \n",
       "2   Cyprus   \n",
       "3   France   \n",
       "4   Greece   \n",
       "\n",
       "                                                                                                                                                                                                                                                                                                                                                                                                                                                                                                                                                                                                                                                                                                                                                                                       name  \\\n",
       "0                                                                                                                                                                                                                                                                                                                                                                                                                                                                                                                                                                                                                                                                                                                                                                  <p>Caulerpa racemosa</p>   \n",
       "1  <p>Anadara kagoshimensis</p><p> Anadara transversa</p><p> Aplysia dactylomela</p><p> Arcuatula senhousia</p><p> Asparagopsis armata</p><p> Brachidontes pharaonis</p><p> Bursatella leachii </p><p> Callinectes sapidus</p><p> Caulerpa taxifolia</p><p> Clavenlina oblonga</p><p> Cocconeis caulerpacola</p><p> Cochlodinium polykrikoides</p><p> Crassostrea gigas</p><p> Ficopomatus enigmaticus</p><p> Fistularia commersonii</p><p> Lagocephalus sceleratus</p><p> Neopseudocapitella brasiliensis</p><p> Ostreopsis ovata</p><p> Paraleucilla magna</p><p> Parvocalanus crassirostris</p><p> Percnon gibbesi</p><p> Pinctada imbricata </p><p> Siganus luridus</p><p> Siganus rivulatus</p><p> Sphyraena chrysotaenia</p><p> Stephanolepis diaspros</p><p> Xenostrobus securis</p>   \n",
       "2                                                                                                                                                                                                                                                                                                                                                                                                                                              <p>Brachidontes pharaonis</p><p> Caulerpa racemosa </p><p> Cerithium scabridum</p><p> Charybdis hellerii</p><p> Conomurex persicus </p><p> Fistularia commersonii</p><p> Infundibulops erythraeus </p><p> Lagocephalus sceleratus</p><p> Pinctada imbricata </p><p> Pseudonereis anomala</p><p> Siganus luridus</p><p> Siganus rivulatus</p>   \n",
       "3                                                                                                                                                                                                                                                                                                                                                                                                                              <p>Caulerpa racemosa var. cylindracea</p><p> Corbicula sp.</p><p> Crassostrea gigas</p><p> Crepidula fornicata</p><p> Eriocheir sinensis</p><p> Hemigrapsus sanguineus</p><p> Mnemiopsis leidyi</p><p> Mya arenaria</p><p> Mytilicola intestinalis</p><p> Mytilicola orientalis</p><p> Rapana venosa</p><p> Sargassum muticum</p><p> Undaria pinnatifida</p>   \n",
       "4                                                                                                                                                                                                                                                                                                                                                                                                                                                                                                                                                                                                                                                                                         <p>Amphistegina lobifera</p><p> Callinectes sapidus</p><p> Caulerpa racemosa var. lamourouxii</p>   \n",
       "\n",
       "                                                                 number  \n",
       "0   In Albania there are confirmed impacts from 1 marine alien species.  \n",
       "1  In Croatia there are confirmed impacts from 27 marine alien species.  \n",
       "2   In Cyprus there are confirmed impacts from 12 marine alien species.  \n",
       "3   In France there are confirmed impacts from 13 marine alien species.  \n",
       "4    In Greece there are confirmed impacts from 3 marine alien species.  "
      ]
     },
     "execution_count": 9,
     "metadata": {},
     "output_type": "execute_result"
    }
   ],
   "source": [
    "df_species.head()"
   ]
  },
  {
   "cell_type": "code",
   "execution_count": 12,
   "metadata": {},
   "outputs": [],
   "source": [
    "colors = pd.read_csv(\"colors.csv\")\n",
    "df_species = df_species.merge(colors, left_on='country', right_on='country')"
   ]
  },
  {
   "cell_type": "code",
   "execution_count": 23,
   "metadata": {},
   "outputs": [
    {
     "data": {
      "text/html": [
       "<div>\n",
       "<style>\n",
       "    .dataframe thead tr:only-child th {\n",
       "        text-align: right;\n",
       "    }\n",
       "\n",
       "    .dataframe thead th {\n",
       "        text-align: left;\n",
       "    }\n",
       "\n",
       "    .dataframe tbody tr th {\n",
       "        vertical-align: top;\n",
       "    }\n",
       "</style>\n",
       "<table border=\"1\" class=\"dataframe\">\n",
       "  <thead>\n",
       "    <tr style=\"text-align: right;\">\n",
       "      <th></th>\n",
       "      <th>country</th>\n",
       "      <th>name</th>\n",
       "      <th>number</th>\n",
       "      <th>color</th>\n",
       "    </tr>\n",
       "  </thead>\n",
       "  <tbody>\n",
       "    <tr>\n",
       "      <th>0</th>\n",
       "      <td>Albania</td>\n",
       "      <td>&lt;p&gt;Caulerpa racemosa&lt;/p&gt;</td>\n",
       "      <td>In Albania there are confirmed impacts from 1 marine alien species.</td>\n",
       "      <td>#C6CDC7</td>\n",
       "    </tr>\n",
       "    <tr>\n",
       "      <th>1</th>\n",
       "      <td>Croatia</td>\n",
       "      <td>&lt;p&gt;Anadara kagoshimensis&lt;/p&gt;&lt;p&gt; Anadara transversa&lt;/p&gt;&lt;p&gt; Aplysia dactylomela&lt;/p&gt;&lt;p&gt; Arcuatula senhousia&lt;/p&gt;&lt;p&gt; Asparagopsis armata&lt;/p&gt;&lt;p&gt; Brachidontes pharaonis&lt;/p&gt;&lt;p&gt; Bursatella leachii &lt;/p&gt;&lt;p&gt; Callinectes sapidus&lt;/p&gt;&lt;p&gt; Caulerpa taxifolia&lt;/p&gt;&lt;p&gt; Clavenlina oblonga&lt;/p&gt;&lt;p&gt; Cocconeis caulerpacola&lt;/p&gt;&lt;p&gt; Cochlodinium polykrikoides&lt;/p&gt;&lt;p&gt; Crassostrea gigas&lt;/p&gt;&lt;p&gt; Ficopomatus enigmaticus&lt;/p&gt;&lt;p&gt; Fistularia commersonii&lt;/p&gt;&lt;p&gt; Lagocephalus sceleratus&lt;/p&gt;&lt;p&gt; Neopseudocapitella brasiliensis&lt;/p&gt;&lt;p&gt; Ostreopsis ovata&lt;/p&gt;&lt;p&gt; Paraleucilla magna&lt;/p&gt;&lt;p&gt; Parvocalanus crassirostris&lt;/p&gt;&lt;p&gt; Percnon gibbesi&lt;/p&gt;&lt;p&gt; Pinctada imbricata &lt;/p&gt;&lt;p&gt; Siganus luridus&lt;/p&gt;&lt;p&gt; Siganus rivulatus&lt;/p&gt;&lt;p&gt; Sphyraena chrysotaenia&lt;/p&gt;&lt;p&gt; Stephanolepis diaspros&lt;/p&gt;&lt;p&gt; Xenostrobus securis&lt;/p&gt;</td>\n",
       "      <td>In Croatia there are confirmed impacts from 27 marine alien species.</td>\n",
       "      <td>#3B5D65</td>\n",
       "    </tr>\n",
       "    <tr>\n",
       "      <th>2</th>\n",
       "      <td>Cyprus</td>\n",
       "      <td>&lt;p&gt;Brachidontes pharaonis&lt;/p&gt;&lt;p&gt; Caulerpa racemosa &lt;/p&gt;&lt;p&gt; Cerithium scabridum&lt;/p&gt;&lt;p&gt; Charybdis hellerii&lt;/p&gt;&lt;p&gt; Conomurex persicus &lt;/p&gt;&lt;p&gt; Fistularia commersonii&lt;/p&gt;&lt;p&gt; Infundibulops erythraeus &lt;/p&gt;&lt;p&gt; Lagocephalus sceleratus&lt;/p&gt;&lt;p&gt; Pinctada imbricata &lt;/p&gt;&lt;p&gt; Pseudonereis anomala&lt;/p&gt;&lt;p&gt; Siganus luridus&lt;/p&gt;&lt;p&gt; Siganus rivulatus&lt;/p&gt;</td>\n",
       "      <td>In Cyprus there are confirmed impacts from 12 marine alien species.</td>\n",
       "      <td>#8B9D9D</td>\n",
       "    </tr>\n",
       "    <tr>\n",
       "      <th>3</th>\n",
       "      <td>France</td>\n",
       "      <td>&lt;p&gt;Caulerpa racemosa var. cylindracea&lt;/p&gt;&lt;p&gt; Corbicula sp.&lt;/p&gt;&lt;p&gt; Crassostrea gigas&lt;/p&gt;&lt;p&gt; Crepidula fornicata&lt;/p&gt;&lt;p&gt; Eriocheir sinensis&lt;/p&gt;&lt;p&gt; Hemigrapsus sanguineus&lt;/p&gt;&lt;p&gt; Mnemiopsis leidyi&lt;/p&gt;&lt;p&gt; Mya arenaria&lt;/p&gt;&lt;p&gt; Mytilicola intestinalis&lt;/p&gt;&lt;p&gt; Mytilicola orientalis&lt;/p&gt;&lt;p&gt; Rapana venosa&lt;/p&gt;&lt;p&gt; Sargassum muticum&lt;/p&gt;&lt;p&gt; Undaria pinnatifida&lt;/p&gt;</td>\n",
       "      <td>In France there are confirmed impacts from 13 marine alien species.</td>\n",
       "      <td>#8B9D9D</td>\n",
       "    </tr>\n",
       "    <tr>\n",
       "      <th>4</th>\n",
       "      <td>Greece</td>\n",
       "      <td>&lt;p&gt;Amphistegina lobifera&lt;/p&gt;&lt;p&gt; Callinectes sapidus&lt;/p&gt;&lt;p&gt; Caulerpa racemosa var. lamourouxii&lt;/p&gt;</td>\n",
       "      <td>In Greece there are confirmed impacts from 3 marine alien species.</td>\n",
       "      <td>#C6CDC7</td>\n",
       "    </tr>\n",
       "  </tbody>\n",
       "</table>\n",
       "</div>"
      ],
      "text/plain": [
       "   country  \\\n",
       "0  Albania   \n",
       "1  Croatia   \n",
       "2   Cyprus   \n",
       "3   France   \n",
       "4   Greece   \n",
       "\n",
       "                                                                                                                                                                                                                                                                                                                                                                                                                                                                                                                                                                                                                                                                                                                                                                                       name  \\\n",
       "0                                                                                                                                                                                                                                                                                                                                                                                                                                                                                                                                                                                                                                                                                                                                                                  <p>Caulerpa racemosa</p>   \n",
       "1  <p>Anadara kagoshimensis</p><p> Anadara transversa</p><p> Aplysia dactylomela</p><p> Arcuatula senhousia</p><p> Asparagopsis armata</p><p> Brachidontes pharaonis</p><p> Bursatella leachii </p><p> Callinectes sapidus</p><p> Caulerpa taxifolia</p><p> Clavenlina oblonga</p><p> Cocconeis caulerpacola</p><p> Cochlodinium polykrikoides</p><p> Crassostrea gigas</p><p> Ficopomatus enigmaticus</p><p> Fistularia commersonii</p><p> Lagocephalus sceleratus</p><p> Neopseudocapitella brasiliensis</p><p> Ostreopsis ovata</p><p> Paraleucilla magna</p><p> Parvocalanus crassirostris</p><p> Percnon gibbesi</p><p> Pinctada imbricata </p><p> Siganus luridus</p><p> Siganus rivulatus</p><p> Sphyraena chrysotaenia</p><p> Stephanolepis diaspros</p><p> Xenostrobus securis</p>   \n",
       "2                                                                                                                                                                                                                                                                                                                                                                                                                                              <p>Brachidontes pharaonis</p><p> Caulerpa racemosa </p><p> Cerithium scabridum</p><p> Charybdis hellerii</p><p> Conomurex persicus </p><p> Fistularia commersonii</p><p> Infundibulops erythraeus </p><p> Lagocephalus sceleratus</p><p> Pinctada imbricata </p><p> Pseudonereis anomala</p><p> Siganus luridus</p><p> Siganus rivulatus</p>   \n",
       "3                                                                                                                                                                                                                                                                                                                                                                                                                              <p>Caulerpa racemosa var. cylindracea</p><p> Corbicula sp.</p><p> Crassostrea gigas</p><p> Crepidula fornicata</p><p> Eriocheir sinensis</p><p> Hemigrapsus sanguineus</p><p> Mnemiopsis leidyi</p><p> Mya arenaria</p><p> Mytilicola intestinalis</p><p> Mytilicola orientalis</p><p> Rapana venosa</p><p> Sargassum muticum</p><p> Undaria pinnatifida</p>   \n",
       "4                                                                                                                                                                                                                                                                                                                                                                                                                                                                                                                                                                                                                                                                                         <p>Amphistegina lobifera</p><p> Callinectes sapidus</p><p> Caulerpa racemosa var. lamourouxii</p>   \n",
       "\n",
       "                                                                 number  \\\n",
       "0   In Albania there are confirmed impacts from 1 marine alien species.   \n",
       "1  In Croatia there are confirmed impacts from 27 marine alien species.   \n",
       "2   In Cyprus there are confirmed impacts from 12 marine alien species.   \n",
       "3   In France there are confirmed impacts from 13 marine alien species.   \n",
       "4    In Greece there are confirmed impacts from 3 marine alien species.   \n",
       "\n",
       "     color  \n",
       "0  #C6CDC7  \n",
       "1  #3B5D65  \n",
       "2  #8B9D9D  \n",
       "3  #8B9D9D  \n",
       "4  #C6CDC7  "
      ]
     },
     "execution_count": 23,
     "metadata": {},
     "output_type": "execute_result"
    }
   ],
   "source": [
    "df_species.head()"
   ]
  },
  {
   "cell_type": "code",
   "execution_count": 18,
   "metadata": {},
   "outputs": [],
   "source": [
    "import geopandas as gpd\n",
    "geo_file = \"/Users/aspasiadaskalopoulou/Desktop/studio-projects/code/project5/eez.geojson.json\"\n",
    "countries = gpd.read_file(geo_file)"
   ]
  },
  {
   "cell_type": "code",
   "execution_count": 22,
   "metadata": {},
   "outputs": [
    {
     "data": {
      "text/html": [
       "<div>\n",
       "<style>\n",
       "    .dataframe thead tr:only-child th {\n",
       "        text-align: right;\n",
       "    }\n",
       "\n",
       "    .dataframe thead th {\n",
       "        text-align: left;\n",
       "    }\n",
       "\n",
       "    .dataframe tbody tr th {\n",
       "        vertical-align: top;\n",
       "    }\n",
       "</style>\n",
       "<table border=\"1\" class=\"dataframe\">\n",
       "  <thead>\n",
       "    <tr style=\"text-align: right;\">\n",
       "      <th></th>\n",
       "      <th>country</th>\n",
       "      <th>name</th>\n",
       "      <th>number</th>\n",
       "      <th>color</th>\n",
       "      <th>Territory1</th>\n",
       "      <th>geometry</th>\n",
       "    </tr>\n",
       "  </thead>\n",
       "  <tbody>\n",
       "    <tr>\n",
       "      <th>0</th>\n",
       "      <td>Albania</td>\n",
       "      <td>&lt;p&gt;Caulerpa racemosa&lt;/p&gt;</td>\n",
       "      <td>In Albania there are confirmed impacts from 1 marine alien species.</td>\n",
       "      <td>#C6CDC7</td>\n",
       "      <td>Albania</td>\n",
       "      <td>POLYGON ((20.00835275627509 39.69182097885536, 19.98922386788738 39.64039404355043, 19.92855845261079 39.68670751733839, 19.97378969304023 39.78060828174708, 19.95701077272912 39.82745791874814, 19.75530877378105 39.91680909836143, 19.62224522413806 40.01131693213097, 19.44758781042935 40.03303725746377, 19.2644165805612 40.06674972931674, 18.99523827942332 40.08357977070759, 18.95138888868658 40.20361111146386, 18.87999999960061 40.31388888916126, 18.79583333334193 40.51222222197822, 18.75972222210316 40.59388888896129, 18.659444444206 40.88500000005024, 18.65861111081438 40.91749999962562, 18.59500000035001 41.10805555561973, 18.54277777747268 41.19361111146387, 18.32149306705168 41.44175138491869, 18.74873458683194 41.5490098030601, 18.89330972216621 41.59068421940142, 19.13062258266629 41.67048014004658, 19.32217446787763 41.70409392479493, 19.36683113864635 41.83663469583476, 19.38154804750468 41.99553954591343, 19.35092175033861 41.94160044170715, 19.38068962122921 41.8468883035525, 19.45400166554464 41.87777543109132, 19.619313001694 41.78425490813774, 19.57720804211769 41.74314534698013, 19.56960415820564 41.65226197261202, 19.60401582686922 41.63686084785013, 19.50650596617771 41.53994953634208, 19.51031434503122 41.48367714918132, 19.42095005510109 41.38604974709818, 19.43583571904327 41.31040060490415, 19.491145968312 41.3047535423423, 19.51678907885304 41.23848080644419, 19.47365307802735 41.16561734666334, 19.43709802635297 41.14681053158091, 19.45665574116978 41.07583451315233, 19.4390742775561 40.99937105193257, 19.47433722018681 40.96385240596391, 19.41652703279649 40.9229494334698, 19.37708377869362 40.79740655436922, 19.36723804499994 40.71802663761937, 19.32761085076035 40.63559114921227, 19.37181282070523 40.58325934394369, 19.37811517697409 40.53191494931565, 19.46024024459177 40.46253705044447, 19.48377764202485 40.34608185299527, 19.4215300081035 40.32131743405256, 19.40008044255862 40.38518142668158, 19.34166264531504 40.43329811131895, 19.29270792023448 40.41902720953811, 19.36915373765513 40.3410912748424, 19.37279164821618 40.30567371806774, 19.44393837415689 40.23378622505427, 19.65851533371611 40.12518906622256, 19.7000504729512 40.12014973132509, 19.79834604253605 40.05977857152411, 19.85572052008615 40.04302990440672, 19.9368062016452 39.94128525221279, 19.95374751073925 39.89626467257676, 20.02064144614602 39.84567964120268, 19.99800646262827 39.740827679354, 20.00835275627509 39.69182097885536))</td>\n",
       "    </tr>\n",
       "    <tr>\n",
       "      <th>1</th>\n",
       "      <td>Croatia</td>\n",
       "      <td>&lt;p&gt;Anadara kagoshimensis&lt;/p&gt;&lt;p&gt; Anadara transversa&lt;/p&gt;&lt;p&gt; Aplysia dactylomela&lt;/p&gt;&lt;p&gt; Arcuatula senhousia&lt;/p&gt;&lt;p&gt; Asparagopsis armata&lt;/p&gt;&lt;p&gt; Brachidontes pharaonis&lt;/p&gt;&lt;p&gt; Bursatella leachii &lt;/p&gt;&lt;p&gt; Callinectes sapidus&lt;/p&gt;&lt;p&gt; Caulerpa taxifolia&lt;/p&gt;&lt;p&gt; Clavenlina oblonga&lt;/p&gt;&lt;p&gt; Cocconeis caulerpacola&lt;/p&gt;&lt;p&gt; Cochlodinium polykrikoides&lt;/p&gt;&lt;p&gt; Crassostrea gigas&lt;/p&gt;&lt;p&gt; Ficopomatus enigmaticus&lt;/p&gt;&lt;p&gt; Fistularia commersonii&lt;/p&gt;&lt;p&gt; Lagocephalus sceleratus&lt;/p&gt;&lt;p&gt; Neopseudocapitella brasiliensis&lt;/p&gt;&lt;p&gt; Ostreopsis ovata&lt;/p&gt;&lt;p&gt; Paraleucilla magna&lt;/p&gt;&lt;p&gt; Parvocalanus crassirostris&lt;/p&gt;&lt;p&gt; Percnon gibbesi&lt;/p&gt;&lt;p&gt; Pinctada imbricata &lt;/p&gt;&lt;p&gt; Siganus luridus&lt;/p&gt;&lt;p&gt; Siganus rivulatus&lt;/p&gt;&lt;p&gt; Sphyraena chrysotaenia&lt;/p&gt;&lt;p&gt; Stephanolepis diaspros&lt;/p&gt;&lt;p&gt; Xenostrobus securis&lt;/p&gt;</td>\n",
       "      <td>In Croatia there are confirmed impacts from 27 marine alien species.</td>\n",
       "      <td>#3B5D65</td>\n",
       "      <td>Croatia</td>\n",
       "      <td>POLYGON ((17.573436003469 42.93575914606805, 17.57238934459281 42.9358533140794, 17.56136779588729 42.93641608733282, 17.55655796078145 42.9363827251828, 17.55519951774374 42.9373287256405, 17.54666957943783 42.92495968763973, 17.55523136903264 42.92111880009287, 17.55571747508156 42.92092011107457, 17.56417840211185 42.9175504511926, 17.57704625987714 42.91274394357828, 17.58073965141392 42.91184754702698, 17.58186720790547 42.91153650660476, 17.59211848188272 42.90722639508232, 17.59483176167663 42.90591718003412, 17.60121901304728 42.90269314827043, 17.6036930192177 42.9023381444901, 17.60783829220372 42.90250782137917, 17.60978351140011 42.90215650841645, 17.61343978791615 42.90078726452094, 17.6190282002915 42.89804925337052, 17.62624422728948 42.89377089690959, 17.63005752273671 42.89195160078606, 17.6314612583306 42.89059093102679, 17.63508889143935 42.8872837137726, 17.63845268504355 42.88587493028416, 17.64372529868382 42.88352730674006, 17.52421104920091 42.91851067532747, 17.26942515364823 43.01113045170922, 17.16869366148364 43.0250438450974, 17.08424222489919 43.019576549818, 17.06683397251021 42.98387622820565, 17.21770691893931 42.98078465488811, 17.36348164106528 42.91289067246652, 17.41944491864854 42.91059625191576, 17.44175767867426 42.86945343023177, 17.72898185243093 42.79162132766243, 17.80632650896138 42.80612552167577, 17.96819245781603 42.71222555676439, 18.07031893696978 42.66982924922081, 18.06146860079565 42.64874815930034, 18.19907104948953 42.62303173512657, 18.23369681795413 42.55840504185943, 18.54411184618527 42.39990201066951, 18.54328846738917 42.34546412806742, 18.2666499670226 41.90697867522567, 18.01829859390534 41.62970220119587, 17.6166666669335 41.83666666673355, 17.31166666628405 41.91333333336701, 17.2166666668337 41.9916666667836, 16.61833333301723 42.26666666623407, 16.57305555536988 42.27972222240305, 16.48750000042509 42.21222222217801, 16.41861111151371 42.18805555561983, 16.28972222200315 42.18249999997533, 16.14638888853682 42.20694444463061, 16.05083333289252 42.25555555584447, 15.98611111093948 42.34222222227811, 15.98305555546966 42.43472222245293, 15.74666666653371 42.49166666668367, 15.36333333336711 42.61333333376666, 15.15833333341698 42.79833333321682, 15.01166666638392 42.98666666623382, 14.90833333301731 43.06333333376654, 14.58166666688356 43.42000000019988, 14.53333333376673 43.49500000005031, 14.40833333311724 43.64000000030012, 14.35666666643397 43.71666666693324, 14.17166666698347 43.89999999960065, 14.01500000015028 44.00833333331701, 13.66666666673365 44.18000000030008, 13.13499999975051 44.50000000020003, 13.113333333367 44.73833333311711, 13.07833333361685 44.97500000015026, 13.00833333321714 45.1849999995506, 13.10166666678361 45.33500000015033, 13.21166666638385 45.45333333366682, 13.31606526649904 45.52143135607253, 13.47651216250671 45.58116839040912, 13.54990367181728 45.50650426845749, 13.4899375441824 45.48620462374481, 13.52386212383828 45.43764233582533, 13.53970325000535 45.32777726690767, 13.5870599742388 45.28385973004276, 13.58527636501259 45.19085955662342, 13.60681390763608 45.1158055066191, 13.69002580684577 45.02324235425147, 13.76106214550191 44.98565375761495, 13.80174982569429 44.9309754367672, 13.82756721945185 44.83539164061199, 13.86740684525006 44.80822181668367, 13.99806571026471 44.80757904064046, 13.98253643480894 44.85174810888816, 14.0501868727261 44.93700706922095, 14.16984355413717 44.97888255148882, 14.16323864434827 45.04478621461237, 14.24394786340349 45.18200540552522, 14.27395427227225 45.28557455552152, 14.33349597475961 45.35128343088599, 14.46051597593191 45.32021701360463, 14.74010837060518 45.13832640663844, 14.84427225576042 45.1037174465032, 14.92703616578677 44.9509276149177, 14.89223384871337 44.87900054453974, 14.87905967196656 44.79087483870302, 14.89612197854677 44.69603621989592, 14.9889117483786 44.57334566117356, 15.10697007191163 44.50569641575726, 15.27711665620899 44.36591041043732, 15.4078104499925 44.31685590737453, 15.47911274425803 44.26850867253745, 15.41419851794768 44.25449526284609, 15.32884752729194 44.29291844383147, 15.2619385723076 44.25784564036411, 15.17802035815322 44.24275910834632, 15.16247665847141 44.17692863924538, 15.21054601628595 44.14540612719122, 15.28310191602083 44.06083905667742, 15.33208525213308 44.03568363229391, 15.46875000021259 43.91406249968469, 15.5154173374404 43.90395951312126, 15.58906352486213 43.84795403485117, 15.5735521315259 43.81681132358375, 15.65973985231267 43.79879224266824, 15.74812316894946 43.75044214708748, 15.87935864958234 43.7292777295836, 15.91927731049958 43.65046620325273, 15.92720925810107 43.5506967302702, 15.99810314144713 43.50024747853865, 16.09309184541274 43.47266983994143, 16.1728111501148 43.48571240900066, 16.22494447230986 43.51742291443622, 16.28003954888635 43.48807275255575, 16.30922770509483 43.53799521920433, 16.35745537236789 43.55136573324233, 16.51899504628477 43.49978637723984, 16.62952578079046 43.44564104050176, 16.71045887437771 43.42031335817518, 16.88977706416051 43.39343011400877, 17.05348205555276 43.26958644365976, 17.07768666720619 43.23340964324075, 17.16751074812294 43.17645347095117, 17.22867703451794 43.16117882684159, 17.34527194524435 43.10324275504945, 17.47782194602632 42.98273432213159, 17.573436003469 42.93575914606805), (14.3662954566704 44.79199492902291, 14.39748907046459 44.73716354356281, 14.33898592036422 44.71173524868311, 14.35265636459968 44.64359164234077, 14.42879986771999 44.66314864129703, 14.51717781990084 44.60864281671292, 14.44630491773802 44.87436807192927, 14.46517574746321 44.94508624033779, 14.42433214191522 44.98429071904172, 14.3602010011756 45.08863401444836, 14.36142563858277 45.1640604737122, 14.32191765307761 45.17553174459454, 14.27276682812692 45.11868894084222, 14.35481941668309 45.04649055039886, 14.3512450459225 45.00268280546732, 14.39313495151708 44.96691381971726, 14.38436126725884 44.90255022041669, 14.30387544609511 44.91246211543449, 14.33141660729103 44.8297524453194, 14.3662954566704 44.79199492902291), (14.54198801523512 45.17380821727562, 14.51344561542311 45.11675834642085, 14.43414843090574 45.0921993254388, 14.50525367291903 45.01987087683972, 14.62210547948445 45.00850856331959, 14.61969840535744 44.9772557021891, 14.73467314245198 44.93435621226973, 14.81138694255361 44.99047684692897, 14.66693806663881 45.09311437572819, 14.66800415536778 45.14637875547544, 14.58259284538366 45.22960972750701, 14.54198801523512 45.17380821727562), (14.72214734542393 44.84694635868783, 14.70039844503253 44.75483596280952, 14.82736813992796 44.7575137616509, 14.72214734542393 44.84694635868783), (14.73518812663116 44.70396125350931, 14.73329257968919 44.69016838096633, 14.8715589043203 44.54653453813876, 14.90644836390123 44.48431706388158, 15.08283627017801 44.39746880544124, 15.10198676567711 44.3251953126138, 15.15827691534781 44.30472207086723, 15.23624420130926 44.31863307925352, 15.24719154875135 44.34924745590541, 15.05329787749525 44.47667181475248, 14.90925955738277 44.61247336835152, 14.8527722358503 44.60325634440511, 14.73518812663116 44.70396125350931), (15.06092047719852 44.15534913515449, 15.06490373641861 44.13151907944234, 15.20024895692416 44.03210830645338, 15.18621921554467 44.09270274633491, 15.06092047719852 44.15534913515449), (15.20151364833652 43.86711561719227, 15.19414651365076 43.91564774544713, 15.04810380974334 44.01179730869893, 15.00928103928896 44.08278894385461, 14.9706571098381 44.08960175531683, 14.87282085459913 44.16724860653824, 14.82819294954538 44.14219737041253, 14.92089784136255 44.10422766177732, 15.00981307011722 44.0357848401984, 15.10066914556489 43.92928290388306, 15.20151364833652 43.86711561719227), (16.43477964396567 43.37531030182919, 16.42629635349431 43.32252705128263, 16.52974951253032 43.26948916938989, 16.6460604668174 43.25787544229803, 16.85464680210856 43.27082407447182, 16.89869487287046 43.31069195247198, 16.78139400512958 43.35730874510267, 16.60818111936351 43.38108468051388, 16.43477964396567 43.37531030182919), (16.56035363691097 43.23501932628113, 16.52516043220851 43.20336532614914, 16.45419204272895 43.20812094202819, 16.38995504369075 43.1863545183466, 16.65688240559894 43.12166357031765, 16.78166985508011 43.12695312538659, 16.8918179271559 43.11414110652709, 17.11479091686755 43.11307954768324, 17.10644590885175 43.13451755064449, 16.95955491043117 43.15191173583804, 16.71237444922173 43.15959894643447, 16.65034556369721 43.21789693869283, 16.56035363691097 43.23501932628113), (16.18785321695276 43.07868015746351, 16.07997310197754 43.07031095049024, 16.11132037663447 43.00719296888042, 16.22247302560993 43.0226056580247, 16.25791120563792 43.05968332282731, 16.18785321695276 43.07868015746351), (16.69289135924924 42.9941674473701, 16.64039695295736 42.92401504515851, 16.86453855051383 42.8931915761305, 16.96204447757094 42.92318415612414, 17.12013804923203 42.90653645948993, 17.14674603969826 42.95733964480883, 17.04660057995306 42.97288024452791, 16.8447991609529 42.96048223936407, 16.69289135924924 42.9941674473701), (17.36693012742359 42.80515396608297, 17.3792151210813 42.75716447795867, 17.56497240095598 42.72262990434683, 17.66823327504596 42.73650026337668, 17.38490784132409 42.78815340965224, 17.36693012742359 42.80515396608297))</td>\n",
       "    </tr>\n",
       "    <tr>\n",
       "      <th>2</th>\n",
       "      <td>Cyprus</td>\n",
       "      <td>&lt;p&gt;Brachidontes pharaonis&lt;/p&gt;&lt;p&gt; Caulerpa racemosa &lt;/p&gt;&lt;p&gt; Cerithium scabridum&lt;/p&gt;&lt;p&gt; Charybdis hellerii&lt;/p&gt;&lt;p&gt; Conomurex persicus &lt;/p&gt;&lt;p&gt; Fistularia commersonii&lt;/p&gt;&lt;p&gt; Infundibulops erythraeus &lt;/p&gt;&lt;p&gt; Lagocephalus sceleratus&lt;/p&gt;&lt;p&gt; Pinctada imbricata &lt;/p&gt;&lt;p&gt; Pseudonereis anomala&lt;/p&gt;&lt;p&gt; Siganus luridus&lt;/p&gt;&lt;p&gt; Siganus rivulatus&lt;/p&gt;</td>\n",
       "      <td>In Cyprus there are confirmed impacts from 12 marine alien species.</td>\n",
       "      <td>#8B9D9D</td>\n",
       "      <td>Cyprus</td>\n",
       "      <td>POLYGON ((35.16211568728949 36.01638803997616, 35.19429819290775 35.8365342724388, 35.13180356018637 35.46792154794124, 35.11774646502778 35.30877593226359, 35.0912350257758 35.15139477654779, 34.97357911468481 34.99276267016111, 34.96334167318008 34.81244571669654, 34.91440365210696 34.69206323652921, 34.71229168011706 34.37124978275139, 34.29315014356433 33.99379959317676, 34.23528780808596 33.96088807642363, 33.97422461857155 33.73982467386961, 33.89444444415614 33.64444444465548, 33.69465298834501 33.48099254856743, 33.4505555559943 33.28222222257753, 32.97222222247757 32.88888888871136, 32.51666666683383 33.01111111108904, 32.02222222257802 33.12222222217795, 31.60833333291754 33.19166666638361, 31.11666666693367 33.35555555564463, 30.61111111138899 33.51111111098911, 30.47500000035024 33.56666666653356, 30.08333333326715 33.75000000010019, 29.93981218448533 33.78316201131796, 29.84647999845373 33.82085348769849, 30.10359235470384 34.20922587697288, 30.27677993624565 34.45588789071371, 30.43867811770161 34.61914503411614, 30.79722298495341 35.01437167111595, 31.01565826631639 35.26146748004018, 31.2336087780231 35.51613367313072, 31.38955010025705 35.6838161150217, 31.74196151561188 35.68086293477683, 32.04501731959402 35.66001645189786, 32.25112547855832 35.63049397092013, 32.42557749520569 35.62733844681199, 32.65219721063301 35.68352766916675, 33.03341373665506 35.73243688045787, 33.24514602996584 35.72717089572035, 33.3327900130493 35.74072447035826, 33.50620952794765 35.73951889588051, 33.75053606348882 35.78158463782103, 33.84981776128092 35.80473736283918, 33.99850784895858 35.88276987932662, 34.14928834508152 35.9260388089441, 34.39498830007057 36.04696039220846, 34.62853484210979 36.1826192575729, 34.76049922595911 36.21910999602957, 34.91186862423825 36.16228044288837, 35.16211568728949 36.01638803997616), (34.53692126230663 35.68046236054951, 34.35570526108921 35.6237606999963, 34.29032564191488 35.57647144829866, 34.17246854348849 35.5592359304938, 34.12577891386599 35.50546956087152, 33.97527730470387 35.44566643265975, 33.8500542640931 35.41245734732877, 33.77196264236221 35.41387760616658, 33.64680576307552 35.35708844697419, 33.48461806737015 35.33203125014208, 33.34812426602224 35.33544445070081, 33.1326791045571 35.36434483554572, 33.09232544876062 35.35275697745254, 32.99162495173044 35.36890506741491, 32.92002058058557 35.40322732907791, 32.94034993620102 35.29627513908645, 32.89860224759599 35.17586660376071, 32.82627654102981 35.14095425643373, 32.65039026759683 35.1963567734463, 32.54879415013016 35.17314267149715, 32.48622965807266 35.08094644522228, 32.40873825556622 35.03977513301595, 32.3059799667023 35.08327686743348, 32.27252912561897 35.04740512334777, 32.30820083619966 35.004883051012, 32.31643736349389 34.89905893821938, 32.38928270373407 34.8390785455384, 32.42519414389466 34.74310791499823, 32.49691450599988 34.70321834085374, 32.55657494058113 34.69750952724291, 32.70547843018556 34.6410185094966, 32.79147040813308 34.66393685320327, 32.88034963612682 34.66372024968973, 32.94012153178352 34.56884074230638, 33.02917265889124 34.5620250701009, 33.00635886227184 34.61268723003158, 33.01775705784218 34.65371203458275, 33.06499958076614 34.68631827826587, 33.14847576644348 34.71270811568695, 33.27096521876996 34.70792746538024, 33.36992645304377 34.73107421440349, 33.56040787702187 34.82028293600865, 33.60376405706603 34.81676781168522, 33.6397602556313 34.86539924128195, 33.64033377128663 34.92847144560076, 33.66429674589841 34.96527445295362, 33.75191354787233 34.98213040829171, 33.85625517323803 34.94306886153873, 33.90723764919841 34.97298777086891, 34.07702434100059 34.99015915352211, 33.91201961071687 35.16155374051269, 33.90334284279817 35.24840223817276, 33.95574295517321 35.31526374852319, 34.06220173841967 35.32626056677174, 34.08101630206096 35.36855220761831, 34.1365672350899 35.41702353990445, 34.28456652202766 35.47880744920442, 34.40937185272907 35.55693233056255, 34.42544436456609 35.59275734407615, 34.57556450379906 35.65670955210413, 34.53692126230663 35.68046236054951))</td>\n",
       "    </tr>\n",
       "    <tr>\n",
       "      <th>3</th>\n",
       "      <td>France</td>\n",
       "      <td>&lt;p&gt;Caulerpa racemosa var. cylindracea&lt;/p&gt;&lt;p&gt; Corbicula sp.&lt;/p&gt;&lt;p&gt; Crassostrea gigas&lt;/p&gt;&lt;p&gt; Crepidula fornicata&lt;/p&gt;&lt;p&gt; Eriocheir sinensis&lt;/p&gt;&lt;p&gt; Hemigrapsus sanguineus&lt;/p&gt;&lt;p&gt; Mnemiopsis leidyi&lt;/p&gt;&lt;p&gt; Mya arenaria&lt;/p&gt;&lt;p&gt; Mytilicola intestinalis&lt;/p&gt;&lt;p&gt; Mytilicola orientalis&lt;/p&gt;&lt;p&gt; Rapana venosa&lt;/p&gt;&lt;p&gt; Sargassum muticum&lt;/p&gt;&lt;p&gt; Undaria pinnatifida&lt;/p&gt;</td>\n",
       "      <td>In France there are confirmed impacts from 13 marine alien species.</td>\n",
       "      <td>#8B9D9D</td>\n",
       "      <td>France</td>\n",
       "      <td>POLYGON ((-4.999999999799826 45.00833333311694, -5.666666666333356 45.00833333311694, -5.666666666333356 45.50000000000021, -4.999999999799826 45.50000000000021, -4.999999999799826 45.00833333311694))</td>\n",
       "    </tr>\n",
       "    <tr>\n",
       "      <th>4</th>\n",
       "      <td>France</td>\n",
       "      <td>&lt;p&gt;Caulerpa racemosa var. cylindracea&lt;/p&gt;&lt;p&gt; Corbicula sp.&lt;/p&gt;&lt;p&gt; Crassostrea gigas&lt;/p&gt;&lt;p&gt; Crepidula fornicata&lt;/p&gt;&lt;p&gt; Eriocheir sinensis&lt;/p&gt;&lt;p&gt; Hemigrapsus sanguineus&lt;/p&gt;&lt;p&gt; Mnemiopsis leidyi&lt;/p&gt;&lt;p&gt; Mya arenaria&lt;/p&gt;&lt;p&gt; Mytilicola intestinalis&lt;/p&gt;&lt;p&gt; Mytilicola orientalis&lt;/p&gt;&lt;p&gt; Rapana venosa&lt;/p&gt;&lt;p&gt; Sargassum muticum&lt;/p&gt;&lt;p&gt; Undaria pinnatifida&lt;/p&gt;</td>\n",
       "      <td>In France there are confirmed impacts from 13 marine alien species.</td>\n",
       "      <td>#8B9D9D</td>\n",
       "      <td>France</td>\n",
       "      <td>POLYGON ((9.098888889311297 41.31134646686613, 9.098888889311098 41.27111111148892, 8.998888888611646 41.27111111148892, 8.998888888611646 41.34333333306714, 9.098888889311098 41.34305555586937, 9.098888889311297 41.31134646686613))</td>\n",
       "    </tr>\n",
       "  </tbody>\n",
       "</table>\n",
       "</div>"
      ],
      "text/plain": [
       "   country  \\\n",
       "0  Albania   \n",
       "1  Croatia   \n",
       "2   Cyprus   \n",
       "3   France   \n",
       "4   France   \n",
       "\n",
       "                                                                                                                                                                                                                                                                                                                                                                                                                                                                                                                                                                                                                                                                                                                                                                                       name  \\\n",
       "0                                                                                                                                                                                                                                                                                                                                                                                                                                                                                                                                                                                                                                                                                                                                                                  <p>Caulerpa racemosa</p>   \n",
       "1  <p>Anadara kagoshimensis</p><p> Anadara transversa</p><p> Aplysia dactylomela</p><p> Arcuatula senhousia</p><p> Asparagopsis armata</p><p> Brachidontes pharaonis</p><p> Bursatella leachii </p><p> Callinectes sapidus</p><p> Caulerpa taxifolia</p><p> Clavenlina oblonga</p><p> Cocconeis caulerpacola</p><p> Cochlodinium polykrikoides</p><p> Crassostrea gigas</p><p> Ficopomatus enigmaticus</p><p> Fistularia commersonii</p><p> Lagocephalus sceleratus</p><p> Neopseudocapitella brasiliensis</p><p> Ostreopsis ovata</p><p> Paraleucilla magna</p><p> Parvocalanus crassirostris</p><p> Percnon gibbesi</p><p> Pinctada imbricata </p><p> Siganus luridus</p><p> Siganus rivulatus</p><p> Sphyraena chrysotaenia</p><p> Stephanolepis diaspros</p><p> Xenostrobus securis</p>   \n",
       "2                                                                                                                                                                                                                                                                                                                                                                                                                                              <p>Brachidontes pharaonis</p><p> Caulerpa racemosa </p><p> Cerithium scabridum</p><p> Charybdis hellerii</p><p> Conomurex persicus </p><p> Fistularia commersonii</p><p> Infundibulops erythraeus </p><p> Lagocephalus sceleratus</p><p> Pinctada imbricata </p><p> Pseudonereis anomala</p><p> Siganus luridus</p><p> Siganus rivulatus</p>   \n",
       "3                                                                                                                                                                                                                                                                                                                                                                                                                              <p>Caulerpa racemosa var. cylindracea</p><p> Corbicula sp.</p><p> Crassostrea gigas</p><p> Crepidula fornicata</p><p> Eriocheir sinensis</p><p> Hemigrapsus sanguineus</p><p> Mnemiopsis leidyi</p><p> Mya arenaria</p><p> Mytilicola intestinalis</p><p> Mytilicola orientalis</p><p> Rapana venosa</p><p> Sargassum muticum</p><p> Undaria pinnatifida</p>   \n",
       "4                                                                                                                                                                                                                                                                                                                                                                                                                              <p>Caulerpa racemosa var. cylindracea</p><p> Corbicula sp.</p><p> Crassostrea gigas</p><p> Crepidula fornicata</p><p> Eriocheir sinensis</p><p> Hemigrapsus sanguineus</p><p> Mnemiopsis leidyi</p><p> Mya arenaria</p><p> Mytilicola intestinalis</p><p> Mytilicola orientalis</p><p> Rapana venosa</p><p> Sargassum muticum</p><p> Undaria pinnatifida</p>   \n",
       "\n",
       "                                                                 number  \\\n",
       "0   In Albania there are confirmed impacts from 1 marine alien species.   \n",
       "1  In Croatia there are confirmed impacts from 27 marine alien species.   \n",
       "2   In Cyprus there are confirmed impacts from 12 marine alien species.   \n",
       "3   In France there are confirmed impacts from 13 marine alien species.   \n",
       "4   In France there are confirmed impacts from 13 marine alien species.   \n",
       "\n",
       "     color Territory1  \\\n",
       "0  #C6CDC7    Albania   \n",
       "1  #3B5D65    Croatia   \n",
       "2  #8B9D9D     Cyprus   \n",
       "3  #8B9D9D     France   \n",
       "4  #8B9D9D     France   \n",
       "\n",
       "                                                                                                                                                                                                                                                                                                                                                                                                                                                                                                                                                                                                                                                                                                                                                                                                                                                                                                                                                                                                                                                                                                                                                                                                                                                                                                                                                                                                                                                                                                                                                                                                                                                                                                                                                                                                                                                                                                                                                                                                                                                                                                                                                                                                                                                                                                                                                                                                                                                                                                                                                                                                                                                                                                                                                                                                                                                                                                                                                                                                                                                                                                                                                                                                                                                                                                                                                                                                                                                                                                                                                                                                                                                                                                                                                                                                                                                                                                                                                                                                                                                                                                                                                                                                                                                                                                                                                                                                                                                                                                                                                                                                                                                                                                                                                                                                                                                                                                                                                                                                                                                                                                                                                                                                                                                                                                                                                                                                                                                                                                                                                                                                                                                                                                                                                                                                                                                                                                                                                                                                                                                                                                                                                                                                                                                                                                                                                                                                                                                                                                                                                                                                                                                                                                                                                                                                                                                                                                                                                                                                                                                                                                                                                                                                                                                                                                                                                                                                                                                                                                                                                                                                                                                                                                                                                                                                                                                                                                                                                                                                                                                                                                                                                                                                                                                                                                                                                                                                                                                                                                                                                                                                                                                                                                                                                                                                                                                                                                                                                                                                                                                                                                                                                                                                                                                                                                                                                                                                                                                                                                                                                                                                                                                                                                               geometry  \n",
       "0                                                                                                                                                                                                                                                                                                                                                                                                                                                                                                                                                                                                                                                                                                                                                                                                                                                                                                                                                                                                                                                                                                                                                                                                                                                                                                                                                                                                                                                                                                                                                                                                                                                                                                                                                                                                                                                                                                                                                                                                                                                                                                                                                                                                                                                                                                                                                                                                                                                                                                                                                                                                                                                                                                                                                                                                                                                                                                                                                                                                                                                                                                                                                                                                                                                                                                                                                                                                                                                                                                                                                                                                                                                                                                                                                                                                                                                                                                                                                                                                                                                                                                                                                                                                                                                                                                                                                                                                                                                                                                                                                                                                                                                                                                                                                                                                                                                                                                                                                                                                                                                                                                                                                                                                                                                                                                                                                                                                                                                                                                                                                                                                                                                                                                                                                                                                                                                                                                                                                                                                                                                                                                                                                                                                                                                                                                                                                                                                                                                                                                                                                                                                                                                                                                                                                                                                                                                                                                                                                                                                                                                                                                                                               POLYGON ((20.00835275627509 39.69182097885536, 19.98922386788738 39.64039404355043, 19.92855845261079 39.68670751733839, 19.97378969304023 39.78060828174708, 19.95701077272912 39.82745791874814, 19.75530877378105 39.91680909836143, 19.62224522413806 40.01131693213097, 19.44758781042935 40.03303725746377, 19.2644165805612 40.06674972931674, 18.99523827942332 40.08357977070759, 18.95138888868658 40.20361111146386, 18.87999999960061 40.31388888916126, 18.79583333334193 40.51222222197822, 18.75972222210316 40.59388888896129, 18.659444444206 40.88500000005024, 18.65861111081438 40.91749999962562, 18.59500000035001 41.10805555561973, 18.54277777747268 41.19361111146387, 18.32149306705168 41.44175138491869, 18.74873458683194 41.5490098030601, 18.89330972216621 41.59068421940142, 19.13062258266629 41.67048014004658, 19.32217446787763 41.70409392479493, 19.36683113864635 41.83663469583476, 19.38154804750468 41.99553954591343, 19.35092175033861 41.94160044170715, 19.38068962122921 41.8468883035525, 19.45400166554464 41.87777543109132, 19.619313001694 41.78425490813774, 19.57720804211769 41.74314534698013, 19.56960415820564 41.65226197261202, 19.60401582686922 41.63686084785013, 19.50650596617771 41.53994953634208, 19.51031434503122 41.48367714918132, 19.42095005510109 41.38604974709818, 19.43583571904327 41.31040060490415, 19.491145968312 41.3047535423423, 19.51678907885304 41.23848080644419, 19.47365307802735 41.16561734666334, 19.43709802635297 41.14681053158091, 19.45665574116978 41.07583451315233, 19.4390742775561 40.99937105193257, 19.47433722018681 40.96385240596391, 19.41652703279649 40.9229494334698, 19.37708377869362 40.79740655436922, 19.36723804499994 40.71802663761937, 19.32761085076035 40.63559114921227, 19.37181282070523 40.58325934394369, 19.37811517697409 40.53191494931565, 19.46024024459177 40.46253705044447, 19.48377764202485 40.34608185299527, 19.4215300081035 40.32131743405256, 19.40008044255862 40.38518142668158, 19.34166264531504 40.43329811131895, 19.29270792023448 40.41902720953811, 19.36915373765513 40.3410912748424, 19.37279164821618 40.30567371806774, 19.44393837415689 40.23378622505427, 19.65851533371611 40.12518906622256, 19.7000504729512 40.12014973132509, 19.79834604253605 40.05977857152411, 19.85572052008615 40.04302990440672, 19.9368062016452 39.94128525221279, 19.95374751073925 39.89626467257676, 20.02064144614602 39.84567964120268, 19.99800646262827 39.740827679354, 20.00835275627509 39.69182097885536))  \n",
       "1  POLYGON ((17.573436003469 42.93575914606805, 17.57238934459281 42.9358533140794, 17.56136779588729 42.93641608733282, 17.55655796078145 42.9363827251828, 17.55519951774374 42.9373287256405, 17.54666957943783 42.92495968763973, 17.55523136903264 42.92111880009287, 17.55571747508156 42.92092011107457, 17.56417840211185 42.9175504511926, 17.57704625987714 42.91274394357828, 17.58073965141392 42.91184754702698, 17.58186720790547 42.91153650660476, 17.59211848188272 42.90722639508232, 17.59483176167663 42.90591718003412, 17.60121901304728 42.90269314827043, 17.6036930192177 42.9023381444901, 17.60783829220372 42.90250782137917, 17.60978351140011 42.90215650841645, 17.61343978791615 42.90078726452094, 17.6190282002915 42.89804925337052, 17.62624422728948 42.89377089690959, 17.63005752273671 42.89195160078606, 17.6314612583306 42.89059093102679, 17.63508889143935 42.8872837137726, 17.63845268504355 42.88587493028416, 17.64372529868382 42.88352730674006, 17.52421104920091 42.91851067532747, 17.26942515364823 43.01113045170922, 17.16869366148364 43.0250438450974, 17.08424222489919 43.019576549818, 17.06683397251021 42.98387622820565, 17.21770691893931 42.98078465488811, 17.36348164106528 42.91289067246652, 17.41944491864854 42.91059625191576, 17.44175767867426 42.86945343023177, 17.72898185243093 42.79162132766243, 17.80632650896138 42.80612552167577, 17.96819245781603 42.71222555676439, 18.07031893696978 42.66982924922081, 18.06146860079565 42.64874815930034, 18.19907104948953 42.62303173512657, 18.23369681795413 42.55840504185943, 18.54411184618527 42.39990201066951, 18.54328846738917 42.34546412806742, 18.2666499670226 41.90697867522567, 18.01829859390534 41.62970220119587, 17.6166666669335 41.83666666673355, 17.31166666628405 41.91333333336701, 17.2166666668337 41.9916666667836, 16.61833333301723 42.26666666623407, 16.57305555536988 42.27972222240305, 16.48750000042509 42.21222222217801, 16.41861111151371 42.18805555561983, 16.28972222200315 42.18249999997533, 16.14638888853682 42.20694444463061, 16.05083333289252 42.25555555584447, 15.98611111093948 42.34222222227811, 15.98305555546966 42.43472222245293, 15.74666666653371 42.49166666668367, 15.36333333336711 42.61333333376666, 15.15833333341698 42.79833333321682, 15.01166666638392 42.98666666623382, 14.90833333301731 43.06333333376654, 14.58166666688356 43.42000000019988, 14.53333333376673 43.49500000005031, 14.40833333311724 43.64000000030012, 14.35666666643397 43.71666666693324, 14.17166666698347 43.89999999960065, 14.01500000015028 44.00833333331701, 13.66666666673365 44.18000000030008, 13.13499999975051 44.50000000020003, 13.113333333367 44.73833333311711, 13.07833333361685 44.97500000015026, 13.00833333321714 45.1849999995506, 13.10166666678361 45.33500000015033, 13.21166666638385 45.45333333366682, 13.31606526649904 45.52143135607253, 13.47651216250671 45.58116839040912, 13.54990367181728 45.50650426845749, 13.4899375441824 45.48620462374481, 13.52386212383828 45.43764233582533, 13.53970325000535 45.32777726690767, 13.5870599742388 45.28385973004276, 13.58527636501259 45.19085955662342, 13.60681390763608 45.1158055066191, 13.69002580684577 45.02324235425147, 13.76106214550191 44.98565375761495, 13.80174982569429 44.9309754367672, 13.82756721945185 44.83539164061199, 13.86740684525006 44.80822181668367, 13.99806571026471 44.80757904064046, 13.98253643480894 44.85174810888816, 14.0501868727261 44.93700706922095, 14.16984355413717 44.97888255148882, 14.16323864434827 45.04478621461237, 14.24394786340349 45.18200540552522, 14.27395427227225 45.28557455552152, 14.33349597475961 45.35128343088599, 14.46051597593191 45.32021701360463, 14.74010837060518 45.13832640663844, 14.84427225576042 45.1037174465032, 14.92703616578677 44.9509276149177, 14.89223384871337 44.87900054453974, 14.87905967196656 44.79087483870302, 14.89612197854677 44.69603621989592, 14.9889117483786 44.57334566117356, 15.10697007191163 44.50569641575726, 15.27711665620899 44.36591041043732, 15.4078104499925 44.31685590737453, 15.47911274425803 44.26850867253745, 15.41419851794768 44.25449526284609, 15.32884752729194 44.29291844383147, 15.2619385723076 44.25784564036411, 15.17802035815322 44.24275910834632, 15.16247665847141 44.17692863924538, 15.21054601628595 44.14540612719122, 15.28310191602083 44.06083905667742, 15.33208525213308 44.03568363229391, 15.46875000021259 43.91406249968469, 15.5154173374404 43.90395951312126, 15.58906352486213 43.84795403485117, 15.5735521315259 43.81681132358375, 15.65973985231267 43.79879224266824, 15.74812316894946 43.75044214708748, 15.87935864958234 43.7292777295836, 15.91927731049958 43.65046620325273, 15.92720925810107 43.5506967302702, 15.99810314144713 43.50024747853865, 16.09309184541274 43.47266983994143, 16.1728111501148 43.48571240900066, 16.22494447230986 43.51742291443622, 16.28003954888635 43.48807275255575, 16.30922770509483 43.53799521920433, 16.35745537236789 43.55136573324233, 16.51899504628477 43.49978637723984, 16.62952578079046 43.44564104050176, 16.71045887437771 43.42031335817518, 16.88977706416051 43.39343011400877, 17.05348205555276 43.26958644365976, 17.07768666720619 43.23340964324075, 17.16751074812294 43.17645347095117, 17.22867703451794 43.16117882684159, 17.34527194524435 43.10324275504945, 17.47782194602632 42.98273432213159, 17.573436003469 42.93575914606805), (14.3662954566704 44.79199492902291, 14.39748907046459 44.73716354356281, 14.33898592036422 44.71173524868311, 14.35265636459968 44.64359164234077, 14.42879986771999 44.66314864129703, 14.51717781990084 44.60864281671292, 14.44630491773802 44.87436807192927, 14.46517574746321 44.94508624033779, 14.42433214191522 44.98429071904172, 14.3602010011756 45.08863401444836, 14.36142563858277 45.1640604737122, 14.32191765307761 45.17553174459454, 14.27276682812692 45.11868894084222, 14.35481941668309 45.04649055039886, 14.3512450459225 45.00268280546732, 14.39313495151708 44.96691381971726, 14.38436126725884 44.90255022041669, 14.30387544609511 44.91246211543449, 14.33141660729103 44.8297524453194, 14.3662954566704 44.79199492902291), (14.54198801523512 45.17380821727562, 14.51344561542311 45.11675834642085, 14.43414843090574 45.0921993254388, 14.50525367291903 45.01987087683972, 14.62210547948445 45.00850856331959, 14.61969840535744 44.9772557021891, 14.73467314245198 44.93435621226973, 14.81138694255361 44.99047684692897, 14.66693806663881 45.09311437572819, 14.66800415536778 45.14637875547544, 14.58259284538366 45.22960972750701, 14.54198801523512 45.17380821727562), (14.72214734542393 44.84694635868783, 14.70039844503253 44.75483596280952, 14.82736813992796 44.7575137616509, 14.72214734542393 44.84694635868783), (14.73518812663116 44.70396125350931, 14.73329257968919 44.69016838096633, 14.8715589043203 44.54653453813876, 14.90644836390123 44.48431706388158, 15.08283627017801 44.39746880544124, 15.10198676567711 44.3251953126138, 15.15827691534781 44.30472207086723, 15.23624420130926 44.31863307925352, 15.24719154875135 44.34924745590541, 15.05329787749525 44.47667181475248, 14.90925955738277 44.61247336835152, 14.8527722358503 44.60325634440511, 14.73518812663116 44.70396125350931), (15.06092047719852 44.15534913515449, 15.06490373641861 44.13151907944234, 15.20024895692416 44.03210830645338, 15.18621921554467 44.09270274633491, 15.06092047719852 44.15534913515449), (15.20151364833652 43.86711561719227, 15.19414651365076 43.91564774544713, 15.04810380974334 44.01179730869893, 15.00928103928896 44.08278894385461, 14.9706571098381 44.08960175531683, 14.87282085459913 44.16724860653824, 14.82819294954538 44.14219737041253, 14.92089784136255 44.10422766177732, 15.00981307011722 44.0357848401984, 15.10066914556489 43.92928290388306, 15.20151364833652 43.86711561719227), (16.43477964396567 43.37531030182919, 16.42629635349431 43.32252705128263, 16.52974951253032 43.26948916938989, 16.6460604668174 43.25787544229803, 16.85464680210856 43.27082407447182, 16.89869487287046 43.31069195247198, 16.78139400512958 43.35730874510267, 16.60818111936351 43.38108468051388, 16.43477964396567 43.37531030182919), (16.56035363691097 43.23501932628113, 16.52516043220851 43.20336532614914, 16.45419204272895 43.20812094202819, 16.38995504369075 43.1863545183466, 16.65688240559894 43.12166357031765, 16.78166985508011 43.12695312538659, 16.8918179271559 43.11414110652709, 17.11479091686755 43.11307954768324, 17.10644590885175 43.13451755064449, 16.95955491043117 43.15191173583804, 16.71237444922173 43.15959894643447, 16.65034556369721 43.21789693869283, 16.56035363691097 43.23501932628113), (16.18785321695276 43.07868015746351, 16.07997310197754 43.07031095049024, 16.11132037663447 43.00719296888042, 16.22247302560993 43.0226056580247, 16.25791120563792 43.05968332282731, 16.18785321695276 43.07868015746351), (16.69289135924924 42.9941674473701, 16.64039695295736 42.92401504515851, 16.86453855051383 42.8931915761305, 16.96204447757094 42.92318415612414, 17.12013804923203 42.90653645948993, 17.14674603969826 42.95733964480883, 17.04660057995306 42.97288024452791, 16.8447991609529 42.96048223936407, 16.69289135924924 42.9941674473701), (17.36693012742359 42.80515396608297, 17.3792151210813 42.75716447795867, 17.56497240095598 42.72262990434683, 17.66823327504596 42.73650026337668, 17.38490784132409 42.78815340965224, 17.36693012742359 42.80515396608297))  \n",
       "2                                                                                                                                                                                                                                                                                                                                                                                                                                                                                                                                                                                                                                                                                                                                                                                                                                                                                                                                                                                                                                                                                                                                                                                                                                                                                                                                                                                                                                                                                                                                                                                                                                                                                                                                                                                                                                                                                                                                                                                                                                                                                                                                                                                                                                                                                                                                                                                                                                                                                                                                                                                                                                                                                                                                                                                                                                                                                                                                                                                                                                                                                                                                                                                                                                                                                                                                                                                                                                                                                                                                                                                                                                                                                                                                                                                                                                                                                                                                                                                                                                                                                                                                                                                                                                                                                                                                                                                                                                                                                                                                                                                                                                                                                                                                                                                                                                                                                                                                                                                                                                                                                                                                                                                                                                                                                                                                                                                                                                                    POLYGON ((35.16211568728949 36.01638803997616, 35.19429819290775 35.8365342724388, 35.13180356018637 35.46792154794124, 35.11774646502778 35.30877593226359, 35.0912350257758 35.15139477654779, 34.97357911468481 34.99276267016111, 34.96334167318008 34.81244571669654, 34.91440365210696 34.69206323652921, 34.71229168011706 34.37124978275139, 34.29315014356433 33.99379959317676, 34.23528780808596 33.96088807642363, 33.97422461857155 33.73982467386961, 33.89444444415614 33.64444444465548, 33.69465298834501 33.48099254856743, 33.4505555559943 33.28222222257753, 32.97222222247757 32.88888888871136, 32.51666666683383 33.01111111108904, 32.02222222257802 33.12222222217795, 31.60833333291754 33.19166666638361, 31.11666666693367 33.35555555564463, 30.61111111138899 33.51111111098911, 30.47500000035024 33.56666666653356, 30.08333333326715 33.75000000010019, 29.93981218448533 33.78316201131796, 29.84647999845373 33.82085348769849, 30.10359235470384 34.20922587697288, 30.27677993624565 34.45588789071371, 30.43867811770161 34.61914503411614, 30.79722298495341 35.01437167111595, 31.01565826631639 35.26146748004018, 31.2336087780231 35.51613367313072, 31.38955010025705 35.6838161150217, 31.74196151561188 35.68086293477683, 32.04501731959402 35.66001645189786, 32.25112547855832 35.63049397092013, 32.42557749520569 35.62733844681199, 32.65219721063301 35.68352766916675, 33.03341373665506 35.73243688045787, 33.24514602996584 35.72717089572035, 33.3327900130493 35.74072447035826, 33.50620952794765 35.73951889588051, 33.75053606348882 35.78158463782103, 33.84981776128092 35.80473736283918, 33.99850784895858 35.88276987932662, 34.14928834508152 35.9260388089441, 34.39498830007057 36.04696039220846, 34.62853484210979 36.1826192575729, 34.76049922595911 36.21910999602957, 34.91186862423825 36.16228044288837, 35.16211568728949 36.01638803997616), (34.53692126230663 35.68046236054951, 34.35570526108921 35.6237606999963, 34.29032564191488 35.57647144829866, 34.17246854348849 35.5592359304938, 34.12577891386599 35.50546956087152, 33.97527730470387 35.44566643265975, 33.8500542640931 35.41245734732877, 33.77196264236221 35.41387760616658, 33.64680576307552 35.35708844697419, 33.48461806737015 35.33203125014208, 33.34812426602224 35.33544445070081, 33.1326791045571 35.36434483554572, 33.09232544876062 35.35275697745254, 32.99162495173044 35.36890506741491, 32.92002058058557 35.40322732907791, 32.94034993620102 35.29627513908645, 32.89860224759599 35.17586660376071, 32.82627654102981 35.14095425643373, 32.65039026759683 35.1963567734463, 32.54879415013016 35.17314267149715, 32.48622965807266 35.08094644522228, 32.40873825556622 35.03977513301595, 32.3059799667023 35.08327686743348, 32.27252912561897 35.04740512334777, 32.30820083619966 35.004883051012, 32.31643736349389 34.89905893821938, 32.38928270373407 34.8390785455384, 32.42519414389466 34.74310791499823, 32.49691450599988 34.70321834085374, 32.55657494058113 34.69750952724291, 32.70547843018556 34.6410185094966, 32.79147040813308 34.66393685320327, 32.88034963612682 34.66372024968973, 32.94012153178352 34.56884074230638, 33.02917265889124 34.5620250701009, 33.00635886227184 34.61268723003158, 33.01775705784218 34.65371203458275, 33.06499958076614 34.68631827826587, 33.14847576644348 34.71270811568695, 33.27096521876996 34.70792746538024, 33.36992645304377 34.73107421440349, 33.56040787702187 34.82028293600865, 33.60376405706603 34.81676781168522, 33.6397602556313 34.86539924128195, 33.64033377128663 34.92847144560076, 33.66429674589841 34.96527445295362, 33.75191354787233 34.98213040829171, 33.85625517323803 34.94306886153873, 33.90723764919841 34.97298777086891, 34.07702434100059 34.99015915352211, 33.91201961071687 35.16155374051269, 33.90334284279817 35.24840223817276, 33.95574295517321 35.31526374852319, 34.06220173841967 35.32626056677174, 34.08101630206096 35.36855220761831, 34.1365672350899 35.41702353990445, 34.28456652202766 35.47880744920442, 34.40937185272907 35.55693233056255, 34.42544436456609 35.59275734407615, 34.57556450379906 35.65670955210413, 34.53692126230663 35.68046236054951))  \n",
       "3                                                                                                                                                                                                                                                                                                                                                                                                                                                                                                                                                                                                                                                                                                                                                                                                                                                                                                                                                                                                                                                                                                                                                                                                                                                                                                                                                                                                                                                                                                                                                                                                                                                                                                                                                                                                                                                                                                                                                                                                                                                                                                                                                                                                                                                                                                                                                                                                                                                                                                                                                                                                                                                                                                                                                                                                                                                                                                                                                                                                                                                                                                                                                                                                                                                                                                                                                                                                                                                                                                                                                                                                                                                                                                                                                                                                                                                                                                                                                                                                                                                                                                                                                                                                                                                                                                                                                                                                                                                                                                                                                                                                                                                                                                                                                                                                                                                                                                                                                                                                                                                                                                                                                                                                                                                                                                                                                                                                                                                                                                                                                                                                                                                                                                                                                                                                                                                                                                                                                                                                                                                                                                                                                                                                                                                                                                                                                                                                                                                                                                                                                                                                                                                                                                                                                                                                                                                                                                                                                                                                                                                                                                                                                                                                                                                                                                                                                                                                                                                                                                                                                                                                                                                                                                                                                                                                                                                                                                                                                                                                                                                                                                                                                                                                                                                                                                                                                                                                                                                                                                                                                                                                                                                                                                                                                                                                                                                                                                                                                                                                                                                                                                                                                                                                                                                                                                                                                                                                                                                                                                              POLYGON ((-4.999999999799826 45.00833333311694, -5.666666666333356 45.00833333311694, -5.666666666333356 45.50000000000021, -4.999999999799826 45.50000000000021, -4.999999999799826 45.00833333311694))  \n",
       "4                                                                                                                                                                                                                                                                                                                                                                                                                                                                                                                                                                                                                                                                                                                                                                                                                                                                                                                                                                                                                                                                                                                                                                                                                                                                                                                                                                                                                                                                                                                                                                                                                                                                                                                                                                                                                                                                                                                                                                                                                                                                                                                                                                                                                                                                                                                                                                                                                                                                                                                                                                                                                                                                                                                                                                                                                                                                                                                                                                                                                                                                                                                                                                                                                                                                                                                                                                                                                                                                                                                                                                                                                                                                                                                                                                                                                                                                                                                                                                                                                                                                                                                                                                                                                                                                                                                                                                                                                                                                                                                                                                                                                                                                                                                                                                                                                                                                                                                                                                                                                                                                                                                                                                                                                                                                                                                                                                                                                                                                                                                                                                                                                                                                                                                                                                                                                                                                                                                                                                                                                                                                                                                                                                                                                                                                                                                                                                                                                                                                                                                                                                                                                                                                                                                                                                                                                                                                                                                                                                                                                                                                                                                                                                                                                                                                                                                                                                                                                                                                                                                                                                                                                                                                                                                                                                                                                                                                                                                                                                                                                                                                                                                                                                                                                                                                                                                                                                                                                                                                                                                                                                                                                                                                                                                                                                                                                                                                                                                                                                                                                                                                                                                                                                                                                                                                                                                                                                                                                                                                              POLYGON ((9.098888889311297 41.31134646686613, 9.098888889311098 41.27111111148892, 8.998888888611646 41.27111111148892, 8.998888888611646 41.34333333306714, 9.098888889311098 41.34305555586937, 9.098888889311297 41.31134646686613))  "
      ]
     },
     "execution_count": 22,
     "metadata": {},
     "output_type": "execute_result"
    }
   ],
   "source": [
    "df_pres = pd.merge(df_species,countries[['Territory1','geometry']],left_on='country', right_on='Territory1', how='left')\n",
    "df_pres.head()"
   ]
  },
  {
   "cell_type": "code",
   "execution_count": 24,
   "metadata": {
    "collapsed": true
   },
   "outputs": [],
   "source": [
    "from geopandas import GeoDataFrame\n",
    "geo_df = GeoDataFrame(df_pres)"
   ]
  },
  {
   "cell_type": "code",
   "execution_count": 25,
   "metadata": {},
   "outputs": [
    {
     "data": {
      "text/plain": [
       "geopandas.geodataframe.GeoDataFrame"
      ]
     },
     "execution_count": 25,
     "metadata": {},
     "output_type": "execute_result"
    }
   ],
   "source": [
    "type(geo_df)\n"
   ]
  },
  {
   "cell_type": "code",
   "execution_count": 26,
   "metadata": {
    "collapsed": true
   },
   "outputs": [],
   "source": [
    "geo_df.to_file(\"pr_geo.geojson\", driver='GeoJSON')"
   ]
  },
  {
   "cell_type": "code",
   "execution_count": null,
   "metadata": {
    "collapsed": true
   },
   "outputs": [],
   "source": []
  }
 ],
 "metadata": {
  "kernelspec": {
   "display_name": "Python 3",
   "language": "python",
   "name": "python3"
  },
  "language_info": {
   "codemirror_mode": {
    "name": "ipython",
    "version": 3
   },
   "file_extension": ".py",
   "mimetype": "text/x-python",
   "name": "python",
   "nbconvert_exporter": "python",
   "pygments_lexer": "ipython3",
   "version": "3.6.1"
  }
 },
 "nbformat": 4,
 "nbformat_minor": 2
}
