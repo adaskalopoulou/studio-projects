{
 "cells": [
  {
   "cell_type": "code",
   "execution_count": 2,
   "metadata": {
    "collapsed": true
   },
   "outputs": [],
   "source": [
    "import pandas as pd"
   ]
  },
  {
   "cell_type": "code",
   "execution_count": 6,
   "metadata": {},
   "outputs": [
    {
     "data": {
      "text/html": [
       "<div>\n",
       "<style>\n",
       "    .dataframe thead tr:only-child th {\n",
       "        text-align: right;\n",
       "    }\n",
       "\n",
       "    .dataframe thead th {\n",
       "        text-align: left;\n",
       "    }\n",
       "\n",
       "    .dataframe tbody tr th {\n",
       "        vertical-align: top;\n",
       "    }\n",
       "</style>\n",
       "<table border=\"1\" class=\"dataframe\">\n",
       "  <thead>\n",
       "    <tr style=\"text-align: right;\">\n",
       "      <th></th>\n",
       "      <th>name</th>\n",
       "      <th>country</th>\n",
       "      <th>kingdom</th>\n",
       "      <th>system</th>\n",
       "      <th>origin</th>\n",
       "      <th>impact</th>\n",
       "      <th>authority</th>\n",
       "    </tr>\n",
       "  </thead>\n",
       "  <tbody>\n",
       "    <tr>\n",
       "      <th>0</th>\n",
       "      <td>Acabaria erythraea</td>\n",
       "      <td>Israel</td>\n",
       "      <td>Animalia</td>\n",
       "      <td>marine</td>\n",
       "      <td>Alien</td>\n",
       "      <td>Yes</td>\n",
       "      <td>(Ehrenberg, 1834)</td>\n",
       "    </tr>\n",
       "    <tr>\n",
       "      <th>1</th>\n",
       "      <td>Acar plicata</td>\n",
       "      <td>Israel</td>\n",
       "      <td>Animalia</td>\n",
       "      <td>marine</td>\n",
       "      <td>Alien</td>\n",
       "      <td>Yes</td>\n",
       "      <td>(Dillwyn, 1817)</td>\n",
       "    </tr>\n",
       "    <tr>\n",
       "      <th>2</th>\n",
       "      <td>Acartia tonsa</td>\n",
       "      <td>Spain</td>\n",
       "      <td>Animalia</td>\n",
       "      <td>marine</td>\n",
       "      <td>Alien</td>\n",
       "      <td>Yes</td>\n",
       "      <td>Dana, 1849</td>\n",
       "    </tr>\n",
       "    <tr>\n",
       "      <th>3</th>\n",
       "      <td>Acrothamnion preissii</td>\n",
       "      <td>Spain</td>\n",
       "      <td>Plantae</td>\n",
       "      <td>marine</td>\n",
       "      <td>Alien</td>\n",
       "      <td>Yes</td>\n",
       "      <td>E.M.Wollaston (Sonder)</td>\n",
       "    </tr>\n",
       "    <tr>\n",
       "      <th>4</th>\n",
       "      <td>Alepes djedaba</td>\n",
       "      <td>Israel</td>\n",
       "      <td>Animalia</td>\n",
       "      <td>marine</td>\n",
       "      <td>Alien</td>\n",
       "      <td>Yes</td>\n",
       "      <td>(Forsskål, 1775)</td>\n",
       "    </tr>\n",
       "  </tbody>\n",
       "</table>\n",
       "</div>"
      ],
      "text/plain": [
       "                    name country   kingdom  system origin impact  \\\n",
       "0     Acabaria erythraea  Israel  Animalia  marine  Alien    Yes   \n",
       "1           Acar plicata  Israel  Animalia  marine  Alien    Yes   \n",
       "2          Acartia tonsa   Spain  Animalia  marine  Alien    Yes   \n",
       "3  Acrothamnion preissii   Spain   Plantae  marine  Alien    Yes   \n",
       "4         Alepes djedaba  Israel  Animalia  marine  Alien    Yes   \n",
       "\n",
       "                authority  \n",
       "0       (Ehrenberg, 1834)  \n",
       "1         (Dillwyn, 1817)  \n",
       "2              Dana, 1849  \n",
       "3  E.M.Wollaston (Sonder)  \n",
       "4        (Forsskål, 1775)  "
      ]
     },
     "execution_count": 6,
     "metadata": {},
     "output_type": "execute_result"
    }
   ],
   "source": [
    "df = pd.read_excel(\"invasive.xlsx\")\n",
    "df.head()"
   ]
  },
  {
   "cell_type": "code",
   "execution_count": 12,
   "metadata": {},
   "outputs": [
    {
     "data": {
      "text/plain": [
       "country\n",
       "Albania      1\n",
       "Croatia     27\n",
       "Cyprus      12\n",
       "France      13\n",
       "Greece       3\n",
       "Israel      64\n",
       "Malta       11\n",
       "Slovenia     1\n",
       "Spain       13\n",
       "Tunisia     22\n",
       "Turkey      30\n",
       "Name: name, dtype: int64"
      ]
     },
     "execution_count": 12,
     "metadata": {},
     "output_type": "execute_result"
    }
   ],
   "source": [
    "df.groupby('country')['name'].count()"
   ]
  },
  {
   "cell_type": "code",
   "execution_count": null,
   "metadata": {
    "collapsed": true
   },
   "outputs": [],
   "source": []
  }
 ],
 "metadata": {
  "kernelspec": {
   "display_name": "Python 3",
   "language": "python",
   "name": "python3"
  },
  "language_info": {
   "codemirror_mode": {
    "name": "ipython",
    "version": 3
   },
   "file_extension": ".py",
   "mimetype": "text/x-python",
   "name": "python",
   "nbconvert_exporter": "python",
   "pygments_lexer": "ipython3",
   "version": "3.6.1"
  }
 },
 "nbformat": 4,
 "nbformat_minor": 2
}
