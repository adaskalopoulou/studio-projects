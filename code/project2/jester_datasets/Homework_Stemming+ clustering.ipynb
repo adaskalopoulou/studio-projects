{
 "cells": [
  {
   "cell_type": "code",
   "execution_count": 3,
   "metadata": {
    "collapsed": true
   },
   "outputs": [],
   "source": [
    "import pandas as pd\n",
    "import numpy as np\n",
    "%matplotlib inline\n",
    "import pandas as pd\n",
    "import matplotlib.pyplot as plt\n",
    "import matplotlib\n",
    "matplotlib.rcParams['pdf.fonttype'] =42\n",
    "import matplotlib.ticker as ticker\n",
    "import matplotlib.patches as mpatches\n",
    "import re\n",
    "from textblob import TextBlob\n",
    "from sklearn.feature_extraction.text import CountVectorizer\n",
    "from sklearn.feature_extraction.text import TfidfVectorizer"
   ]
  },
  {
   "cell_type": "code",
   "execution_count": 4,
   "metadata": {},
   "outputs": [
    {
     "data": {
      "text/html": [
       "<div>\n",
       "<style>\n",
       "    .dataframe thead tr:only-child th {\n",
       "        text-align: right;\n",
       "    }\n",
       "\n",
       "    .dataframe thead th {\n",
       "        text-align: left;\n",
       "    }\n",
       "\n",
       "    .dataframe tbody tr th {\n",
       "        vertical-align: top;\n",
       "    }\n",
       "</style>\n",
       "<table border=\"1\" class=\"dataframe\">\n",
       "  <thead>\n",
       "    <tr style=\"text-align: right;\">\n",
       "      <th></th>\n",
       "      <th>Number</th>\n",
       "      <th>ratings2</th>\n",
       "      <th>ratings1</th>\n",
       "      <th>counts2</th>\n",
       "      <th>counts1</th>\n",
       "      <th>dev2</th>\n",
       "      <th>dev1</th>\n",
       "      <th>Text</th>\n",
       "      <th>length</th>\n",
       "      <th>word_leng</th>\n",
       "    </tr>\n",
       "  </thead>\n",
       "  <tbody>\n",
       "    <tr>\n",
       "      <th>0</th>\n",
       "      <td>1</td>\n",
       "      <td>NaN</td>\n",
       "      <td>0.901997</td>\n",
       "      <td>0</td>\n",
       "      <td>32024.0</td>\n",
       "      <td>NaN</td>\n",
       "      <td>5.242998</td>\n",
       "      <td>A man visits the doctor. The doctor says, I ha...</td>\n",
       "      <td>30</td>\n",
       "      <td>short</td>\n",
       "    </tr>\n",
       "    <tr>\n",
       "      <th>1</th>\n",
       "      <td>2</td>\n",
       "      <td>NaN</td>\n",
       "      <td>0.162989</td>\n",
       "      <td>0</td>\n",
       "      <td>35277.0</td>\n",
       "      <td>NaN</td>\n",
       "      <td>5.627972</td>\n",
       "      <td>This couple had an excellent relationship goin...</td>\n",
       "      <td>69</td>\n",
       "      <td>medium</td>\n",
       "    </tr>\n",
       "    <tr>\n",
       "      <th>2</th>\n",
       "      <td>3</td>\n",
       "      <td>NaN</td>\n",
       "      <td>0.193411</td>\n",
       "      <td>0</td>\n",
       "      <td>32402.0</td>\n",
       "      <td>NaN</td>\n",
       "      <td>5.448998</td>\n",
       "      <td>Q. Whats 200 feet long and has 4 teeth?A. The ...</td>\n",
       "      <td>17</td>\n",
       "      <td>short</td>\n",
       "    </tr>\n",
       "    <tr>\n",
       "      <th>3</th>\n",
       "      <td>4</td>\n",
       "      <td>NaN</td>\n",
       "      <td>-1.412599</td>\n",
       "      <td>0</td>\n",
       "      <td>30512.0</td>\n",
       "      <td>NaN</td>\n",
       "      <td>5.276202</td>\n",
       "      <td>Q. Whats the difference between a man and a to...</td>\n",
       "      <td>21</td>\n",
       "      <td>short</td>\n",
       "    </tr>\n",
       "    <tr>\n",
       "      <th>4</th>\n",
       "      <td>5</td>\n",
       "      <td>-2.034618</td>\n",
       "      <td>0.235352</td>\n",
       "      <td>566</td>\n",
       "      <td>73405.0</td>\n",
       "      <td>5.423289</td>\n",
       "      <td>5.302902</td>\n",
       "      <td>Q. Whats O. J. Simpsons web address?A. Slash, ...</td>\n",
       "      <td>13</td>\n",
       "      <td>very short</td>\n",
       "    </tr>\n",
       "  </tbody>\n",
       "</table>\n",
       "</div>"
      ],
      "text/plain": [
       "   Number  ratings2  ratings1  counts2  counts1      dev2      dev1  \\\n",
       "0       1       NaN  0.901997        0  32024.0       NaN  5.242998   \n",
       "1       2       NaN  0.162989        0  35277.0       NaN  5.627972   \n",
       "2       3       NaN  0.193411        0  32402.0       NaN  5.448998   \n",
       "3       4       NaN -1.412599        0  30512.0       NaN  5.276202   \n",
       "4       5 -2.034618  0.235352      566  73405.0  5.423289  5.302902   \n",
       "\n",
       "                                                Text  length   word_leng  \n",
       "0  A man visits the doctor. The doctor says, I ha...      30       short  \n",
       "1  This couple had an excellent relationship goin...      69      medium  \n",
       "2  Q. Whats 200 feet long and has 4 teeth?A. The ...      17       short  \n",
       "3  Q. Whats the difference between a man and a to...      21       short  \n",
       "4  Q. Whats O. J. Simpsons web address?A. Slash, ...      13  very short  "
      ]
     },
     "execution_count": 4,
     "metadata": {},
     "output_type": "execute_result"
    }
   ],
   "source": [
    "df1 = pd.read_csv(\"df_all.csv\")\n",
    "del df1['Unnamed: 0']\n",
    "df1.head()"
   ]
  },
  {
   "cell_type": "code",
   "execution_count": 5,
   "metadata": {},
   "outputs": [
    {
     "name": "stdout",
     "output_type": "stream",
     "text": [
      "CPU times: user 740 ms, sys: 5.55 ms, total: 745 ms\n",
      "Wall time: 813 ms\n"
     ]
    }
   ],
   "source": [
    "%%time\n",
    "from sklearn.feature_extraction.text import TfidfVectorizer\n",
    "from textblob import TextBlob\n",
    "\n",
    "def textblob_tokenizer(str_input):\n",
    "    blob = TextBlob(str_input.lower())\n",
    "    tokens = blob.words\n",
    "    words = [token.stem() for token in tokens]\n",
    "    return words\n",
    "\n",
    "vec = TfidfVectorizer(tokenizer=textblob_tokenizer,\n",
    "                      stop_words='english',\n",
    "                      max_df =0.9, # if you're in >90%, ignore\n",
    "                      min_df =0.15, # if you're only in 15%, ignore\n",
    "                      use_idf=True)\n",
    "\n",
    "# Fit from the 'text' column of our dataframe\n",
    "matrix = vec.fit_transform(df1['Text'])\n",
    "\n",
    "# Then turn it into a new dataframe\n",
    "results = pd.DataFrame(matrix.toarray(), columns=vec.get_feature_names())"
   ]
  },
  {
   "cell_type": "code",
   "execution_count": 6,
   "metadata": {},
   "outputs": [
    {
     "data": {
      "text/html": [
       "<div>\n",
       "<style>\n",
       "    .dataframe thead tr:only-child th {\n",
       "        text-align: right;\n",
       "    }\n",
       "\n",
       "    .dataframe thead th {\n",
       "        text-align: left;\n",
       "    }\n",
       "\n",
       "    .dataframe tbody tr th {\n",
       "        vertical-align: top;\n",
       "    }\n",
       "</style>\n",
       "<table border=\"1\" class=\"dataframe\">\n",
       "  <thead>\n",
       "    <tr style=\"text-align: right;\">\n",
       "      <th></th>\n",
       "      <th>ask</th>\n",
       "      <th>hi</th>\n",
       "      <th>look</th>\n",
       "      <th>man</th>\n",
       "      <th>repli</th>\n",
       "      <th>said</th>\n",
       "      <th>say</th>\n",
       "      <th>thi</th>\n",
       "      <th>wa</th>\n",
       "    </tr>\n",
       "  </thead>\n",
       "  <tbody>\n",
       "    <tr>\n",
       "      <th>0</th>\n",
       "      <td>0.000000</td>\n",
       "      <td>0.000000</td>\n",
       "      <td>0.0</td>\n",
       "      <td>0.842112</td>\n",
       "      <td>0.401275</td>\n",
       "      <td>0.000000</td>\n",
       "      <td>0.360313</td>\n",
       "      <td>0.000000</td>\n",
       "      <td>0.000000</td>\n",
       "    </tr>\n",
       "    <tr>\n",
       "      <th>1</th>\n",
       "      <td>0.400093</td>\n",
       "      <td>0.350029</td>\n",
       "      <td>0.0</td>\n",
       "      <td>0.000000</td>\n",
       "      <td>0.409332</td>\n",
       "      <td>0.458754</td>\n",
       "      <td>0.000000</td>\n",
       "      <td>0.419115</td>\n",
       "      <td>0.404648</td>\n",
       "    </tr>\n",
       "    <tr>\n",
       "      <th>2</th>\n",
       "      <td>0.000000</td>\n",
       "      <td>0.000000</td>\n",
       "      <td>0.0</td>\n",
       "      <td>0.000000</td>\n",
       "      <td>0.000000</td>\n",
       "      <td>0.000000</td>\n",
       "      <td>0.000000</td>\n",
       "      <td>0.000000</td>\n",
       "      <td>0.000000</td>\n",
       "    </tr>\n",
       "    <tr>\n",
       "      <th>3</th>\n",
       "      <td>0.000000</td>\n",
       "      <td>0.000000</td>\n",
       "      <td>0.0</td>\n",
       "      <td>1.000000</td>\n",
       "      <td>0.000000</td>\n",
       "      <td>0.000000</td>\n",
       "      <td>0.000000</td>\n",
       "      <td>0.000000</td>\n",
       "      <td>0.000000</td>\n",
       "    </tr>\n",
       "    <tr>\n",
       "      <th>4</th>\n",
       "      <td>0.000000</td>\n",
       "      <td>0.000000</td>\n",
       "      <td>0.0</td>\n",
       "      <td>0.000000</td>\n",
       "      <td>0.000000</td>\n",
       "      <td>0.000000</td>\n",
       "      <td>0.000000</td>\n",
       "      <td>0.000000</td>\n",
       "      <td>0.000000</td>\n",
       "    </tr>\n",
       "  </tbody>\n",
       "</table>\n",
       "</div>"
      ],
      "text/plain": [
       "        ask        hi  look       man     repli      said       say       thi  \\\n",
       "0  0.000000  0.000000   0.0  0.842112  0.401275  0.000000  0.360313  0.000000   \n",
       "1  0.400093  0.350029   0.0  0.000000  0.409332  0.458754  0.000000  0.419115   \n",
       "2  0.000000  0.000000   0.0  0.000000  0.000000  0.000000  0.000000  0.000000   \n",
       "3  0.000000  0.000000   0.0  1.000000  0.000000  0.000000  0.000000  0.000000   \n",
       "4  0.000000  0.000000   0.0  0.000000  0.000000  0.000000  0.000000  0.000000   \n",
       "\n",
       "         wa  \n",
       "0  0.000000  \n",
       "1  0.404648  \n",
       "2  0.000000  \n",
       "3  0.000000  \n",
       "4  0.000000  "
      ]
     },
     "execution_count": 6,
     "metadata": {},
     "output_type": "execute_result"
    }
   ],
   "source": [
    "results.head()"
   ]
  },
  {
   "cell_type": "code",
   "execution_count": 7,
   "metadata": {},
   "outputs": [
    {
     "name": "stdout",
     "output_type": "stream",
     "text": [
      "Fitting 5 clusters usinga  (150, 9) matrix\n",
      "CPU times: user 147 ms, sys: 16.4 ms, total: 164 ms\n",
      "Wall time: 234 ms\n"
     ]
    }
   ],
   "source": [
    "%%time\n",
    "from sklearn.cluster import KMeans\n",
    "\n",
    "number_of_clusters=5\n",
    "km = KMeans(n_clusters=number_of_clusters)\n",
    "\n",
    "print(\"Fitting\", number_of_clusters, \"clusters usinga \", matrix.shape, \"matrix\")\n",
    "\n",
    "km.fit(matrix)\n",
    "km.fit"
   ]
  },
  {
   "cell_type": "code",
   "execution_count": 8,
   "metadata": {},
   "outputs": [
    {
     "name": "stdout",
     "output_type": "stream",
     "text": [
      "Top terms per cluster:\n",
      "Cluster 0: look ask repli thi man\n",
      "Cluster 1: say thi hi repli look\n",
      "Cluster 2: hi look ask wa say\n",
      "Cluster 3: man say ask repli wa\n",
      "Cluster 4: wa said repli hi ask\n"
     ]
    }
   ],
   "source": [
    "print(\"Top terms per cluster:\")\n",
    "order_centroids = km.cluster_centers_.argsort()[:, ::-1]\n",
    "terms = vec.get_feature_names()\n",
    "for i in range(number_of_clusters):\n",
    "    top_ten_words = [terms[ind] for ind in order_centroids[i, :5]]\n",
    "    print(\"Cluster {}: {}\".format(i, ' '.join(top_ten_words)))"
   ]
  },
  {
   "cell_type": "code",
   "execution_count": 9,
   "metadata": {},
   "outputs": [
    {
     "data": {
      "text/plain": [
       "0      A man visits the doctor. The doctor says, I ha...\n",
       "1      This couple had an excellent relationship goin...\n",
       "2      Q. Whats 200 feet long and has 4 teeth?A. The ...\n",
       "3      Q. Whats the difference between a man and a to...\n",
       "4      Q. Whats O. J. Simpsons web address?A. Slash, ...\n",
       "5      Bill and Hillary Clinton are on a trip back to...\n",
       "6      How many feminists does it take to screw in a ...\n",
       "7      Q. Did you hear about the dyslexic devil worsh...\n",
       "8      A country guy goes into a city bar that has a ...\n",
       "9      Two cannibals are eating a clown. One turns to...\n",
       "10     Q. What do a hurricane, a tornado, and a redne...\n",
       "11     A guy stood over his tee shot for what seemed ...\n",
       "12     They asked the Japanese visitor if they have e...\n",
       "13     The father was very anxious to marry off his o...\n",
       "14     Q:What did the blind person say when given som...\n",
       "15     Q. What is orange and sounds like a parrot?A. ...\n",
       "16     How many men does it take to screw in a light ...\n",
       "17     A dog walks into Western Union and asks the cl...\n",
       "18     Q:If a person who speaks three languages is ca...\n",
       "19     Whats the difference between a Macintosh and a...\n",
       "20     Whats the difference between a used tire and 3...\n",
       "21     A duck walks into a pharmacy and asks for a co...\n",
       "22     Q:What is the Australian word for a boomerang ...\n",
       "23     What do you get when you run over a parakeet w...\n",
       "24     Two kindergarten girls were talking outside:on...\n",
       "25     A guy walks into a bar and sits down next to a...\n",
       "26     Bill Clinton returns from a vacation in Arkans...\n",
       "27     A mechanical engineer, an electrical engineer,...\n",
       "28     An old Scotsman is sitting with a younger Scot...\n",
       "29     Q:Whats the difference between a lawyer and a ...\n",
       "                             ...                        \n",
       "120    A drunk staggers into a Catholic Church, enter...\n",
       "121    An astronomer, a physicist and a mathematician...\n",
       "122    When most people claim to be killing time, its...\n",
       "123    Person 1:Hey, wanna hear a great knock-knock j...\n",
       "124    An American tourist goes into a restaurant in ...\n",
       "125    A Briton, a Frenchman and a Russian are viewin...\n",
       "126    A little boy goes to his dad and asks, What is...\n",
       "127    An American, a Scot and a Canadian were in a t...\n",
       "128    A group of girlfriends is on vacation when the...\n",
       "129    An old man goes to the doctor for his yearly p...\n",
       "130    A guy had been feeling down for so long that h...\n",
       "131    Mickey Mouse is having a nasty divorce with Mi...\n",
       "132    The new employee stood before the paper shredd...\n",
       "133    An artist asked the gallery owner if there had...\n",
       "134    A guy walked past a mental hospital and heard ...\n",
       "135    A man went to apply for a job. After filling o...\n",
       "136    Deep within a forest, a little turtle began to...\n",
       "137    WASHINGTON (Reuters) - A tragic fire on Monday...\n",
       "138    In a Veterans Day speech, President Bush vowed...\n",
       "139    Chuck Norris calendar goes straight from March...\n",
       "140    Jack Bauer can get McDonalds breakfast after 1...\n",
       "141    One day, three men went to a shrine to ask the...\n",
       "142    A preist, a 12-year-old kid, and the smartest ...\n",
       "143    A man is driving in the country one evening wh...\n",
       "144    A blonde, brunette, and a red head are all lin...\n",
       "145    America: 8:00 - Welcome to work!, 12:00 - Lunc...\n",
       "146    It was the day of the big sale. Rumors of the ...\n",
       "147    Recently a teacher, a garbage collector, and a...\n",
       "148    A little girl asked her father, Daddy? Do all ...\n",
       "149    In an interview with David Letterman, Carter p...\n",
       "Name: Text, Length: 150, dtype: object"
      ]
     },
     "execution_count": 9,
     "metadata": {},
     "output_type": "execute_result"
    }
   ],
   "source": [
    "df1.Text"
   ]
  },
  {
   "cell_type": "code",
   "execution_count": 10,
   "metadata": {
    "collapsed": true
   },
   "outputs": [],
   "source": [
    "from sklearn.feature_extraction.text import TfidfVectorizer\n",
    "from textblob import TextBlob\n",
    "\n",
    "def textblob_tokenizer(str_input):\n",
    "    blob = TextBlob(str_input.lower())\n",
    "    tokens = blob.words\n",
    "    words = [token.stem() for token in tokens]\n",
    "    return words\n",
    "\n",
    "from sklearn.feature_extraction import stop_words\n",
    "custom_stopwords = ['say', 'hi', 'ask', 'said'] + list(stop_words.ENGLISH_STOP_WORDS)\n",
    "\n",
    "# Vectorize and save into a new dataframe\n",
    "vec = TfidfVectorizer(stop_words=custom_stopwords,\n",
    "                      max_df =0.9, # if you're in >90%, ignore\n",
    "                      max_features = 1000,\n",
    "                      use_idf=True)\n",
    "\n",
    "# Fit from the 'text' column of our dataframe\n",
    "matrix = vec.fit_transform(df1['Text'])\n",
    "\n",
    "# Then turn it into a new dataframe\n",
    "results = pd.DataFrame(matrix.toarray(), columns=vec.get_feature_names())"
   ]
  },
  {
   "cell_type": "code",
   "execution_count": 11,
   "metadata": {},
   "outputs": [
    {
     "data": {
      "text/plain": [
       "array([[ 0.,  0.,  0., ...,  0.,  0.,  0.],\n",
       "       [ 0.,  0.,  0., ...,  0.,  0.,  0.],\n",
       "       [ 0.,  0.,  0., ...,  0.,  0.,  0.],\n",
       "       ..., \n",
       "       [ 0.,  0.,  0., ...,  0.,  0.,  0.],\n",
       "       [ 0.,  0.,  0., ...,  0.,  0.,  0.],\n",
       "       [ 0.,  0.,  0., ...,  0.,  0.,  0.]])"
      ]
     },
     "execution_count": 11,
     "metadata": {},
     "output_type": "execute_result"
    }
   ],
   "source": [
    "matrix.toarray()"
   ]
  },
  {
   "cell_type": "code",
   "execution_count": 12,
   "metadata": {},
   "outputs": [
    {
     "name": "stdout",
     "output_type": "stream",
     "text": [
      "Fitting 10 clusters usinga  (150, 1000) matrix\n",
      "CPU times: user 249 ms, sys: 2.66 ms, total: 252 ms\n",
      "Wall time: 288 ms\n"
     ]
    }
   ],
   "source": [
    "%%time\n",
    "from sklearn.cluster import KMeans\n",
    "\n",
    "# How many clusters?\n",
    "number_of_clusters=10\n",
    "km = KMeans(n_clusters=number_of_clusters)\n",
    "\n",
    "print(\"Fitting\", number_of_clusters, \"clusters usinga \", matrix.shape, \"matrix\")\n",
    "\n",
    "# Let's fit it!\n",
    "km.fit(matrix)\n",
    "km.fit"
   ]
  },
  {
   "cell_type": "code",
   "execution_count": 13,
   "metadata": {},
   "outputs": [
    {
     "name": "stdout",
     "output_type": "stream",
     "text": [
      "Top terms per cluster:\n",
      "Cluster 0: head line mickey tornado redneck time divorce 14 13 began\n",
      "Cluster 1: room st peter lightbulb president phones languages just american phone\n",
      "Cluster 2: says does br asks darwin long turns duck hillary eating\n",
      "Cluster 3: difference whats slash sasquatch toilet engineers plumber government used sketch\n",
      "Cluster 4: bulb light screw does men radio thats funny night presidents\n",
      "Cluster 5: new work shredder replied come 00 asked station need japanese\n",
      "Cluster 6: father school im little boy teacher goes man son mother\n",
      "Cluster 7: engineer person did hell 10 just guy says parrot opposite\n",
      "Cluster 8: woman man lost minutes beautiful pants ages atom watson time\n",
      "Cluster 9: doctor man news says blah bad replies neutron cancer dont\n"
     ]
    }
   ],
   "source": [
    "print(\"Top terms per cluster:\")\n",
    "order_centroids = km.cluster_centers_.argsort()[:, ::-1]\n",
    "terms = vec.get_feature_names()\n",
    "for i in range(number_of_clusters):\n",
    "    top_ten_words = [terms[ind] for ind in order_centroids[i, :10]]\n",
    "    print(\"Cluster {}: {}\".format(i, ' '.join(top_ten_words)))"
   ]
  },
  {
   "cell_type": "code",
   "execution_count": 14,
   "metadata": {},
   "outputs": [
    {
     "data": {
      "text/plain": [
       "array([9, 7, 3, 3, 3, 2, 4, 7, 7, 2, 0, 7, 5, 6, 7, 7, 4, 6, 1, 3, 3, 2, 5,\n",
       "       1, 3, 8, 7, 7, 6, 3, 1, 1, 9, 6, 7, 7, 2, 7, 8, 1, 2, 8, 2, 2, 6, 8,\n",
       "       7, 2, 7, 6, 5, 1, 6, 6, 6, 9, 1, 2, 7, 7, 1, 7, 1, 1, 0, 7, 6, 9, 6,\n",
       "       5, 1, 1, 3, 4, 3, 8, 7, 3, 7, 2, 9, 2, 9, 3, 4, 9, 9, 9, 7, 2, 7, 6,\n",
       "       7, 8, 7, 7, 1, 8, 5, 3, 1, 6, 9, 6, 0, 7, 5, 8, 5, 7, 5, 6, 5, 8, 4,\n",
       "       8, 5, 9, 6, 5, 7, 7, 8, 7, 1, 8, 6, 1, 7, 9, 8, 0, 5, 9, 0, 6, 0, 8,\n",
       "       7, 6, 7, 6, 7, 2, 0, 5, 0, 1, 6, 2], dtype=int32)"
      ]
     },
     "execution_count": 14,
     "metadata": {},
     "output_type": "execute_result"
    }
   ],
   "source": [
    "km.labels_"
   ]
  },
  {
   "cell_type": "code",
   "execution_count": 15,
   "metadata": {
    "collapsed": true
   },
   "outputs": [],
   "source": [
    "df1['group'] = pd.Series(km.labels_)"
   ]
  },
  {
   "cell_type": "code",
   "execution_count": 16,
   "metadata": {},
   "outputs": [
    {
     "data": {
      "text/html": [
       "<div>\n",
       "<style>\n",
       "    .dataframe thead tr:only-child th {\n",
       "        text-align: right;\n",
       "    }\n",
       "\n",
       "    .dataframe thead th {\n",
       "        text-align: left;\n",
       "    }\n",
       "\n",
       "    .dataframe tbody tr th {\n",
       "        vertical-align: top;\n",
       "    }\n",
       "</style>\n",
       "<table border=\"1\" class=\"dataframe\">\n",
       "  <thead>\n",
       "    <tr style=\"text-align: right;\">\n",
       "      <th></th>\n",
       "      <th>Number</th>\n",
       "      <th>ratings2</th>\n",
       "      <th>ratings1</th>\n",
       "      <th>counts2</th>\n",
       "      <th>counts1</th>\n",
       "      <th>dev2</th>\n",
       "      <th>dev1</th>\n",
       "      <th>Text</th>\n",
       "      <th>length</th>\n",
       "      <th>word_leng</th>\n",
       "      <th>group</th>\n",
       "    </tr>\n",
       "  </thead>\n",
       "  <tbody>\n",
       "    <tr>\n",
       "      <th>0</th>\n",
       "      <td>1</td>\n",
       "      <td>NaN</td>\n",
       "      <td>0.901997</td>\n",
       "      <td>0</td>\n",
       "      <td>32024.0</td>\n",
       "      <td>NaN</td>\n",
       "      <td>5.242998</td>\n",
       "      <td>A man visits the doctor. The doctor says, I ha...</td>\n",
       "      <td>30</td>\n",
       "      <td>short</td>\n",
       "      <td>9</td>\n",
       "    </tr>\n",
       "    <tr>\n",
       "      <th>1</th>\n",
       "      <td>2</td>\n",
       "      <td>NaN</td>\n",
       "      <td>0.162989</td>\n",
       "      <td>0</td>\n",
       "      <td>35277.0</td>\n",
       "      <td>NaN</td>\n",
       "      <td>5.627972</td>\n",
       "      <td>This couple had an excellent relationship goin...</td>\n",
       "      <td>69</td>\n",
       "      <td>medium</td>\n",
       "      <td>7</td>\n",
       "    </tr>\n",
       "    <tr>\n",
       "      <th>2</th>\n",
       "      <td>3</td>\n",
       "      <td>NaN</td>\n",
       "      <td>0.193411</td>\n",
       "      <td>0</td>\n",
       "      <td>32402.0</td>\n",
       "      <td>NaN</td>\n",
       "      <td>5.448998</td>\n",
       "      <td>Q. Whats 200 feet long and has 4 teeth?A. The ...</td>\n",
       "      <td>17</td>\n",
       "      <td>short</td>\n",
       "      <td>3</td>\n",
       "    </tr>\n",
       "    <tr>\n",
       "      <th>3</th>\n",
       "      <td>4</td>\n",
       "      <td>NaN</td>\n",
       "      <td>-1.412599</td>\n",
       "      <td>0</td>\n",
       "      <td>30512.0</td>\n",
       "      <td>NaN</td>\n",
       "      <td>5.276202</td>\n",
       "      <td>Q. Whats the difference between a man and a to...</td>\n",
       "      <td>21</td>\n",
       "      <td>short</td>\n",
       "      <td>3</td>\n",
       "    </tr>\n",
       "    <tr>\n",
       "      <th>4</th>\n",
       "      <td>5</td>\n",
       "      <td>-2.034618</td>\n",
       "      <td>0.235352</td>\n",
       "      <td>566</td>\n",
       "      <td>73405.0</td>\n",
       "      <td>5.423289</td>\n",
       "      <td>5.302902</td>\n",
       "      <td>Q. Whats O. J. Simpsons web address?A. Slash, ...</td>\n",
       "      <td>13</td>\n",
       "      <td>very short</td>\n",
       "      <td>3</td>\n",
       "    </tr>\n",
       "  </tbody>\n",
       "</table>\n",
       "</div>"
      ],
      "text/plain": [
       "   Number  ratings2  ratings1  counts2  counts1      dev2      dev1  \\\n",
       "0       1       NaN  0.901997        0  32024.0       NaN  5.242998   \n",
       "1       2       NaN  0.162989        0  35277.0       NaN  5.627972   \n",
       "2       3       NaN  0.193411        0  32402.0       NaN  5.448998   \n",
       "3       4       NaN -1.412599        0  30512.0       NaN  5.276202   \n",
       "4       5 -2.034618  0.235352      566  73405.0  5.423289  5.302902   \n",
       "\n",
       "                                                Text  length   word_leng  \\\n",
       "0  A man visits the doctor. The doctor says, I ha...      30       short   \n",
       "1  This couple had an excellent relationship goin...      69      medium   \n",
       "2  Q. Whats 200 feet long and has 4 teeth?A. The ...      17       short   \n",
       "3  Q. Whats the difference between a man and a to...      21       short   \n",
       "4  Q. Whats O. J. Simpsons web address?A. Slash, ...      13  very short   \n",
       "\n",
       "   group  \n",
       "0      9  \n",
       "1      7  \n",
       "2      3  \n",
       "3      3  \n",
       "4      3  "
      ]
     },
     "execution_count": 16,
     "metadata": {},
     "output_type": "execute_result"
    }
   ],
   "source": [
    "df1.head()"
   ]
  },
  {
   "cell_type": "code",
   "execution_count": 17,
   "metadata": {
    "collapsed": true
   },
   "outputs": [],
   "source": [
    "df1.to_csv(\"df_groups.csv\")"
   ]
  },
  {
   "cell_type": "code",
   "execution_count": 18,
   "metadata": {},
   "outputs": [
    {
     "data": {
      "text/plain": [
       "150"
      ]
     },
     "execution_count": 18,
     "metadata": {},
     "output_type": "execute_result"
    }
   ],
   "source": [
    "df1.group.value_counts().sum()"
   ]
  },
  {
   "cell_type": "code",
   "execution_count": 19,
   "metadata": {},
   "outputs": [
    {
     "data": {
      "text/plain": [
       "7    33\n",
       "6    21\n",
       "1    17\n",
       "8    14\n",
       "2    14\n",
       "9    13\n",
       "5    13\n",
       "3    12\n",
       "0     8\n",
       "4     5\n",
       "Name: group, dtype: int64"
      ]
     },
     "execution_count": 19,
     "metadata": {},
     "output_type": "execute_result"
    }
   ],
   "source": [
    "df1.group.value_counts()"
   ]
  },
  {
   "cell_type": "code",
   "execution_count": 23,
   "metadata": {},
   "outputs": [
    {
     "data": {
      "text/plain": [
       "group\n",
       "0    1.859555\n",
       "8    1.374478\n",
       "6    1.348745\n",
       "9    1.268637\n",
       "7    1.026428\n",
       "1    0.540654\n",
       "3    0.306800\n",
       "2   -0.094567\n",
       "5   -0.420371\n",
       "4   -0.712265\n",
       "Name: ratings1, dtype: float64"
      ]
     },
     "execution_count": 23,
     "metadata": {},
     "output_type": "execute_result"
    }
   ],
   "source": [
    "df1.groupby('group').ratings1.mean().sort_values(ascending=False)"
   ]
  },
  {
   "cell_type": "markdown",
   "metadata": {},
   "source": [
    "From best to worst rating:\n",
    "Cluster 0: head line mickey tornado redneck time divorce 14 13 began\n",
    "Cluster 8: woman man lost minutes beautiful pants ages atom watson time\n",
    "Cluster 6: father school im little boy teacher goes man son mother\n",
    "Cluster 9: doctor man news says blah bad replies neutron cancer dont\n",
    "Cluster 7: engineer person did hell 10 just guy says parrot opposite\n",
    "Cluster 1: room st peter lightbulb president phones languages just american phone\n",
    "Cluster 3: difference whats slash sasquatch toilet engineers plumber government used sketch\n",
    "Cluster 2: says does br asks darwin long turns duck hillary eating\n",
    "Cluster 5: new work shredder replied come 00 asked station need japanese\n",
    "Cluster 4: bulb light screw does men radio thats funny night presidents"
   ]
  }
 ],
 "metadata": {
  "kernelspec": {
   "display_name": "Python 3",
   "language": "python",
   "name": "python3"
  },
  "language_info": {
   "codemirror_mode": {
    "name": "ipython",
    "version": 3
   },
   "file_extension": ".py",
   "mimetype": "text/x-python",
   "name": "python",
   "nbconvert_exporter": "python",
   "pygments_lexer": "ipython3",
   "version": "3.6.1"
  }
 },
 "nbformat": 4,
 "nbformat_minor": 2
}
