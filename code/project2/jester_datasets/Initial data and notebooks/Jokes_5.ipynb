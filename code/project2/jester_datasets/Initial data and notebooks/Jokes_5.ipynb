{
 "cells": [
  {
   "cell_type": "markdown",
   "metadata": {},
   "source": [
    "looking for one with “A sense of humor.” don't date an engineer!"
   ]
  },
  {
   "cell_type": "code",
   "execution_count": 1,
   "metadata": {
    "collapsed": true
   },
   "outputs": [],
   "source": [
    "import pandas as pd\n",
    "import numpy as np\n",
    "%matplotlib inline\n",
    "import pandas as pd\n",
    "import matplotlib.pyplot as plt\n",
    "import matplotlib\n",
    "matplotlib.rcParams['pdf.fonttype'] =42\n",
    "import matplotlib.ticker as ticker\n",
    "import matplotlib.patches as mpatches\n",
    "import re"
   ]
  },
  {
   "cell_type": "markdown",
   "metadata": {},
   "source": [
    "### the ratings"
   ]
  },
  {
   "cell_type": "code",
   "execution_count": 2,
   "metadata": {},
   "outputs": [
    {
     "data": {
      "text/html": [
       "<div>\n",
       "<style>\n",
       "    .dataframe thead tr:only-child th {\n",
       "        text-align: right;\n",
       "    }\n",
       "\n",
       "    .dataframe thead th {\n",
       "        text-align: left;\n",
       "    }\n",
       "\n",
       "    .dataframe tbody tr th {\n",
       "        vertical-align: top;\n",
       "    }\n",
       "</style>\n",
       "<table border=\"1\" class=\"dataframe\">\n",
       "  <thead>\n",
       "    <tr style=\"text-align: right;\">\n",
       "      <th></th>\n",
       "      <th>total_number</th>\n",
       "      <th>1</th>\n",
       "      <th>2</th>\n",
       "      <th>3</th>\n",
       "      <th>4</th>\n",
       "      <th>5</th>\n",
       "      <th>6</th>\n",
       "      <th>7</th>\n",
       "      <th>8</th>\n",
       "      <th>9</th>\n",
       "      <th>...</th>\n",
       "      <th>91</th>\n",
       "      <th>92</th>\n",
       "      <th>93</th>\n",
       "      <th>94</th>\n",
       "      <th>95</th>\n",
       "      <th>96</th>\n",
       "      <th>97</th>\n",
       "      <th>98</th>\n",
       "      <th>99</th>\n",
       "      <th>100</th>\n",
       "    </tr>\n",
       "  </thead>\n",
       "  <tbody>\n",
       "    <tr>\n",
       "      <th>0</th>\n",
       "      <td>74</td>\n",
       "      <td>-7.82</td>\n",
       "      <td>8.79</td>\n",
       "      <td>-9.66</td>\n",
       "      <td>-8.16</td>\n",
       "      <td>-7.52</td>\n",
       "      <td>-8.50</td>\n",
       "      <td>-9.85</td>\n",
       "      <td>4.17</td>\n",
       "      <td>-8.98</td>\n",
       "      <td>...</td>\n",
       "      <td>2.82</td>\n",
       "      <td>NaN</td>\n",
       "      <td>NaN</td>\n",
       "      <td>NaN</td>\n",
       "      <td>NaN</td>\n",
       "      <td>NaN</td>\n",
       "      <td>-5.63</td>\n",
       "      <td>NaN</td>\n",
       "      <td>NaN</td>\n",
       "      <td>NaN</td>\n",
       "    </tr>\n",
       "    <tr>\n",
       "      <th>1</th>\n",
       "      <td>100</td>\n",
       "      <td>4.08</td>\n",
       "      <td>-0.29</td>\n",
       "      <td>6.36</td>\n",
       "      <td>4.37</td>\n",
       "      <td>-2.38</td>\n",
       "      <td>-9.66</td>\n",
       "      <td>-0.73</td>\n",
       "      <td>-5.34</td>\n",
       "      <td>8.88</td>\n",
       "      <td>...</td>\n",
       "      <td>2.82</td>\n",
       "      <td>-4.95</td>\n",
       "      <td>-0.29</td>\n",
       "      <td>7.86</td>\n",
       "      <td>-0.19</td>\n",
       "      <td>-2.14</td>\n",
       "      <td>3.06</td>\n",
       "      <td>0.34</td>\n",
       "      <td>-4.32</td>\n",
       "      <td>1.07</td>\n",
       "    </tr>\n",
       "    <tr>\n",
       "      <th>2</th>\n",
       "      <td>49</td>\n",
       "      <td>NaN</td>\n",
       "      <td>NaN</td>\n",
       "      <td>NaN</td>\n",
       "      <td>NaN</td>\n",
       "      <td>9.03</td>\n",
       "      <td>9.27</td>\n",
       "      <td>9.03</td>\n",
       "      <td>9.27</td>\n",
       "      <td>NaN</td>\n",
       "      <td>...</td>\n",
       "      <td>NaN</td>\n",
       "      <td>NaN</td>\n",
       "      <td>NaN</td>\n",
       "      <td>9.08</td>\n",
       "      <td>NaN</td>\n",
       "      <td>NaN</td>\n",
       "      <td>NaN</td>\n",
       "      <td>NaN</td>\n",
       "      <td>NaN</td>\n",
       "      <td>NaN</td>\n",
       "    </tr>\n",
       "    <tr>\n",
       "      <th>3</th>\n",
       "      <td>48</td>\n",
       "      <td>NaN</td>\n",
       "      <td>8.35</td>\n",
       "      <td>NaN</td>\n",
       "      <td>NaN</td>\n",
       "      <td>1.80</td>\n",
       "      <td>8.16</td>\n",
       "      <td>-2.82</td>\n",
       "      <td>6.21</td>\n",
       "      <td>NaN</td>\n",
       "      <td>...</td>\n",
       "      <td>NaN</td>\n",
       "      <td>NaN</td>\n",
       "      <td>NaN</td>\n",
       "      <td>0.53</td>\n",
       "      <td>NaN</td>\n",
       "      <td>NaN</td>\n",
       "      <td>NaN</td>\n",
       "      <td>NaN</td>\n",
       "      <td>NaN</td>\n",
       "      <td>NaN</td>\n",
       "    </tr>\n",
       "    <tr>\n",
       "      <th>4</th>\n",
       "      <td>91</td>\n",
       "      <td>8.50</td>\n",
       "      <td>4.61</td>\n",
       "      <td>-4.17</td>\n",
       "      <td>-5.39</td>\n",
       "      <td>1.36</td>\n",
       "      <td>1.60</td>\n",
       "      <td>7.04</td>\n",
       "      <td>4.61</td>\n",
       "      <td>-0.44</td>\n",
       "      <td>...</td>\n",
       "      <td>5.19</td>\n",
       "      <td>5.58</td>\n",
       "      <td>4.27</td>\n",
       "      <td>5.19</td>\n",
       "      <td>5.73</td>\n",
       "      <td>1.55</td>\n",
       "      <td>3.11</td>\n",
       "      <td>6.55</td>\n",
       "      <td>1.80</td>\n",
       "      <td>1.60</td>\n",
       "    </tr>\n",
       "  </tbody>\n",
       "</table>\n",
       "<p>5 rows × 101 columns</p>\n",
       "</div>"
      ],
      "text/plain": [
       "   total_number     1     2     3     4     5     6     7     8     9  ...   \\\n",
       "0            74 -7.82  8.79 -9.66 -8.16 -7.52 -8.50 -9.85  4.17 -8.98  ...    \n",
       "1           100  4.08 -0.29  6.36  4.37 -2.38 -9.66 -0.73 -5.34  8.88  ...    \n",
       "2            49   NaN   NaN   NaN   NaN  9.03  9.27  9.03  9.27   NaN  ...    \n",
       "3            48   NaN  8.35   NaN   NaN  1.80  8.16 -2.82  6.21   NaN  ...    \n",
       "4            91  8.50  4.61 -4.17 -5.39  1.36  1.60  7.04  4.61 -0.44  ...    \n",
       "\n",
       "     91    92    93    94    95    96    97    98    99   100  \n",
       "0  2.82   NaN   NaN   NaN   NaN   NaN -5.63   NaN   NaN   NaN  \n",
       "1  2.82 -4.95 -0.29  7.86 -0.19 -2.14  3.06  0.34 -4.32  1.07  \n",
       "2   NaN   NaN   NaN  9.08   NaN   NaN   NaN   NaN   NaN   NaN  \n",
       "3   NaN   NaN   NaN  0.53   NaN   NaN   NaN   NaN   NaN   NaN  \n",
       "4  5.19  5.58  4.27  5.19  5.73  1.55  3.11  6.55  1.80  1.60  \n",
       "\n",
       "[5 rows x 101 columns]"
      ]
     },
     "execution_count": 2,
     "metadata": {},
     "output_type": "execute_result"
    }
   ],
   "source": [
    "df1 = pd.read_csv(\"jester1.csv\")\n",
    "del df1['Unnamed: 0']\n",
    "df1.head()"
   ]
  },
  {
   "cell_type": "code",
   "execution_count": 3,
   "metadata": {},
   "outputs": [
    {
     "data": {
      "text/plain": [
       "(73421, 101)"
      ]
     },
     "execution_count": 3,
     "metadata": {},
     "output_type": "execute_result"
    }
   ],
   "source": [
    "df1.shape"
   ]
  },
  {
   "cell_type": "code",
   "execution_count": 4,
   "metadata": {
    "collapsed": true
   },
   "outputs": [],
   "source": [
    "#df1.dtypes"
   ]
  },
  {
   "cell_type": "code",
   "execution_count": 5,
   "metadata": {},
   "outputs": [
    {
     "data": {
      "text/html": [
       "<div>\n",
       "<style>\n",
       "    .dataframe thead tr:only-child th {\n",
       "        text-align: right;\n",
       "    }\n",
       "\n",
       "    .dataframe thead th {\n",
       "        text-align: left;\n",
       "    }\n",
       "\n",
       "    .dataframe tbody tr th {\n",
       "        vertical-align: top;\n",
       "    }\n",
       "</style>\n",
       "<table border=\"1\" class=\"dataframe\">\n",
       "  <thead>\n",
       "    <tr style=\"text-align: right;\">\n",
       "      <th></th>\n",
       "      <th>total_number</th>\n",
       "      <th>1</th>\n",
       "      <th>2</th>\n",
       "      <th>3</th>\n",
       "      <th>4</th>\n",
       "      <th>5</th>\n",
       "      <th>6</th>\n",
       "      <th>7</th>\n",
       "      <th>8</th>\n",
       "      <th>9</th>\n",
       "      <th>...</th>\n",
       "      <th>141</th>\n",
       "      <th>142</th>\n",
       "      <th>143</th>\n",
       "      <th>144</th>\n",
       "      <th>145</th>\n",
       "      <th>146</th>\n",
       "      <th>147</th>\n",
       "      <th>148</th>\n",
       "      <th>149</th>\n",
       "      <th>150</th>\n",
       "    </tr>\n",
       "  </thead>\n",
       "  <tbody>\n",
       "    <tr>\n",
       "      <th>0</th>\n",
       "      <td>62</td>\n",
       "      <td>NaN</td>\n",
       "      <td>NaN</td>\n",
       "      <td>NaN</td>\n",
       "      <td>NaN</td>\n",
       "      <td>0.21875</td>\n",
       "      <td>NaN</td>\n",
       "      <td>-9.28125</td>\n",
       "      <td>-9.28125</td>\n",
       "      <td>NaN</td>\n",
       "      <td>...</td>\n",
       "      <td>NaN</td>\n",
       "      <td>NaN</td>\n",
       "      <td>NaN</td>\n",
       "      <td>NaN</td>\n",
       "      <td>NaN</td>\n",
       "      <td>NaN</td>\n",
       "      <td>NaN</td>\n",
       "      <td>NaN</td>\n",
       "      <td>NaN</td>\n",
       "      <td>NaN</td>\n",
       "    </tr>\n",
       "    <tr>\n",
       "      <th>1</th>\n",
       "      <td>34</td>\n",
       "      <td>NaN</td>\n",
       "      <td>NaN</td>\n",
       "      <td>NaN</td>\n",
       "      <td>NaN</td>\n",
       "      <td>-9.68750</td>\n",
       "      <td>NaN</td>\n",
       "      <td>9.93750</td>\n",
       "      <td>9.53125</td>\n",
       "      <td>NaN</td>\n",
       "      <td>...</td>\n",
       "      <td>NaN</td>\n",
       "      <td>NaN</td>\n",
       "      <td>NaN</td>\n",
       "      <td>NaN</td>\n",
       "      <td>NaN</td>\n",
       "      <td>NaN</td>\n",
       "      <td>NaN</td>\n",
       "      <td>NaN</td>\n",
       "      <td>NaN</td>\n",
       "      <td>NaN</td>\n",
       "    </tr>\n",
       "    <tr>\n",
       "      <th>2</th>\n",
       "      <td>18</td>\n",
       "      <td>NaN</td>\n",
       "      <td>NaN</td>\n",
       "      <td>NaN</td>\n",
       "      <td>NaN</td>\n",
       "      <td>-9.84375</td>\n",
       "      <td>NaN</td>\n",
       "      <td>-9.84375</td>\n",
       "      <td>-7.21875</td>\n",
       "      <td>NaN</td>\n",
       "      <td>...</td>\n",
       "      <td>NaN</td>\n",
       "      <td>NaN</td>\n",
       "      <td>NaN</td>\n",
       "      <td>NaN</td>\n",
       "      <td>NaN</td>\n",
       "      <td>NaN</td>\n",
       "      <td>NaN</td>\n",
       "      <td>NaN</td>\n",
       "      <td>NaN</td>\n",
       "      <td>NaN</td>\n",
       "    </tr>\n",
       "    <tr>\n",
       "      <th>3</th>\n",
       "      <td>82</td>\n",
       "      <td>NaN</td>\n",
       "      <td>NaN</td>\n",
       "      <td>NaN</td>\n",
       "      <td>NaN</td>\n",
       "      <td>6.90625</td>\n",
       "      <td>NaN</td>\n",
       "      <td>4.75000</td>\n",
       "      <td>-5.90625</td>\n",
       "      <td>NaN</td>\n",
       "      <td>...</td>\n",
       "      <td>NaN</td>\n",
       "      <td>NaN</td>\n",
       "      <td>NaN</td>\n",
       "      <td>NaN</td>\n",
       "      <td>NaN</td>\n",
       "      <td>NaN</td>\n",
       "      <td>NaN</td>\n",
       "      <td>NaN</td>\n",
       "      <td>NaN</td>\n",
       "      <td>NaN</td>\n",
       "    </tr>\n",
       "    <tr>\n",
       "      <th>4</th>\n",
       "      <td>27</td>\n",
       "      <td>NaN</td>\n",
       "      <td>NaN</td>\n",
       "      <td>NaN</td>\n",
       "      <td>NaN</td>\n",
       "      <td>-0.03125</td>\n",
       "      <td>NaN</td>\n",
       "      <td>-9.09375</td>\n",
       "      <td>-0.40625</td>\n",
       "      <td>NaN</td>\n",
       "      <td>...</td>\n",
       "      <td>NaN</td>\n",
       "      <td>NaN</td>\n",
       "      <td>NaN</td>\n",
       "      <td>NaN</td>\n",
       "      <td>NaN</td>\n",
       "      <td>NaN</td>\n",
       "      <td>NaN</td>\n",
       "      <td>NaN</td>\n",
       "      <td>NaN</td>\n",
       "      <td>NaN</td>\n",
       "    </tr>\n",
       "  </tbody>\n",
       "</table>\n",
       "<p>5 rows × 151 columns</p>\n",
       "</div>"
      ],
      "text/plain": [
       "   total_number   1   2   3   4        5   6        7        8   9 ...   141  \\\n",
       "0            62 NaN NaN NaN NaN  0.21875 NaN -9.28125 -9.28125 NaN ...   NaN   \n",
       "1            34 NaN NaN NaN NaN -9.68750 NaN  9.93750  9.53125 NaN ...   NaN   \n",
       "2            18 NaN NaN NaN NaN -9.84375 NaN -9.84375 -7.21875 NaN ...   NaN   \n",
       "3            82 NaN NaN NaN NaN  6.90625 NaN  4.75000 -5.90625 NaN ...   NaN   \n",
       "4            27 NaN NaN NaN NaN -0.03125 NaN -9.09375 -0.40625 NaN ...   NaN   \n",
       "\n",
       "   142  143  144  145  146  147  148  149  150  \n",
       "0  NaN  NaN  NaN  NaN  NaN  NaN  NaN  NaN  NaN  \n",
       "1  NaN  NaN  NaN  NaN  NaN  NaN  NaN  NaN  NaN  \n",
       "2  NaN  NaN  NaN  NaN  NaN  NaN  NaN  NaN  NaN  \n",
       "3  NaN  NaN  NaN  NaN  NaN  NaN  NaN  NaN  NaN  \n",
       "4  NaN  NaN  NaN  NaN  NaN  NaN  NaN  NaN  NaN  \n",
       "\n",
       "[5 rows x 151 columns]"
      ]
     },
     "execution_count": 5,
     "metadata": {},
     "output_type": "execute_result"
    }
   ],
   "source": [
    "df2 = pd.read_csv(\"jester2.csv\")\n",
    "del df2['Unnamed: 0']\n",
    "df2.head()"
   ]
  },
  {
   "cell_type": "code",
   "execution_count": 6,
   "metadata": {
    "scrolled": true
   },
   "outputs": [
    {
     "data": {
      "text/plain": [
       "(50692, 151)"
      ]
     },
     "execution_count": 6,
     "metadata": {},
     "output_type": "execute_result"
    }
   ],
   "source": [
    "df2.shape"
   ]
  },
  {
   "cell_type": "code",
   "execution_count": 7,
   "metadata": {
    "collapsed": true
   },
   "outputs": [],
   "source": [
    "#df2.dtypes"
   ]
  },
  {
   "cell_type": "markdown",
   "metadata": {},
   "source": [
    "## mean ratings"
   ]
  },
  {
   "cell_type": "code",
   "execution_count": 8,
   "metadata": {},
   "outputs": [
    {
     "data": {
      "text/plain": [
       "total_number    56.337560\n",
       "50               3.362593\n",
       "89               3.348026\n",
       "32               2.974698\n",
       "36               2.917245\n",
       "27               2.907989\n",
       "35               2.775606\n",
       "62               2.676263\n",
       "72               2.632421\n",
       "29               2.619510\n",
       "dtype: float64"
      ]
     },
     "execution_count": 8,
     "metadata": {},
     "output_type": "execute_result"
    }
   ],
   "source": [
    "df1.mean().sort_values(ascending=False).head(10)"
   ]
  },
  {
   "cell_type": "code",
   "execution_count": 9,
   "metadata": {},
   "outputs": [
    {
     "data": {
      "text/plain": [
       "total_number    34.104967\n",
       "53               3.714249\n",
       "105              3.711070\n",
       "89               3.606178\n",
       "129              3.583135\n",
       "35               3.560140\n",
       "72               3.505117\n",
       "32               3.504556\n",
       "104              3.422973\n",
       "68               3.386933\n",
       "dtype: float64"
      ]
     },
     "execution_count": 9,
     "metadata": {},
     "output_type": "execute_result"
    }
   ],
   "source": [
    "df2.mean().sort_values(ascending=False).head(10)"
   ]
  },
  {
   "cell_type": "code",
   "execution_count": 10,
   "metadata": {
    "scrolled": true
   },
   "outputs": [
    {
     "data": {
      "text/plain": [
       "70449"
      ]
     },
     "execution_count": 10,
     "metadata": {},
     "output_type": "execute_result"
    }
   ],
   "source": [
    "df1['50'].count()"
   ]
  },
  {
   "cell_type": "code",
   "execution_count": 11,
   "metadata": {},
   "outputs": [
    {
     "data": {
      "text/plain": [
       "23101"
      ]
     },
     "execution_count": 11,
     "metadata": {},
     "output_type": "execute_result"
    }
   ],
   "source": [
    "df2['53'].count()"
   ]
  },
  {
   "cell_type": "markdown",
   "metadata": {},
   "source": [
    "## variability of rates"
   ]
  },
  {
   "cell_type": "markdown",
   "metadata": {},
   "source": [
    "A standard deviation close to 0 indicates that the data points tend to be very close to the mean (also called the expected value) of the set, while a high standard deviation indicates that the data points are spread out over a wider range of values."
   ]
  },
  {
   "cell_type": "code",
   "execution_count": 12,
   "metadata": {},
   "outputs": [
    {
     "data": {
      "text/plain": [
       "total_number    29.015686\n",
       "71               5.814151\n",
       "2                5.627972\n",
       "7                5.610902\n",
       "41               5.522648\n",
       "dtype: float64"
      ]
     },
     "execution_count": 12,
     "metadata": {},
     "output_type": "execute_result"
    }
   ],
   "source": [
    "df1.std().sort_values(ascending=False).head()"
   ]
  },
  {
   "cell_type": "code",
   "execution_count": 13,
   "metadata": {},
   "outputs": [
    {
     "data": {
      "text/plain": [
       "32    4.620225\n",
       "72    4.612236\n",
       "36    4.515917\n",
       "17    4.439184\n",
       "50    4.412412\n",
       "dtype: float64"
      ]
     },
     "execution_count": 13,
     "metadata": {},
     "output_type": "execute_result"
    }
   ],
   "source": [
    "df1.std().sort_values(ascending=False).tail()"
   ]
  },
  {
   "cell_type": "code",
   "execution_count": 14,
   "metadata": {},
   "outputs": [
    {
     "data": {
      "text/plain": [
       "total_number    33.519225\n",
       "124              6.082813\n",
       "140              6.082453\n",
       "58               6.079202\n",
       "57               5.950808\n",
       "dtype: float64"
      ]
     },
     "execution_count": 14,
     "metadata": {},
     "output_type": "execute_result"
    }
   ],
   "source": [
    "df2.std().sort_values(ascending=False).head()"
   ]
  },
  {
   "cell_type": "code",
   "execution_count": 15,
   "metadata": {},
   "outputs": [
    {
     "data": {
      "text/plain": [
       "9    NaN\n",
       "10   NaN\n",
       "11   NaN\n",
       "12   NaN\n",
       "14   NaN\n",
       "dtype: float64"
      ]
     },
     "execution_count": 15,
     "metadata": {},
     "output_type": "execute_result"
    }
   ],
   "source": [
    "df2.std().sort_values(ascending=False).tail()"
   ]
  },
  {
   "cell_type": "code",
   "execution_count": 16,
   "metadata": {
    "collapsed": true
   },
   "outputs": [],
   "source": [
    "# df1['1'].plot(kind='box')\n",
    "# for column in df1.columns[:15]:\n",
    "#     df1[column].plot(kind='box')"
   ]
  },
  {
   "cell_type": "markdown",
   "metadata": {},
   "source": [
    "### number of votes per joke"
   ]
  },
  {
   "cell_type": "code",
   "execution_count": 17,
   "metadata": {},
   "outputs": [
    {
     "data": {
      "text/plain": [
       "total_number    73421\n",
       "17              73413\n",
       "8               73411\n",
       "20              73410\n",
       "15              73406\n",
       "19              73406\n",
       "5               73405\n",
       "13              73405\n",
       "18              73404\n",
       "7               73401\n",
       "dtype: int64"
      ]
     },
     "execution_count": 17,
     "metadata": {},
     "output_type": "execute_result"
    }
   ],
   "source": [
    "df1.count().sort_values(ascending=False).head(10)"
   ]
  },
  {
   "cell_type": "code",
   "execution_count": 18,
   "metadata": {
    "scrolled": true
   },
   "outputs": [
    {
     "data": {
      "text/plain": [
       "total_number    50692\n",
       "7               50692\n",
       "8               50692\n",
       "13              50692\n",
       "15              50692\n",
       "16              50692\n",
       "17              50692\n",
       "18              50692\n",
       "19              50692\n",
       "89              25994\n",
       "dtype: int64"
      ]
     },
     "execution_count": 18,
     "metadata": {},
     "output_type": "execute_result"
    }
   ],
   "source": [
    "df2.count().sort_values(ascending=False).head(10)"
   ]
  },
  {
   "cell_type": "code",
   "execution_count": null,
   "metadata": {
    "collapsed": true
   },
   "outputs": [],
   "source": []
  },
  {
   "cell_type": "code",
   "execution_count": 19,
   "metadata": {
    "collapsed": true
   },
   "outputs": [],
   "source": [
    "#df1.plot(kind='scatter', x='total_number', y='3')"
   ]
  },
  {
   "cell_type": "markdown",
   "metadata": {},
   "source": [
    "### checking the jokes with regex"
   ]
  },
  {
   "cell_type": "code",
   "execution_count": 208,
   "metadata": {
    "collapsed": true
   },
   "outputs": [],
   "source": [
    "pd.options.display.max_colwidth = 1000000"
   ]
  },
  {
   "cell_type": "code",
   "execution_count": 274,
   "metadata": {},
   "outputs": [
    {
     "data": {
      "text/html": [
       "<div>\n",
       "<style>\n",
       "    .dataframe thead tr:only-child th {\n",
       "        text-align: right;\n",
       "    }\n",
       "\n",
       "    .dataframe thead th {\n",
       "        text-align: left;\n",
       "    }\n",
       "\n",
       "    .dataframe tbody tr th {\n",
       "        vertical-align: top;\n",
       "    }\n",
       "</style>\n",
       "<table border=\"1\" class=\"dataframe\">\n",
       "  <thead>\n",
       "    <tr style=\"text-align: right;\">\n",
       "      <th></th>\n",
       "      <th>Number</th>\n",
       "      <th>Text</th>\n",
       "    </tr>\n",
       "  </thead>\n",
       "  <tbody>\n",
       "    <tr>\n",
       "      <th>0</th>\n",
       "      <td>1</td>\n",
       "      <td>A man visits the doctor. The doctor says, I have bad news for you. You have cancer and Alzheimers disease. The man replies, Well, thank God I dont have cancer!</td>\n",
       "    </tr>\n",
       "    <tr>\n",
       "      <th>1</th>\n",
       "      <td>2</td>\n",
       "      <td>This couple had an excellent relationship going until one day he came home from work to find his girlfriend packing. He asked her why she was leaving him and she told him that she had heard awful things about him. What could they possibly have said to make you move out?They told me that you were a pedophile.He replied, Thats an awfully big word for a ten year old.</td>\n",
       "    </tr>\n",
       "    <tr>\n",
       "      <th>2</th>\n",
       "      <td>3</td>\n",
       "      <td>Q. Whats 200 feet long and has 4 teeth?A. The front row at a Willie Nelson concert.</td>\n",
       "    </tr>\n",
       "    <tr>\n",
       "      <th>3</th>\n",
       "      <td>4</td>\n",
       "      <td>Q. Whats the difference between a man and a toilet? A. A toilet doesnt follow you around after you use it.</td>\n",
       "    </tr>\n",
       "    <tr>\n",
       "      <th>4</th>\n",
       "      <td>5</td>\n",
       "      <td>Q. Whats O. J. Simpsons web address?A. Slash, slash, backslash, slash, slash, escape.</td>\n",
       "    </tr>\n",
       "    <tr>\n",
       "      <th>5</th>\n",
       "      <td>6</td>\n",
       "      <td>Bill and Hillary Clinton are on a trip back to Arkansas. Theyre almost out of gas, so Bill pulls into a service station on the outskirts of town. The attendant runs out of the station to serve them when Hillary realizes its an old boyfriend from high school. She and the attendant chat as he gases up their car and cleans the windows. Then they all say goodbye.As Bill pulls the car onto the road, he turns to Hillary and says, Now arent you glad you married me and not him? You couldve been the wife of a grease monkey!To which Hillary replied, No, Bill. If I would have married him, youd be pumping gas and he would be the President!</td>\n",
       "    </tr>\n",
       "    <tr>\n",
       "      <th>6</th>\n",
       "      <td>7</td>\n",
       "      <td>How many feminists does it take to screw in a light bulb?Thats not funny.</td>\n",
       "    </tr>\n",
       "    <tr>\n",
       "      <th>7</th>\n",
       "      <td>8</td>\n",
       "      <td>Q. Did you hear about the dyslexic devil worshiper?A. He sold his soul to Santa.</td>\n",
       "    </tr>\n",
       "    <tr>\n",
       "      <th>8</th>\n",
       "      <td>9</td>\n",
       "      <td>A country guy goes into a city bar that has a dress code, and the maitre d demands he wear a tie. Discouraged, the guy goes to his car to sulk when inspiration strikes: Hes got jumper cables in the trunk! So he wraps them around his neck, sort of like a string tie (a bulky string tie to be sure) and returns to the bar. The maitre d is reluctant, but says to the guy, Okay, youre a pretty resourceful fellow, you can come in. but just dont start anything!</td>\n",
       "    </tr>\n",
       "    <tr>\n",
       "      <th>9</th>\n",
       "      <td>10</td>\n",
       "      <td>Two cannibals are eating a clown. One turns to the other and says:br /&gt;Does this taste funny to you?</td>\n",
       "    </tr>\n",
       "    <tr>\n",
       "      <th>10</th>\n",
       "      <td>11</td>\n",
       "      <td>Q. What do a hurricane, a tornado, and a redneck divorce all have in common?A. Someones going to lose a trailer.</td>\n",
       "    </tr>\n",
       "    <tr>\n",
       "      <th>11</th>\n",
       "      <td>12</td>\n",
       "      <td>A guy stood over his tee shot for what seemed an eternity, looking up, looking down, measuring the distance, figuring the wind direction and speed, and driving his partner nuts.Finally his exasperated partner says, What the hell is taking so long? Hit the goddamn ball! The guy answers, My wife is up there watching me from the clubhouse. I want to make this a perfect shot. Well, hell, man, you dont stand a snowballs chance in hell of hitting her from here!</td>\n",
       "    </tr>\n",
       "    <tr>\n",
       "      <th>12</th>\n",
       "      <td>13</td>\n",
       "      <td>They asked the Japanese visitor if they have elections in his country.Every morning, he answers.</td>\n",
       "    </tr>\n",
       "    <tr>\n",
       "      <th>13</th>\n",
       "      <td>14</td>\n",
       "      <td>The father was very anxious to marry off his only daughter so he wanted to impress her date. Do you like to screw? he asks. Huh? replied the surprised first date. My daughter, she loves to screw and shes good at it:you and her should go screw, the father carefully explained. Now very interested, the boy replied, Yes, sir. Minutes later the girl came down the stairs, kissed her father goodbye and the couple left. After only a few minutes she reappeared, furious, dress torn, hair a mess and screamed, Dammit, Daddy, its the TWIST, get it straight!</td>\n",
       "    </tr>\n",
       "    <tr>\n",
       "      <th>14</th>\n",
       "      <td>15</td>\n",
       "      <td>Q:What did the blind person say when given some matzah?A:Who the hell wrote this?</td>\n",
       "    </tr>\n",
       "    <tr>\n",
       "      <th>15</th>\n",
       "      <td>16</td>\n",
       "      <td>Q. What is orange and sounds like a parrot?A. A carrot.</td>\n",
       "    </tr>\n",
       "    <tr>\n",
       "      <th>16</th>\n",
       "      <td>17</td>\n",
       "      <td>How many men does it take to screw in a light bulb?One. Men will screw anything.</td>\n",
       "    </tr>\n",
       "    <tr>\n",
       "      <th>17</th>\n",
       "      <td>18</td>\n",
       "      <td>A dog walks into Western Union and asks the clerk to send a telegram. He fills out a form on which he writes down the telegram he wishes to send:Bow wow wow, bow wow wow.The clerk says, You can add another Bow wow for the same price.The dog responded, Now wouldnt that sound a little silly?</td>\n",
       "    </tr>\n",
       "    <tr>\n",
       "      <th>18</th>\n",
       "      <td>19</td>\n",
       "      <td>Q:If a person who speaks three languages is called trilingual, and a person who speaks two languages is called bilingual, what do you call a person who only speaks one language?A:American!</td>\n",
       "    </tr>\n",
       "    <tr>\n",
       "      <th>19</th>\n",
       "      <td>20</td>\n",
       "      <td>Whats the difference between a Macintosh and an Etch-a-Sketch?You dont have to shake the Mac to clear the screen.</td>\n",
       "    </tr>\n",
       "    <tr>\n",
       "      <th>20</th>\n",
       "      <td>21</td>\n",
       "      <td>Whats the difference between a used tire and 365 used condoms?Ones a Goodyear, the others a great year.</td>\n",
       "    </tr>\n",
       "    <tr>\n",
       "      <th>21</th>\n",
       "      <td>22</td>\n",
       "      <td>A duck walks into a pharmacy and asks for a condom. The pharmacist asks, Would you like me to stick that on your bill? The duck says:br /&gt;What kind of duck do you think I am!</td>\n",
       "    </tr>\n",
       "    <tr>\n",
       "      <th>22</th>\n",
       "      <td>23</td>\n",
       "      <td>Q:What is the Australian word for a boomerang that wont come back?A:A stick.</td>\n",
       "    </tr>\n",
       "    <tr>\n",
       "      <th>23</th>\n",
       "      <td>24</td>\n",
       "      <td>What do you get when you run over a parakeet with a lawnmower?Shredded tweet.</td>\n",
       "    </tr>\n",
       "    <tr>\n",
       "      <th>24</th>\n",
       "      <td>25</td>\n",
       "      <td>Two kindergarten girls were talking outside:one said, You wont believe what I saw on the patio yesterday. condom!The second girl asked, Whats a patio?</td>\n",
       "    </tr>\n",
       "    <tr>\n",
       "      <th>25</th>\n",
       "      <td>26</td>\n",
       "      <td>A guy walks into a bar and sits down next to an extremely gorgeous woman. The first thing he notices about her though, are her pants. They were skin-tight, high-waisted and had no obvious mechanism (zipper, buttons or velcro) for opening them. After several minutes of puzzling over how she got the pants up over her hips, he finally worked up the nerve to ask her. Excuse me miss, but how do you get into your pants?Well, she replied, you can start by buying me a drink.</td>\n",
       "    </tr>\n",
       "    <tr>\n",
       "      <th>26</th>\n",
       "      <td>27</td>\n",
       "      <td>Bill Clinton returns from a vacation in Arkansas and walks down the steps of Air Force One with two pigs under his arms. At the bottom of the steps, he says to the honor guardsman, These are genuine Arkansas Razor-Back Hogs. I got this one for Chelsea and this one for Hillary.The guardsman replies, Nice trade, Sir.</td>\n",
       "    </tr>\n",
       "    <tr>\n",
       "      <th>27</th>\n",
       "      <td>28</td>\n",
       "      <td>A mechanical engineer, an electrical engineer, and a software engineer from Microsoft were driving through the desert when the car broke down.The mechanical engineer said:It seems to be a problem with the fuel injection system, why dont we pop the hood and Ill take a look at it? To which the electrical engineer replied, No, I think its just a loose ground wire, Ill get out and take a look.Then the software engineer from Microsoft jumps in. No, no, no. If we just close up all the windows, get out, wait a few minutes, get back in, and then reopen the windows everything will work fine.</td>\n",
       "    </tr>\n",
       "    <tr>\n",
       "      <th>28</th>\n",
       "      <td>29</td>\n",
       "      <td>An old Scotsman is sitting with a younger Scottish gentleman and says to the boy, Ah, lad, look out that window. You see that stone wall there? I built it with me own bare hands, placed every stone meself. But do they call me MacGregor the wall builder? No!He takes a few sips of his beer then says, Aye, and look out on that lake and eye that beautiful pier. I built it meself, laid every board and hammered each nail, but do they call me MacGregor the pier builder? No!He continues:And lad, you see that road? That too I build with me own bare hands. Laid every inch of pavement meself, but do they call MacGregor the road builder? No!Again he returns to his beer for a few sips, and then says, Agh, but you screw one sheep.</td>\n",
       "    </tr>\n",
       "    <tr>\n",
       "      <th>29</th>\n",
       "      <td>30</td>\n",
       "      <td>Q:Whats the difference between a lawyer and a plumber? A:A plumber works to unclog the system.</td>\n",
       "    </tr>\n",
       "    <tr>\n",
       "      <th>30</th>\n",
       "      <td>31</td>\n",
       "      <td>President Clinton looks up from his desk in the Oval Office to see one of his aides nervously approach him.What is it? exclaims the President.Its this Abortion Bill, Mr. President. What do you want to do about it? the aide asks.Just go ahead and pay it, responds the President.</td>\n",
       "    </tr>\n",
       "    <tr>\n",
       "      <th>31</th>\n",
       "      <td>32</td>\n",
       "      <td>A man arrives at the gates of heaven. St. Peter asks, Religion? The man says, Methodist. St. Peter looks down his list, and says, Go to room 24, but be very quiet as you pass room 8.Another man arrives at the gates of heaven. Religion? Baptist. Go to room 18, but be very quiet as you pass room 8.A third man arrives at the gates. Religion? Jewish. Go to room 11, but be very quiet as you pass room 8. The man says, I can understand there being different rooms for different religions, but why must I be quiet when I pass room 8? St. Peter tells him, Well, the Catholics are in room 8, and they think theyre the only ones here.</td>\n",
       "    </tr>\n",
       "    <tr>\n",
       "      <th>32</th>\n",
       "      <td>33</td>\n",
       "      <td>What do you call an American in the finals of the world cup?Hey beer man!</td>\n",
       "    </tr>\n",
       "    <tr>\n",
       "      <th>33</th>\n",
       "      <td>34</td>\n",
       "      <td>Out in the backwoods of some midwestern state, little Johnny arrives at school an hour late.Teacher:Why are you so late, John?Johny:My big brother got shot in the ass.(The teacher corrects his speech.)Teacher:Rectum.Johnny:Wrecked him!? Hell, It damn near killed him!</td>\n",
       "    </tr>\n",
       "    <tr>\n",
       "      <th>34</th>\n",
       "      <td>35</td>\n",
       "      <td>An explorer in the deepest Amazon suddenly finds himself surrounded by a bloodthirsty group of natives. Upon surveying the situation, he says quietly to himself, Oh God, Im screwed.The sky darkens and a voice booms out, No, you are NOT screwed. Pick up that stone at your feet and bash in the head of the chief standing in front of you.So with the stone he bashes the life out of the chief. He stands above the lifeless body, breathing heavily and looking at 100 angry natives.The voice booms out again, Okay.OW youre screwed.</td>\n",
       "    </tr>\n",
       "    <tr>\n",
       "      <th>35</th>\n",
       "      <td>36</td>\n",
       "      <td>A guy walks into a bar, orders a beer and says to the bartender, Hey, I got this great Polish Joke.The barkeep glares at him and says in a warning tone of voice:Before you go telling that joke you better know that Im Polish, both bouncers are Polish and so are most of my customers.Okay, says the customer. Ill tell it very slowly.</td>\n",
       "    </tr>\n",
       "    <tr>\n",
       "      <th>36</th>\n",
       "      <td>37</td>\n",
       "      <td>A Jewish young man was seeing a psychiatrist for an eating and sleeping disorder.I am so obsessed with my mother.As soon as I go to sleep, I start dreaming, and everyone in my dream turns into my mother. I wake up in such a state, and all I can do is go downstairs and eat a piece of toast.The psychiatrist replies, What, just one piece of toast, for a big boy like you?,</td>\n",
       "    </tr>\n",
       "    <tr>\n",
       "      <th>37</th>\n",
       "      <td>38</td>\n",
       "      <td>May I take your order? the waiter asks.Yes, how do you prepare your chickens?Nothing special, sir, he replies. We just tell them straight out that theyre going to die.</td>\n",
       "    </tr>\n",
       "    <tr>\n",
       "      <th>38</th>\n",
       "      <td>39</td>\n",
       "      <td>What is the difference between men and women?A woman wants one man to satisfy her every need.A man wants every woman to satisfy his one need.</td>\n",
       "    </tr>\n",
       "    <tr>\n",
       "      <th>39</th>\n",
       "      <td>40</td>\n",
       "      <td>How many Irishmen does it take to change a lightbulb?Two. One to hold the lightbulb and the other to drink until the room spins.</td>\n",
       "    </tr>\n",
       "    <tr>\n",
       "      <th>40</th>\n",
       "      <td>41</td>\n",
       "      <td>What does an atheist say during an orgasm?Oh Darwin! Oh Darwin!</td>\n",
       "    </tr>\n",
       "    <tr>\n",
       "      <th>41</th>\n",
       "      <td>42</td>\n",
       "      <td>Two men are discussing the age old question:who enjoys sex more, the man or the woman? A woman walks by and listens in for a while and then interrupts,br /&gt;Listen, you guys. You know when your ear itches and you put in your little finger and wiggle it around for a while? Afterward, which feels better, your finger or your ear?</td>\n",
       "    </tr>\n",
       "    <tr>\n",
       "      <th>42</th>\n",
       "      <td>43</td>\n",
       "      <td>Arnold Schwarzenegger and Sylvester Stallone are making a movie about the lives of the great composers.Stallone says, I want to be Mozart.Swartzeneger says, In that case.Ill be Bach.</td>\n",
       "    </tr>\n",
       "    <tr>\n",
       "      <th>43</th>\n",
       "      <td>44</td>\n",
       "      <td>A horse walks into a bar. The bartender asks:br /&gt;So, why the long face?</td>\n",
       "    </tr>\n",
       "    <tr>\n",
       "      <th>44</th>\n",
       "      <td>45</td>\n",
       "      <td>A boy comes home from school and tells his mother that he got a part in the school play. What part? the mother asks. I play a Jewish husband, the boy replies.Go back to school and tell your teacher that you want a speaking role!</td>\n",
       "    </tr>\n",
       "    <tr>\n",
       "      <th>45</th>\n",
       "      <td>46</td>\n",
       "      <td>A couple has been married for 75 years. For the husbands 95th birthday, his wife decides to surprise him by hiring a prostitute. That day, the doorbell rings. The husband uses his walker to get to the door and opens it.A 21-year-old in a latex outfit smiles and says, Hi, I here to give you super sex!The old man says, Ill take the soup.</td>\n",
       "    </tr>\n",
       "    <tr>\n",
       "      <th>46</th>\n",
       "      <td>47</td>\n",
       "      <td>There was an engineer who had an exceptional gift for fixing all things mechanical. After serving his company loyally for over 30 years, he happily retired. Several years later the company contacted him regarding a seemingly impossible problem they were having with one of their multi-million dollar machines. They had tried everything and everyone else to get the machine fixed, but to no avail. In desperation, they called on the retired engineer who had solved so many of their problems in the past.The engineer reluctantly took the challenge. He spent a day studying the huge machine. At the end of the day, he marked a small x in chalk on a particular component of the machine and proudly stated,br /&gt;This is where your problem is.The part was replaced and the machine worked perfectly again. The company received a bill for $50,000 from the engineer for his service. They demanded an itemized accounting of his charges. The engineer responded briefly:br /&gt;One chalk mark:$1.Knowing where to put it,$49,999.He was paid in full and the engineer retired again in peace.</td>\n",
       "    </tr>\n",
       "    <tr>\n",
       "      <th>47</th>\n",
       "      <td>48</td>\n",
       "      <td>The graduate with a Science degree asks, Why does it work?The graduate with an Engineering degree asks, How does it work?The graduate with an Accounting degree Asks, How much will it cost?The graduate with a Liberal Arts degree asks, Do you want fries with that?</td>\n",
       "    </tr>\n",
       "    <tr>\n",
       "      <th>48</th>\n",
       "      <td>49</td>\n",
       "      <td>Three engineering students were gathered together discussing the possible designers of the human body.One said, It was a mechanical engineer. Just look at all the joints.Another said, No, it was an electrical engineer. The nervous systems many thousands of electrical connections.The last said, Actually, it was a civil engineer. Who else would run a toxic waste pipeline through a recreational area?</td>\n",
       "    </tr>\n",
       "    <tr>\n",
       "      <th>49</th>\n",
       "      <td>50</td>\n",
       "      <td>A guy goes into confession and says to the priest, Father, Im 80 years old, widower, with 11 grandchildren. Last night I met two beautiful flight attendants. They took me home and I made love to both of them. Twice.The priest says, Well, my son, when was the last time you were in confession?Never Father, Im Jewish.So then, why are you telling me?Im telling everybody!</td>\n",
       "    </tr>\n",
       "    <tr>\n",
       "      <th>50</th>\n",
       "      <td>51</td>\n",
       "      <td>Did you hear that Clinton has announced that there is a new national bird?The spread eagle.</td>\n",
       "    </tr>\n",
       "    <tr>\n",
       "      <th>51</th>\n",
       "      <td>52</td>\n",
       "      <td>Q:What do Monica Lewinsky and Bob Dole have in common?A:They were both upset when Bill finished first.</td>\n",
       "    </tr>\n",
       "    <tr>\n",
       "      <th>52</th>\n",
       "      <td>53</td>\n",
       "      <td>One Sunday morning William burst into the living room and said, Dad! Mom! I have some great news for you! I am getting married to the most beautiful girl in town. She lives a block away and her name is Susan.After dinner, Williams dad took him aside. Son, I have to talk with you. Your mother and I have been married 30 years. Shes a wonderful wife but she has never offered much excitement in the bedroom, so I used to fool around with women a lot. Susan is actually your half-sister, and Im afraid you cant marry her.William was heart-broken. After eight months he eventually started dating girls again. A year later he came home and very proudly announced, Dianne said yes! Were getting married in June.Again his father insisted on another private conversation and broke the sad news. Dianne is your half-sister too, William. Im awfully sorry about this.William was furious! He finally decided to go to his mother with the news.Dad has done so much harm.I guess Im never going to get married, he complained. Every time I fall in love, Dad tells me the girl is my half-sister.His mother just shook her head. Dont pay any attention to what he says, dear. Hes not really your father.</td>\n",
       "    </tr>\n",
       "    <tr>\n",
       "      <th>53</th>\n",
       "      <td>54</td>\n",
       "      <td>The Pope dies and, naturally, goes to heaven. Hes met by the reception committee, and after a whirlwind tour he is told that he can enjoy any of the myriad of recreations available.He decides that he wants to read all of the ancient original text of the Holy Scriptures, so he spends the next eon or so learning languages. After becoming a linguistic master, he sits down in the library and begins to pour over every version of the Bible, working back from most recent Easy Reading to the original script.All of a sudden there is a scream in the library. The angels come running in only to find the Pope huddled in his chair, crying to himself and muttering, An R! The scribes left out the R! A particularly concerned angel takes him aside, and offering comfort, asks him what the problem is and what he means.After collecting his wits, the Pope sobs again, Its the letter R. They left out the R. The word was supposed to be CELEBRATE!</td>\n",
       "    </tr>\n",
       "    <tr>\n",
       "      <th>54</th>\n",
       "      <td>55</td>\n",
       "      <td>A woman has twins, and gives them up for adoption. One of them goes to a family in Egypt and is named Amal. The other goes to a family in Spain; they name him Juan. Years later, Juan sends a picture of himself to his mom. Upon receiving the picture, she tells her husband that she wishes she also had a picture of Amal.Her husband responds, But they are twins--if youve seen Juan, youve seen Amal.</td>\n",
       "    </tr>\n",
       "    <tr>\n",
       "      <th>55</th>\n",
       "      <td>56</td>\n",
       "      <td>A man and Cindy Crawford get stranded on a desert island. After a couple of days they fall in love and start sleeping together. Time passes and the man seems frustrated. Cindy asks if there is anything she can do, and he says there is one thing:Could you put on this baseball cap and go to the other side of the island and answer me when I call you Bob? She agrees. The next day he is walking on the other side of the island and runs into her. He says, Hi Bob!She says, Hello, whats up?He replies, Bob, you wont believe it:Ive been sleeping with Cindy Crawford for the past two weeks!</td>\n",
       "    </tr>\n",
       "    <tr>\n",
       "      <th>56</th>\n",
       "      <td>57</td>\n",
       "      <td>Why are there so many Joness in the phone book?Because they all have phones.</td>\n",
       "    </tr>\n",
       "    <tr>\n",
       "      <th>57</th>\n",
       "      <td>58</td>\n",
       "      <td>How many teddy bears does it take to change a lightbulb?It takes only one teddy bear, but it takes a whole lot of lightbulbs.</td>\n",
       "    </tr>\n",
       "    <tr>\n",
       "      <th>58</th>\n",
       "      <td>59</td>\n",
       "      <td>The Chukcha (Russian Eskimo) phones up the Russian Parliament Building. A guard answers.Chukcha:What is required to become Parliament member?Guard:What are you, an idiot?Chukcha:Is it required?</td>\n",
       "    </tr>\n",
       "    <tr>\n",
       "      <th>59</th>\n",
       "      <td>60</td>\n",
       "      <td>What did the Buddhist say to the hot dog vendor?Make me one with everything.</td>\n",
       "    </tr>\n",
       "    <tr>\n",
       "      <th>60</th>\n",
       "      <td>61</td>\n",
       "      <td>During a recent publicity outing, Hillary sneaked off to visit a fortune teller of some local repute. In a dark and hazy room, peering into a crystal ball, the mystic delivered grave news.Theres no easy way to say this, so Ill just be blunt:Prepare yourself to be a widow. Your husband will die a violent and horrible death this year.Visibly shaken, Hillary stared at the womans lined face, then at the single flickering candle, then down at her hands. She took a few deep breaths to compose herself. She simply had to know. She met the fortune tellers gaze, steadied her voice, and asked her question.Will I be acquitted?</td>\n",
       "    </tr>\n",
       "    <tr>\n",
       "      <th>61</th>\n",
       "      <td>62</td>\n",
       "      <td>A group of managers were given the assignment to measure the height of a flagpole. So they go out to the flagpole with ladders and tape measures, and theyre falling off the ladders, dropping the tape measures--the whole thing is just a mess. An engineer comes along and sees what theyre trying to do, walks over, pulls the flagpole out of the ground, lays it flat, measures it from end to end, gives the measurement to one of the managers and walks away.After the engineer has gone, one manager turns to another and laughs. Isnt that just like an engineer? Were looking for the height and he gives us the length.</td>\n",
       "    </tr>\n",
       "    <tr>\n",
       "      <th>62</th>\n",
       "      <td>63</td>\n",
       "      <td>An engineer, a physicist and a mathematician are sleeping in a room. There is a fire in the room. The engineer wakes up, sees the fire, picks up the bucket of water and douses the fire and goes back to sleep.Again there is a fire in the room. This time, the physicist wakes up, notices the bucket, fills it with water, calculates the optimal trajectory and douses the fire in minimum amount of water and goes back to sleep.Again there is a fire. This time the mathematician wakes up. He looks at the fire, looks at the bucket and the water and exclaims, A solution exists! and goes back to sleep.</td>\n",
       "    </tr>\n",
       "    <tr>\n",
       "      <th>63</th>\n",
       "      <td>64</td>\n",
       "      <td>What is the rallying cry of the International Dyslexic Pride movement?Dyslexics Untie!</td>\n",
       "    </tr>\n",
       "    <tr>\n",
       "      <th>64</th>\n",
       "      <td>65</td>\n",
       "      <td>Two rednecks were seated at the end of a bar when a young lady seated a few stools up began to choke on a piece of hamburger. She was turning blue and obviously in serious respiratory distress. One said to the other, That gal there is having a bad time! The other agreed and said, Think we should go help? You bet, said the first, and with that, he ran over and said, Can you breathe? She shook her head no. He said, Can you speak? She again shook her head no. With that, he pulled up her skirt and licked her on the butt.She was so shocked, she coughed up the obstruction and began to breathe--with great relief.The redneck walked back to his friend and said, Funny how that hind lick maneuver always works.</td>\n",
       "    </tr>\n",
       "    <tr>\n",
       "      <th>65</th>\n",
       "      <td>66</td>\n",
       "      <td>A lawyer opened the door of his BMW, when suddenly a car came along and hit the door, ripping it off completely. When the police arrived at the scene, the lawyer was complaining bitterly about the damage to his precious BMW.Officer, look what theyve done to my Beeeeemer! he whined.You lawyers are so materialistic, you make me sick! retorted the officer. Youre so worried about your stupid BMW that you didnt even notice your left arm was ripped off!Oh my gaaaad. replied the lawyer, finally noticing the bloody left shoulder where his arm once was. Wheres my Rolex?!,</td>\n",
       "    </tr>\n",
       "    <tr>\n",
       "      <th>66</th>\n",
       "      <td>67</td>\n",
       "      <td>Once upon a time, two brooms fell in love and decided to get married. Before the ceremony, the bride broom informed the groom broom that she was expecting a little whiskbroom. The groom broom was aghast!How is this possible? he asked. Weve never swept together!,</td>\n",
       "    </tr>\n",
       "    <tr>\n",
       "      <th>67</th>\n",
       "      <td>68</td>\n",
       "      <td>A man piloting a hot air balloon discovers he has wandered off course and is hopelessly lost. He descends to a lower altitude and locates a man down on the ground. He lowers the balloon further and shouts, Excuse me, can you tell me where I am?The man below says, Yes, youre in a hot air balloon, about 30 feet above this field.You must work in Information Technology, says the balloonist.Yes I do, replies the man. And how did you know that?Well, says the balloonist, what you told me is technically correct, but of no use to anyone.The man below says, You must work in management.I do, replies the balloonist, how did you know?Well, says the man, you dont know where you are, or where youre going, but you expect my immediate help. Youre in the same position you were before we met, but now its my fault!</td>\n",
       "    </tr>\n",
       "    <tr>\n",
       "      <th>68</th>\n",
       "      <td>69</td>\n",
       "      <td>This guys wife asks, Honey, if I died would you remarry? and he replies, Well, after a considerable period of grieving, we all need companionship, so I guess I would.She then asks, If I died and you remarried, would she live in this house? and he replies, Weve spent a lot of time and money getting this house just the way we want it. Im not going to get rid of my house, so I guess she would.If I died and you remarried, and she lived in this house, would she sleep in our bed? and he says, That bed is brand new. We just paid two thousand dollars for it, and its going to last a long time, so I guess she would.So she asks, If I died and you remarried, and she lived in this house, and slept in our bed, would she use my golf clubs?Oh no, shes left handed.</td>\n",
       "    </tr>\n",
       "    <tr>\n",
       "      <th>69</th>\n",
       "      <td>70</td>\n",
       "      <td>Employer to applicant:In this job we need someone who is responsible.Applicant:Im the one you want. On my last job, every time anything went wrong, they said I was responsible.</td>\n",
       "    </tr>\n",
       "    <tr>\n",
       "      <th>70</th>\n",
       "      <td>71</td>\n",
       "      <td>At a recent Sacramento PC Users Group meeting, a company was demonstrating its latest speech- recognition software. A representative from the company was just about ready to start the demonstration and asked everyone in the room to quiet down.Just then, someone in the back of the room yelled, Format C:Return.Someone else chimed in:Yes, Return.Unfortunately, the software worked.</td>\n",
       "    </tr>\n",
       "    <tr>\n",
       "      <th>71</th>\n",
       "      <td>72</td>\n",
       "      <td>On the first day of college, the Dean addressed the students, pointing out some of the rules:The female dormitory will be out-of-bounds for all male students and the male dormitory to the female students. Anybody caught breaking this rule will be finded $20 the first time. He continued, Anybody caught breaking this rule the second time will be fined $60. Being caught a third time will cost you a fine of $180. Are there any questions?At this point, a male student in the crowd inquired:How much for a season pass?</td>\n",
       "    </tr>\n",
       "    <tr>\n",
       "      <th>72</th>\n",
       "      <td>73</td>\n",
       "      <td>Q:What is the difference between George Washington, Richard Nixon, and Bill Clinton?A:Washington couldnt tell a lie, Nixon couldnt tell the truth, and Clinton doesnt know the difference.</td>\n",
       "    </tr>\n",
       "    <tr>\n",
       "      <th>73</th>\n",
       "      <td>74</td>\n",
       "      <td>Q:How many stalkers does it take to change a light bulb?A:Two. One to replace the bulb, and the other to watch it day and night.</td>\n",
       "    </tr>\n",
       "    <tr>\n",
       "      <th>74</th>\n",
       "      <td>75</td>\n",
       "      <td>Q:Do you know the difference between an intelligent male and the Sasquatch?A:There have been actual reported sightings of the Sasquatch.</td>\n",
       "    </tr>\n",
       "    <tr>\n",
       "      <th>75</th>\n",
       "      <td>76</td>\n",
       "      <td>There once was a man and a woman that both got in a terrible car wreck. Both of their vehicles were completely destroyed, buy fortunately, no one was hurt. In thankfulness, the woman said to the man, We are both okay, so we should celebrate. I have a bottle of wine in my car:lets open it. So the woman got the bottle out of the car, and handed it to the man. The man took a really big drink, and handed the woman the bottle. The woman closed the bottle and put it down. The man asked, Arent you going to take a drink? The woman cleverly replied, No, I think Ill just wait for the cops to get here.</td>\n",
       "    </tr>\n",
       "    <tr>\n",
       "      <th>76</th>\n",
       "      <td>77</td>\n",
       "      <td>If pro- is the opposite of con-, then congress must be the opposite of progress.</td>\n",
       "    </tr>\n",
       "    <tr>\n",
       "      <th>77</th>\n",
       "      <td>78</td>\n",
       "      <td>Q:Whats the difference between the government and the Mafia?A:One of them is organized.</td>\n",
       "    </tr>\n",
       "    <tr>\n",
       "      <th>78</th>\n",
       "      <td>79</td>\n",
       "      <td>Q:Ever wonder why the IRS calls it Form 1040?A:Because for every $50 that you earn, you get 10 and they get 40.</td>\n",
       "    </tr>\n",
       "    <tr>\n",
       "      <th>79</th>\n",
       "      <td>80</td>\n",
       "      <td>Hillary, Bill Clinton and the Pope are sitting together on an airplane. Bill says, I could throw one thousand-dollar bill out of this plane and make one person very happy. Hillary says, I could throw 10 hundred-dollar bills out of the plane and make 10 people very happy.The Pope chips in and says, I could throw Bill out of the airplane and make the whole country happy.</td>\n",
       "    </tr>\n",
       "    <tr>\n",
       "      <th>80</th>\n",
       "      <td>81</td>\n",
       "      <td>An Asian man goes into a New York CityBank to exchange 10,000 yen for American Currency. The teller gives him $72.00. The next month the Asian man goes into the same bank with 10,000 yen and receives $62.00. He asks, How come? Only $62.00? The teller says Fluctuations, fluctuations!Whereupon the Asian man looks back at the teller and says Fluk you Amelicans too!,</td>\n",
       "    </tr>\n",
       "    <tr>\n",
       "      <th>81</th>\n",
       "      <td>82</td>\n",
       "      <td>Q:How do you keep a computer programmer in the shower all day long?A:Give them a shampoo with a label that says rinse, lather, repeat.</td>\n",
       "    </tr>\n",
       "    <tr>\n",
       "      <th>82</th>\n",
       "      <td>83</td>\n",
       "      <td>What a woman says:This place is a mess! Cmon,you and I need to clean up,your stuff is lying on the floor andyoull have no clothes to wearif we dont do laundry right now!What a man hears:blah, blah, blah, blah, Cmonblah, blah, blah, blah, you and Iblah, blah, blah, blah, on the floorblah, blah, blah, blah, no clothesblah, blah, blah, blah, right now!</td>\n",
       "    </tr>\n",
       "    <tr>\n",
       "      <th>83</th>\n",
       "      <td>84</td>\n",
       "      <td>Q:What is the difference between mechanical engineers and civil engineers?A:Mechanical Engineers build weapons, civil engineers build targets.</td>\n",
       "    </tr>\n",
       "    <tr>\n",
       "      <th>84</th>\n",
       "      <td>85</td>\n",
       "      <td>Q:How many presidents does it take to screw in a light bulb?A:It depends upon your definition of screwing a light bulb.</td>\n",
       "    </tr>\n",
       "    <tr>\n",
       "      <th>85</th>\n",
       "      <td>86</td>\n",
       "      <td>A neutron walks into a bar and orders a drink. How much do I owe you? the neutron asks.The bartender replies, For you, no charge.</td>\n",
       "    </tr>\n",
       "    <tr>\n",
       "      <th>86</th>\n",
       "      <td>87</td>\n",
       "      <td>A man who recently completed a routine physical examination receives a phone call from his doctor. The doctor says, I have some good news and some bad news. The man says, Okay, give me the good news first. The doctor says, The good news is,you have 24 hours to live. The man replies, Shit! Thats the good news? Then whats the bad news?The doctor says, The bad news is:I forgot to call you yesterday.</td>\n",
       "    </tr>\n",
       "    <tr>\n",
       "      <th>87</th>\n",
       "      <td>88</td>\n",
       "      <td>A Czechoslovakian man felt his eyesight was growing steadily worse, and felt it was time to go see an optometrist.The doctor started with some simple testing, and showed him a standard eye chart with letters of diminishing size:CRKBNWXSKZY.Can you read this? the doctor asked.Read it? the Czech answered. Doc, I know him!</td>\n",
       "    </tr>\n",
       "    <tr>\n",
       "      <th>88</th>\n",
       "      <td>89</td>\n",
       "      <td>A radio conversation between a US naval ship and Canadian authorities.Americans:Please divert your course 15 degrees to the North to avoid a collision.Canadians:Recommend you divert YOUR course 15 degrees to the South to avoid a collision.Americans:This is the captain of a US Navy ship. I say again, divert YOUR course.Canadians:No. I say again, you divert YOUR course.Americans:This is the aircraft carrier USS Lincoln, the second largest ship in the United States Atlantic Fleet. We are accompanied by three destroyers, three cruisers and numerous support vessels. I demand that you change your course 15 degrees North, thats ONE FIVE DEGREES NORTH, or counter-measures will be undertaken to ensure the safety of this ship.Canadians:This is a lighthouse. Your call.</td>\n",
       "    </tr>\n",
       "    <tr>\n",
       "      <th>89</th>\n",
       "      <td>90</td>\n",
       "      <td>Q:How many programmers does it take to change a lightbulb?A:NONE! Thats a hardware problem.</td>\n",
       "    </tr>\n",
       "    <tr>\n",
       "      <th>90</th>\n",
       "      <td>91</td>\n",
       "      <td>A Panda walks into a bar, sits down at a table and orders a beer and a double cheeseburger. After he is finished eating, he pulls out a gun and rips the place with gunfire. Patrons scatter and dive under chairs and tables as the bear runs out the door. After ensuring that no one is hurt, the bartender races out the door, and calls after the bear:What the hell did you do that for? The bear calls back, Im a Panda. Look it up in the dictionary.The bartender returns, pulls out his dictionary.panda:\\Panda\\, n. (Zo[o]l.)A small Asiatic mammal (Ailurus fulgens) having fine soft fur. It is related to the bears, and inhabits the mountains of Northern India. Eats shoots and leaves.</td>\n",
       "    </tr>\n",
       "    <tr>\n",
       "      <th>91</th>\n",
       "      <td>92</td>\n",
       "      <td>Early one morning a mother went to her sleeping son and woke him up.Wake up, son. Its time to go to school.But why, Mama? I dont want to go to school.Give me two reasons why you dont want to go to school.One, all the children hate me. Two, all the teachers hate me.Oh, thats no reason. Come on, you have to go to school.Give me two good reasons why I should go to school.One, you are fifty-two years old. Two, you are the principal of the school.</td>\n",
       "    </tr>\n",
       "    <tr>\n",
       "      <th>92</th>\n",
       "      <td>93</td>\n",
       "      <td>Reaching the end of a job interview, the human resources person asked a young engineer fresh out of Stanford,And what starting salary were you looking for?The engineer said, In the neighborhood of $125,000 a year, depending on the benefits package.The interviewer said, Well, what would you say to a package of 5-weeks vacation, 14 paid holidays, full medical and dental, company matching retirement fund to 50% of salary, and a company car leased every 2 years--say, a red Corvette?The engineer sat up straight and said, Wow! Are you kidding?And the interviewer replied, Yeah, but you started it.</td>\n",
       "    </tr>\n",
       "    <tr>\n",
       "      <th>93</th>\n",
       "      <td>94</td>\n",
       "      <td>Two atoms are walking down the street when one atom says to the other, Oh, my! Ive lost an electron!The second atom says, Are you sure?The first replies, Im positive!,</td>\n",
       "    </tr>\n",
       "    <tr>\n",
       "      <th>94</th>\n",
       "      <td>95</td>\n",
       "      <td>Just a thought.Before criticizing someone, walk a mile in their shoes.Then, when you do criticize them, you will be a mile away and have their shoes!</td>\n",
       "    </tr>\n",
       "    <tr>\n",
       "      <th>95</th>\n",
       "      <td>96</td>\n",
       "      <td>Two attorneys went into a diner and ordered two drinks. Then they produced sandwiches from their briefcases and started to eat. The owner became quite concerned and marched over and told them, You cant eat your own sandwiches in here!The attorneys looked at each other, shrugged their shoulders and then exchanged sandwiches.</td>\n",
       "    </tr>\n",
       "    <tr>\n",
       "      <th>96</th>\n",
       "      <td>97</td>\n",
       "      <td>A teacher is explaining to her class how different languages use negatives differently. She says, In all languages, a positive followed by a negative or a negative followed by a positive makes a negative. In some languages, two negatives together make a positive, while in others they make a negative. But in no language do two positives make a negative.One of the students puts up his hand and says, Yeah, right.</td>\n",
       "    </tr>\n",
       "    <tr>\n",
       "      <th>97</th>\n",
       "      <td>98</td>\n",
       "      <td>Age and Womanhood: 1. Between the ages of 13 and 18.She is like Africa, virgin and unexplored. 2. Between the ages of 19 and 35.She is like Asia, hot and exotic. 3. Between the ages of 36 and 45.She is like America, fully explored, breathtakingly beautiful, and free with her resources. 4. Between the ages of 46 and 56.She is like Europe, exhausted but still has points of interest. 5. After 56 she is like Australia.Everybody knows its down there, but who gives a damn?,</td>\n",
       "    </tr>\n",
       "    <tr>\n",
       "      <th>98</th>\n",
       "      <td>99</td>\n",
       "      <td>A bus station is where a bus stops.A train station is where a train stops.On my desk I have a work station.</td>\n",
       "    </tr>\n",
       "    <tr>\n",
       "      <th>99</th>\n",
       "      <td>100</td>\n",
       "      <td>Q:Whats the difference between greeting a queen and greeting the President of the United States?A:You only have to get on one knee to greet the queen.</td>\n",
       "    </tr>\n",
       "    <tr>\n",
       "      <th>100</th>\n",
       "      <td>101</td>\n",
       "      <td>Did you hear about the Buddhist who refused Novocaine during a root canal? He wanted to transcend dental medication.</td>\n",
       "    </tr>\n",
       "    <tr>\n",
       "      <th>101</th>\n",
       "      <td>102</td>\n",
       "      <td>A man escaped jail by digging a hole from his jail cell to the outside world. When finally his work was done, he emerged in the middle of a preschool playground.Im free, Im free! he shouted. So what? said a little girl. Im four.</td>\n",
       "    </tr>\n",
       "    <tr>\n",
       "      <th>102</th>\n",
       "      <td>103</td>\n",
       "      <td>Nurse:Doctor, Doctor, theres an invisible man in the waiting room!Doctor:Well, go in there and tell him that I cant see him!,</td>\n",
       "    </tr>\n",
       "    <tr>\n",
       "      <th>103</th>\n",
       "      <td>104</td>\n",
       "      <td>As a pre-med student, I had to take a difficult class in physics. One day our professor was discussing a particularly complicated concept. A student rudely interrupted to ask, Why do we have to learn this stuff?To save lives. The professor responded quickly and continued the lecture.A few minutes later, the same student spoke up again. So how does physics save lives? he persisted.It usually keeps the idiots like you out of medical school, replied the professor.</td>\n",
       "    </tr>\n",
       "    <tr>\n",
       "      <th>104</th>\n",
       "      <td>105</td>\n",
       "      <td>A couple of hunters are out in the woods in the deep south when one of them falls to the ground. He doesnt seem to be breathing, and his eyes are rolled back in his head.The other guy whips out his cell phone and calls 911. He gasps to the operator, My friend is dead! What can I do?The operator, in a calm and soothing voice, says, Alright, take it easy. I can help. First, lets make sure hes dead.There is silence, and then a gun shot is heard.The hunter comes back on the line. Okay. Now what??</td>\n",
       "    </tr>\n",
       "    <tr>\n",
       "      <th>105</th>\n",
       "      <td>106</td>\n",
       "      <td>An engineer dies and reports to the pearly gates. St. Peter checks his dossier and says, Ah, youre an engineer--youre in the wrong place. So, the engineer reports to the gates of hell and is let in. Pretty soon, the engineer gets dissatisfied with the level of comfort in hell, and starts designing and building improvements. After awhile, theyve got air conditioning, flush toilets and escalators, and the engineer is a pretty popular guy. One day, God calls Satan up on the telephone and says with a sneer, So, hows it going down there in hell?Satan replies, Hey, things are going great. Weve got air conditioning, flush toilets and escalators, and theres no telling what this engineer is going to come up with next.God replies, What?? Youve got an engineer? Thats a mistake--he should never have gotten down there; send him up here.Satan says, No way. I like having an engineer on the staff, and Im keeping him.God says, Send him back up here or Ill sue.Satan laughs uproariously and answers, Yeah, right. And just where are YOU going to get a lawyer?</td>\n",
       "    </tr>\n",
       "    <tr>\n",
       "      <th>106</th>\n",
       "      <td>107</td>\n",
       "      <td>(A) The Japanese eat very little fat and suffer fewer heart attacks than the British or Americans. (B) On the other hand, the French eat a lot of fat and also suffer fewer heart attacks than the British or Americans. (C) The Chinese drink very little red wine and suffer fewer heart attacks than the British or Americans. (D) The Italians drink excessive amounts of red wine and also suffer fewer heart attacks than the British or Americans. (E) Conclusion:Eat and drink what you like. Its speaking English that kills you.</td>\n",
       "    </tr>\n",
       "    <tr>\n",
       "      <th>107</th>\n",
       "      <td>108</td>\n",
       "      <td>A man approached a very beautiful woman in a large supermarket and asked, You know, Ive lost my wife here in the supermarket. Can you talk to me for a couple of minutes?Why?Because every time I talk to a beautiful woman my wife appears out of nowhere.</td>\n",
       "    </tr>\n",
       "    <tr>\n",
       "      <th>108</th>\n",
       "      <td>109</td>\n",
       "      <td>Do you believe in life after death? the boss asked one of his employees.Yes, sir, the new recruit replied. Well, then, that makes everything just fine. the boss went on. After you left early yesterday to go to your grandmothers funeral, she stopped in to see you.</td>\n",
       "    </tr>\n",
       "    <tr>\n",
       "      <th>109</th>\n",
       "      <td>110</td>\n",
       "      <td>One day, a professor was giving a big test to his students. He handed out the tests and went back to his desk to wait. Once the test was over, the students all handed the tests back in.The professor noticed that one of the students had attached a $100 bill to his test with a note saying:A dollar per point.The next class the professor handed the tests back out. This student got back his test.and $64 change!</td>\n",
       "    </tr>\n",
       "    <tr>\n",
       "      <th>110</th>\n",
       "      <td>111</td>\n",
       "      <td>A new business was opening and one of the owners friends wanted to send him flowers for the occasion. They arrived at the new business site and the owner read the card, Rest in Peace.The owner was angry and called the florist to complain.After he had told the florist of the obvious mistake and how angry he was, the florist replied, Sir, Im really sorry for the mistake, but rather than getting angry, you should imagine this:somewhere there is a funeral taking place today, and they have flowers with a note saying, Congratulations on your new location!</td>\n",
       "    </tr>\n",
       "    <tr>\n",
       "      <th>111</th>\n",
       "      <td>112</td>\n",
       "      <td>When my three-year-old son opened the birthday gift from his grandmother, he discovered a water pistol. He squealed with delight and headed for the nearest sink. I was not so pleased. I turned to Mom and said, Im surprised at you. Dont you remember how we used to drive you crazy with water guns?Mom smiled and then replied.I remember.</td>\n",
       "    </tr>\n",
       "    <tr>\n",
       "      <th>112</th>\n",
       "      <td>113</td>\n",
       "      <td>The new employee stood before the paper shredder looking confused.Need some help? a secretary asked.Yes, he replied. How does this thing work?Simple, she said, taking the fat report from his hand and feeding it into the shredder.Thanks, but where do the copies come out?</td>\n",
       "    </tr>\n",
       "    <tr>\n",
       "      <th>113</th>\n",
       "      <td>114</td>\n",
       "      <td>Sherlock Holmes and Dr. Watson go on a camping trip, set up their tent, and fall asleep. Some hours later, Holmes wakes his faithful friend. Watson, look up at the sky and tell me what you see.Watson replies, I see millions of stars.What does that tell you?Watson ponders for a minute. Astronomically speaking, it tells me that there are millions of galaxies and potentially billions of planets. Astrologically, it tells me that Saturn is in Leo. Timewise, it appears to be approximately a quarter past three. Theologically, its evident the Lord is all-powerful and we are small and insignificant. Meteorologically, it seems we will have a beautiful day tomorrow. What does it tell you?Holmes is silent for a moment, then speaks. Watson, you idiot, someone has stolen our tent.</td>\n",
       "    </tr>\n",
       "    <tr>\n",
       "      <th>114</th>\n",
       "      <td>115</td>\n",
       "      <td>A lady bought a new Lexus. It cost a bundle. Two days later, she brought it back, complaining that the radio was not working.Madam, said the sales manager, the audio system in this car is completely automatic. All you need to do is tell it what you want to listen to, and you will hear exactly that!She drove out, somewhat amazed and a little confused. She looked at the radio and said, Nelson. The radio responded, Ricky or Willie? She was astounded. If she wanted Beethoven, thats what she got. If she wanted Nat King Cole, she got it.She was stopped at a traffic light enjoying On the Road Again when the light turned green and she pulled out. Suddenly an enormous sports utility vehicle coming from the street she was crossing sped toward her, obviously not paying attention to the light. She swerved and narrowly missed a collision.Idiot! she yelled and, from the radio, Ladies and gentlemen, the President of the United States.</td>\n",
       "    </tr>\n",
       "    <tr>\n",
       "      <th>115</th>\n",
       "      <td>116</td>\n",
       "      <td>A man in a hot air balloon realized he was lost. He reduced altitude and spotted a woman below.He descended a bit more and shouted, Excuse me, can you help me? I promised a friend I would meet him an hour ago, but I dont know where I am.The woman below replied, You are in a hot air balloon hovering approximately 30 feet above the ground. You are between 40 and 41 degrees north latitude and between 59 and 60 degrees west longitude.You must be an engineer, said the balloonist.I am, replied the woman. How did you know?Well, answered the balloonist, everything you told me is technically correct, but I have no idea what to make of your information, and the fact is, I am still lost. Frankly, youve not been much help so far.The woman below responded, You must be in management.I am, replied the balloonist, but how did you know?Well, said the woman, you dont know where you are or where you are going. You have risen to where you are due to a large quantity of hot air. You made a promise that you have no idea how to keep, and you expect people beneath you to solve your problems. The fact is, you are in exactly the same position you were in before we met, but now, somehow, its my fault!,</td>\n",
       "    </tr>\n",
       "    <tr>\n",
       "      <th>116</th>\n",
       "      <td>117</td>\n",
       "      <td>A man joins a big corporate empire as a trainee.On his very first day of work, he dials the pantry and shouts into the phone:Get me a coffee, quickly!The voice from the other side responds, You fool, youve dialed the wrong extension! Do you know who youre talking to, dumbo?No, replied the trainee.Its the CEO of the company, you fool!The trainee shouts back, And do YOU know who YOU are talking to, you fool?!No. replied the CEO indignantly.Good! replied the trainee, and puts down the phone.</td>\n",
       "    </tr>\n",
       "    <tr>\n",
       "      <th>117</th>\n",
       "      <td>118</td>\n",
       "      <td>A man goes into a drug store and asks the pharmacist if he can give him something for the hiccups. The pharmacist promptly reaches out and slaps the mans face. What the heck did you do that for?! the man screams. Well, you dont have the hiccups anymore, do you?The man says, No I dont, you IDIOT.but my wife out in the car still does!</td>\n",
       "    </tr>\n",
       "    <tr>\n",
       "      <th>118</th>\n",
       "      <td>119</td>\n",
       "      <td>One day the first grade teacher was reading the story of the Three Little Pigs to her class. She came to the part of the story where the first pig was trying to accumulate the building materials for his home. She read, .and so the pig went up to the man with the wheelbarrow full of straw and said, Pardon me sir, but may I have some of that straw to build my house?The teacher paused then asked the class, And what do you think that man said?One little boy raised his hand and said, I know.he said, Holy Shit! A talking pig!</td>\n",
       "    </tr>\n",
       "    <tr>\n",
       "      <th>119</th>\n",
       "      <td>120</td>\n",
       "      <td>Judy was having trouble with her computer, so she called Tony, the computer guy, over to her desk. Tony clicked a couple buttons and solved the problem. As he was walking away, Judy called after him, So, what was wrong?And he replied, It was an ID Ten T Error.A puzzled expression ran riot over Judys face. An ID Ten T Error? Whats that.in case I need to fix it again?He gave her a grin.Havent you ever heard of an ID Ten T Error before?No, replied Judy.Write it down, he said, and I think youll figure it out. (She wrote.) I D 1 0 T</td>\n",
       "    </tr>\n",
       "    <tr>\n",
       "      <th>120</th>\n",
       "      <td>121</td>\n",
       "      <td>A drunk staggers into a Catholic Church, enters a confessional booth, sits down, but says nothing. The Priest coughs a few times to get his attention but the drunk just sits there. Finally, the Priest pounds three times on the wall.The drunk mumbles, Aint no use knockin, theres no paper on this side either.</td>\n",
       "    </tr>\n",
       "    <tr>\n",
       "      <th>121</th>\n",
       "      <td>122</td>\n",
       "      <td>An astronomer, a physicist and a mathematician (it is said) were holidaying in Scotland. Glancing from a train window, they observed a black sheep in the middle of a field.How interesting, observed the astronomer, All Scottish sheep are black!To which the physicist responded, No, no! Some Scottish sheep are black!The mathematician gazed heavenward in supplication, and then intoned, In Scotland there exists at least one field, containing at least one sheep, at least one side of which is black.</td>\n",
       "    </tr>\n",
       "    <tr>\n",
       "      <th>122</th>\n",
       "      <td>123</td>\n",
       "      <td>When most people claim to be killing time, its only an expression. When Chuck Norris kills time, the minutes actually cease to exist.</td>\n",
       "    </tr>\n",
       "    <tr>\n",
       "      <th>123</th>\n",
       "      <td>124</td>\n",
       "      <td>Person 1:Hey, wanna hear a great knock-knock joke?Person 2:Sure, What is it?Person 1:Okay, you start.Person 2:Knock-knock.Person 1:Whos there?Person 2:.Person 1:Hah!</td>\n",
       "    </tr>\n",
       "    <tr>\n",
       "      <th>124</th>\n",
       "      <td>125</td>\n",
       "      <td>An American tourist goes into a restaurant in Spain and orders the specialty of the house. When his dinner arrives, he asks the waiter what it is. These, senor, replied the waiter in broken English, are the testicles of the bull killed in the ring today.The tourist swallowed hard but tasted the dish and thought it was delicious. So he comes back the next evening and orders the same item. When it is served, he says to the waiter, These testicles.are much smaller than the ones I had last night.Yes, senor, replied the waiter, You see.the bull, he does not always lose.</td>\n",
       "    </tr>\n",
       "    <tr>\n",
       "      <th>125</th>\n",
       "      <td>126</td>\n",
       "      <td>A Briton, a Frenchman and a Russian are viewing a painting of Adam and Eve frolicking in the Garden of Eden. Look at their reserve, their calm, muses the Brit. They must be British.Nonsense, the Frenchman disagrees. Theyre naked, and so beautiful. Clearly, they are French.No way! They have no clothes and no shelter, the Russian points out, They have only an apple to eat, and they are being told they live in a paradise. Obviously, they are Russian.</td>\n",
       "    </tr>\n",
       "    <tr>\n",
       "      <th>126</th>\n",
       "      <td>127</td>\n",
       "      <td>A little boy goes to his dad and asks, What is politics?His dad says, Well son, let me try to explain it this way:Im the breadwinner of the family, so lets call me capitalism. Your Mom, shes the administrator of the money, so well call her the government. Were here to take care of your needs, so well call you the people. The nanny, well consider her the working class. And your baby brother, well call him the future. Now, think about that and see if that makes sense.So the little boy goes off to bed thinking about what dad had said. Later that night, he hears his baby brother crying, so he gets up to check on him. He finds that the baby has severely soiled his diaper. So the little boy goes to his parents room and finds his mother sound asleep. Not wanting to wake her, he goes to the nannys room. Finding the door locked, he peeks in the keyhole and sees his father in bed with the nanny. He gives up and goes back to bed. The next morning, the little boy says to his father, Dad, I think I understand the concept of politics now. The father says, Good, son. Tell me in your own words what you think politics is all about.The little boy replies, Well, while capitalism is screwing the working class, the government is sound asleep, the people are being ignored and the future is in deep shit.</td>\n",
       "    </tr>\n",
       "    <tr>\n",
       "      <th>127</th>\n",
       "      <td>128</td>\n",
       "      <td>An American, a Scot and a Canadian were in a terrible car accident. They were all brought to the same emergency room, but all three of them died before they arrived.Just as they were about to put the toe tag on the American, he stirred and opened his eyes. Astonished, the doctors and nurses present asked him what happened.Well, said the American, I remember the crash, and then there was a beautiful light, and then the Canadian and the Scot and I were standing at the gate s of heaven. St. Peter approached us and said that we were all to young to die, and that for a donation of $50, we could return to earth. So of course I pulled out my wallet and gave him the $50, and the next thing I knew I was back here.Thats amazing! said the one of the doctors, But what happened to the other two?Last I saw them, replied the American, the Scot was haggling over the price and the Canadian was waiting for the government to pay his.</td>\n",
       "    </tr>\n",
       "    <tr>\n",
       "      <th>128</th>\n",
       "      <td>129</td>\n",
       "      <td>A group of girlfriends is on vacation when they see a 5-story hotel with a sign that reads:For Women Only. Since they are without their boyfriends and husbands, they decide to go in. The bouncer, a very attractive guy, explains to them how it works. We have 5 floors. Go up floor by floor, and once you find what you are looking for, you can stay there. Its easy to decide since each floor has a sign telling you whats inside.So they start going up and on the first floor the sign reads:All the men on this floor are short and plain. The friends laugh and without hesitation move on to the next floor. The sign on the second floor reads:All the men here are short and handsome. Still, this isnt good enough, so the friends continue on up. They reach the third floor and the sign reads:All the men here are tall and plain.They still want to do better, and so, knowing there are still two floors left, they continued on up. On the fourth floor, the sign is perfect:All the men here are tall and handsome. The women get all excited and are going in when they realize that there is still one floor left. Wondering what they are missing, they head on up to the fifth floor. There they find a sign that reads:There are no men here. This floor was built only to prove that there is no way to please a woman.</td>\n",
       "    </tr>\n",
       "    <tr>\n",
       "      <th>129</th>\n",
       "      <td>130</td>\n",
       "      <td>An old man goes to the doctor for his yearly physical, his wife tagging along. When the doctor enters the examination room, he tells the old man, I need a urine sample, a stool sample and a sperm sample.The old man, being hard of hearing, looks at his wife and yells:WHAT? What did he say? Whats he want?His wife yells back, He needs your underwear.</td>\n",
       "    </tr>\n",
       "    <tr>\n",
       "      <th>130</th>\n",
       "      <td>131</td>\n",
       "      <td>A guy had been feeling down for so long that he finally decided to seek the aid of a psychiatrist.He went there, lay on the couch, spilled his guts then waited for the profound wisdom of the psychiatrist to make him feel better.The psychiatrist asked me a few questions, took some notes then sat thinking in silence for a few minutes with a puzzled look on his face.He looked up with an expression of delight and said, I think your problem is low self-esteem. It is very common among losers.</td>\n",
       "    </tr>\n",
       "    <tr>\n",
       "      <th>131</th>\n",
       "      <td>132</td>\n",
       "      <td>Mickey Mouse is having a nasty divorce with Minnie Mouse. Mickey spoke to the judge about the separation.Im sorry Mickey, but I cant legally separate you two on the grounds that Minnie is mentally insane.Mickey replied, I didnt say she was mentally insane, I said that shes fucking Goofy!,</td>\n",
       "    </tr>\n",
       "    <tr>\n",
       "      <th>132</th>\n",
       "      <td>133</td>\n",
       "      <td>The new employee stood before the paper shredder looking confused. Need some help? a secretary, walking by, asked. Yes, he replied, how does this thing work? Simple, she said, taking the fat report from his hand and feeding it into the shredder.Thanks, but where do the copies come out?,</td>\n",
       "    </tr>\n",
       "    <tr>\n",
       "      <th>133</th>\n",
       "      <td>134</td>\n",
       "      <td>An artist asked the gallery owner if there had been any interest in his paintings currently on display. Ive got good news and bad news, the owner replied. The good news is that a gentleman inquired about your work and wondered if it would appreciate in value after your death. When I told him it would, he bought all fifteen of your paintings.Thats wonderful! the artist exclaimed. Whats the bad news?With concern, the gallery owner replied:quot;The guy was your doctor.</td>\n",
       "    </tr>\n",
       "    <tr>\n",
       "      <th>134</th>\n",
       "      <td>135</td>\n",
       "      <td>A guy walked past a mental hospital and heard a moaning voice:13.13.13.13.The man looked over to the hospital and saw a hole in the wall. He looked through the hole and got poked in the eye. The moaning voice then groaned:14.14.14.14.</td>\n",
       "    </tr>\n",
       "    <tr>\n",
       "      <th>135</th>\n",
       "      <td>136</td>\n",
       "      <td>A man went to apply for a job. After filling out all of his applications, he waited anxiously for the outcome.The employer read all his applications and said, We have an opening for people like you.Oh, great, he said. What is it?Its called the door!</td>\n",
       "    </tr>\n",
       "    <tr>\n",
       "      <th>136</th>\n",
       "      <td>137</td>\n",
       "      <td>Deep within a forest, a little turtle began to climb a tree. After hours of effort, he reached the top, jumped into the air waving his front legs and crashed to the ground. After recovering, he slowly climbed the tree again, jumped, and fell to the ground. The turtle tried again and again, while a couple of birds sitting on a branch watched his sad efforts.Finally, the female bird turned to her mate. Dear, she chirped, I think its time to tell him hes adopted.</td>\n",
       "    </tr>\n",
       "    <tr>\n",
       "      <th>137</th>\n",
       "      <td>138</td>\n",
       "      <td>WASHINGTON (Reuters) - A tragic fire on Monday destroyed the personal library of President George W. Bush. Both of his books have been lost.Presidential spokesman Ari Fleischer said the president was devastated, as he had not finished coloring the second one.</td>\n",
       "    </tr>\n",
       "    <tr>\n",
       "      <th>138</th>\n",
       "      <td>139</td>\n",
       "      <td>In a Veterans Day speech, President Bush vowed, We will finish the mission. Period. Afterwards, he was advised that he doesnt have to read the punctuation marks.</td>\n",
       "    </tr>\n",
       "    <tr>\n",
       "      <th>139</th>\n",
       "      <td>140</td>\n",
       "      <td>Chuck Norris calendar goes straight from March 31st to April 2nd; no one fools Chuck Norris.</td>\n",
       "    </tr>\n",
       "    <tr>\n",
       "      <th>140</th>\n",
       "      <td>141</td>\n",
       "      <td>Jack Bauer can get McDonalds breakfast after 10:00.</td>\n",
       "    </tr>\n",
       "    <tr>\n",
       "      <th>141</th>\n",
       "      <td>142</td>\n",
       "      <td>One day, three men went to a shrine to ask the Father for forgiveness.The first man went to the Father.First Man:Father, Father, I have sinned!Father:What have you done?First Man:I have lied!Father:Drink the holy water and you will be saved.And so the man drank the water and was saved.The second man went up to the Father.Second Man:Father, Father, I have sinned!Father:What have you done?Second Man:I have stolen from the jewelers!Father:Drink the holy water and you will be saved.And so the second man drank the holy water and was saved.The third man went up to the Father.Third Man:Father, Father, I have sinned!Father:What have you done?Third Man:I peed in the holy water!,</td>\n",
       "    </tr>\n",
       "    <tr>\n",
       "      <th>142</th>\n",
       "      <td>143</td>\n",
       "      <td>A preist, a 12-year-old kid, and the smartest guy in the world are on a plane.The pilot screams, The plane is going down! You have to jump! He then grabs a parachute and jumps off, leaving only two more parachutes on the plane.The smartest guy in the world says, I have to go. I mean, Im the smartest guy in the world! He grabs a parachute, and jumps.The priest then looks at the 12-year-old kid, and says, Go, my son. You have a long life to live.The kid calmly responds:Dude, chill. Well be fine. The smartest guy in the world took my backpack.</td>\n",
       "    </tr>\n",
       "    <tr>\n",
       "      <th>143</th>\n",
       "      <td>144</td>\n",
       "      <td>A man is driving in the country one evening when his car stalls and wont start. He goes up to a nearby farm house for help, and because it is suppertime he is asked to stay for supper. When he sits down at the table he notices that a pig is sitting at the table with them for supper and that the pig has a wooden leg.As they are eating and chatting, he eventually asks the farmer why the pig is there and why it has a wooden leg.Oh, says the farmer, that is a very special pig. Last month my wife and daughter were in the barn when it caught fire. The pig saw this, ran to the barn, tipped over a pail of water, crawled over the wet floor to reach them and pulled them out of the barn safely. A special pig like that, you just dont eat it all at once!</td>\n",
       "    </tr>\n",
       "    <tr>\n",
       "      <th>144</th>\n",
       "      <td>145</td>\n",
       "      <td>A blonde, brunette, and a red head are all lined up to be shot to death by a firing squad.The brunette shouts, Tornado! and the riflemen turn around to see the tornado. It isnt there, and the brunette uses that time to escape.The red head yells, Lightning! and the riflemen again turn to see the disaster, yet there is no disaster and the red head escapes.The blonde yells, Fire!The riflemen do.</td>\n",
       "    </tr>\n",
       "    <tr>\n",
       "      <th>145</th>\n",
       "      <td>146</td>\n",
       "      <td>America: 8:00 - Welcome to work!, 12:00 - Lunch break, 17:00 - The work day is overJapan, 8:00 - Are you already at work?, 12:00 - Continue your work, 17:00 - The work day is over, 20:00 - Please finish your work. Romania:8:00 - Has anyone come to work?, 12:00 - Did someone start working?, 16:00 - Is anyone at work?</td>\n",
       "    </tr>\n",
       "    <tr>\n",
       "      <th>146</th>\n",
       "      <td>147</td>\n",
       "      <td>It was the day of the big sale. Rumors of the sale (and some advertising in the local paper) were the main reason for the long line that formed by 8:00, the stores opening time, in front of the store.A small man pushed his way to the front of the line, only to be pushed back, amid loud and colorful curses. On the mans second attempt, he was punched square in the jaw, and knocked around a bit, and then thrown to the end of the line again. As he got up the second time, he said to the person at the end of the line.That does it! If they hit me one more time, I wont open the store!,</td>\n",
       "    </tr>\n",
       "    <tr>\n",
       "      <th>147</th>\n",
       "      <td>148</td>\n",
       "      <td>Recently a teacher, a garbage collector, and a lawyer wound up together at the Pearly Gates. St. Peter informed them that in order to get into Heaven, they would each have to answer one question. St. Peter addressed the teacher and asked, What was the name of the ship that crashed into the iceberg? They just made a movie about it.The teacher answered quickly, That would be the Titanic. St. Peter let him through the gate. St. Peter turned to the garbage man and, figuring Heaven didnt really need all the odors that this guy would bring with him, decided to make the question a little harder:How many people died on the ship?Fortunately for him, the trash man had just seen the movie. 1,228, he answered. Thats right! You may enter.St. Peter turned to the lawyer:Name them.</td>\n",
       "    </tr>\n",
       "    <tr>\n",
       "      <th>148</th>\n",
       "      <td>149</td>\n",
       "      <td>A little girl asked her father, Daddy? Do all fairy tales begin with Once Upon a Time?He replied, No, there is a whole series of fairy tales that begin with If elected I promise.</td>\n",
       "    </tr>\n",
       "    <tr>\n",
       "      <th>149</th>\n",
       "      <td>150</td>\n",
       "      <td>In an interview with David Letterman, Carter passed along an anecdote of a translation problem in Japan. Carter was speaking at a business lunch in Tokyo, where he decided to open his speech with a brief joke.He told the joke, then waited for the translator to announce the Japanese version. Even though the story was quite short, Carter was surprised by how quickly the interpreter was able to re-tell it. Even more impressive was the reaction from the crowd. Carter thought the story was cute, but not outright hilarious, yet the crowd broke right up. Carter was very flattered.After the speech, Carter wanted to meet the translator to ask him how he told the joke. Perhaps there is better way to tell the joke?When Carter asked how the joke had been told in Japanese, the translator responded, I told them, President Carter has told a very funny joke. Please laugh now.</td>\n",
       "    </tr>\n",
       "  </tbody>\n",
       "</table>\n",
       "</div>"
      ],
      "text/plain": [
       "     Number  \\\n",
       "0         1   \n",
       "1         2   \n",
       "2         3   \n",
       "3         4   \n",
       "4         5   \n",
       "5         6   \n",
       "6         7   \n",
       "7         8   \n",
       "8         9   \n",
       "9        10   \n",
       "10       11   \n",
       "11       12   \n",
       "12       13   \n",
       "13       14   \n",
       "14       15   \n",
       "15       16   \n",
       "16       17   \n",
       "17       18   \n",
       "18       19   \n",
       "19       20   \n",
       "20       21   \n",
       "21       22   \n",
       "22       23   \n",
       "23       24   \n",
       "24       25   \n",
       "25       26   \n",
       "26       27   \n",
       "27       28   \n",
       "28       29   \n",
       "29       30   \n",
       "30       31   \n",
       "31       32   \n",
       "32       33   \n",
       "33       34   \n",
       "34       35   \n",
       "35       36   \n",
       "36       37   \n",
       "37       38   \n",
       "38       39   \n",
       "39       40   \n",
       "40       41   \n",
       "41       42   \n",
       "42       43   \n",
       "43       44   \n",
       "44       45   \n",
       "45       46   \n",
       "46       47   \n",
       "47       48   \n",
       "48       49   \n",
       "49       50   \n",
       "50       51   \n",
       "51       52   \n",
       "52       53   \n",
       "53       54   \n",
       "54       55   \n",
       "55       56   \n",
       "56       57   \n",
       "57       58   \n",
       "58       59   \n",
       "59       60   \n",
       "60       61   \n",
       "61       62   \n",
       "62       63   \n",
       "63       64   \n",
       "64       65   \n",
       "65       66   \n",
       "66       67   \n",
       "67       68   \n",
       "68       69   \n",
       "69       70   \n",
       "70       71   \n",
       "71       72   \n",
       "72       73   \n",
       "73       74   \n",
       "74       75   \n",
       "75       76   \n",
       "76       77   \n",
       "77       78   \n",
       "78       79   \n",
       "79       80   \n",
       "80       81   \n",
       "81       82   \n",
       "82       83   \n",
       "83       84   \n",
       "84       85   \n",
       "85       86   \n",
       "86       87   \n",
       "87       88   \n",
       "88       89   \n",
       "89       90   \n",
       "90       91   \n",
       "91       92   \n",
       "92       93   \n",
       "93       94   \n",
       "94       95   \n",
       "95       96   \n",
       "96       97   \n",
       "97       98   \n",
       "98       99   \n",
       "99      100   \n",
       "100     101   \n",
       "101     102   \n",
       "102     103   \n",
       "103     104   \n",
       "104     105   \n",
       "105     106   \n",
       "106     107   \n",
       "107     108   \n",
       "108     109   \n",
       "109     110   \n",
       "110     111   \n",
       "111     112   \n",
       "112     113   \n",
       "113     114   \n",
       "114     115   \n",
       "115     116   \n",
       "116     117   \n",
       "117     118   \n",
       "118     119   \n",
       "119     120   \n",
       "120     121   \n",
       "121     122   \n",
       "122     123   \n",
       "123     124   \n",
       "124     125   \n",
       "125     126   \n",
       "126     127   \n",
       "127     128   \n",
       "128     129   \n",
       "129     130   \n",
       "130     131   \n",
       "131     132   \n",
       "132     133   \n",
       "133     134   \n",
       "134     135   \n",
       "135     136   \n",
       "136     137   \n",
       "137     138   \n",
       "138     139   \n",
       "139     140   \n",
       "140     141   \n",
       "141     142   \n",
       "142     143   \n",
       "143     144   \n",
       "144     145   \n",
       "145     146   \n",
       "146     147   \n",
       "147     148   \n",
       "148     149   \n",
       "149     150   \n",
       "\n",
       "                                                                                                                                                                                                                                                                                                                                                                                                                                                                                                                                                                                                                                                                                                                                                                                                                                                                                                                                                                                                                                                                                                                                                                                                                                                                                                                                                       Text  \n",
       "0                                                                                                                                                                                                                                                                                                                                                                                                                                                                                                                                                                                                                                                                                                                                                                                                                                                                                                                                                                                                                                                                                                                                                                                           A man visits the doctor. The doctor says, I have bad news for you. You have cancer and Alzheimers disease. The man replies, Well, thank God I dont have cancer!  \n",
       "1                                                                                                                                                                                                                                                                                                                                                                                                                                                                                                                                                                                                                                                                                                                                                                                                                                                                                                                                                                            This couple had an excellent relationship going until one day he came home from work to find his girlfriend packing. He asked her why she was leaving him and she told him that she had heard awful things about him. What could they possibly have said to make you move out?They told me that you were a pedophile.He replied, Thats an awfully big word for a ten year old.  \n",
       "2                                                                                                                                                                                                                                                                                                                                                                                                                                                                                                                                                                                                                                                                                                                                                                                                                                                                                                                                                                                                                                                                                                                                                                                                                                                                       Q. Whats 200 feet long and has 4 teeth?A. The front row at a Willie Nelson concert.  \n",
       "3                                                                                                                                                                                                                                                                                                                                                                                                                                                                                                                                                                                                                                                                                                                                                                                                                                                                                                                                                                                                                                                                                                                                                                                                                                                Q. Whats the difference between a man and a toilet? A. A toilet doesnt follow you around after you use it.  \n",
       "4                                                                                                                                                                                                                                                                                                                                                                                                                                                                                                                                                                                                                                                                                                                                                                                                                                                                                                                                                                                                                                                                                                                                                                                                                                                                     Q. Whats O. J. Simpsons web address?A. Slash, slash, backslash, slash, slash, escape.  \n",
       "5                                                                                                                                                                                                                                                                                                                                                                                                                                                                                                                                                                                                                                                                                               Bill and Hillary Clinton are on a trip back to Arkansas. Theyre almost out of gas, so Bill pulls into a service station on the outskirts of town. The attendant runs out of the station to serve them when Hillary realizes its an old boyfriend from high school. She and the attendant chat as he gases up their car and cleans the windows. Then they all say goodbye.As Bill pulls the car onto the road, he turns to Hillary and says, Now arent you glad you married me and not him? You couldve been the wife of a grease monkey!To which Hillary replied, No, Bill. If I would have married him, youd be pumping gas and he would be the President!  \n",
       "6                                                                                                                                                                                                                                                                                                                                                                                                                                                                                                                                                                                                                                                                                                                                                                                                                                                                                                                                                                                                                                                                                                                                                                                                                                                                                 How many feminists does it take to screw in a light bulb?Thats not funny.  \n",
       "7                                                                                                                                                                                                                                                                                                                                                                                                                                                                                                                                                                                                                                                                                                                                                                                                                                                                                                                                                                                                                                                                                                                                                                                                                                                                          Q. Did you hear about the dyslexic devil worshiper?A. He sold his soul to Santa.  \n",
       "8                                                                                                                                                                                                                                                                                                                                                                                                                                                                                                                                                                                                                                                                                                                                                                                                                                                                                  A country guy goes into a city bar that has a dress code, and the maitre d demands he wear a tie. Discouraged, the guy goes to his car to sulk when inspiration strikes: Hes got jumper cables in the trunk! So he wraps them around his neck, sort of like a string tie (a bulky string tie to be sure) and returns to the bar. The maitre d is reluctant, but says to the guy, Okay, youre a pretty resourceful fellow, you can come in. but just dont start anything!  \n",
       "9                                                                                                                                                                                                                                                                                                                                                                                                                                                                                                                                                                                                                                                                                                                                                                                                                                                                                                                                                                                                                                                                                                                                                                                                                                                      Two cannibals are eating a clown. One turns to the other and says:br />Does this taste funny to you?  \n",
       "10                                                                                                                                                                                                                                                                                                                                                                                                                                                                                                                                                                                                                                                                                                                                                                                                                                                                                                                                                                                                                                                                                                                                                                                                                                         Q. What do a hurricane, a tornado, and a redneck divorce all have in common?A. Someones going to lose a trailer.  \n",
       "11                                                                                                                                                                                                                                                                                                                                                                                                                                                                                                                                                                                                                                                                                                                                                                                                                                                                              A guy stood over his tee shot for what seemed an eternity, looking up, looking down, measuring the distance, figuring the wind direction and speed, and driving his partner nuts.Finally his exasperated partner says, What the hell is taking so long? Hit the goddamn ball! The guy answers, My wife is up there watching me from the clubhouse. I want to make this a perfect shot. Well, hell, man, you dont stand a snowballs chance in hell of hitting her from here!  \n",
       "12                                                                                                                                                                                                                                                                                                                                                                                                                                                                                                                                                                                                                                                                                                                                                                                                                                                                                                                                                                                                                                                                                                                                                                                                                                                         They asked the Japanese visitor if they have elections in his country.Every morning, he answers.  \n",
       "13                                                                                                                                                                                                                                                                                                                                                                                                                                                                                                                                                                                                                                                                                                                                                                                   The father was very anxious to marry off his only daughter so he wanted to impress her date. Do you like to screw? he asks. Huh? replied the surprised first date. My daughter, she loves to screw and shes good at it:you and her should go screw, the father carefully explained. Now very interested, the boy replied, Yes, sir. Minutes later the girl came down the stairs, kissed her father goodbye and the couple left. After only a few minutes she reappeared, furious, dress torn, hair a mess and screamed, Dammit, Daddy, its the TWIST, get it straight!  \n",
       "14                                                                                                                                                                                                                                                                                                                                                                                                                                                                                                                                                                                                                                                                                                                                                                                                                                                                                                                                                                                                                                                                                                                                                                                                                                                                        Q:What did the blind person say when given some matzah?A:Who the hell wrote this?  \n",
       "15                                                                                                                                                                                                                                                                                                                                                                                                                                                                                                                                                                                                                                                                                                                                                                                                                                                                                                                                                                                                                                                                                                                                                                                                                                                                                                  Q. What is orange and sounds like a parrot?A. A carrot.  \n",
       "16                                                                                                                                                                                                                                                                                                                                                                                                                                                                                                                                                                                                                                                                                                                                                                                                                                                                                                                                                                                                                                                                                                                                                                                                                                                                         How many men does it take to screw in a light bulb?One. Men will screw anything.  \n",
       "17                                                                                                                                                                                                                                                                                                                                                                                                                                                                                                                                                                                                                                                                                                                                                                                                                                                                                                                                                                                                                                                       A dog walks into Western Union and asks the clerk to send a telegram. He fills out a form on which he writes down the telegram he wishes to send:Bow wow wow, bow wow wow.The clerk says, You can add another Bow wow for the same price.The dog responded, Now wouldnt that sound a little silly?  \n",
       "18                                                                                                                                                                                                                                                                                                                                                                                                                                                                                                                                                                                                                                                                                                                                                                                                                                                                                                                                                                                                                                                                                                                                                             Q:If a person who speaks three languages is called trilingual, and a person who speaks two languages is called bilingual, what do you call a person who only speaks one language?A:American!  \n",
       "19                                                                                                                                                                                                                                                                                                                                                                                                                                                                                                                                                                                                                                                                                                                                                                                                                                                                                                                                                                                                                                                                                                                                                                                                                                        Whats the difference between a Macintosh and an Etch-a-Sketch?You dont have to shake the Mac to clear the screen.  \n",
       "20                                                                                                                                                                                                                                                                                                                                                                                                                                                                                                                                                                                                                                                                                                                                                                                                                                                                                                                                                                                                                                                                                                                                                                                                                                                  Whats the difference between a used tire and 365 used condoms?Ones a Goodyear, the others a great year.  \n",
       "21                                                                                                                                                                                                                                                                                                                                                                                                                                                                                                                                                                                                                                                                                                                                                                                                                                                                                                                                                                                                                                                                                                                                                                           A duck walks into a pharmacy and asks for a condom. The pharmacist asks, Would you like me to stick that on your bill? The duck says:br />What kind of duck do you think I am!  \n",
       "22                                                                                                                                                                                                                                                                                                                                                                                                                                                                                                                                                                                                                                                                                                                                                                                                                                                                                                                                                                                                                                                                                                                                                                                                                                                                             Q:What is the Australian word for a boomerang that wont come back?A:A stick.  \n",
       "23                                                                                                                                                                                                                                                                                                                                                                                                                                                                                                                                                                                                                                                                                                                                                                                                                                                                                                                                                                                                                                                                                                                                                                                                                                                                            What do you get when you run over a parakeet with a lawnmower?Shredded tweet.  \n",
       "24                                                                                                                                                                                                                                                                                                                                                                                                                                                                                                                                                                                                                                                                                                                                                                                                                                                                                                                                                                                                                                                                                                                                                                                                   Two kindergarten girls were talking outside:one said, You wont believe what I saw on the patio yesterday. condom!The second girl asked, Whats a patio?  \n",
       "25                                                                                                                                                                                                                                                                                                                                                                                                                                                                                                                                                                                                                                                                                                                                                                                                                                                                  A guy walks into a bar and sits down next to an extremely gorgeous woman. The first thing he notices about her though, are her pants. They were skin-tight, high-waisted and had no obvious mechanism (zipper, buttons or velcro) for opening them. After several minutes of puzzling over how she got the pants up over her hips, he finally worked up the nerve to ask her. Excuse me miss, but how do you get into your pants?Well, she replied, you can start by buying me a drink.  \n",
       "26                                                                                                                                                                                                                                                                                                                                                                                                                                                                                                                                                                                                                                                                                                                                                                                                                                                                                                                                                                                                                             Bill Clinton returns from a vacation in Arkansas and walks down the steps of Air Force One with two pigs under his arms. At the bottom of the steps, he says to the honor guardsman, These are genuine Arkansas Razor-Back Hogs. I got this one for Chelsea and this one for Hillary.The guardsman replies, Nice trade, Sir.  \n",
       "27                                                                                                                                                                                                                                                                                                                                                                                                                                                                                                                                                                                                                                                                                                                                            A mechanical engineer, an electrical engineer, and a software engineer from Microsoft were driving through the desert when the car broke down.The mechanical engineer said:It seems to be a problem with the fuel injection system, why dont we pop the hood and Ill take a look at it? To which the electrical engineer replied, No, I think its just a loose ground wire, Ill get out and take a look.Then the software engineer from Microsoft jumps in. No, no, no. If we just close up all the windows, get out, wait a few minutes, get back in, and then reopen the windows everything will work fine.  \n",
       "28                                                                                                                                                                                                                                                                                                                                                                                                                                                                                                                                                                                                   An old Scotsman is sitting with a younger Scottish gentleman and says to the boy, Ah, lad, look out that window. You see that stone wall there? I built it with me own bare hands, placed every stone meself. But do they call me MacGregor the wall builder? No!He takes a few sips of his beer then says, Aye, and look out on that lake and eye that beautiful pier. I built it meself, laid every board and hammered each nail, but do they call me MacGregor the pier builder? No!He continues:And lad, you see that road? That too I build with me own bare hands. Laid every inch of pavement meself, but do they call MacGregor the road builder? No!Again he returns to his beer for a few sips, and then says, Agh, but you screw one sheep.  \n",
       "29                                                                                                                                                                                                                                                                                                                                                                                                                                                                                                                                                                                                                                                                                                                                                                                                                                                                                                                                                                                                                                                                                                                                                                                                                                                           Q:Whats the difference between a lawyer and a plumber? A:A plumber works to unclog the system.  \n",
       "30                                                                                                                                                                                                                                                                                                                                                                                                                                                                                                                                                                                                                                                                                                                                                                                                                                                                                                                                                                                                                                                                    President Clinton looks up from his desk in the Oval Office to see one of his aides nervously approach him.What is it? exclaims the President.Its this Abortion Bill, Mr. President. What do you want to do about it? the aide asks.Just go ahead and pay it, responds the President.  \n",
       "31                                                                                                                                                                                                                                                                                                                                                                                                                                                                                                                                                                                                                                                                                                      A man arrives at the gates of heaven. St. Peter asks, Religion? The man says, Methodist. St. Peter looks down his list, and says, Go to room 24, but be very quiet as you pass room 8.Another man arrives at the gates of heaven. Religion? Baptist. Go to room 18, but be very quiet as you pass room 8.A third man arrives at the gates. Religion? Jewish. Go to room 11, but be very quiet as you pass room 8. The man says, I can understand there being different rooms for different religions, but why must I be quiet when I pass room 8? St. Peter tells him, Well, the Catholics are in room 8, and they think theyre the only ones here.  \n",
       "32                                                                                                                                                                                                                                                                                                                                                                                                                                                                                                                                                                                                                                                                                                                                                                                                                                                                                                                                                                                                                                                                                                                                                                                                                                                                                What do you call an American in the finals of the world cup?Hey beer man!  \n",
       "33                                                                                                                                                                                                                                                                                                                                                                                                                                                                                                                                                                                                                                                                                                                                                                                                                                                                                                                                                                                                                                                                              Out in the backwoods of some midwestern state, little Johnny arrives at school an hour late.Teacher:Why are you so late, John?Johny:My big brother got shot in the ass.(The teacher corrects his speech.)Teacher:Rectum.Johnny:Wrecked him!? Hell, It damn near killed him!  \n",
       "34                                                                                                                                                                                                                                                                                                                                                                                                                                                                                                                                                                                                                                                                                                                                                                                                           An explorer in the deepest Amazon suddenly finds himself surrounded by a bloodthirsty group of natives. Upon surveying the situation, he says quietly to himself, Oh God, Im screwed.The sky darkens and a voice booms out, No, you are NOT screwed. Pick up that stone at your feet and bash in the head of the chief standing in front of you.So with the stone he bashes the life out of the chief. He stands above the lifeless body, breathing heavily and looking at 100 angry natives.The voice booms out again, Okay.OW youre screwed.  \n",
       "35                                                                                                                                                                                                                                                                                                                                                                                                                                                                                                                                                                                                                                                                                                                                                                                                                                                                                                                                                                                                              A guy walks into a bar, orders a beer and says to the bartender, Hey, I got this great Polish Joke.The barkeep glares at him and says in a warning tone of voice:Before you go telling that joke you better know that Im Polish, both bouncers are Polish and so are most of my customers.Okay, says the customer. Ill tell it very slowly.  \n",
       "36                                                                                                                                                                                                                                                                                                                                                                                                                                                                                                                                                                                                                                                                                                                                                                                                                                                                                                                                                                      A Jewish young man was seeing a psychiatrist for an eating and sleeping disorder.I am so obsessed with my mother.As soon as I go to sleep, I start dreaming, and everyone in my dream turns into my mother. I wake up in such a state, and all I can do is go downstairs and eat a piece of toast.The psychiatrist replies, What, just one piece of toast, for a big boy like you?,  \n",
       "37                                                                                                                                                                                                                                                                                                                                                                                                                                                                                                                                                                                                                                                                                                                                                                                                                                                                                                                                                                                                                                                                                                                                                                                  May I take your order? the waiter asks.Yes, how do you prepare your chickens?Nothing special, sir, he replies. We just tell them straight out that theyre going to die.  \n",
       "38                                                                                                                                                                                                                                                                                                                                                                                                                                                                                                                                                                                                                                                                                                                                                                                                                                                                                                                                                                                                                                                                                                                                                                                                            What is the difference between men and women?A woman wants one man to satisfy her every need.A man wants every woman to satisfy his one need.  \n",
       "39                                                                                                                                                                                                                                                                                                                                                                                                                                                                                                                                                                                                                                                                                                                                                                                                                                                                                                                                                                                                                                                                                                                                                                                                                         How many Irishmen does it take to change a lightbulb?Two. One to hold the lightbulb and the other to drink until the room spins.  \n",
       "40                                                                                                                                                                                                                                                                                                                                                                                                                                                                                                                                                                                                                                                                                                                                                                                                                                                                                                                                                                                                                                                                                                                                                                                                                                                                                          What does an atheist say during an orgasm?Oh Darwin! Oh Darwin!  \n",
       "41                                                                                                                                                                                                                                                                                                                                                                                                                                                                                                                                                                                                                                                                                                                                                                                                                                                                                                                                                                                                                  Two men are discussing the age old question:who enjoys sex more, the man or the woman? A woman walks by and listens in for a while and then interrupts,br />Listen, you guys. You know when your ear itches and you put in your little finger and wiggle it around for a while? Afterward, which feels better, your finger or your ear?  \n",
       "42                                                                                                                                                                                                                                                                                                                                                                                                                                                                                                                                                                                                                                                                                                                                                                                                                                                                                                                                                                                                                                                                                                                                                                   Arnold Schwarzenegger and Sylvester Stallone are making a movie about the lives of the great composers.Stallone says, I want to be Mozart.Swartzeneger says, In that case.Ill be Bach.  \n",
       "43                                                                                                                                                                                                                                                                                                                                                                                                                                                                                                                                                                                                                                                                                                                                                                                                                                                                                                                                                                                                                                                                                                                                                                                                                                                                                 A horse walks into a bar. The bartender asks:br />So, why the long face?  \n",
       "44                                                                                                                                                                                                                                                                                                                                                                                                                                                                                                                                                                                                                                                                                                                                                                                                                                                                                                                                                                                                                                                                                                                     A boy comes home from school and tells his mother that he got a part in the school play. What part? the mother asks. I play a Jewish husband, the boy replies.Go back to school and tell your teacher that you want a speaking role!  \n",
       "45                                                                                                                                                                                                                                                                                                                                                                                                                                                                                                                                                                                                                                                                                                                                                                                                                                                                                                                                                                                                        A couple has been married for 75 years. For the husbands 95th birthday, his wife decides to surprise him by hiring a prostitute. That day, the doorbell rings. The husband uses his walker to get to the door and opens it.A 21-year-old in a latex outfit smiles and says, Hi, I here to give you super sex!The old man says, Ill take the soup.  \n",
       "46                                                                                                                                                                                                                                         There was an engineer who had an exceptional gift for fixing all things mechanical. After serving his company loyally for over 30 years, he happily retired. Several years later the company contacted him regarding a seemingly impossible problem they were having with one of their multi-million dollar machines. They had tried everything and everyone else to get the machine fixed, but to no avail. In desperation, they called on the retired engineer who had solved so many of their problems in the past.The engineer reluctantly took the challenge. He spent a day studying the huge machine. At the end of the day, he marked a small x in chalk on a particular component of the machine and proudly stated,br />This is where your problem is.The part was replaced and the machine worked perfectly again. The company received a bill for $50,000 from the engineer for his service. They demanded an itemized accounting of his charges. The engineer responded briefly:br />One chalk mark:$1.Knowing where to put it,$49,999.He was paid in full and the engineer retired again in peace.  \n",
       "47                                                                                                                                                                                                                                                                                                                                                                                                                                                                                                                                                                                                                                                                                                                                                                                                                                                                                                                                                                                                                                                                                   The graduate with a Science degree asks, Why does it work?The graduate with an Engineering degree asks, How does it work?The graduate with an Accounting degree Asks, How much will it cost?The graduate with a Liberal Arts degree asks, Do you want fries with that?  \n",
       "48                                                                                                                                                                                                                                                                                                                                                                                                                                                                                                                                                                                                                                                                                                                                                                                                                                                                                                                                         Three engineering students were gathered together discussing the possible designers of the human body.One said, It was a mechanical engineer. Just look at all the joints.Another said, No, it was an electrical engineer. The nervous systems many thousands of electrical connections.The last said, Actually, it was a civil engineer. Who else would run a toxic waste pipeline through a recreational area?  \n",
       "49                                                                                                                                                                                                                                                                                                                                                                                                                                                                                                                                                                                                                                                                                                                                                                                                                                                                                                                                                                        A guy goes into confession and says to the priest, Father, Im 80 years old, widower, with 11 grandchildren. Last night I met two beautiful flight attendants. They took me home and I made love to both of them. Twice.The priest says, Well, my son, when was the last time you were in confession?Never Father, Im Jewish.So then, why are you telling me?Im telling everybody!  \n",
       "50                                                                                                                                                                                                                                                                                                                                                                                                                                                                                                                                                                                                                                                                                                                                                                                                                                                                                                                                                                                                                                                                                                                                                                                                                                                              Did you hear that Clinton has announced that there is a new national bird?The spread eagle.  \n",
       "51                                                                                                                                                                                                                                                                                                                                                                                                                                                                                                                                                                                                                                                                                                                                                                                                                                                                                                                                                                                                                                                                                                                                                                                                                                                   Q:What do Monica Lewinsky and Bob Dole have in common?A:They were both upset when Bill finished first.  \n",
       "52                                                                                                                          One Sunday morning William burst into the living room and said, Dad! Mom! I have some great news for you! I am getting married to the most beautiful girl in town. She lives a block away and her name is Susan.After dinner, Williams dad took him aside. Son, I have to talk with you. Your mother and I have been married 30 years. Shes a wonderful wife but she has never offered much excitement in the bedroom, so I used to fool around with women a lot. Susan is actually your half-sister, and Im afraid you cant marry her.William was heart-broken. After eight months he eventually started dating girls again. A year later he came home and very proudly announced, Dianne said yes! Were getting married in June.Again his father insisted on another private conversation and broke the sad news. Dianne is your half-sister too, William. Im awfully sorry about this.William was furious! He finally decided to go to his mother with the news.Dad has done so much harm.I guess Im never going to get married, he complained. Every time I fall in love, Dad tells me the girl is my half-sister.His mother just shook her head. Dont pay any attention to what he says, dear. Hes not really your father.  \n",
       "53                                                                                                                                                                                                                                                                                                                                                                                  The Pope dies and, naturally, goes to heaven. Hes met by the reception committee, and after a whirlwind tour he is told that he can enjoy any of the myriad of recreations available.He decides that he wants to read all of the ancient original text of the Holy Scriptures, so he spends the next eon or so learning languages. After becoming a linguistic master, he sits down in the library and begins to pour over every version of the Bible, working back from most recent Easy Reading to the original script.All of a sudden there is a scream in the library. The angels come running in only to find the Pope huddled in his chair, crying to himself and muttering, An R! The scribes left out the R! A particularly concerned angel takes him aside, and offering comfort, asks him what the problem is and what he means.After collecting his wits, the Pope sobs again, Its the letter R. They left out the R. The word was supposed to be CELEBRATE!  \n",
       "54                                                                                                                                                                                                                                                                                                                                                                                                                                                                                                                                                                                                                                                                                                                                                                                                                                                                                                                                            A woman has twins, and gives them up for adoption. One of them goes to a family in Egypt and is named Amal. The other goes to a family in Spain; they name him Juan. Years later, Juan sends a picture of himself to his mom. Upon receiving the picture, she tells her husband that she wishes she also had a picture of Amal.Her husband responds, But they are twins--if youve seen Juan, youve seen Amal.  \n",
       "55                                                                                                                                                                                                                                                                                                                                                                                                                                                                                                                                                                                                                                                                                                                                                 A man and Cindy Crawford get stranded on a desert island. After a couple of days they fall in love and start sleeping together. Time passes and the man seems frustrated. Cindy asks if there is anything she can do, and he says there is one thing:Could you put on this baseball cap and go to the other side of the island and answer me when I call you Bob? She agrees. The next day he is walking on the other side of the island and runs into her. He says, Hi Bob!She says, Hello, whats up?He replies, Bob, you wont believe it:Ive been sleeping with Cindy Crawford for the past two weeks!  \n",
       "56                                                                                                                                                                                                                                                                                                                                                                                                                                                                                                                                                                                                                                                                                                                                                                                                                                                                                                                                                                                                                                                                                                                                                                                                                                                                             Why are there so many Joness in the phone book?Because they all have phones.  \n",
       "57                                                                                                                                                                                                                                                                                                                                                                                                                                                                                                                                                                                                                                                                                                                                                                                                                                                                                                                                                                                                                                                                                                                                                                                                                            How many teddy bears does it take to change a lightbulb?It takes only one teddy bear, but it takes a whole lot of lightbulbs.  \n",
       "58                                                                                                                                                                                                                                                                                                                                                                                                                                                                                                                                                                                                                                                                                                                                                                                                                                                                                                                                                                                                                                                                                                                                                        The Chukcha (Russian Eskimo) phones up the Russian Parliament Building. A guard answers.Chukcha:What is required to become Parliament member?Guard:What are you, an idiot?Chukcha:Is it required?  \n",
       "59                                                                                                                                                                                                                                                                                                                                                                                                                                                                                                                                                                                                                                                                                                                                                                                                                                                                                                                                                                                                                                                                                                                                                                                                                                                                             What did the Buddhist say to the hot dog vendor?Make me one with everything.  \n",
       "60                                                                                                                                                                                                                                                                                                                                                                                                                                                                                                                                                                                                                                                                                                           During a recent publicity outing, Hillary sneaked off to visit a fortune teller of some local repute. In a dark and hazy room, peering into a crystal ball, the mystic delivered grave news.Theres no easy way to say this, so Ill just be blunt:Prepare yourself to be a widow. Your husband will die a violent and horrible death this year.Visibly shaken, Hillary stared at the womans lined face, then at the single flickering candle, then down at her hands. She took a few deep breaths to compose herself. She simply had to know. She met the fortune tellers gaze, steadied her voice, and asked her question.Will I be acquitted?  \n",
       "61                                                                                                                                                                                                                                                                                                                                                                                                                                                                                                                                                                                                                                                                                                                     A group of managers were given the assignment to measure the height of a flagpole. So they go out to the flagpole with ladders and tape measures, and theyre falling off the ladders, dropping the tape measures--the whole thing is just a mess. An engineer comes along and sees what theyre trying to do, walks over, pulls the flagpole out of the ground, lays it flat, measures it from end to end, gives the measurement to one of the managers and walks away.After the engineer has gone, one manager turns to another and laughs. Isnt that just like an engineer? Were looking for the height and he gives us the length.  \n",
       "62                                                                                                                                                                                                                                                                                                                                                                                                                                                                                                                                                                                                                                                                                                                                     An engineer, a physicist and a mathematician are sleeping in a room. There is a fire in the room. The engineer wakes up, sees the fire, picks up the bucket of water and douses the fire and goes back to sleep.Again there is a fire in the room. This time, the physicist wakes up, notices the bucket, fills it with water, calculates the optimal trajectory and douses the fire in minimum amount of water and goes back to sleep.Again there is a fire. This time the mathematician wakes up. He looks at the fire, looks at the bucket and the water and exclaims, A solution exists! and goes back to sleep.  \n",
       "63                                                                                                                                                                                                                                                                                                                                                                                                                                                                                                                                                                                                                                                                                                                                                                                                                                                                                                                                                                                                                                                                                                                                                                                                                                                                   What is the rallying cry of the International Dyslexic Pride movement?Dyslexics Untie!  \n",
       "64                                                                                                                                                                                                                                                                                                                                                                                                                                                                                                                                                                                                                     Two rednecks were seated at the end of a bar when a young lady seated a few stools up began to choke on a piece of hamburger. She was turning blue and obviously in serious respiratory distress. One said to the other, That gal there is having a bad time! The other agreed and said, Think we should go help? You bet, said the first, and with that, he ran over and said, Can you breathe? She shook her head no. He said, Can you speak? She again shook her head no. With that, he pulled up her skirt and licked her on the butt.She was so shocked, she coughed up the obstruction and began to breathe--with great relief.The redneck walked back to his friend and said, Funny how that hind lick maneuver always works.  \n",
       "65                                                                                                                                                                                                                                                                                                                                                                                                                                                                                                                                                                                                                                                                                                                                                                A lawyer opened the door of his BMW, when suddenly a car came along and hit the door, ripping it off completely. When the police arrived at the scene, the lawyer was complaining bitterly about the damage to his precious BMW.Officer, look what theyve done to my Beeeeemer! he whined.You lawyers are so materialistic, you make me sick! retorted the officer. Youre so worried about your stupid BMW that you didnt even notice your left arm was ripped off!Oh my gaaaad. replied the lawyer, finally noticing the bloody left shoulder where his arm once was. Wheres my Rolex?!,  \n",
       "66                                                                                                                                                                                                                                                                                                                                                                                                                                                                                                                                                                                                                                                                                                                                                                                                                                                                                                                                                                                                                                                                                   Once upon a time, two brooms fell in love and decided to get married. Before the ceremony, the bride broom informed the groom broom that she was expecting a little whiskbroom. The groom broom was aghast!How is this possible? he asked. Weve never swept together!,  \n",
       "67                                                                                                                                                                                                                                                                                                                                                                                                                                                                                                                   A man piloting a hot air balloon discovers he has wandered off course and is hopelessly lost. He descends to a lower altitude and locates a man down on the ground. He lowers the balloon further and shouts, Excuse me, can you tell me where I am?The man below says, Yes, youre in a hot air balloon, about 30 feet above this field.You must work in Information Technology, says the balloonist.Yes I do, replies the man. And how did you know that?Well, says the balloonist, what you told me is technically correct, but of no use to anyone.The man below says, You must work in management.I do, replies the balloonist, how did you know?Well, says the man, you dont know where you are, or where youre going, but you expect my immediate help. Youre in the same position you were before we met, but now its my fault!  \n",
       "68                                                                                                                                                                                                                                                                                                                                                                                                                                                                                                                                                                   This guys wife asks, Honey, if I died would you remarry? and he replies, Well, after a considerable period of grieving, we all need companionship, so I guess I would.She then asks, If I died and you remarried, would she live in this house? and he replies, Weve spent a lot of time and money getting this house just the way we want it. Im not going to get rid of my house, so I guess she would.If I died and you remarried, and she lived in this house, would she sleep in our bed? and he says, That bed is brand new. We just paid two thousand dollars for it, and its going to last a long time, so I guess she would.So she asks, If I died and you remarried, and she lived in this house, and slept in our bed, would she use my golf clubs?Oh no, shes left handed.  \n",
       "69                                                                                                                                                                                                                                                                                                                                                                                                                                                                                                                                                                                                                                                                                                                                                                                                                                                                                                                                                                                                                                                                                                                                                                         Employer to applicant:In this job we need someone who is responsible.Applicant:Im the one you want. On my last job, every time anything went wrong, they said I was responsible.  \n",
       "70                                                                                                                                                                                                                                                                                                                                                                                                                                                                                                                                                                                                                                                                                                                                                                                                                                                                                                                                                             At a recent Sacramento PC Users Group meeting, a company was demonstrating its latest speech- recognition software. A representative from the company was just about ready to start the demonstration and asked everyone in the room to quiet down.Just then, someone in the back of the room yelled, Format C:Return.Someone else chimed in:Yes, Return.Unfortunately, the software worked.  \n",
       "71                                                                                                                                                                                                                                                                                                                                                                                                                                                                                                                                                                                                                                                                                                                                                                                                                     On the first day of college, the Dean addressed the students, pointing out some of the rules:The female dormitory will be out-of-bounds for all male students and the male dormitory to the female students. Anybody caught breaking this rule will be finded $20 the first time. He continued, Anybody caught breaking this rule the second time will be fined $60. Being caught a third time will cost you a fine of $180. Are there any questions?At this point, a male student in the crowd inquired:How much for a season pass?  \n",
       "72                                                                                                                                                                                                                                                                                                                                                                                                                                                                                                                                                                                                                                                                                                                                                                                                                                                                                                                                                                                                                                                                                                                                                               Q:What is the difference between George Washington, Richard Nixon, and Bill Clinton?A:Washington couldnt tell a lie, Nixon couldnt tell the truth, and Clinton doesnt know the difference.  \n",
       "73                                                                                                                                                                                                                                                                                                                                                                                                                                                                                                                                                                                                                                                                                                                                                                                                                                                                                                                                                                                                                                                                                                                                                                                                                         Q:How many stalkers does it take to change a light bulb?A:Two. One to replace the bulb, and the other to watch it day and night.  \n",
       "74                                                                                                                                                                                                                                                                                                                                                                                                                                                                                                                                                                                                                                                                                                                                                                                                                                                                                                                                                                                                                                                                                                                                                                                                                 Q:Do you know the difference between an intelligent male and the Sasquatch?A:There have been actual reported sightings of the Sasquatch.  \n",
       "75                                                                                                                                                                                                                                                                                                                                                                                                                                                                                                                                                                                                                                                                                                                                   There once was a man and a woman that both got in a terrible car wreck. Both of their vehicles were completely destroyed, buy fortunately, no one was hurt. In thankfulness, the woman said to the man, We are both okay, so we should celebrate. I have a bottle of wine in my car:lets open it. So the woman got the bottle out of the car, and handed it to the man. The man took a really big drink, and handed the woman the bottle. The woman closed the bottle and put it down. The man asked, Arent you going to take a drink? The woman cleverly replied, No, I think Ill just wait for the cops to get here.  \n",
       "76                                                                                                                                                                                                                                                                                                                                                                                                                                                                                                                                                                                                                                                                                                                                                                                                                                                                                                                                                                                                                                                                                                                                                                                                                                                                         If pro- is the opposite of con-, then congress must be the opposite of progress.  \n",
       "77                                                                                                                                                                                                                                                                                                                                                                                                                                                                                                                                                                                                                                                                                                                                                                                                                                                                                                                                                                                                                                                                                                                                                                                                                                                                  Q:Whats the difference between the government and the Mafia?A:One of them is organized.  \n",
       "78                                                                                                                                                                                                                                                                                                                                                                                                                                                                                                                                                                                                                                                                                                                                                                                                                                                                                                                                                                                                                                                                                                                                                                                                                                          Q:Ever wonder why the IRS calls it Form 1040?A:Because for every $50 that you earn, you get 10 and they get 40.  \n",
       "79                                                                                                                                                                                                                                                                                                                                                                                                                                                                                                                                                                                                                                                                                                                                                                                                                                                                                                                                                                      Hillary, Bill Clinton and the Pope are sitting together on an airplane. Bill says, I could throw one thousand-dollar bill out of this plane and make one person very happy. Hillary says, I could throw 10 hundred-dollar bills out of the plane and make 10 people very happy.The Pope chips in and says, I could throw Bill out of the airplane and make the whole country happy.  \n",
       "80                                                                                                                                                                                                                                                                                                                                                                                                                                                                                                                                                                                                                                                                                                                                                                                                                                                                                                                                                                            An Asian man goes into a New York CityBank to exchange 10,000 yen for American Currency. The teller gives him $72.00. The next month the Asian man goes into the same bank with 10,000 yen and receives $62.00. He asks, How come? Only $62.00? The teller says Fluctuations, fluctuations!Whereupon the Asian man looks back at the teller and says Fluk you Amelicans too!,  \n",
       "81                                                                                                                                                                                                                                                                                                                                                                                                                                                                                                                                                                                                                                                                                                                                                                                                                                                                                                                                                                                                                                                                                                                                                                                                                   Q:How do you keep a computer programmer in the shower all day long?A:Give them a shampoo with a label that says rinse, lather, repeat.  \n",
       "82                                                                                                                                                                                                                                                                                                                                                                                                                                                                                                                                                                                                                                                                                                                                                                                                                                                                                                                                                                                          What a woman says:This place is a mess! Cmon,you and I need to clean up,your stuff is lying on the floor andyoull have no clothes to wearif we dont do laundry right now!What a man hears:blah, blah, blah, blah, Cmonblah, blah, blah, blah, you and Iblah, blah, blah, blah, on the floorblah, blah, blah, blah, no clothesblah, blah, blah, blah, right now!  \n",
       "83                                                                                                                                                                                                                                                                                                                                                                                                                                                                                                                                                                                                                                                                                                                                                                                                                                                                                                                                                                                                                                                                                                                                                                                                           Q:What is the difference between mechanical engineers and civil engineers?A:Mechanical Engineers build weapons, civil engineers build targets.  \n",
       "84                                                                                                                                                                                                                                                                                                                                                                                                                                                                                                                                                                                                                                                                                                                                                                                                                                                                                                                                                                                                                                                                                                                                                                                                                                  Q:How many presidents does it take to screw in a light bulb?A:It depends upon your definition of screwing a light bulb.  \n",
       "85                                                                                                                                                                                                                                                                                                                                                                                                                                                                                                                                                                                                                                                                                                                                                                                                                                                                                                                                                                                                                                                                                                                                                                                                                        A neutron walks into a bar and orders a drink. How much do I owe you? the neutron asks.The bartender replies, For you, no charge.  \n",
       "86                                                                                                                                                                                                                                                                                                                                                                                                                                                                                                                                                                                                                                                                                                                                                                                                                                                                                                                                          A man who recently completed a routine physical examination receives a phone call from his doctor. The doctor says, I have some good news and some bad news. The man says, Okay, give me the good news first. The doctor says, The good news is,you have 24 hours to live. The man replies, Shit! Thats the good news? Then whats the bad news?The doctor says, The bad news is:I forgot to call you yesterday.  \n",
       "87                                                                                                                                                                                                                                                                                                                                                                                                                                                                                                                                                                                                                                                                                                                                                                                                                                                                                                                                                                                                                        A Czechoslovakian man felt his eyesight was growing steadily worse, and felt it was time to go see an optometrist.The doctor started with some simple testing, and showed him a standard eye chart with letters of diminishing size:CRKBNWXSKZY.Can you read this? the doctor asked.Read it? the Czech answered. Doc, I know him!  \n",
       "88                                                                                                                                                                                                                                                                                                                                                                                                                                                                                                                                                         A radio conversation between a US naval ship and Canadian authorities.Americans:Please divert your course 15 degrees to the North to avoid a collision.Canadians:Recommend you divert YOUR course 15 degrees to the South to avoid a collision.Americans:This is the captain of a US Navy ship. I say again, divert YOUR course.Canadians:No. I say again, you divert YOUR course.Americans:This is the aircraft carrier USS Lincoln, the second largest ship in the United States Atlantic Fleet. We are accompanied by three destroyers, three cruisers and numerous support vessels. I demand that you change your course 15 degrees North, thats ONE FIVE DEGREES NORTH, or counter-measures will be undertaken to ensure the safety of this ship.Canadians:This is a lighthouse. Your call.  \n",
       "89                                                                                                                                                                                                                                                                                                                                                                                                                                                                                                                                                                                                                                                                                                                                                                                                                                                                                                                                                                                                                                                                                                                                                                                                                                                              Q:How many programmers does it take to change a lightbulb?A:NONE! Thats a hardware problem.  \n",
       "90                                                                                                                                                                                                                                                                                                                                                                                                                                                                                                                                                                                                                                                 A Panda walks into a bar, sits down at a table and orders a beer and a double cheeseburger. After he is finished eating, he pulls out a gun and rips the place with gunfire. Patrons scatter and dive under chairs and tables as the bear runs out the door. After ensuring that no one is hurt, the bartender races out the door, and calls after the bear:What the hell did you do that for? The bear calls back, Im a Panda. Look it up in the dictionary.The bartender returns, pulls out his dictionary.panda:\\Panda\\, n. (Zo[o]l.)A small Asiatic mammal (Ailurus fulgens) having fine soft fur. It is related to the bears, and inhabits the mountains of Northern India. Eats shoots and leaves.  \n",
       "91                                                                                                                                                                                                                                                                                                                                                                                                                                                                                                                                                                                                                                                                                                                                                                                                                                                                                           Early one morning a mother went to her sleeping son and woke him up.Wake up, son. Its time to go to school.But why, Mama? I dont want to go to school.Give me two reasons why you dont want to go to school.One, all the children hate me. Two, all the teachers hate me.Oh, thats no reason. Come on, you have to go to school.Give me two good reasons why I should go to school.One, you are fifty-two years old. Two, you are the principal of the school.  \n",
       "92                                                                                                                                                                                                                                                                                                                                                                                                                                                                                                                                                                                                                                                                                                                                    Reaching the end of a job interview, the human resources person asked a young engineer fresh out of Stanford,And what starting salary were you looking for?The engineer said, In the neighborhood of $125,000 a year, depending on the benefits package.The interviewer said, Well, what would you say to a package of 5-weeks vacation, 14 paid holidays, full medical and dental, company matching retirement fund to 50% of salary, and a company car leased every 2 years--say, a red Corvette?The engineer sat up straight and said, Wow! Are you kidding?And the interviewer replied, Yeah, but you started it.  \n",
       "93                                                                                                                                                                                                                                                                                                                                                                                                                                                                                                                                                                                                                                                                                                                                                                                                                                                                                                                                                                                                                                                                                                                                                                                  Two atoms are walking down the street when one atom says to the other, Oh, my! Ive lost an electron!The second atom says, Are you sure?The first replies, Im positive!,  \n",
       "94                                                                                                                                                                                                                                                                                                                                                                                                                                                                                                                                                                                                                                                                                                                                                                                                                                                                                                                                                                                                                                                                                                                                                                                                    Just a thought.Before criticizing someone, walk a mile in their shoes.Then, when you do criticize them, you will be a mile away and have their shoes!  \n",
       "95                                                                                                                                                                                                                                                                                                                                                                                                                                                                                                                                                                                                                                                                                                                                                                                                                                                                                                                                                                                                                    Two attorneys went into a diner and ordered two drinks. Then they produced sandwiches from their briefcases and started to eat. The owner became quite concerned and marched over and told them, You cant eat your own sandwiches in here!The attorneys looked at each other, shrugged their shoulders and then exchanged sandwiches.  \n",
       "96                                                                                                                                                                                                                                                                                                                                                                                                                                                                                                                                                                                                                                                                                                                                                                                                                                                                                                                            A teacher is explaining to her class how different languages use negatives differently. She says, In all languages, a positive followed by a negative or a negative followed by a positive makes a negative. In some languages, two negatives together make a positive, while in others they make a negative. But in no language do two positives make a negative.One of the students puts up his hand and says, Yeah, right.  \n",
       "97                                                                                                                                                                                                                                                                                                                                                                                                                                                                                                                                                                                                                                                                                                                                                                                                                                                                 Age and Womanhood: 1. Between the ages of 13 and 18.She is like Africa, virgin and unexplored. 2. Between the ages of 19 and 35.She is like Asia, hot and exotic. 3. Between the ages of 36 and 45.She is like America, fully explored, breathtakingly beautiful, and free with her resources. 4. Between the ages of 46 and 56.She is like Europe, exhausted but still has points of interest. 5. After 56 she is like Australia.Everybody knows its down there, but who gives a damn?,  \n",
       "98                                                                                                                                                                                                                                                                                                                                                                                                                                                                                                                                                                                                                                                                                                                                                                                                                                                                                                                                                                                                                                                                                                                                                                                                                                              A bus station is where a bus stops.A train station is where a train stops.On my desk I have a work station.  \n",
       "99                                                                                                                                                                                                                                                                                                                                                                                                                                                                                                                                                                                                                                                                                                                                                                                                                                                                                                                                                                                                                                                                                                                                                                                                   Q:Whats the difference between greeting a queen and greeting the President of the United States?A:You only have to get on one knee to greet the queen.  \n",
       "100                                                                                                                                                                                                                                                                                                                                                                                                                                                                                                                                                                                                                                                                                                                                                                                                                                                                                                                                                                                                                                                                                                                                                                                                                                    Did you hear about the Buddhist who refused Novocaine during a root canal? He wanted to transcend dental medication.  \n",
       "101                                                                                                                                                                                                                                                                                                                                                                                                                                                                                                                                                                                                                                                                                                                                                                                                                                                                                                                                                                                                                                                                                                                    A man escaped jail by digging a hole from his jail cell to the outside world. When finally his work was done, he emerged in the middle of a preschool playground.Im free, Im free! he shouted. So what? said a little girl. Im four.  \n",
       "102                                                                                                                                                                                                                                                                                                                                                                                                                                                                                                                                                                                                                                                                                                                                                                                                                                                                                                                                                                                                                                                                                                                                                                                                                           Nurse:Doctor, Doctor, theres an invisible man in the waiting room!Doctor:Well, go in there and tell him that I cant see him!,  \n",
       "103                                                                                                                                                                                                                                                                                                                                                                                                                                                                                                                                                                                                                                                                                                                                                                                                                                                                       As a pre-med student, I had to take a difficult class in physics. One day our professor was discussing a particularly complicated concept. A student rudely interrupted to ask, Why do we have to learn this stuff?To save lives. The professor responded quickly and continued the lecture.A few minutes later, the same student spoke up again. So how does physics save lives? he persisted.It usually keeps the idiots like you out of medical school, replied the professor.  \n",
       "104                                                                                                                                                                                                                                                                                                                                                                                                                                                                                                                                                                                                                                                                                                                                                                                                                                       A couple of hunters are out in the woods in the deep south when one of them falls to the ground. He doesnt seem to be breathing, and his eyes are rolled back in his head.The other guy whips out his cell phone and calls 911. He gasps to the operator, My friend is dead! What can I do?The operator, in a calm and soothing voice, says, Alright, take it easy. I can help. First, lets make sure hes dead.There is silence, and then a gun shot is heard.The hunter comes back on the line. Okay. Now what??  \n",
       "105                                                                                                                                                                                                                                                          An engineer dies and reports to the pearly gates. St. Peter checks his dossier and says, Ah, youre an engineer--youre in the wrong place. So, the engineer reports to the gates of hell and is let in. Pretty soon, the engineer gets dissatisfied with the level of comfort in hell, and starts designing and building improvements. After awhile, theyve got air conditioning, flush toilets and escalators, and the engineer is a pretty popular guy. One day, God calls Satan up on the telephone and says with a sneer, So, hows it going down there in hell?Satan replies, Hey, things are going great. Weve got air conditioning, flush toilets and escalators, and theres no telling what this engineer is going to come up with next.God replies, What?? Youve got an engineer? Thats a mistake--he should never have gotten down there; send him up here.Satan says, No way. I like having an engineer on the staff, and Im keeping him.God says, Send him back up here or Ill sue.Satan laughs uproariously and answers, Yeah, right. And just where are YOU going to get a lawyer?  \n",
       "106                                                                                                                                                                                                                                                                                                                                                                                                                                                                                                                                                                                                                                                                                                                                                                                                              (A) The Japanese eat very little fat and suffer fewer heart attacks than the British or Americans. (B) On the other hand, the French eat a lot of fat and also suffer fewer heart attacks than the British or Americans. (C) The Chinese drink very little red wine and suffer fewer heart attacks than the British or Americans. (D) The Italians drink excessive amounts of red wine and also suffer fewer heart attacks than the British or Americans. (E) Conclusion:Eat and drink what you like. Its speaking English that kills you.  \n",
       "107                                                                                                                                                                                                                                                                                                                                                                                                                                                                                                                                                                                                                                                                                                                                                                                                                                                                                                                                                                                                                                                                                             A man approached a very beautiful woman in a large supermarket and asked, You know, Ive lost my wife here in the supermarket. Can you talk to me for a couple of minutes?Why?Because every time I talk to a beautiful woman my wife appears out of nowhere.  \n",
       "108                                                                                                                                                                                                                                                                                                                                                                                                                                                                                                                                                                                                                                                                                                                                                                                                                                                                                                                                                                                                                                                                                 Do you believe in life after death? the boss asked one of his employees.Yes, sir, the new recruit replied. Well, then, that makes everything just fine. the boss went on. After you left early yesterday to go to your grandmothers funeral, she stopped in to see you.  \n",
       "109                                                                                                                                                                                                                                                                                                                                                                                                                                                                                                                                                                                                                                                                                                                                                                                                                                                                                                                               One day, a professor was giving a big test to his students. He handed out the tests and went back to his desk to wait. Once the test was over, the students all handed the tests back in.The professor noticed that one of the students had attached a $100 bill to his test with a note saying:A dollar per point.The next class the professor handed the tests back out. This student got back his test.and $64 change!  \n",
       "110                                                                                                                                                                                                                                                                                                                                                                                                                                                                                                                                                                                                                                                                                                                                                                             A new business was opening and one of the owners friends wanted to send him flowers for the occasion. They arrived at the new business site and the owner read the card, Rest in Peace.The owner was angry and called the florist to complain.After he had told the florist of the obvious mistake and how angry he was, the florist replied, Sir, Im really sorry for the mistake, but rather than getting angry, you should imagine this:somewhere there is a funeral taking place today, and they have flowers with a note saying, Congratulations on your new location!  \n",
       "111                                                                                                                                                                                                                                                                                                                                                                                                                                                                                                                                                                                                                                                                                                                                                                                                                                                                                                                                                                                                         When my three-year-old son opened the birthday gift from his grandmother, he discovered a water pistol. He squealed with delight and headed for the nearest sink. I was not so pleased. I turned to Mom and said, Im surprised at you. Dont you remember how we used to drive you crazy with water guns?Mom smiled and then replied.I remember.  \n",
       "112                                                                                                                                                                                                                                                                                                                                                                                                                                                                                                                                                                                                                                                                                                                                                                                                                                                                                                                                                                                                                                                                          The new employee stood before the paper shredder looking confused.Need some help? a secretary asked.Yes, he replied. How does this thing work?Simple, she said, taking the fat report from his hand and feeding it into the shredder.Thanks, but where do the copies come out?  \n",
       "113                                                                                                                                                                                                                                                                                                                                                                                                                                                                                                                                               Sherlock Holmes and Dr. Watson go on a camping trip, set up their tent, and fall asleep. Some hours later, Holmes wakes his faithful friend. Watson, look up at the sky and tell me what you see.Watson replies, I see millions of stars.What does that tell you?Watson ponders for a minute. Astronomically speaking, it tells me that there are millions of galaxies and potentially billions of planets. Astrologically, it tells me that Saturn is in Leo. Timewise, it appears to be approximately a quarter past three. Theologically, its evident the Lord is all-powerful and we are small and insignificant. Meteorologically, it seems we will have a beautiful day tomorrow. What does it tell you?Holmes is silent for a moment, then speaks. Watson, you idiot, someone has stolen our tent.  \n",
       "114                                                                                                                                                                                                                                                                                                                                                                                   A lady bought a new Lexus. It cost a bundle. Two days later, she brought it back, complaining that the radio was not working.Madam, said the sales manager, the audio system in this car is completely automatic. All you need to do is tell it what you want to listen to, and you will hear exactly that!She drove out, somewhat amazed and a little confused. She looked at the radio and said, Nelson. The radio responded, Ricky or Willie? She was astounded. If she wanted Beethoven, thats what she got. If she wanted Nat King Cole, she got it.She was stopped at a traffic light enjoying On the Road Again when the light turned green and she pulled out. Suddenly an enormous sports utility vehicle coming from the street she was crossing sped toward her, obviously not paying attention to the light. She swerved and narrowly missed a collision.Idiot! she yelled and, from the radio, Ladies and gentlemen, the President of the United States.  \n",
       "115                                                                                                              A man in a hot air balloon realized he was lost. He reduced altitude and spotted a woman below.He descended a bit more and shouted, Excuse me, can you help me? I promised a friend I would meet him an hour ago, but I dont know where I am.The woman below replied, You are in a hot air balloon hovering approximately 30 feet above the ground. You are between 40 and 41 degrees north latitude and between 59 and 60 degrees west longitude.You must be an engineer, said the balloonist.I am, replied the woman. How did you know?Well, answered the balloonist, everything you told me is technically correct, but I have no idea what to make of your information, and the fact is, I am still lost. Frankly, youve not been much help so far.The woman below responded, You must be in management.I am, replied the balloonist, but how did you know?Well, said the woman, you dont know where you are or where you are going. You have risen to where you are due to a large quantity of hot air. You made a promise that you have no idea how to keep, and you expect people beneath you to solve your problems. The fact is, you are in exactly the same position you were in before we met, but now, somehow, its my fault!,  \n",
       "116                                                                                                                                                                                                                                                                                                                                                                                                                                                                                                                                                                                                                                                                                                                                                                                                                                           A man joins a big corporate empire as a trainee.On his very first day of work, he dials the pantry and shouts into the phone:Get me a coffee, quickly!The voice from the other side responds, You fool, youve dialed the wrong extension! Do you know who youre talking to, dumbo?No, replied the trainee.Its the CEO of the company, you fool!The trainee shouts back, And do YOU know who YOU are talking to, you fool?!No. replied the CEO indignantly.Good! replied the trainee, and puts down the phone.  \n",
       "117                                                                                                                                                                                                                                                                                                                                                                                                                                                                                                                                                                                                                                                                                                                                                                                                                                                                                                                                                                                                          A man goes into a drug store and asks the pharmacist if he can give him something for the hiccups. The pharmacist promptly reaches out and slaps the mans face. What the heck did you do that for?! the man screams. Well, you dont have the hiccups anymore, do you?The man says, No I dont, you IDIOT.but my wife out in the car still does!  \n",
       "118                                                                                                                                                                                                                                                                                                                                                                                                                                                                                                                                                                                                                                                                                                                                                                                                           One day the first grade teacher was reading the story of the Three Little Pigs to her class. She came to the part of the story where the first pig was trying to accumulate the building materials for his home. She read, .and so the pig went up to the man with the wheelbarrow full of straw and said, Pardon me sir, but may I have some of that straw to build my house?The teacher paused then asked the class, And what do you think that man said?One little boy raised his hand and said, I know.he said, Holy Shit! A talking pig!  \n",
       "119                                                                                                                                                                                                                                                                                                                                                                                                                                                                                                                                                                                                                                                                                                                                                                                                   Judy was having trouble with her computer, so she called Tony, the computer guy, over to her desk. Tony clicked a couple buttons and solved the problem. As he was walking away, Judy called after him, So, what was wrong?And he replied, It was an ID Ten T Error.A puzzled expression ran riot over Judys face. An ID Ten T Error? Whats that.in case I need to fix it again?He gave her a grin.Havent you ever heard of an ID Ten T Error before?No, replied Judy.Write it down, he said, and I think youll figure it out. (She wrote.) I D 1 0 T  \n",
       "120                                                                                                                                                                                                                                                                                                                                                                                                                                                                                                                                                                                                                                                                                                                                                                                                                                                                                                                                                                                                                                    A drunk staggers into a Catholic Church, enters a confessional booth, sits down, but says nothing. The Priest coughs a few times to get his attention but the drunk just sits there. Finally, the Priest pounds three times on the wall.The drunk mumbles, Aint no use knockin, theres no paper on this side either.  \n",
       "121                                                                                                                                                                                                                                                                                                                                                                                                                                                                                                                                                                                                                                                                                                                                                                                                                                       An astronomer, a physicist and a mathematician (it is said) were holidaying in Scotland. Glancing from a train window, they observed a black sheep in the middle of a field.How interesting, observed the astronomer, All Scottish sheep are black!To which the physicist responded, No, no! Some Scottish sheep are black!The mathematician gazed heavenward in supplication, and then intoned, In Scotland there exists at least one field, containing at least one sheep, at least one side of which is black.  \n",
       "122                                                                                                                                                                                                                                                                                                                                                                                                                                                                                                                                                                                                                                                                                                                                                                                                                                                                                                                                                                                                                                                                                                                                                                                                                   When most people claim to be killing time, its only an expression. When Chuck Norris kills time, the minutes actually cease to exist.  \n",
       "123                                                                                                                                                                                                                                                                                                                                                                                                                                                                                                                                                                                                                                                                                                                                                                                                                                                                                                                                                                                                                                                                                                                                                                                   Person 1:Hey, wanna hear a great knock-knock joke?Person 2:Sure, What is it?Person 1:Okay, you start.Person 2:Knock-knock.Person 1:Whos there?Person 2:.Person 1:Hah!  \n",
       "124                                                                                                                                                                                                                                                                                                                                                                                                                                                                                                                                                                                                                                                                                                                                                             An American tourist goes into a restaurant in Spain and orders the specialty of the house. When his dinner arrives, he asks the waiter what it is. These, senor, replied the waiter in broken English, are the testicles of the bull killed in the ring today.The tourist swallowed hard but tasted the dish and thought it was delicious. So he comes back the next evening and orders the same item. When it is served, he says to the waiter, These testicles.are much smaller than the ones I had last night.Yes, senor, replied the waiter, You see.the bull, he does not always lose.  \n",
       "125                                                                                                                                                                                                                                                                                                                                                                                                                                                                                                                                                                                                                                                                                                                                                                                                                                                                                     A Briton, a Frenchman and a Russian are viewing a painting of Adam and Eve frolicking in the Garden of Eden. Look at their reserve, their calm, muses the Brit. They must be British.Nonsense, the Frenchman disagrees. Theyre naked, and so beautiful. Clearly, they are French.No way! They have no clothes and no shelter, the Russian points out, They have only an apple to eat, and they are being told they live in a paradise. Obviously, they are Russian.  \n",
       "126  A little boy goes to his dad and asks, What is politics?His dad says, Well son, let me try to explain it this way:Im the breadwinner of the family, so lets call me capitalism. Your Mom, shes the administrator of the money, so well call her the government. Were here to take care of your needs, so well call you the people. The nanny, well consider her the working class. And your baby brother, well call him the future. Now, think about that and see if that makes sense.So the little boy goes off to bed thinking about what dad had said. Later that night, he hears his baby brother crying, so he gets up to check on him. He finds that the baby has severely soiled his diaper. So the little boy goes to his parents room and finds his mother sound asleep. Not wanting to wake her, he goes to the nannys room. Finding the door locked, he peeks in the keyhole and sees his father in bed with the nanny. He gives up and goes back to bed. The next morning, the little boy says to his father, Dad, I think I understand the concept of politics now. The father says, Good, son. Tell me in your own words what you think politics is all about.The little boy replies, Well, while capitalism is screwing the working class, the government is sound asleep, the people are being ignored and the future is in deep shit.  \n",
       "127                                                                                                                                                                                                                                                                                                                                                                                        An American, a Scot and a Canadian were in a terrible car accident. They were all brought to the same emergency room, but all three of them died before they arrived.Just as they were about to put the toe tag on the American, he stirred and opened his eyes. Astonished, the doctors and nurses present asked him what happened.Well, said the American, I remember the crash, and then there was a beautiful light, and then the Canadian and the Scot and I were standing at the gate s of heaven. St. Peter approached us and said that we were all to young to die, and that for a donation of $50, we could return to earth. So of course I pulled out my wallet and gave him the $50, and the next thing I knew I was back here.Thats amazing! said the one of the doctors, But what happened to the other two?Last I saw them, replied the American, the Scot was haggling over the price and the Canadian was waiting for the government to pay his.  \n",
       "128    A group of girlfriends is on vacation when they see a 5-story hotel with a sign that reads:For Women Only. Since they are without their boyfriends and husbands, they decide to go in. The bouncer, a very attractive guy, explains to them how it works. We have 5 floors. Go up floor by floor, and once you find what you are looking for, you can stay there. Its easy to decide since each floor has a sign telling you whats inside.So they start going up and on the first floor the sign reads:All the men on this floor are short and plain. The friends laugh and without hesitation move on to the next floor. The sign on the second floor reads:All the men here are short and handsome. Still, this isnt good enough, so the friends continue on up. They reach the third floor and the sign reads:All the men here are tall and plain.They still want to do better, and so, knowing there are still two floors left, they continued on up. On the fourth floor, the sign is perfect:All the men here are tall and handsome. The women get all excited and are going in when they realize that there is still one floor left. Wondering what they are missing, they head on up to the fifth floor. There they find a sign that reads:There are no men here. This floor was built only to prove that there is no way to please a woman.  \n",
       "129                                                                                                                                                                                                                                                                                                                                                                                                                                                                                                                                                                                                                                                                                                                                                                                                                                                                                                                                                                                           An old man goes to the doctor for his yearly physical, his wife tagging along. When the doctor enters the examination room, he tells the old man, I need a urine sample, a stool sample and a sperm sample.The old man, being hard of hearing, looks at his wife and yells:WHAT? What did he say? Whats he want?His wife yells back, He needs your underwear.  \n",
       "130                                                                                                                                                                                                                                                                                                                                                                                                                                                                                                                                                                                                                                                                                                                                                                                                                                             A guy had been feeling down for so long that he finally decided to seek the aid of a psychiatrist.He went there, lay on the couch, spilled his guts then waited for the profound wisdom of the psychiatrist to make him feel better.The psychiatrist asked me a few questions, took some notes then sat thinking in silence for a few minutes with a puzzled look on his face.He looked up with an expression of delight and said, I think your problem is low self-esteem. It is very common among losers.  \n",
       "131                                                                                                                                                                                                                                                                                                                                                                                                                                                                                                                                                                                                                                                                                                                                                                                                                                                                                                                                                                                                                                                       Mickey Mouse is having a nasty divorce with Minnie Mouse. Mickey spoke to the judge about the separation.Im sorry Mickey, but I cant legally separate you two on the grounds that Minnie is mentally insane.Mickey replied, I didnt say she was mentally insane, I said that shes fucking Goofy!,  \n",
       "132                                                                                                                                                                                                                                                                                                                                                                                                                                                                                                                                                                                                                                                                                                                                                                                                                                                                                                                                                                                                                                                         The new employee stood before the paper shredder looking confused. Need some help? a secretary, walking by, asked. Yes, he replied, how does this thing work? Simple, she said, taking the fat report from his hand and feeding it into the shredder.Thanks, but where do the copies come out?,  \n",
       "133                                                                                                                                                                                                                                                                                                                                                                                                                                                                                                                                                                                                                                                                                                                                                                                                                                                                  An artist asked the gallery owner if there had been any interest in his paintings currently on display. Ive got good news and bad news, the owner replied. The good news is that a gentleman inquired about your work and wondered if it would appreciate in value after your death. When I told him it would, he bought all fifteen of your paintings.Thats wonderful! the artist exclaimed. Whats the bad news?With concern, the gallery owner replied:quot;The guy was your doctor.  \n",
       "134                                                                                                                                                                                                                                                                                                                                                                                                                                                                                                                                                                                                                                                                                                                                                                                                                                                                                                                                                                                                                                                                                                              A guy walked past a mental hospital and heard a moaning voice:13.13.13.13.The man looked over to the hospital and saw a hole in the wall. He looked through the hole and got poked in the eye. The moaning voice then groaned:14.14.14.14.  \n",
       "135                                                                                                                                                                                                                                                                                                                                                                                                                                                                                                                                                                                                                                                                                                                                                                                                                                                                                                                                                                                                                                                                                               A man went to apply for a job. After filling out all of his applications, he waited anxiously for the outcome.The employer read all his applications and said, We have an opening for people like you.Oh, great, he said. What is it?Its called the door!  \n",
       "136                                                                                                                                                                                                                                                                                                                                                                                                                                                                                                                                                                                                                                                                                                                                                                                                                                                                        Deep within a forest, a little turtle began to climb a tree. After hours of effort, he reached the top, jumped into the air waving his front legs and crashed to the ground. After recovering, he slowly climbed the tree again, jumped, and fell to the ground. The turtle tried again and again, while a couple of birds sitting on a branch watched his sad efforts.Finally, the female bird turned to her mate. Dear, she chirped, I think its time to tell him hes adopted.  \n",
       "137                                                                                                                                                                                                                                                                                                                                                                                                                                                                                                                                                                                                                                                                                                                                                                                                                                                                                                                                                                                                                                                                                     WASHINGTON (Reuters) - A tragic fire on Monday destroyed the personal library of President George W. Bush. Both of his books have been lost.Presidential spokesman Ari Fleischer said the president was devastated, as he had not finished coloring the second one.  \n",
       "138                                                                                                                                                                                                                                                                                                                                                                                                                                                                                                                                                                                                                                                                                                                                                                                                                                                                                                                                                                                                                                                                                                                                                                                       In a Veterans Day speech, President Bush vowed, We will finish the mission. Period. Afterwards, he was advised that he doesnt have to read the punctuation marks.  \n",
       "139                                                                                                                                                                                                                                                                                                                                                                                                                                                                                                                                                                                                                                                                                                                                                                                                                                                                                                                                                                                                                                                                                                                                                                                                                                                            Chuck Norris calendar goes straight from March 31st to April 2nd; no one fools Chuck Norris.  \n",
       "140                                                                                                                                                                                                                                                                                                                                                                                                                                                                                                                                                                                                                                                                                                                                                                                                                                                                                                                                                                                                                                                                                                                                                                                                                                                                                                     Jack Bauer can get McDonalds breakfast after 10:00.  \n",
       "141                                                                                                                                                                                                                                                                                                                                                                                                                                                                                                                                                                                                                                                  One day, three men went to a shrine to ask the Father for forgiveness.The first man went to the Father.First Man:Father, Father, I have sinned!Father:What have you done?First Man:I have lied!Father:Drink the holy water and you will be saved.And so the man drank the water and was saved.The second man went up to the Father.Second Man:Father, Father, I have sinned!Father:What have you done?Second Man:I have stolen from the jewelers!Father:Drink the holy water and you will be saved.And so the second man drank the holy water and was saved.The third man went up to the Father.Third Man:Father, Father, I have sinned!Father:What have you done?Third Man:I peed in the holy water!,  \n",
       "142                                                                                                                                                                                                                                                                                                                                                                                                                                                                                                                                                                                                                                                                                                                                                                                      A preist, a 12-year-old kid, and the smartest guy in the world are on a plane.The pilot screams, The plane is going down! You have to jump! He then grabs a parachute and jumps off, leaving only two more parachutes on the plane.The smartest guy in the world says, I have to go. I mean, Im the smartest guy in the world! He grabs a parachute, and jumps.The priest then looks at the 12-year-old kid, and says, Go, my son. You have a long life to live.The kid calmly responds:Dude, chill. Well be fine. The smartest guy in the world took my backpack.  \n",
       "143                                                                                                                                                                                                                                                                                                                                                                                                                                                                                                                                                                         A man is driving in the country one evening when his car stalls and wont start. He goes up to a nearby farm house for help, and because it is suppertime he is asked to stay for supper. When he sits down at the table he notices that a pig is sitting at the table with them for supper and that the pig has a wooden leg.As they are eating and chatting, he eventually asks the farmer why the pig is there and why it has a wooden leg.Oh, says the farmer, that is a very special pig. Last month my wife and daughter were in the barn when it caught fire. The pig saw this, ran to the barn, tipped over a pail of water, crawled over the wet floor to reach them and pulled them out of the barn safely. A special pig like that, you just dont eat it all at once!  \n",
       "144                                                                                                                                                                                                                                                                                                                                                                                                                                                                                                                                                                                                                                                                                                                                                                                                                                                                                                                                             A blonde, brunette, and a red head are all lined up to be shot to death by a firing squad.The brunette shouts, Tornado! and the riflemen turn around to see the tornado. It isnt there, and the brunette uses that time to escape.The red head yells, Lightning! and the riflemen again turn to see the disaster, yet there is no disaster and the red head escapes.The blonde yells, Fire!The riflemen do.  \n",
       "145                                                                                                                                                                                                                                                                                                                                                                                                                                                                                                                                                                                                                                                                                                                                                                                                                                                                                                                                                                                                                           America: 8:00 - Welcome to work!, 12:00 - Lunch break, 17:00 - The work day is overJapan, 8:00 - Are you already at work?, 12:00 - Continue your work, 17:00 - The work day is over, 20:00 - Please finish your work. Romania:8:00 - Has anyone come to work?, 12:00 - Did someone start working?, 16:00 - Is anyone at work?  \n",
       "146                                                                                                                                                                                                                                                                                                                                                                                                                                                                                                                                                                                                                                                                                                                                                It was the day of the big sale. Rumors of the sale (and some advertising in the local paper) were the main reason for the long line that formed by 8:00, the stores opening time, in front of the store.A small man pushed his way to the front of the line, only to be pushed back, amid loud and colorful curses. On the mans second attempt, he was punched square in the jaw, and knocked around a bit, and then thrown to the end of the line again. As he got up the second time, he said to the person at the end of the line.That does it! If they hit me one more time, I wont open the store!,  \n",
       "147                                                                                                                                                                                                                                                                                                                                                                                                                                                                                                                                                Recently a teacher, a garbage collector, and a lawyer wound up together at the Pearly Gates. St. Peter informed them that in order to get into Heaven, they would each have to answer one question. St. Peter addressed the teacher and asked, What was the name of the ship that crashed into the iceberg? They just made a movie about it.The teacher answered quickly, That would be the Titanic. St. Peter let him through the gate. St. Peter turned to the garbage man and, figuring Heaven didnt really need all the odors that this guy would bring with him, decided to make the question a little harder:How many people died on the ship?Fortunately for him, the trash man had just seen the movie. 1,228, he answered. Thats right! You may enter.St. Peter turned to the lawyer:Name them.  \n",
       "148                                                                                                                                                                                                                                                                                                                                                                                                                                                                                                                                                                                                                                                                                                                                                                                                                                                                                                                                                                                                                                                                                                                                                                      A little girl asked her father, Daddy? Do all fairy tales begin with Once Upon a Time?He replied, No, there is a whole series of fairy tales that begin with If elected I promise.  \n",
       "149                                                                                                                                                                                                                                                                                                                                                                                                                                                In an interview with David Letterman, Carter passed along an anecdote of a translation problem in Japan. Carter was speaking at a business lunch in Tokyo, where he decided to open his speech with a brief joke.He told the joke, then waited for the translator to announce the Japanese version. Even though the story was quite short, Carter was surprised by how quickly the interpreter was able to re-tell it. Even more impressive was the reaction from the crowd. Carter thought the story was cute, but not outright hilarious, yet the crowd broke right up. Carter was very flattered.After the speech, Carter wanted to meet the translator to ask him how he told the joke. Perhaps there is better way to tell the joke?When Carter asked how the joke had been told in Japanese, the translator responded, I told them, President Carter has told a very funny joke. Please laugh now.  "
      ]
     },
     "execution_count": 274,
     "metadata": {},
     "output_type": "execute_result"
    }
   ],
   "source": [
    "df_jokes = pd.read_csv(\"jester_items.csv\")\n",
    "pd.set_option('display.max_rows', 200)\n",
    "df_jokes"
   ]
  },
  {
   "cell_type": "code",
   "execution_count": 275,
   "metadata": {
    "collapsed": true
   },
   "outputs": [],
   "source": [
    "pd.options.display.max_colwidth = 1000000"
   ]
  },
  {
   "cell_type": "markdown",
   "metadata": {},
   "source": [
    "## Creating topics based on 15 first jokes"
   ]
  },
  {
   "cell_type": "code",
   "execution_count": 309,
   "metadata": {
    "collapsed": true
   },
   "outputs": [],
   "source": [
    "#https://de.dariah.eu/tatom/topic_model_mallet.html#topic-model-mallet"
   ]
  },
  {
   "cell_type": "code",
   "execution_count": 310,
   "metadata": {
    "collapsed": true
   },
   "outputs": [],
   "source": [
    "#https://wordassociations.net/en/words-associated-with/religion?button=Search"
   ]
  },
  {
   "cell_type": "code",
   "execution_count": 307,
   "metadata": {
    "collapsed": true
   },
   "outputs": [],
   "source": [
    "# my_regex = r\"(\\bdifference\\b)|(?:Whats|between)\"\n",
    "# whats = [joke for joke in df_jokes['Text'] if re.search(my_regex, joke,re.IGNORECASE)]\n",
    "# len(whats)"
   ]
  },
  {
   "cell_type": "code",
   "execution_count": 287,
   "metadata": {
    "collapsed": true
   },
   "outputs": [],
   "source": [
    "# df_jokes['topic'] = df_jokes['Text'].str.extract(r\"(\\bBill\\b)|(\\bHillary\\b)|(\\b(Clinton)\\b)\")\n",
    "# https://stackoverflow.com/questions/30646679/if-value-contains-string-then-set-another-column-value"
   ]
  },
  {
   "cell_type": "code",
   "execution_count": 288,
   "metadata": {
    "collapsed": true
   },
   "outputs": [],
   "source": [
    "# df_jokes['Topic'] = df_jokes[['Text']].replace({'Text':clinton}, regex=True)\n",
    "# df_jokes\n",
    "# https://stackoverflow.com/questions/43217946/populating-pandas-dataframe-column-based-on-dictionary-of-regex"
   ]
  },
  {
   "cell_type": "code",
   "execution_count": 289,
   "metadata": {
    "collapsed": true
   },
   "outputs": [],
   "source": [
    "# https://chrisalbon.com/python/pandas_create_column_using_conditional.html"
   ]
  },
  {
   "cell_type": "code",
   "execution_count": 290,
   "metadata": {
    "collapsed": true
   },
   "outputs": [],
   "source": [
    "# pattern = re.compile(r\"(\\bBill\\b)|(\\bHillary\\b)|(\\bClinton\\b)\")\n",
    "# df_jokes['matched'] = [(pattern.match(x) is not None) for x in df_jokes['Text'].values]\n",
    "# df_jokes"
   ]
  },
  {
   "cell_type": "code",
   "execution_count": 291,
   "metadata": {
    "collapsed": true
   },
   "outputs": [],
   "source": [
    "# pattern = re.compile(r\"(\\bBill\\b)|(\\bHillary\\b)|(\\bClinton\\b)\")\n",
    "# df_jokes['matched'] = [(pattern.match(x) is not None) for x in df_jokes['Text'].values]\n",
    "#df['diff_names'] = df.matched.astype(int).cumsum()\n",
    "\n",
    "# def func(group):\n",
    "#     group['Topic'] = group['Text'].values[0]\n",
    "#     return group.drop(['matched', 'diff_jokes'], axis=1)\n",
    "\n",
    "# df_jokes.groupby('diff_jokes').apply(func)\n",
    "# https://stackoverflow.com/questions/31387113/populate-new-column-based-on-existing-column-checked-against-regex-pandas"
   ]
  },
  {
   "cell_type": "code",
   "execution_count": 292,
   "metadata": {
    "collapsed": true
   },
   "outputs": [],
   "source": [
    "# my_regex = r\"(\\bBill\\b)|(\\bHillary\\b)|(\\bClinton\\b)\"\n",
    "# if df_jokes['Text'] == re.search(my_regex, joke,re.IGNORECASE)\n",
    "#     df_jokes['Topic'] = 'Clinton'"
   ]
  },
  {
   "cell_type": "code",
   "execution_count": 293,
   "metadata": {
    "collapsed": true
   },
   "outputs": [],
   "source": [
    "# for joke in df_jokes['Text']:\n",
    "#     if joke == re.search(my_regex, joke,re.IGNORECASE):\n",
    "#         df_jokes['Topic'] == 'Clinton'"
   ]
  },
  {
   "cell_type": "code",
   "execution_count": 294,
   "metadata": {
    "collapsed": true
   },
   "outputs": [],
   "source": [
    "# my_regex = r\"(\\bBill\\b)|(\\bHillary\\b)|(\\bClinton\\b)\"\n",
    "# clinton = [joke for joke in df_jokes['Text'] if re.search(my_regex, joke,re.IGNORECASE)]\n",
    "# for row in df_jokes:\n",
    "#     if row['Text'] == clinton:\n",
    "#         row['Topic'] == 'Clinton'"
   ]
  },
  {
   "cell_type": "markdown",
   "metadata": {},
   "source": [
    "## religion"
   ]
  },
  {
   "cell_type": "code",
   "execution_count": 295,
   "metadata": {},
   "outputs": [
    {
     "data": {
      "text/plain": [
       "8"
      ]
     },
     "execution_count": 295,
     "metadata": {},
     "output_type": "execute_result"
    }
   ],
   "source": [
    "my_regex = r\"(\\bpope\\b)|(\\breligion\\b)|(\\bchurch\\b)|(\\bpriest\\b)|(\\bchristian\\b)|(\\bbuddist\\b)|(\\bjewish\\b)|(\\bmuslim\\b)\"\n",
    "religion = [joke for joke in df_jokes['Text'] if re.search(my_regex, joke,re.IGNORECASE)]\n",
    "len(religion)"
   ]
  },
  {
   "cell_type": "code",
   "execution_count": 296,
   "metadata": {},
   "outputs": [
    {
     "data": {
      "text/plain": [
       "0     32\n",
       "1     37\n",
       "2     45\n",
       "3     50\n",
       "4     54\n",
       "5     80\n",
       "6    121\n",
       "7    143\n",
       "Name: Number, dtype: int64"
      ]
     },
     "execution_count": 296,
     "metadata": {},
     "output_type": "execute_result"
    }
   ],
   "source": [
    "df_religion = pd.DataFrame(religion)\n",
    "df_re = df_religion.merge(df_jokes, left_on=0, right_on='Text', how='left')\n",
    "del df_re[0]\n",
    "df_re['Number']"
   ]
  },
  {
   "cell_type": "markdown",
   "metadata": {},
   "source": [
    "## Clinton"
   ]
  },
  {
   "cell_type": "code",
   "execution_count": 278,
   "metadata": {},
   "outputs": [
    {
     "data": {
      "text/plain": [
       "8"
      ]
     },
     "execution_count": 278,
     "metadata": {},
     "output_type": "execute_result"
    }
   ],
   "source": [
    "# https://stackoverflow.com/questions/17166618/regular-expression-containing-one-word-or-another\n",
    "my_regex = r\"(\\bBill\\b)|(\\bHillary\\b)|(\\bClinton\\b)\"\n",
    "clinton = [joke for joke in df_jokes['Text'] if re.search(my_regex, joke)]\n",
    "len(clinton)"
   ]
  },
  {
   "cell_type": "code",
   "execution_count": 285,
   "metadata": {},
   "outputs": [
    {
     "data": {
      "text/plain": [
       "0     6\n",
       "1    27\n",
       "2    31\n",
       "3    51\n",
       "4    52\n",
       "5    61\n",
       "6    73\n",
       "7    80\n",
       "Name: Number, dtype: int64"
      ]
     },
     "execution_count": 285,
     "metadata": {},
     "output_type": "execute_result"
    }
   ],
   "source": [
    "df_clinton = pd.DataFrame(clinton)\n",
    "df_cl = df_clinton.merge(df_jokes, left_on=0, right_on='Text', how='left')\n",
    "del df_cl[0]\n",
    "df_cl['Number']"
   ]
  },
  {
   "cell_type": "markdown",
   "metadata": {},
   "source": [
    "## health"
   ]
  },
  {
   "cell_type": "code",
   "execution_count": 172,
   "metadata": {},
   "outputs": [
    {
     "data": {
      "text/plain": [
       "8"
      ]
     },
     "execution_count": 172,
     "metadata": {},
     "output_type": "execute_result"
    }
   ],
   "source": [
    "my_regex = r\"(\\bdoctor\\b)|(\\bcancer\\b)|(\\bnurse\\b)|(\\bpatient\\b)|(\\bAlzheimers\\b)|(\\bhospital\\b)|(\\bpharmacy\\b)\"\n",
    "health = [joke for joke in df_jokes['Text'] if re.search(my_regex, joke,re.IGNORECASE)]\n",
    "len(health)"
   ]
  },
  {
   "cell_type": "code",
   "execution_count": 311,
   "metadata": {},
   "outputs": [
    {
     "data": {
      "text/plain": [
       "0     6\n",
       "1    27\n",
       "2    31\n",
       "3    51\n",
       "4    52\n",
       "5    61\n",
       "6    73\n",
       "7    80\n",
       "Name: Number, dtype: int64"
      ]
     },
     "execution_count": 311,
     "metadata": {},
     "output_type": "execute_result"
    }
   ],
   "source": [
    "df_health = pd.DataFrame(clinton)\n",
    "df_he = df_health.merge(df_jokes, left_on=0, right_on='Text', how='left')\n",
    "del df_he[0]\n",
    "df_he['Number']"
   ]
  },
  {
   "cell_type": "markdown",
   "metadata": {},
   "source": [
    "## marriage"
   ]
  },
  {
   "cell_type": "code",
   "execution_count": 153,
   "metadata": {},
   "outputs": [
    {
     "data": {
      "text/plain": [
       "12"
      ]
     },
     "execution_count": 153,
     "metadata": {},
     "output_type": "execute_result"
    }
   ],
   "source": [
    "my_regex = r\"(\\bhusband\\b)|(\\bwife\\b)\"\n",
    "marriage = [joke for joke in df_jokes['Text'] if re.search(my_regex, joke,re.IGNORECASE)]\n",
    "len(marriage)"
   ]
  },
  {
   "cell_type": "code",
   "execution_count": 314,
   "metadata": {},
   "outputs": [
    {
     "data": {
      "text/plain": [
       "0       6\n",
       "1      12\n",
       "2      45\n",
       "3      46\n",
       "4      53\n",
       "5      55\n",
       "6      61\n",
       "7      69\n",
       "8     108\n",
       "9     118\n",
       "10    130\n",
       "11    144\n",
       "Name: Number, dtype: int64"
      ]
     },
     "execution_count": 314,
     "metadata": {},
     "output_type": "execute_result"
    }
   ],
   "source": [
    "df_marriage = pd.DataFrame(marriage)\n",
    "df_ma = df_marriage.merge(df_jokes, left_on=0, right_on='Text', how='left')\n",
    "del df_ma[0]\n",
    "df_ma['Number']"
   ]
  },
  {
   "cell_type": "markdown",
   "metadata": {},
   "source": [
    "## family"
   ]
  },
  {
   "cell_type": "code",
   "execution_count": 152,
   "metadata": {},
   "outputs": [
    {
     "data": {
      "text/plain": [
       "12"
      ]
     },
     "execution_count": 152,
     "metadata": {},
     "output_type": "execute_result"
    }
   ],
   "source": [
    "my_regex = r\"(\\bfather\\b)|(\\bmother\\b)|(\\bparent.*\\b)|(\\bdaughter.*\\b)|(\\bson.*\\b)\"\n",
    "family = [joke for joke in df_jokes['Text'] if re.search(my_regex, joke,re.IGNORECASE)]\n",
    "len(family)"
   ]
  },
  {
   "cell_type": "code",
   "execution_count": 315,
   "metadata": {},
   "outputs": [
    {
     "data": {
      "text/plain": [
       "0      14\n",
       "1      37\n",
       "2      45\n",
       "3      50\n",
       "4      53\n",
       "5      92\n",
       "6     112\n",
       "7     127\n",
       "8     142\n",
       "9     143\n",
       "10    144\n",
       "11    149\n",
       "Name: Number, dtype: int64"
      ]
     },
     "execution_count": 315,
     "metadata": {},
     "output_type": "execute_result"
    }
   ],
   "source": [
    "df_family = pd.DataFrame(family)\n",
    "df_fa = df_family.merge(df_jokes, left_on=0, right_on='Text', how='left')\n",
    "del df_fa[0]\n",
    "df_fa['Number']"
   ]
  },
  {
   "cell_type": "markdown",
   "metadata": {},
   "source": [
    "## classic joke format"
   ]
  },
  {
   "cell_type": "code",
   "execution_count": 66,
   "metadata": {},
   "outputs": [
    {
     "data": {
      "text/plain": [
       "6"
      ]
     },
     "execution_count": 66,
     "metadata": {},
     "output_type": "execute_result"
    }
   ],
   "source": [
    "#https://stackoverflow.com/questions/4389644/regex-to-match-string-containing-two-names-in-any-order\n",
    "my_regex = r\"^(?=.*\\bWhats\\b)(?=.*\\bdifference\\b).*$\"\n",
    "difference = [joke for joke in df_jokes['Text'] if re.search(my_regex, joke,re.IGNORECASE)]\n",
    "len(difference)"
   ]
  },
  {
   "cell_type": "code",
   "execution_count": 316,
   "metadata": {},
   "outputs": [
    {
     "data": {
      "text/plain": [
       "0      4\n",
       "1     20\n",
       "2     21\n",
       "3     30\n",
       "4     78\n",
       "5    100\n",
       "Name: Number, dtype: int64"
      ]
     },
     "execution_count": 316,
     "metadata": {},
     "output_type": "execute_result"
    }
   ],
   "source": [
    "df_difference = pd.DataFrame(difference)\n",
    "df_di = df_difference.merge(df_jokes, left_on=0, right_on='Text', how='left')\n",
    "del df_di[0]\n",
    "df_di['Number']"
   ]
  },
  {
   "cell_type": "code",
   "execution_count": 69,
   "metadata": {},
   "outputs": [
    {
     "data": {
      "text/plain": [
       "7"
      ]
     },
     "execution_count": 69,
     "metadata": {},
     "output_type": "execute_result"
    }
   ],
   "source": [
    "my_regex = r\"^(?=.*\\bWhat\\b)(?=.*\\blike\\b).*$\"\n",
    "like = [joke for joke in df_jokes['Text'] if re.search(my_regex, joke,re.IGNORECASE)]\n",
    "len(like)"
   ]
  },
  {
   "cell_type": "code",
   "execution_count": 317,
   "metadata": {},
   "outputs": [
    {
     "data": {
      "text/plain": [
       "0     16\n",
       "1     22\n",
       "2     37\n",
       "3     62\n",
       "4    106\n",
       "5    107\n",
       "6    136\n",
       "Name: Number, dtype: int64"
      ]
     },
     "execution_count": 317,
     "metadata": {},
     "output_type": "execute_result"
    }
   ],
   "source": [
    "df_like = pd.DataFrame(like)\n",
    "df_li = df_like.merge(df_jokes, left_on=0, right_on='Text', how='left')\n",
    "del df_li[0]\n",
    "df_li['Number']"
   ]
  },
  {
   "cell_type": "code",
   "execution_count": 383,
   "metadata": {},
   "outputs": [
    {
     "data": {
      "text/plain": [
       "7"
      ]
     },
     "execution_count": 383,
     "metadata": {},
     "output_type": "execute_result"
    }
   ],
   "source": [
    "my_regex = r\"^(?=.*\\bHow\\b)(?=.*\\bmany\\b)(?=.*\\btake\\b).*$\"\n",
    "many = [joke for joke in df_jokes['Text'] if re.search(my_regex, joke,re.IGNORECASE)]\n",
    "len(many)"
   ]
  },
  {
   "cell_type": "code",
   "execution_count": 384,
   "metadata": {},
   "outputs": [
    {
     "data": {
      "text/plain": [
       "0     7\n",
       "1    17\n",
       "2    40\n",
       "3    58\n",
       "4    74\n",
       "5    85\n",
       "6    90\n",
       "Name: Number, dtype: int64"
      ]
     },
     "execution_count": 384,
     "metadata": {},
     "output_type": "execute_result"
    }
   ],
   "source": [
    "df_many = pd.DataFrame(many)\n",
    "df_ny = df_many.merge(df_jokes, left_on=0, right_on='Text', how='left')\n",
    "del df_ny[0]\n",
    "df_ny['Number']"
   ]
  },
  {
   "cell_type": "markdown",
   "metadata": {},
   "source": [
    "## strangers"
   ]
  },
  {
   "cell_type": "code",
   "execution_count": 306,
   "metadata": {},
   "outputs": [
    {
     "data": {
      "text/plain": [
       "8"
      ]
     },
     "execution_count": 306,
     "metadata": {},
     "output_type": "execute_result"
    }
   ],
   "source": [
    "my_regex = r\"(\\brussian\\b)|(\\bbritish\\b)|(\\bfrench.*\\b)|(\\bpolish\\b)|(\\bjapanese\\b)|(\\bscott\\b)|(\\bcanadian\\b)\"\n",
    "abroad = [joke for joke in df_jokes['Text'] if re.search(my_regex, joke,re.IGNORECASE)]\n",
    "len(abroad)"
   ]
  },
  {
   "cell_type": "code",
   "execution_count": 319,
   "metadata": {},
   "outputs": [
    {
     "data": {
      "text/plain": [
       "0     13\n",
       "1     36\n",
       "2     59\n",
       "3     89\n",
       "4    107\n",
       "5    126\n",
       "6    128\n",
       "7    150\n",
       "Name: Number, dtype: int64"
      ]
     },
     "execution_count": 319,
     "metadata": {},
     "output_type": "execute_result"
    }
   ],
   "source": [
    "df_abroad = pd.DataFrame(abroad)\n",
    "df_ab = df_abroad.merge(df_jokes, left_on=0, right_on='Text', how='left')\n",
    "del df_ab[0]\n",
    "df_ab['Number']"
   ]
  },
  {
   "cell_type": "markdown",
   "metadata": {},
   "source": [
    "## engineers"
   ]
  },
  {
   "cell_type": "code",
   "execution_count": 301,
   "metadata": {},
   "outputs": [
    {
     "data": {
      "text/plain": [
       "12"
      ]
     },
     "execution_count": 301,
     "metadata": {},
     "output_type": "execute_result"
    }
   ],
   "source": [
    "my_regex = r\"(\\bengineer.*\\b)|(\\bengineering\\b)|(\\bprogrammer.*\\b)|(\\bprogramming\\b)\"\n",
    "engineer = [joke for joke in df_jokes['Text'] if re.search(my_regex, joke,re.IGNORECASE)]\n",
    "len(engineer)"
   ]
  },
  {
   "cell_type": "code",
   "execution_count": 320,
   "metadata": {},
   "outputs": [
    {
     "data": {
      "text/plain": [
       "0      28\n",
       "1      47\n",
       "2      48\n",
       "3      49\n",
       "4      62\n",
       "5      63\n",
       "6      82\n",
       "7      84\n",
       "8      90\n",
       "9      93\n",
       "10    106\n",
       "11    116\n",
       "Name: Number, dtype: int64"
      ]
     },
     "execution_count": 320,
     "metadata": {},
     "output_type": "execute_result"
    }
   ],
   "source": [
    "df_engineer = pd.DataFrame(engineer)\n",
    "df_en = df_engineer.merge(df_jokes, left_on=0, right_on='Text', how='left')\n",
    "del df_en[0]\n",
    "df_en['Number']"
   ]
  },
  {
   "cell_type": "markdown",
   "metadata": {},
   "source": [
    "## Sexes"
   ]
  },
  {
   "cell_type": "code",
   "execution_count": 380,
   "metadata": {
    "scrolled": true
   },
   "outputs": [
    {
     "data": {
      "text/plain": [
       "43"
      ]
     },
     "execution_count": 380,
     "metadata": {},
     "output_type": "execute_result"
    }
   ],
   "source": [
    "my_regex = r\"(\\bman\\b)|(\\bmen\\b)|(\\bguy.*\\b)\"\n",
    "men = [joke for joke in df_jokes['Text'] if re.search(my_regex, joke,re.IGNORECASE)]\n",
    "len(men)"
   ]
  },
  {
   "cell_type": "code",
   "execution_count": 382,
   "metadata": {
    "scrolled": true
   },
   "outputs": [
    {
     "data": {
      "text/plain": [
       "0       1\n",
       "1       4\n",
       "2       9\n",
       "3      12\n",
       "4      17\n",
       "5      26\n",
       "6      32\n",
       "7      33\n",
       "8      36\n",
       "9      37\n",
       "10     39\n",
       "11     42\n",
       "12     46\n",
       "13     50\n",
       "14     56\n",
       "15     68\n",
       "16     69\n",
       "17     76\n",
       "18     81\n",
       "19     83\n",
       "20     87\n",
       "21     88\n",
       "22    102\n",
       "23    103\n",
       "24    105\n",
       "25    106\n",
       "26    108\n",
       "27    116\n",
       "28    117\n",
       "29    118\n",
       "30    119\n",
       "31    120\n",
       "32    129\n",
       "33    130\n",
       "34    131\n",
       "35    134\n",
       "36    135\n",
       "37    136\n",
       "38    142\n",
       "39    143\n",
       "40    144\n",
       "41    147\n",
       "42    148\n",
       "Name: Number, dtype: int64"
      ]
     },
     "execution_count": 382,
     "metadata": {},
     "output_type": "execute_result"
    }
   ],
   "source": [
    "df_men = pd.DataFrame(men)\n",
    "df_me = df_men.merge(df_jokes, left_on=0, right_on='Text', how='left')\n",
    "del df_me[0]\n",
    "df_me['Number']"
   ]
  },
  {
   "cell_type": "code",
   "execution_count": 385,
   "metadata": {},
   "outputs": [
    {
     "data": {
      "text/plain": [
       "12"
      ]
     },
     "execution_count": 385,
     "metadata": {},
     "output_type": "execute_result"
    }
   ],
   "source": [
    "my_regex = r\"(\\bwoman\\b)|(\\blady\\b)|(\\bladies\\b)|(\\bwomen\\b)\"\n",
    "women = [joke for joke in df_jokes['Text'] if re.search(my_regex, joke,re.IGNORECASE)]\n",
    "len(women)"
   ]
  },
  {
   "cell_type": "code",
   "execution_count": 386,
   "metadata": {},
   "outputs": [
    {
     "data": {
      "text/plain": [
       "0      26\n",
       "1      39\n",
       "2      42\n",
       "3      53\n",
       "4      55\n",
       "5      65\n",
       "6      76\n",
       "7      83\n",
       "8     108\n",
       "9     115\n",
       "10    116\n",
       "11    129\n",
       "Name: Number, dtype: int64"
      ]
     },
     "execution_count": 386,
     "metadata": {},
     "output_type": "execute_result"
    }
   ],
   "source": [
    "df_women = pd.DataFrame(women)\n",
    "df_wo = df_woman.merge(df_jokes, left_on=0, right_on='Text', how='left')\n",
    "del df_wo[0]\n",
    "df_wo['Number']"
   ]
  },
  {
   "cell_type": "markdown",
   "metadata": {},
   "source": [
    "## not used in such detail"
   ]
  },
  {
   "cell_type": "code",
   "execution_count": 297,
   "metadata": {},
   "outputs": [
    {
     "data": {
      "text/plain": [
       "3"
      ]
     },
     "execution_count": 297,
     "metadata": {},
     "output_type": "execute_result"
    }
   ],
   "source": [
    "my_regex = r\"(\\bboyfriend\\b)|(\\bgirlfriend\\b)|(\\bdating\\b)\"\n",
    "boyfriend = [joke for joke in df_jokes['Text'] if re.search(my_regex, joke,re.IGNORECASE)]\n",
    "len(boyfriend)"
   ]
  },
  {
   "cell_type": "code",
   "execution_count": 298,
   "metadata": {},
   "outputs": [
    {
     "data": {
      "text/plain": [
       "2"
      ]
     },
     "execution_count": 298,
     "metadata": {},
     "output_type": "execute_result"
    }
   ],
   "source": [
    "my_regex = r\"(\\bprogrammer.*\\b)|(\\bprogramming\\b)\"\n",
    "programmer = [joke for joke in df_jokes['Text'] if re.search(my_regex, joke,re.IGNORECASE)]\n",
    "len(programmer)"
   ]
  },
  {
   "cell_type": "code",
   "execution_count": 299,
   "metadata": {},
   "outputs": [
    {
     "data": {
      "text/plain": [
       "2"
      ]
     },
     "execution_count": 299,
     "metadata": {},
     "output_type": "execute_result"
    }
   ],
   "source": [
    "my_regex = r\"(\\bphysicist.*\\b)|(\\bmathematician.*\\b)|(\\bastronomer.*\\b)\"\n",
    "phymath = [joke for joke in df_jokes['Text'] if re.search(my_regex, joke,re.IGNORECASE)]\n",
    "len(phymath)"
   ]
  },
  {
   "cell_type": "code",
   "execution_count": 302,
   "metadata": {},
   "outputs": [
    {
     "data": {
      "text/plain": [
       "1"
      ]
     },
     "execution_count": 302,
     "metadata": {},
     "output_type": "execute_result"
    }
   ],
   "source": [
    "my_regex = r\"(\\bpolish\\b)\"\n",
    "polish = [joke for joke in df_jokes['Text'] if re.search(my_regex, joke,re.IGNORECASE)]\n",
    "len(polish)"
   ]
  },
  {
   "cell_type": "code",
   "execution_count": 303,
   "metadata": {},
   "outputs": [
    {
     "data": {
      "text/plain": [
       "2"
      ]
     },
     "execution_count": 303,
     "metadata": {},
     "output_type": "execute_result"
    }
   ],
   "source": [
    "my_regex = r\"(\\brussian\\b)\"\n",
    "russian = [joke for joke in df_jokes['Text'] if re.search(my_regex, joke,re.IGNORECASE)]\n",
    "len(russian)"
   ]
  },
  {
   "cell_type": "code",
   "execution_count": 304,
   "metadata": {},
   "outputs": [
    {
     "data": {
      "text/plain": [
       "2"
      ]
     },
     "execution_count": 304,
     "metadata": {},
     "output_type": "execute_result"
    }
   ],
   "source": [
    "my_regex = r\"(\\bfrench\\b)\"\n",
    "french = [joke for joke in df_jokes['Text'] if re.search(my_regex, joke,re.IGNORECASE)]\n",
    "len(french)"
   ]
  },
  {
   "cell_type": "code",
   "execution_count": 305,
   "metadata": {},
   "outputs": [
    {
     "data": {
      "text/plain": [
       "2"
      ]
     },
     "execution_count": 305,
     "metadata": {},
     "output_type": "execute_result"
    }
   ],
   "source": [
    "my_regex = r\"(\\bbritish\\b)|(\\bbriton\\b)\"\n",
    "british = [joke for joke in df_jokes['Text'] if re.search(my_regex, joke,re.IGNORECASE)]\n",
    "len(british)"
   ]
  },
  {
   "cell_type": "markdown",
   "metadata": {},
   "source": [
    "## matching with ratings"
   ]
  },
  {
   "cell_type": "code",
   "execution_count": 365,
   "metadata": {
    "collapsed": true
   },
   "outputs": [],
   "source": [
    "df = pd.DataFrame()"
   ]
  },
  {
   "cell_type": "code",
   "execution_count": 366,
   "metadata": {
    "collapsed": true
   },
   "outputs": [],
   "source": [
    "df['ratings2'] = pd.Series(df2.mean())"
   ]
  },
  {
   "cell_type": "code",
   "execution_count": 367,
   "metadata": {
    "collapsed": true
   },
   "outputs": [],
   "source": [
    "df['ratings1'] = pd.Series(df1.mean())"
   ]
  },
  {
   "cell_type": "code",
   "execution_count": 368,
   "metadata": {
    "collapsed": true
   },
   "outputs": [],
   "source": [
    "df['counts2'] = pd.Series(df2.count())"
   ]
  },
  {
   "cell_type": "code",
   "execution_count": 369,
   "metadata": {
    "collapsed": true
   },
   "outputs": [],
   "source": [
    "df['counts1'] = pd.Series(df1.count())"
   ]
  },
  {
   "cell_type": "code",
   "execution_count": 370,
   "metadata": {
    "collapsed": true
   },
   "outputs": [],
   "source": [
    "df['dev2'] = pd.Series(df2.std())"
   ]
  },
  {
   "cell_type": "code",
   "execution_count": 389,
   "metadata": {
    "collapsed": true
   },
   "outputs": [],
   "source": [
    "df['dev1'] = pd.Series(df1.std())"
   ]
  },
  {
   "cell_type": "code",
   "execution_count": 391,
   "metadata": {
    "collapsed": true
   },
   "outputs": [],
   "source": [
    "df.to_csv('df.csv')"
   ]
  },
  {
   "cell_type": "code",
   "execution_count": 394,
   "metadata": {
    "collapsed": true
   },
   "outputs": [],
   "source": [
    "df = pd.read_csv('df.csv')"
   ]
  },
  {
   "cell_type": "markdown",
   "metadata": {
    "collapsed": true
   },
   "source": [
    "### WOMEN"
   ]
  },
  {
   "cell_type": "code",
   "execution_count": 402,
   "metadata": {
    "collapsed": true
   },
   "outputs": [],
   "source": [
    "df_WO = df_wo.merge(df, left_on='Number', right_index=True, how='left')"
   ]
  },
  {
   "cell_type": "code",
   "execution_count": 396,
   "metadata": {},
   "outputs": [
    {
     "data": {
      "text/plain": [
       "1.660762384761777"
      ]
     },
     "execution_count": 396,
     "metadata": {},
     "output_type": "execute_result"
    }
   ],
   "source": [
    "df_WO.ratings1.mean()"
   ]
  },
  {
   "cell_type": "code",
   "execution_count": 397,
   "metadata": {},
   "outputs": [
    {
     "data": {
      "text/plain": [
       "2.3470384115600962"
      ]
     },
     "execution_count": 397,
     "metadata": {},
     "output_type": "execute_result"
    }
   ],
   "source": [
    "df_WO.ratings2.mean()"
   ]
  },
  {
   "cell_type": "markdown",
   "metadata": {
    "collapsed": true
   },
   "source": [
    "### MEN"
   ]
  },
  {
   "cell_type": "code",
   "execution_count": null,
   "metadata": {
    "collapsed": true
   },
   "outputs": [],
   "source": [
    "df_ME = df_me.merge(df, left_on='Number', right_index=True, how='left')"
   ]
  },
  {
   "cell_type": "code",
   "execution_count": 399,
   "metadata": {},
   "outputs": [
    {
     "data": {
      "text/plain": [
       "1.2329191288481758"
      ]
     },
     "execution_count": 399,
     "metadata": {},
     "output_type": "execute_result"
    }
   ],
   "source": [
    "df_ME.ratings1.mean()"
   ]
  },
  {
   "cell_type": "code",
   "execution_count": 400,
   "metadata": {},
   "outputs": [
    {
     "data": {
      "text/plain": [
       "2.1877775564166675"
      ]
     },
     "execution_count": 400,
     "metadata": {},
     "output_type": "execute_result"
    }
   ],
   "source": [
    "df_ME.ratings2.mean()"
   ]
  },
  {
   "cell_type": "markdown",
   "metadata": {},
   "source": [
    "## ??? \"HE\" AND \"SHE\"  ??? "
   ]
  },
  {
   "cell_type": "markdown",
   "metadata": {
    "collapsed": true
   },
   "source": [
    "### CLINTON"
   ]
  },
  {
   "cell_type": "code",
   "execution_count": 403,
   "metadata": {
    "collapsed": true
   },
   "outputs": [],
   "source": [
    "df_CL = df_cl.merge(df, left_on='Number', right_index=True, how='left')"
   ]
  },
  {
   "cell_type": "code",
   "execution_count": 404,
   "metadata": {},
   "outputs": [
    {
     "data": {
      "text/plain": [
       "1.1572588479731472"
      ]
     },
     "execution_count": 404,
     "metadata": {},
     "output_type": "execute_result"
    }
   ],
   "source": [
    "df_CL.ratings1.mean()"
   ]
  },
  {
   "cell_type": "code",
   "execution_count": 405,
   "metadata": {},
   "outputs": [
    {
     "data": {
      "text/plain": [
       "1.5478939966830474"
      ]
     },
     "execution_count": 405,
     "metadata": {},
     "output_type": "execute_result"
    }
   ],
   "source": [
    "df_CL.ratings2.mean()"
   ]
  },
  {
   "cell_type": "markdown",
   "metadata": {
    "collapsed": true
   },
   "source": [
    "### RELIGION"
   ]
  },
  {
   "cell_type": "code",
   "execution_count": 406,
   "metadata": {
    "collapsed": true
   },
   "outputs": [],
   "source": [
    "df_RE = df_re.merge(df, left_on='Number', right_index=True, how='left')"
   ]
  },
  {
   "cell_type": "code",
   "execution_count": 408,
   "metadata": {},
   "outputs": [
    {
     "data": {
      "text/plain": [
       "1.5659596133398141"
      ]
     },
     "execution_count": 408,
     "metadata": {},
     "output_type": "execute_result"
    }
   ],
   "source": [
    "df_RE.ratings1.mean()"
   ]
  },
  {
   "cell_type": "code",
   "execution_count": 409,
   "metadata": {},
   "outputs": [
    {
     "data": {
      "text/plain": [
       "2.3498465196374321"
      ]
     },
     "execution_count": 409,
     "metadata": {},
     "output_type": "execute_result"
    }
   ],
   "source": [
    "df_RE.ratings2.mean()"
   ]
  },
  {
   "cell_type": "markdown",
   "metadata": {
    "collapsed": true
   },
   "source": [
    "### HEALTH"
   ]
  },
  {
   "cell_type": "code",
   "execution_count": 410,
   "metadata": {
    "collapsed": true
   },
   "outputs": [],
   "source": [
    "df_HE = df_he.merge(df, left_on='Number', right_index=True, how='left')"
   ]
  },
  {
   "cell_type": "code",
   "execution_count": 412,
   "metadata": {},
   "outputs": [
    {
     "data": {
      "text/plain": [
       "1.1572588479731472"
      ]
     },
     "execution_count": 412,
     "metadata": {},
     "output_type": "execute_result"
    }
   ],
   "source": [
    "df_HE.ratings1.mean()"
   ]
  },
  {
   "cell_type": "code",
   "execution_count": 411,
   "metadata": {},
   "outputs": [
    {
     "data": {
      "text/plain": [
       "1.5478939966830474"
      ]
     },
     "execution_count": 411,
     "metadata": {},
     "output_type": "execute_result"
    }
   ],
   "source": [
    "df_HE.ratings2.mean()"
   ]
  },
  {
   "cell_type": "markdown",
   "metadata": {
    "collapsed": true
   },
   "source": [
    "### FAMILY"
   ]
  },
  {
   "cell_type": "code",
   "execution_count": 413,
   "metadata": {
    "collapsed": true
   },
   "outputs": [],
   "source": [
    "df_FA = df_fa.merge(df, left_on='Number', right_index=True, how='left')"
   ]
  },
  {
   "cell_type": "code",
   "execution_count": 414,
   "metadata": {},
   "outputs": [
    {
     "data": {
      "text/plain": [
       "1.3301807591467283"
      ]
     },
     "execution_count": 414,
     "metadata": {},
     "output_type": "execute_result"
    }
   ],
   "source": [
    "df_FA.ratings1.mean()"
   ]
  },
  {
   "cell_type": "code",
   "execution_count": 415,
   "metadata": {},
   "outputs": [
    {
     "data": {
      "text/plain": [
       "2.2856426098549738"
      ]
     },
     "execution_count": 415,
     "metadata": {},
     "output_type": "execute_result"
    }
   ],
   "source": [
    "df_FA.ratings2.mean()"
   ]
  },
  {
   "cell_type": "markdown",
   "metadata": {
    "collapsed": true
   },
   "source": [
    "### FAMILY"
   ]
  },
  {
   "cell_type": "code",
   "execution_count": 423,
   "metadata": {
    "collapsed": true
   },
   "outputs": [],
   "source": [
    "df_MA = df_ma.merge(df, left_on='Number', right_index=True, how='left')"
   ]
  },
  {
   "cell_type": "code",
   "execution_count": 424,
   "metadata": {},
   "outputs": [
    {
     "data": {
      "text/plain": [
       "-0.73579831376437033"
      ]
     },
     "execution_count": 424,
     "metadata": {},
     "output_type": "execute_result"
    }
   ],
   "source": [
    "df_MA.ratings1.mean()"
   ]
  },
  {
   "cell_type": "code",
   "execution_count": 425,
   "metadata": {},
   "outputs": [
    {
     "data": {
      "text/plain": [
       "0.036614949444058187"
      ]
     },
     "execution_count": 425,
     "metadata": {},
     "output_type": "execute_result"
    }
   ],
   "source": [
    "df_MA.ratings2.mean()"
   ]
  },
  {
   "cell_type": "markdown",
   "metadata": {
    "collapsed": true
   },
   "source": [
    "### DIFFERENCES"
   ]
  },
  {
   "cell_type": "code",
   "execution_count": 416,
   "metadata": {
    "collapsed": true
   },
   "outputs": [],
   "source": [
    "df_DI = df_di.merge(df, left_on='Number', right_index=True, how='left')"
   ]
  },
  {
   "cell_type": "code",
   "execution_count": 417,
   "metadata": {},
   "outputs": [
    {
     "data": {
      "text/plain": [
       "0.29829690662749547"
      ]
     },
     "execution_count": 417,
     "metadata": {},
     "output_type": "execute_result"
    }
   ],
   "source": [
    "df_DI.ratings1.mean()"
   ]
  },
  {
   "cell_type": "code",
   "execution_count": 418,
   "metadata": {},
   "outputs": [
    {
     "data": {
      "text/plain": [
       "1.328825479430654"
      ]
     },
     "execution_count": 418,
     "metadata": {},
     "output_type": "execute_result"
    }
   ],
   "source": [
    "df_DI.ratings2.mean()"
   ]
  },
  {
   "cell_type": "markdown",
   "metadata": {
    "collapsed": true
   },
   "source": [
    "### LIKE"
   ]
  },
  {
   "cell_type": "code",
   "execution_count": 426,
   "metadata": {
    "collapsed": true
   },
   "outputs": [],
   "source": [
    "df_LI = df_li.merge(df, left_on='Number', right_index=True, how='left')"
   ]
  },
  {
   "cell_type": "code",
   "execution_count": 428,
   "metadata": {},
   "outputs": [
    {
     "data": {
      "text/plain": [
       "-0.23870909252228001"
      ]
     },
     "execution_count": 428,
     "metadata": {},
     "output_type": "execute_result"
    }
   ],
   "source": [
    "df_LI.ratings1.mean()"
   ]
  },
  {
   "cell_type": "code",
   "execution_count": 430,
   "metadata": {},
   "outputs": [
    {
     "data": {
      "text/plain": [
       "1.3583745664459497"
      ]
     },
     "execution_count": 430,
     "metadata": {},
     "output_type": "execute_result"
    }
   ],
   "source": [
    "df_LI.ratings2.mean()"
   ]
  },
  {
   "cell_type": "markdown",
   "metadata": {
    "collapsed": true
   },
   "source": [
    "### MANY"
   ]
  },
  {
   "cell_type": "code",
   "execution_count": 431,
   "metadata": {
    "collapsed": true
   },
   "outputs": [],
   "source": [
    "df_MA = df_ma.merge(df, left_on='Number', right_index=True, how='left')"
   ]
  },
  {
   "cell_type": "code",
   "execution_count": 432,
   "metadata": {},
   "outputs": [
    {
     "data": {
      "text/plain": [
       "-0.73579831376437033"
      ]
     },
     "execution_count": 432,
     "metadata": {},
     "output_type": "execute_result"
    }
   ],
   "source": [
    "df_MA.ratings1.mean()"
   ]
  },
  {
   "cell_type": "code",
   "execution_count": 433,
   "metadata": {},
   "outputs": [
    {
     "data": {
      "text/plain": [
       "0.036614949444058187"
      ]
     },
     "execution_count": 433,
     "metadata": {},
     "output_type": "execute_result"
    }
   ],
   "source": [
    "df_MA.ratings2.mean()"
   ]
  },
  {
   "cell_type": "markdown",
   "metadata": {
    "collapsed": true
   },
   "source": [
    "### ABROAD"
   ]
  },
  {
   "cell_type": "code",
   "execution_count": 437,
   "metadata": {
    "collapsed": true
   },
   "outputs": [],
   "source": [
    "df_AB = df_ab.merge(df, left_on='Number', right_index=True, how='left')"
   ]
  },
  {
   "cell_type": "code",
   "execution_count": 438,
   "metadata": {},
   "outputs": [
    {
     "data": {
      "text/plain": [
       "0.94965201399471511"
      ]
     },
     "execution_count": 438,
     "metadata": {},
     "output_type": "execute_result"
    }
   ],
   "source": [
    "df_AB.ratings1.mean()"
   ]
  },
  {
   "cell_type": "code",
   "execution_count": 439,
   "metadata": {},
   "outputs": [
    {
     "data": {
      "text/plain": [
       "2.2912955100586929"
      ]
     },
     "execution_count": 439,
     "metadata": {},
     "output_type": "execute_result"
    }
   ],
   "source": [
    "df_AB.ratings2.mean()"
   ]
  },
  {
   "cell_type": "markdown",
   "metadata": {
    "collapsed": true
   },
   "source": [
    "### ENGINEERS"
   ]
  },
  {
   "cell_type": "code",
   "execution_count": 441,
   "metadata": {
    "collapsed": true
   },
   "outputs": [],
   "source": [
    "df_EN = df_en.merge(df, left_on='Number', right_index=True, how='left')"
   ]
  },
  {
   "cell_type": "code",
   "execution_count": 442,
   "metadata": {},
   "outputs": [
    {
     "data": {
      "text/plain": [
       "0.94965201399471511"
      ]
     },
     "execution_count": 442,
     "metadata": {},
     "output_type": "execute_result"
    }
   ],
   "source": [
    "df_EN.ratings1.mean()"
   ]
  },
  {
   "cell_type": "code",
   "execution_count": 443,
   "metadata": {},
   "outputs": [
    {
     "data": {
      "text/plain": [
       "1.3721298580882164"
      ]
     },
     "execution_count": 443,
     "metadata": {},
     "output_type": "execute_result"
    }
   ],
   "source": [
    "df_EN.ratings1.mean()"
   ]
  }
 ],
 "metadata": {
  "kernelspec": {
   "display_name": "Python 3",
   "language": "python",
   "name": "python3"
  },
  "language_info": {
   "codemirror_mode": {
    "name": "ipython",
    "version": 3
   },
   "file_extension": ".py",
   "mimetype": "text/x-python",
   "name": "python",
   "nbconvert_exporter": "python",
   "pygments_lexer": "ipython3",
   "version": "3.6.1"
  }
 },
 "nbformat": 4,
 "nbformat_minor": 2
}
