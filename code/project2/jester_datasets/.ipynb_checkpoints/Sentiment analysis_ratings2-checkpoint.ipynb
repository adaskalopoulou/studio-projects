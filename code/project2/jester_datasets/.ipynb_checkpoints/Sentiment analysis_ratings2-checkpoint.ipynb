{
 "cells": [
  {
   "cell_type": "code",
   "execution_count": 1,
   "metadata": {
    "collapsed": true
   },
   "outputs": [],
   "source": [
    "import pandas as pd\n",
    "import numpy as np\n",
    "%matplotlib inline\n",
    "import pandas as pd\n",
    "import matplotlib.pyplot as plt\n",
    "import matplotlib\n",
    "matplotlib.rcParams['pdf.fonttype'] =42\n",
    "import matplotlib.ticker as ticker\n",
    "import matplotlib.patches as mpatches\n",
    "import re"
   ]
  },
  {
   "cell_type": "code",
   "execution_count": 2,
   "metadata": {},
   "outputs": [
    {
     "data": {
      "text/html": [
       "<div>\n",
       "<style>\n",
       "    .dataframe thead tr:only-child th {\n",
       "        text-align: right;\n",
       "    }\n",
       "\n",
       "    .dataframe thead th {\n",
       "        text-align: left;\n",
       "    }\n",
       "\n",
       "    .dataframe tbody tr th {\n",
       "        vertical-align: top;\n",
       "    }\n",
       "</style>\n",
       "<table border=\"1\" class=\"dataframe\">\n",
       "  <thead>\n",
       "    <tr style=\"text-align: right;\">\n",
       "      <th>emotion</th>\n",
       "      <th>word</th>\n",
       "      <th>anger</th>\n",
       "      <th>anticipation</th>\n",
       "      <th>disgust</th>\n",
       "      <th>fear</th>\n",
       "      <th>joy</th>\n",
       "      <th>negative</th>\n",
       "      <th>positive</th>\n",
       "      <th>sadness</th>\n",
       "      <th>surprise</th>\n",
       "      <th>trust</th>\n",
       "    </tr>\n",
       "  </thead>\n",
       "  <tbody>\n",
       "    <tr>\n",
       "      <th>0</th>\n",
       "      <td>aback</td>\n",
       "      <td>0</td>\n",
       "      <td>0</td>\n",
       "      <td>0</td>\n",
       "      <td>0</td>\n",
       "      <td>0</td>\n",
       "      <td>0</td>\n",
       "      <td>0</td>\n",
       "      <td>0</td>\n",
       "      <td>0</td>\n",
       "      <td>0</td>\n",
       "    </tr>\n",
       "    <tr>\n",
       "      <th>1</th>\n",
       "      <td>abacus</td>\n",
       "      <td>0</td>\n",
       "      <td>0</td>\n",
       "      <td>0</td>\n",
       "      <td>0</td>\n",
       "      <td>0</td>\n",
       "      <td>0</td>\n",
       "      <td>0</td>\n",
       "      <td>0</td>\n",
       "      <td>0</td>\n",
       "      <td>1</td>\n",
       "    </tr>\n",
       "    <tr>\n",
       "      <th>2</th>\n",
       "      <td>abandon</td>\n",
       "      <td>0</td>\n",
       "      <td>0</td>\n",
       "      <td>0</td>\n",
       "      <td>1</td>\n",
       "      <td>0</td>\n",
       "      <td>1</td>\n",
       "      <td>0</td>\n",
       "      <td>1</td>\n",
       "      <td>0</td>\n",
       "      <td>0</td>\n",
       "    </tr>\n",
       "    <tr>\n",
       "      <th>3</th>\n",
       "      <td>abandoned</td>\n",
       "      <td>1</td>\n",
       "      <td>0</td>\n",
       "      <td>0</td>\n",
       "      <td>1</td>\n",
       "      <td>0</td>\n",
       "      <td>1</td>\n",
       "      <td>0</td>\n",
       "      <td>1</td>\n",
       "      <td>0</td>\n",
       "      <td>0</td>\n",
       "    </tr>\n",
       "    <tr>\n",
       "      <th>4</th>\n",
       "      <td>abandonment</td>\n",
       "      <td>1</td>\n",
       "      <td>0</td>\n",
       "      <td>0</td>\n",
       "      <td>1</td>\n",
       "      <td>0</td>\n",
       "      <td>1</td>\n",
       "      <td>0</td>\n",
       "      <td>1</td>\n",
       "      <td>1</td>\n",
       "      <td>0</td>\n",
       "    </tr>\n",
       "  </tbody>\n",
       "</table>\n",
       "</div>"
      ],
      "text/plain": [
       "emotion         word  anger  anticipation  disgust  fear  joy  negative  \\\n",
       "0              aback      0             0        0     0    0         0   \n",
       "1             abacus      0             0        0     0    0         0   \n",
       "2            abandon      0             0        0     1    0         1   \n",
       "3          abandoned      1             0        0     1    0         1   \n",
       "4        abandonment      1             0        0     1    0         1   \n",
       "\n",
       "emotion  positive  sadness  surprise  trust  \n",
       "0               0        0         0      0  \n",
       "1               0        0         0      1  \n",
       "2               0        1         0      0  \n",
       "3               0        1         0      0  \n",
       "4               0        1         1      0  "
      ]
     },
     "execution_count": 2,
     "metadata": {},
     "output_type": "execute_result"
    }
   ],
   "source": [
    "filepath = \"NRC-Emotion-Lexicon-v0.92/NRC-emotion-lexicon-wordlevel-alphabetized-v0.92.txt\"\n",
    "emolex_df = pd.read_csv(filepath,  names=[\"word\", \"emotion\", \"association\"], skiprows=45, sep='\\t')\n",
    "emolex_df = emolex_df.pivot(index='word', columns='emotion', values='association').reset_index()\n",
    "emolex_df.head()"
   ]
  },
  {
   "cell_type": "code",
   "execution_count": 3,
   "metadata": {},
   "outputs": [
    {
     "data": {
      "text/html": [
       "<div>\n",
       "<style>\n",
       "    .dataframe thead tr:only-child th {\n",
       "        text-align: right;\n",
       "    }\n",
       "\n",
       "    .dataframe thead th {\n",
       "        text-align: left;\n",
       "    }\n",
       "\n",
       "    .dataframe tbody tr th {\n",
       "        vertical-align: top;\n",
       "    }\n",
       "</style>\n",
       "<table border=\"1\" class=\"dataframe\">\n",
       "  <thead>\n",
       "    <tr style=\"text-align: right;\">\n",
       "      <th></th>\n",
       "      <th>Number</th>\n",
       "      <th>ratings2</th>\n",
       "      <th>ratings1</th>\n",
       "      <th>counts2</th>\n",
       "      <th>counts1</th>\n",
       "      <th>dev2</th>\n",
       "      <th>dev1</th>\n",
       "      <th>Text</th>\n",
       "      <th>length</th>\n",
       "      <th>word_leng</th>\n",
       "    </tr>\n",
       "  </thead>\n",
       "  <tbody>\n",
       "    <tr>\n",
       "      <th>0</th>\n",
       "      <td>1</td>\n",
       "      <td>NaN</td>\n",
       "      <td>0.901997</td>\n",
       "      <td>0</td>\n",
       "      <td>32024.0</td>\n",
       "      <td>NaN</td>\n",
       "      <td>5.242998</td>\n",
       "      <td>A man visits the doctor. The doctor says, I ha...</td>\n",
       "      <td>30</td>\n",
       "      <td>short</td>\n",
       "    </tr>\n",
       "    <tr>\n",
       "      <th>1</th>\n",
       "      <td>2</td>\n",
       "      <td>NaN</td>\n",
       "      <td>0.162989</td>\n",
       "      <td>0</td>\n",
       "      <td>35277.0</td>\n",
       "      <td>NaN</td>\n",
       "      <td>5.627972</td>\n",
       "      <td>This couple had an excellent relationship goin...</td>\n",
       "      <td>69</td>\n",
       "      <td>medium</td>\n",
       "    </tr>\n",
       "    <tr>\n",
       "      <th>2</th>\n",
       "      <td>3</td>\n",
       "      <td>NaN</td>\n",
       "      <td>0.193411</td>\n",
       "      <td>0</td>\n",
       "      <td>32402.0</td>\n",
       "      <td>NaN</td>\n",
       "      <td>5.448998</td>\n",
       "      <td>Q. Whats 200 feet long and has 4 teeth?A. The ...</td>\n",
       "      <td>17</td>\n",
       "      <td>short</td>\n",
       "    </tr>\n",
       "    <tr>\n",
       "      <th>3</th>\n",
       "      <td>4</td>\n",
       "      <td>NaN</td>\n",
       "      <td>-1.412599</td>\n",
       "      <td>0</td>\n",
       "      <td>30512.0</td>\n",
       "      <td>NaN</td>\n",
       "      <td>5.276202</td>\n",
       "      <td>Q. Whats the difference between a man and a to...</td>\n",
       "      <td>21</td>\n",
       "      <td>short</td>\n",
       "    </tr>\n",
       "    <tr>\n",
       "      <th>4</th>\n",
       "      <td>5</td>\n",
       "      <td>-2.034618</td>\n",
       "      <td>0.235352</td>\n",
       "      <td>566</td>\n",
       "      <td>73405.0</td>\n",
       "      <td>5.423289</td>\n",
       "      <td>5.302902</td>\n",
       "      <td>Q. Whats O. J. Simpsons web address?A. Slash, ...</td>\n",
       "      <td>13</td>\n",
       "      <td>very short</td>\n",
       "    </tr>\n",
       "  </tbody>\n",
       "</table>\n",
       "</div>"
      ],
      "text/plain": [
       "   Number  ratings2  ratings1  counts2  counts1      dev2      dev1  \\\n",
       "0       1       NaN  0.901997        0  32024.0       NaN  5.242998   \n",
       "1       2       NaN  0.162989        0  35277.0       NaN  5.627972   \n",
       "2       3       NaN  0.193411        0  32402.0       NaN  5.448998   \n",
       "3       4       NaN -1.412599        0  30512.0       NaN  5.276202   \n",
       "4       5 -2.034618  0.235352      566  73405.0  5.423289  5.302902   \n",
       "\n",
       "                                                Text  length   word_leng  \n",
       "0  A man visits the doctor. The doctor says, I ha...      30       short  \n",
       "1  This couple had an excellent relationship goin...      69      medium  \n",
       "2  Q. Whats 200 feet long and has 4 teeth?A. The ...      17       short  \n",
       "3  Q. Whats the difference between a man and a to...      21       short  \n",
       "4  Q. Whats O. J. Simpsons web address?A. Slash, ...      13  very short  "
      ]
     },
     "execution_count": 3,
     "metadata": {},
     "output_type": "execute_result"
    }
   ],
   "source": [
    "df1 = pd.read_csv(\"df_all.csv\")\n",
    "del df1['Unnamed: 0']\n",
    "df1.head()"
   ]
  },
  {
   "cell_type": "code",
   "execution_count": 4,
   "metadata": {
    "scrolled": true
   },
   "outputs": [
    {
     "data": {
      "text/html": [
       "<div>\n",
       "<style>\n",
       "    .dataframe thead tr:only-child th {\n",
       "        text-align: right;\n",
       "    }\n",
       "\n",
       "    .dataframe thead th {\n",
       "        text-align: left;\n",
       "    }\n",
       "\n",
       "    .dataframe tbody tr th {\n",
       "        vertical-align: top;\n",
       "    }\n",
       "</style>\n",
       "<table border=\"1\" class=\"dataframe\">\n",
       "  <thead>\n",
       "    <tr style=\"text-align: right;\">\n",
       "      <th></th>\n",
       "      <th>aback</th>\n",
       "      <th>abacus</th>\n",
       "      <th>abandon</th>\n",
       "      <th>abandoned</th>\n",
       "      <th>abandonment</th>\n",
       "      <th>abate</th>\n",
       "      <th>abatement</th>\n",
       "      <th>abba</th>\n",
       "      <th>abbot</th>\n",
       "      <th>abbreviate</th>\n",
       "      <th>...</th>\n",
       "      <th>zephyr</th>\n",
       "      <th>zeppelin</th>\n",
       "      <th>zest</th>\n",
       "      <th>zip</th>\n",
       "      <th>zodiac</th>\n",
       "      <th>zone</th>\n",
       "      <th>zoo</th>\n",
       "      <th>zoological</th>\n",
       "      <th>zoology</th>\n",
       "      <th>zoom</th>\n",
       "    </tr>\n",
       "  </thead>\n",
       "  <tbody>\n",
       "    <tr>\n",
       "      <th>0</th>\n",
       "      <td>0.0</td>\n",
       "      <td>0.0</td>\n",
       "      <td>0.0</td>\n",
       "      <td>0.0</td>\n",
       "      <td>0.0</td>\n",
       "      <td>0.0</td>\n",
       "      <td>0.0</td>\n",
       "      <td>0.0</td>\n",
       "      <td>0.0</td>\n",
       "      <td>0.0</td>\n",
       "      <td>...</td>\n",
       "      <td>0.0</td>\n",
       "      <td>0.0</td>\n",
       "      <td>0.0</td>\n",
       "      <td>0.0</td>\n",
       "      <td>0.0</td>\n",
       "      <td>0.0</td>\n",
       "      <td>0.0</td>\n",
       "      <td>0.0</td>\n",
       "      <td>0.0</td>\n",
       "      <td>0.0</td>\n",
       "    </tr>\n",
       "    <tr>\n",
       "      <th>1</th>\n",
       "      <td>0.0</td>\n",
       "      <td>0.0</td>\n",
       "      <td>0.0</td>\n",
       "      <td>0.0</td>\n",
       "      <td>0.0</td>\n",
       "      <td>0.0</td>\n",
       "      <td>0.0</td>\n",
       "      <td>0.0</td>\n",
       "      <td>0.0</td>\n",
       "      <td>0.0</td>\n",
       "      <td>...</td>\n",
       "      <td>0.0</td>\n",
       "      <td>0.0</td>\n",
       "      <td>0.0</td>\n",
       "      <td>0.0</td>\n",
       "      <td>0.0</td>\n",
       "      <td>0.0</td>\n",
       "      <td>0.0</td>\n",
       "      <td>0.0</td>\n",
       "      <td>0.0</td>\n",
       "      <td>0.0</td>\n",
       "    </tr>\n",
       "    <tr>\n",
       "      <th>2</th>\n",
       "      <td>0.0</td>\n",
       "      <td>0.0</td>\n",
       "      <td>0.0</td>\n",
       "      <td>0.0</td>\n",
       "      <td>0.0</td>\n",
       "      <td>0.0</td>\n",
       "      <td>0.0</td>\n",
       "      <td>0.0</td>\n",
       "      <td>0.0</td>\n",
       "      <td>0.0</td>\n",
       "      <td>...</td>\n",
       "      <td>0.0</td>\n",
       "      <td>0.0</td>\n",
       "      <td>0.0</td>\n",
       "      <td>0.0</td>\n",
       "      <td>0.0</td>\n",
       "      <td>0.0</td>\n",
       "      <td>0.0</td>\n",
       "      <td>0.0</td>\n",
       "      <td>0.0</td>\n",
       "      <td>0.0</td>\n",
       "    </tr>\n",
       "    <tr>\n",
       "      <th>3</th>\n",
       "      <td>0.0</td>\n",
       "      <td>0.0</td>\n",
       "      <td>0.0</td>\n",
       "      <td>0.0</td>\n",
       "      <td>0.0</td>\n",
       "      <td>0.0</td>\n",
       "      <td>0.0</td>\n",
       "      <td>0.0</td>\n",
       "      <td>0.0</td>\n",
       "      <td>0.0</td>\n",
       "      <td>...</td>\n",
       "      <td>0.0</td>\n",
       "      <td>0.0</td>\n",
       "      <td>0.0</td>\n",
       "      <td>0.0</td>\n",
       "      <td>0.0</td>\n",
       "      <td>0.0</td>\n",
       "      <td>0.0</td>\n",
       "      <td>0.0</td>\n",
       "      <td>0.0</td>\n",
       "      <td>0.0</td>\n",
       "    </tr>\n",
       "    <tr>\n",
       "      <th>4</th>\n",
       "      <td>0.0</td>\n",
       "      <td>0.0</td>\n",
       "      <td>0.0</td>\n",
       "      <td>0.0</td>\n",
       "      <td>0.0</td>\n",
       "      <td>0.0</td>\n",
       "      <td>0.0</td>\n",
       "      <td>0.0</td>\n",
       "      <td>0.0</td>\n",
       "      <td>0.0</td>\n",
       "      <td>...</td>\n",
       "      <td>0.0</td>\n",
       "      <td>0.0</td>\n",
       "      <td>0.0</td>\n",
       "      <td>0.0</td>\n",
       "      <td>0.0</td>\n",
       "      <td>0.0</td>\n",
       "      <td>0.0</td>\n",
       "      <td>0.0</td>\n",
       "      <td>0.0</td>\n",
       "      <td>0.0</td>\n",
       "    </tr>\n",
       "  </tbody>\n",
       "</table>\n",
       "<p>5 rows × 14182 columns</p>\n",
       "</div>"
      ],
      "text/plain": [
       "   aback  abacus  abandon  abandoned  abandonment  abate  abatement  abba  \\\n",
       "0    0.0     0.0      0.0        0.0          0.0    0.0        0.0   0.0   \n",
       "1    0.0     0.0      0.0        0.0          0.0    0.0        0.0   0.0   \n",
       "2    0.0     0.0      0.0        0.0          0.0    0.0        0.0   0.0   \n",
       "3    0.0     0.0      0.0        0.0          0.0    0.0        0.0   0.0   \n",
       "4    0.0     0.0      0.0        0.0          0.0    0.0        0.0   0.0   \n",
       "\n",
       "   abbot  abbreviate  ...   zephyr  zeppelin  zest  zip  zodiac  zone  zoo  \\\n",
       "0    0.0         0.0  ...      0.0       0.0   0.0  0.0     0.0   0.0  0.0   \n",
       "1    0.0         0.0  ...      0.0       0.0   0.0  0.0     0.0   0.0  0.0   \n",
       "2    0.0         0.0  ...      0.0       0.0   0.0  0.0     0.0   0.0  0.0   \n",
       "3    0.0         0.0  ...      0.0       0.0   0.0  0.0     0.0   0.0  0.0   \n",
       "4    0.0         0.0  ...      0.0       0.0   0.0  0.0     0.0   0.0  0.0   \n",
       "\n",
       "   zoological  zoology  zoom  \n",
       "0         0.0      0.0   0.0  \n",
       "1         0.0      0.0   0.0  \n",
       "2         0.0      0.0   0.0  \n",
       "3         0.0      0.0   0.0  \n",
       "4         0.0      0.0   0.0  \n",
       "\n",
       "[5 rows x 14182 columns]"
      ]
     },
     "execution_count": 4,
     "metadata": {},
     "output_type": "execute_result"
    }
   ],
   "source": [
    "from sklearn.feature_extraction.text import TfidfVectorizer\n",
    "\n",
    "vec = TfidfVectorizer(vocabulary=emolex_df.word,\n",
    "                      use_idf=False, \n",
    "                      norm='l1') # ELL - ONE\n",
    "matrix = vec.fit_transform(df1['Text'])\n",
    "vocab = vec.get_feature_names()\n",
    "wordcount_df = pd.DataFrame(matrix.toarray(), columns=vocab)\n",
    "wordcount_df.head()"
   ]
  },
  {
   "cell_type": "code",
   "execution_count": 5,
   "metadata": {},
   "outputs": [
    {
     "data": {
      "text/plain": [
       "3       abandoned\n",
       "4     abandonment\n",
       "17          abhor\n",
       "18      abhorrent\n",
       "27        abolish\n",
       "Name: word, dtype: object"
      ]
     },
     "execution_count": 5,
     "metadata": {},
     "output_type": "execute_result"
    }
   ],
   "source": [
    "angry_words = emolex_df[emolex_df.anger == 1]['word']\n",
    "angry_words.head()"
   ]
  },
  {
   "cell_type": "code",
   "execution_count": 6,
   "metadata": {},
   "outputs": [
    {
     "data": {
      "text/html": [
       "<div>\n",
       "<style>\n",
       "    .dataframe thead tr:only-child th {\n",
       "        text-align: right;\n",
       "    }\n",
       "\n",
       "    .dataframe thead th {\n",
       "        text-align: left;\n",
       "    }\n",
       "\n",
       "    .dataframe tbody tr th {\n",
       "        vertical-align: top;\n",
       "    }\n",
       "</style>\n",
       "<table border=\"1\" class=\"dataframe\">\n",
       "  <thead>\n",
       "    <tr style=\"text-align: right;\">\n",
       "      <th></th>\n",
       "      <th>Number</th>\n",
       "      <th>ratings2</th>\n",
       "      <th>ratings1</th>\n",
       "      <th>counts2</th>\n",
       "      <th>counts1</th>\n",
       "      <th>dev2</th>\n",
       "      <th>dev1</th>\n",
       "      <th>Text</th>\n",
       "      <th>length</th>\n",
       "      <th>word_leng</th>\n",
       "      <th>anger</th>\n",
       "    </tr>\n",
       "  </thead>\n",
       "  <tbody>\n",
       "    <tr>\n",
       "      <th>0</th>\n",
       "      <td>1</td>\n",
       "      <td>NaN</td>\n",
       "      <td>0.901997</td>\n",
       "      <td>0</td>\n",
       "      <td>32024.0</td>\n",
       "      <td>NaN</td>\n",
       "      <td>5.242998</td>\n",
       "      <td>A man visits the doctor. The doctor says, I ha...</td>\n",
       "      <td>30</td>\n",
       "      <td>short</td>\n",
       "      <td>0.400000</td>\n",
       "    </tr>\n",
       "    <tr>\n",
       "      <th>1</th>\n",
       "      <td>2</td>\n",
       "      <td>NaN</td>\n",
       "      <td>0.162989</td>\n",
       "      <td>0</td>\n",
       "      <td>35277.0</td>\n",
       "      <td>NaN</td>\n",
       "      <td>5.627972</td>\n",
       "      <td>This couple had an excellent relationship goin...</td>\n",
       "      <td>69</td>\n",
       "      <td>medium</td>\n",
       "      <td>0.066667</td>\n",
       "    </tr>\n",
       "    <tr>\n",
       "      <th>2</th>\n",
       "      <td>3</td>\n",
       "      <td>NaN</td>\n",
       "      <td>0.193411</td>\n",
       "      <td>0</td>\n",
       "      <td>32402.0</td>\n",
       "      <td>NaN</td>\n",
       "      <td>5.448998</td>\n",
       "      <td>Q. Whats 200 feet long and has 4 teeth?A. The ...</td>\n",
       "      <td>17</td>\n",
       "      <td>short</td>\n",
       "      <td>0.166667</td>\n",
       "    </tr>\n",
       "  </tbody>\n",
       "</table>\n",
       "</div>"
      ],
      "text/plain": [
       "   Number  ratings2  ratings1  counts2  counts1  dev2      dev1  \\\n",
       "0       1       NaN  0.901997        0  32024.0   NaN  5.242998   \n",
       "1       2       NaN  0.162989        0  35277.0   NaN  5.627972   \n",
       "2       3       NaN  0.193411        0  32402.0   NaN  5.448998   \n",
       "\n",
       "                                                Text  length word_leng  \\\n",
       "0  A man visits the doctor. The doctor says, I ha...      30     short   \n",
       "1  This couple had an excellent relationship goin...      69    medium   \n",
       "2  Q. Whats 200 feet long and has 4 teeth?A. The ...      17     short   \n",
       "\n",
       "      anger  \n",
       "0  0.400000  \n",
       "1  0.066667  \n",
       "2  0.166667  "
      ]
     },
     "execution_count": 6,
     "metadata": {},
     "output_type": "execute_result"
    }
   ],
   "source": [
    "df1['anger'] = wordcount_df[angry_words].sum(axis=1)\n",
    "df1.head(3)"
   ]
  },
  {
   "cell_type": "code",
   "execution_count": 7,
   "metadata": {},
   "outputs": [
    {
     "data": {
      "text/html": [
       "<div>\n",
       "<style>\n",
       "    .dataframe thead tr:only-child th {\n",
       "        text-align: right;\n",
       "    }\n",
       "\n",
       "    .dataframe thead th {\n",
       "        text-align: left;\n",
       "    }\n",
       "\n",
       "    .dataframe tbody tr th {\n",
       "        vertical-align: top;\n",
       "    }\n",
       "</style>\n",
       "<table border=\"1\" class=\"dataframe\">\n",
       "  <thead>\n",
       "    <tr style=\"text-align: right;\">\n",
       "      <th></th>\n",
       "      <th>Number</th>\n",
       "      <th>ratings2</th>\n",
       "      <th>ratings1</th>\n",
       "      <th>counts2</th>\n",
       "      <th>counts1</th>\n",
       "      <th>dev2</th>\n",
       "      <th>dev1</th>\n",
       "      <th>Text</th>\n",
       "      <th>length</th>\n",
       "      <th>word_leng</th>\n",
       "      <th>anger</th>\n",
       "      <th>joy</th>\n",
       "    </tr>\n",
       "  </thead>\n",
       "  <tbody>\n",
       "    <tr>\n",
       "      <th>0</th>\n",
       "      <td>1</td>\n",
       "      <td>NaN</td>\n",
       "      <td>0.901997</td>\n",
       "      <td>0</td>\n",
       "      <td>32024.0</td>\n",
       "      <td>NaN</td>\n",
       "      <td>5.242998</td>\n",
       "      <td>A man visits the doctor. The doctor says, I ha...</td>\n",
       "      <td>30</td>\n",
       "      <td>short</td>\n",
       "      <td>0.400000</td>\n",
       "      <td>0.100000</td>\n",
       "    </tr>\n",
       "    <tr>\n",
       "      <th>1</th>\n",
       "      <td>2</td>\n",
       "      <td>NaN</td>\n",
       "      <td>0.162989</td>\n",
       "      <td>0</td>\n",
       "      <td>35277.0</td>\n",
       "      <td>NaN</td>\n",
       "      <td>5.627972</td>\n",
       "      <td>This couple had an excellent relationship goin...</td>\n",
       "      <td>69</td>\n",
       "      <td>medium</td>\n",
       "      <td>0.066667</td>\n",
       "      <td>0.066667</td>\n",
       "    </tr>\n",
       "    <tr>\n",
       "      <th>2</th>\n",
       "      <td>3</td>\n",
       "      <td>NaN</td>\n",
       "      <td>0.193411</td>\n",
       "      <td>0</td>\n",
       "      <td>32402.0</td>\n",
       "      <td>NaN</td>\n",
       "      <td>5.448998</td>\n",
       "      <td>Q. Whats 200 feet long and has 4 teeth?A. The ...</td>\n",
       "      <td>17</td>\n",
       "      <td>short</td>\n",
       "      <td>0.166667</td>\n",
       "      <td>0.000000</td>\n",
       "    </tr>\n",
       "  </tbody>\n",
       "</table>\n",
       "</div>"
      ],
      "text/plain": [
       "   Number  ratings2  ratings1  counts2  counts1  dev2      dev1  \\\n",
       "0       1       NaN  0.901997        0  32024.0   NaN  5.242998   \n",
       "1       2       NaN  0.162989        0  35277.0   NaN  5.627972   \n",
       "2       3       NaN  0.193411        0  32402.0   NaN  5.448998   \n",
       "\n",
       "                                                Text  length word_leng  \\\n",
       "0  A man visits the doctor. The doctor says, I ha...      30     short   \n",
       "1  This couple had an excellent relationship goin...      69    medium   \n",
       "2  Q. Whats 200 feet long and has 4 teeth?A. The ...      17     short   \n",
       "\n",
       "      anger       joy  \n",
       "0  0.400000  0.100000  \n",
       "1  0.066667  0.066667  \n",
       "2  0.166667  0.000000  "
      ]
     },
     "execution_count": 7,
     "metadata": {},
     "output_type": "execute_result"
    }
   ],
   "source": [
    "joy_words = emolex_df[emolex_df.joy == 1]['word']\n",
    "df1['joy'] = wordcount_df[joy_words].sum(axis=1)\n",
    "df1.head(3)"
   ]
  },
  {
   "cell_type": "code",
   "execution_count": 8,
   "metadata": {},
   "outputs": [
    {
     "data": {
      "text/html": [
       "<div>\n",
       "<style>\n",
       "    .dataframe thead tr:only-child th {\n",
       "        text-align: right;\n",
       "    }\n",
       "\n",
       "    .dataframe thead th {\n",
       "        text-align: left;\n",
       "    }\n",
       "\n",
       "    .dataframe tbody tr th {\n",
       "        vertical-align: top;\n",
       "    }\n",
       "</style>\n",
       "<table border=\"1\" class=\"dataframe\">\n",
       "  <thead>\n",
       "    <tr style=\"text-align: right;\">\n",
       "      <th></th>\n",
       "      <th>Number</th>\n",
       "      <th>ratings2</th>\n",
       "      <th>ratings1</th>\n",
       "      <th>counts2</th>\n",
       "      <th>counts1</th>\n",
       "      <th>dev2</th>\n",
       "      <th>dev1</th>\n",
       "      <th>Text</th>\n",
       "      <th>length</th>\n",
       "      <th>word_leng</th>\n",
       "      <th>anger</th>\n",
       "      <th>joy</th>\n",
       "      <th>positivity</th>\n",
       "    </tr>\n",
       "  </thead>\n",
       "  <tbody>\n",
       "    <tr>\n",
       "      <th>0</th>\n",
       "      <td>1</td>\n",
       "      <td>NaN</td>\n",
       "      <td>0.901997</td>\n",
       "      <td>0</td>\n",
       "      <td>32024.0</td>\n",
       "      <td>NaN</td>\n",
       "      <td>5.242998</td>\n",
       "      <td>A man visits the doctor. The doctor says, I ha...</td>\n",
       "      <td>30</td>\n",
       "      <td>short</td>\n",
       "      <td>0.400000</td>\n",
       "      <td>0.100000</td>\n",
       "      <td>0.300000</td>\n",
       "    </tr>\n",
       "    <tr>\n",
       "      <th>1</th>\n",
       "      <td>2</td>\n",
       "      <td>NaN</td>\n",
       "      <td>0.162989</td>\n",
       "      <td>0</td>\n",
       "      <td>35277.0</td>\n",
       "      <td>NaN</td>\n",
       "      <td>5.627972</td>\n",
       "      <td>This couple had an excellent relationship goin...</td>\n",
       "      <td>69</td>\n",
       "      <td>medium</td>\n",
       "      <td>0.066667</td>\n",
       "      <td>0.066667</td>\n",
       "      <td>0.133333</td>\n",
       "    </tr>\n",
       "    <tr>\n",
       "      <th>2</th>\n",
       "      <td>3</td>\n",
       "      <td>NaN</td>\n",
       "      <td>0.193411</td>\n",
       "      <td>0</td>\n",
       "      <td>32402.0</td>\n",
       "      <td>NaN</td>\n",
       "      <td>5.448998</td>\n",
       "      <td>Q. Whats 200 feet long and has 4 teeth?A. The ...</td>\n",
       "      <td>17</td>\n",
       "      <td>short</td>\n",
       "      <td>0.166667</td>\n",
       "      <td>0.000000</td>\n",
       "      <td>0.000000</td>\n",
       "    </tr>\n",
       "  </tbody>\n",
       "</table>\n",
       "</div>"
      ],
      "text/plain": [
       "   Number  ratings2  ratings1  counts2  counts1  dev2      dev1  \\\n",
       "0       1       NaN  0.901997        0  32024.0   NaN  5.242998   \n",
       "1       2       NaN  0.162989        0  35277.0   NaN  5.627972   \n",
       "2       3       NaN  0.193411        0  32402.0   NaN  5.448998   \n",
       "\n",
       "                                                Text  length word_leng  \\\n",
       "0  A man visits the doctor. The doctor says, I ha...      30     short   \n",
       "1  This couple had an excellent relationship goin...      69    medium   \n",
       "2  Q. Whats 200 feet long and has 4 teeth?A. The ...      17     short   \n",
       "\n",
       "      anger       joy  positivity  \n",
       "0  0.400000  0.100000    0.300000  \n",
       "1  0.066667  0.066667    0.133333  \n",
       "2  0.166667  0.000000    0.000000  "
      ]
     },
     "execution_count": 8,
     "metadata": {},
     "output_type": "execute_result"
    }
   ],
   "source": [
    "positive_words = emolex_df[emolex_df.positive == 1]['word']\n",
    "df1['positivity'] = wordcount_df[positive_words].sum(axis=1)\n",
    "df1.head(3)"
   ]
  },
  {
   "cell_type": "code",
   "execution_count": 9,
   "metadata": {},
   "outputs": [
    {
     "data": {
      "text/html": [
       "<div>\n",
       "<style>\n",
       "    .dataframe thead tr:only-child th {\n",
       "        text-align: right;\n",
       "    }\n",
       "\n",
       "    .dataframe thead th {\n",
       "        text-align: left;\n",
       "    }\n",
       "\n",
       "    .dataframe tbody tr th {\n",
       "        vertical-align: top;\n",
       "    }\n",
       "</style>\n",
       "<table border=\"1\" class=\"dataframe\">\n",
       "  <thead>\n",
       "    <tr style=\"text-align: right;\">\n",
       "      <th></th>\n",
       "      <th>Number</th>\n",
       "      <th>ratings2</th>\n",
       "      <th>ratings1</th>\n",
       "      <th>counts2</th>\n",
       "      <th>counts1</th>\n",
       "      <th>dev2</th>\n",
       "      <th>dev1</th>\n",
       "      <th>Text</th>\n",
       "      <th>length</th>\n",
       "      <th>word_leng</th>\n",
       "      <th>anger</th>\n",
       "      <th>joy</th>\n",
       "      <th>positivity</th>\n",
       "      <th>negativity</th>\n",
       "    </tr>\n",
       "  </thead>\n",
       "  <tbody>\n",
       "    <tr>\n",
       "      <th>0</th>\n",
       "      <td>1</td>\n",
       "      <td>NaN</td>\n",
       "      <td>0.901997</td>\n",
       "      <td>0</td>\n",
       "      <td>32024.0</td>\n",
       "      <td>NaN</td>\n",
       "      <td>5.242998</td>\n",
       "      <td>A man visits the doctor. The doctor says, I ha...</td>\n",
       "      <td>30</td>\n",
       "      <td>short</td>\n",
       "      <td>0.400000</td>\n",
       "      <td>0.100000</td>\n",
       "      <td>0.300000</td>\n",
       "      <td>0.400000</td>\n",
       "    </tr>\n",
       "    <tr>\n",
       "      <th>1</th>\n",
       "      <td>2</td>\n",
       "      <td>NaN</td>\n",
       "      <td>0.162989</td>\n",
       "      <td>0</td>\n",
       "      <td>35277.0</td>\n",
       "      <td>NaN</td>\n",
       "      <td>5.627972</td>\n",
       "      <td>This couple had an excellent relationship goin...</td>\n",
       "      <td>69</td>\n",
       "      <td>medium</td>\n",
       "      <td>0.066667</td>\n",
       "      <td>0.066667</td>\n",
       "      <td>0.133333</td>\n",
       "      <td>0.066667</td>\n",
       "    </tr>\n",
       "    <tr>\n",
       "      <th>2</th>\n",
       "      <td>3</td>\n",
       "      <td>NaN</td>\n",
       "      <td>0.193411</td>\n",
       "      <td>0</td>\n",
       "      <td>32402.0</td>\n",
       "      <td>NaN</td>\n",
       "      <td>5.448998</td>\n",
       "      <td>Q. Whats 200 feet long and has 4 teeth?A. The ...</td>\n",
       "      <td>17</td>\n",
       "      <td>short</td>\n",
       "      <td>0.166667</td>\n",
       "      <td>0.000000</td>\n",
       "      <td>0.000000</td>\n",
       "      <td>0.166667</td>\n",
       "    </tr>\n",
       "  </tbody>\n",
       "</table>\n",
       "</div>"
      ],
      "text/plain": [
       "   Number  ratings2  ratings1  counts2  counts1  dev2      dev1  \\\n",
       "0       1       NaN  0.901997        0  32024.0   NaN  5.242998   \n",
       "1       2       NaN  0.162989        0  35277.0   NaN  5.627972   \n",
       "2       3       NaN  0.193411        0  32402.0   NaN  5.448998   \n",
       "\n",
       "                                                Text  length word_leng  \\\n",
       "0  A man visits the doctor. The doctor says, I ha...      30     short   \n",
       "1  This couple had an excellent relationship goin...      69    medium   \n",
       "2  Q. Whats 200 feet long and has 4 teeth?A. The ...      17     short   \n",
       "\n",
       "      anger       joy  positivity  negativity  \n",
       "0  0.400000  0.100000    0.300000    0.400000  \n",
       "1  0.066667  0.066667    0.133333    0.066667  \n",
       "2  0.166667  0.000000    0.000000    0.166667  "
      ]
     },
     "execution_count": 9,
     "metadata": {},
     "output_type": "execute_result"
    }
   ],
   "source": [
    "negative_words = emolex_df[emolex_df.negative == 1]['word']\n",
    "df1['negativity'] = wordcount_df[negative_words].sum(axis=1)\n",
    "df1.head(3)"
   ]
  },
  {
   "cell_type": "code",
   "execution_count": 10,
   "metadata": {},
   "outputs": [
    {
     "data": {
      "text/html": [
       "<div>\n",
       "<style>\n",
       "    .dataframe thead tr:only-child th {\n",
       "        text-align: right;\n",
       "    }\n",
       "\n",
       "    .dataframe thead th {\n",
       "        text-align: left;\n",
       "    }\n",
       "\n",
       "    .dataframe tbody tr th {\n",
       "        vertical-align: top;\n",
       "    }\n",
       "</style>\n",
       "<table border=\"1\" class=\"dataframe\">\n",
       "  <thead>\n",
       "    <tr style=\"text-align: right;\">\n",
       "      <th></th>\n",
       "      <th>Number</th>\n",
       "      <th>ratings2</th>\n",
       "      <th>ratings1</th>\n",
       "      <th>counts2</th>\n",
       "      <th>counts1</th>\n",
       "      <th>dev2</th>\n",
       "      <th>dev1</th>\n",
       "      <th>Text</th>\n",
       "      <th>length</th>\n",
       "      <th>word_leng</th>\n",
       "      <th>anger</th>\n",
       "      <th>joy</th>\n",
       "      <th>positivity</th>\n",
       "      <th>negativity</th>\n",
       "      <th>surprise</th>\n",
       "    </tr>\n",
       "  </thead>\n",
       "  <tbody>\n",
       "    <tr>\n",
       "      <th>0</th>\n",
       "      <td>1</td>\n",
       "      <td>NaN</td>\n",
       "      <td>0.901997</td>\n",
       "      <td>0</td>\n",
       "      <td>32024.0</td>\n",
       "      <td>NaN</td>\n",
       "      <td>5.242998</td>\n",
       "      <td>A man visits the doctor. The doctor says, I ha...</td>\n",
       "      <td>30</td>\n",
       "      <td>short</td>\n",
       "      <td>0.400000</td>\n",
       "      <td>0.100000</td>\n",
       "      <td>0.300000</td>\n",
       "      <td>0.400000</td>\n",
       "      <td>0.0</td>\n",
       "    </tr>\n",
       "    <tr>\n",
       "      <th>1</th>\n",
       "      <td>2</td>\n",
       "      <td>NaN</td>\n",
       "      <td>0.162989</td>\n",
       "      <td>0</td>\n",
       "      <td>35277.0</td>\n",
       "      <td>NaN</td>\n",
       "      <td>5.627972</td>\n",
       "      <td>This couple had an excellent relationship goin...</td>\n",
       "      <td>69</td>\n",
       "      <td>medium</td>\n",
       "      <td>0.066667</td>\n",
       "      <td>0.066667</td>\n",
       "      <td>0.133333</td>\n",
       "      <td>0.066667</td>\n",
       "      <td>0.0</td>\n",
       "    </tr>\n",
       "    <tr>\n",
       "      <th>2</th>\n",
       "      <td>3</td>\n",
       "      <td>NaN</td>\n",
       "      <td>0.193411</td>\n",
       "      <td>0</td>\n",
       "      <td>32402.0</td>\n",
       "      <td>NaN</td>\n",
       "      <td>5.448998</td>\n",
       "      <td>Q. Whats 200 feet long and has 4 teeth?A. The ...</td>\n",
       "      <td>17</td>\n",
       "      <td>short</td>\n",
       "      <td>0.166667</td>\n",
       "      <td>0.000000</td>\n",
       "      <td>0.000000</td>\n",
       "      <td>0.166667</td>\n",
       "      <td>0.0</td>\n",
       "    </tr>\n",
       "  </tbody>\n",
       "</table>\n",
       "</div>"
      ],
      "text/plain": [
       "   Number  ratings2  ratings1  counts2  counts1  dev2      dev1  \\\n",
       "0       1       NaN  0.901997        0  32024.0   NaN  5.242998   \n",
       "1       2       NaN  0.162989        0  35277.0   NaN  5.627972   \n",
       "2       3       NaN  0.193411        0  32402.0   NaN  5.448998   \n",
       "\n",
       "                                                Text  length word_leng  \\\n",
       "0  A man visits the doctor. The doctor says, I ha...      30     short   \n",
       "1  This couple had an excellent relationship goin...      69    medium   \n",
       "2  Q. Whats 200 feet long and has 4 teeth?A. The ...      17     short   \n",
       "\n",
       "      anger       joy  positivity  negativity  surprise  \n",
       "0  0.400000  0.100000    0.300000    0.400000       0.0  \n",
       "1  0.066667  0.066667    0.133333    0.066667       0.0  \n",
       "2  0.166667  0.000000    0.000000    0.166667       0.0  "
      ]
     },
     "execution_count": 10,
     "metadata": {},
     "output_type": "execute_result"
    }
   ],
   "source": [
    "surprise_words = emolex_df[emolex_df.surprise == 1]['word']\n",
    "df1['surprise'] = wordcount_df[surprise_words].sum(axis=1)\n",
    "df1.head(3)"
   ]
  },
  {
   "cell_type": "code",
   "execution_count": 11,
   "metadata": {},
   "outputs": [
    {
     "data": {
      "text/html": [
       "<div>\n",
       "<style>\n",
       "    .dataframe thead tr:only-child th {\n",
       "        text-align: right;\n",
       "    }\n",
       "\n",
       "    .dataframe thead th {\n",
       "        text-align: left;\n",
       "    }\n",
       "\n",
       "    .dataframe tbody tr th {\n",
       "        vertical-align: top;\n",
       "    }\n",
       "</style>\n",
       "<table border=\"1\" class=\"dataframe\">\n",
       "  <thead>\n",
       "    <tr style=\"text-align: right;\">\n",
       "      <th></th>\n",
       "      <th>Number</th>\n",
       "      <th>ratings2</th>\n",
       "      <th>ratings1</th>\n",
       "      <th>counts2</th>\n",
       "      <th>counts1</th>\n",
       "      <th>dev2</th>\n",
       "      <th>dev1</th>\n",
       "      <th>Text</th>\n",
       "      <th>length</th>\n",
       "      <th>word_leng</th>\n",
       "      <th>anger</th>\n",
       "      <th>joy</th>\n",
       "      <th>positivity</th>\n",
       "      <th>negativity</th>\n",
       "      <th>surprise</th>\n",
       "      <th>fear</th>\n",
       "    </tr>\n",
       "  </thead>\n",
       "  <tbody>\n",
       "    <tr>\n",
       "      <th>0</th>\n",
       "      <td>1</td>\n",
       "      <td>NaN</td>\n",
       "      <td>0.901997</td>\n",
       "      <td>0</td>\n",
       "      <td>32024.0</td>\n",
       "      <td>NaN</td>\n",
       "      <td>5.242998</td>\n",
       "      <td>A man visits the doctor. The doctor says, I ha...</td>\n",
       "      <td>30</td>\n",
       "      <td>short</td>\n",
       "      <td>0.400000</td>\n",
       "      <td>0.100000</td>\n",
       "      <td>0.300000</td>\n",
       "      <td>0.400000</td>\n",
       "      <td>0.0</td>\n",
       "      <td>0.500000</td>\n",
       "    </tr>\n",
       "    <tr>\n",
       "      <th>1</th>\n",
       "      <td>2</td>\n",
       "      <td>NaN</td>\n",
       "      <td>0.162989</td>\n",
       "      <td>0</td>\n",
       "      <td>35277.0</td>\n",
       "      <td>NaN</td>\n",
       "      <td>5.627972</td>\n",
       "      <td>This couple had an excellent relationship goin...</td>\n",
       "      <td>69</td>\n",
       "      <td>medium</td>\n",
       "      <td>0.066667</td>\n",
       "      <td>0.066667</td>\n",
       "      <td>0.133333</td>\n",
       "      <td>0.066667</td>\n",
       "      <td>0.0</td>\n",
       "      <td>0.066667</td>\n",
       "    </tr>\n",
       "    <tr>\n",
       "      <th>2</th>\n",
       "      <td>3</td>\n",
       "      <td>NaN</td>\n",
       "      <td>0.193411</td>\n",
       "      <td>0</td>\n",
       "      <td>32402.0</td>\n",
       "      <td>NaN</td>\n",
       "      <td>5.448998</td>\n",
       "      <td>Q. Whats 200 feet long and has 4 teeth?A. The ...</td>\n",
       "      <td>17</td>\n",
       "      <td>short</td>\n",
       "      <td>0.166667</td>\n",
       "      <td>0.000000</td>\n",
       "      <td>0.000000</td>\n",
       "      <td>0.166667</td>\n",
       "      <td>0.0</td>\n",
       "      <td>0.000000</td>\n",
       "    </tr>\n",
       "  </tbody>\n",
       "</table>\n",
       "</div>"
      ],
      "text/plain": [
       "   Number  ratings2  ratings1  counts2  counts1  dev2      dev1  \\\n",
       "0       1       NaN  0.901997        0  32024.0   NaN  5.242998   \n",
       "1       2       NaN  0.162989        0  35277.0   NaN  5.627972   \n",
       "2       3       NaN  0.193411        0  32402.0   NaN  5.448998   \n",
       "\n",
       "                                                Text  length word_leng  \\\n",
       "0  A man visits the doctor. The doctor says, I ha...      30     short   \n",
       "1  This couple had an excellent relationship goin...      69    medium   \n",
       "2  Q. Whats 200 feet long and has 4 teeth?A. The ...      17     short   \n",
       "\n",
       "      anger       joy  positivity  negativity  surprise      fear  \n",
       "0  0.400000  0.100000    0.300000    0.400000       0.0  0.500000  \n",
       "1  0.066667  0.066667    0.133333    0.066667       0.0  0.066667  \n",
       "2  0.166667  0.000000    0.000000    0.166667       0.0  0.000000  "
      ]
     },
     "execution_count": 11,
     "metadata": {},
     "output_type": "execute_result"
    }
   ],
   "source": [
    "fear_words = emolex_df[emolex_df.fear == 1]['word']\n",
    "df1['fear'] = wordcount_df[fear_words].sum(axis=1)\n",
    "df1.head(3)"
   ]
  },
  {
   "cell_type": "code",
   "execution_count": 12,
   "metadata": {
    "scrolled": true
   },
   "outputs": [
    {
     "data": {
      "text/html": [
       "<div>\n",
       "<style>\n",
       "    .dataframe thead tr:only-child th {\n",
       "        text-align: right;\n",
       "    }\n",
       "\n",
       "    .dataframe thead th {\n",
       "        text-align: left;\n",
       "    }\n",
       "\n",
       "    .dataframe tbody tr th {\n",
       "        vertical-align: top;\n",
       "    }\n",
       "</style>\n",
       "<table border=\"1\" class=\"dataframe\">\n",
       "  <thead>\n",
       "    <tr style=\"text-align: right;\">\n",
       "      <th></th>\n",
       "      <th>Number</th>\n",
       "      <th>ratings2</th>\n",
       "      <th>ratings1</th>\n",
       "      <th>counts2</th>\n",
       "      <th>counts1</th>\n",
       "      <th>dev2</th>\n",
       "      <th>dev1</th>\n",
       "      <th>Text</th>\n",
       "      <th>length</th>\n",
       "      <th>word_leng</th>\n",
       "      <th>anger</th>\n",
       "      <th>joy</th>\n",
       "      <th>positivity</th>\n",
       "      <th>negativity</th>\n",
       "      <th>surprise</th>\n",
       "      <th>fear</th>\n",
       "      <th>anticipation</th>\n",
       "    </tr>\n",
       "  </thead>\n",
       "  <tbody>\n",
       "    <tr>\n",
       "      <th>0</th>\n",
       "      <td>1</td>\n",
       "      <td>NaN</td>\n",
       "      <td>0.901997</td>\n",
       "      <td>0</td>\n",
       "      <td>32024.0</td>\n",
       "      <td>NaN</td>\n",
       "      <td>5.242998</td>\n",
       "      <td>A man visits the doctor. The doctor says, I ha...</td>\n",
       "      <td>30</td>\n",
       "      <td>short</td>\n",
       "      <td>0.400000</td>\n",
       "      <td>0.100000</td>\n",
       "      <td>0.300000</td>\n",
       "      <td>0.400000</td>\n",
       "      <td>0.0</td>\n",
       "      <td>0.500000</td>\n",
       "      <td>0.100000</td>\n",
       "    </tr>\n",
       "    <tr>\n",
       "      <th>1</th>\n",
       "      <td>2</td>\n",
       "      <td>NaN</td>\n",
       "      <td>0.162989</td>\n",
       "      <td>0</td>\n",
       "      <td>35277.0</td>\n",
       "      <td>NaN</td>\n",
       "      <td>5.627972</td>\n",
       "      <td>This couple had an excellent relationship goin...</td>\n",
       "      <td>69</td>\n",
       "      <td>medium</td>\n",
       "      <td>0.066667</td>\n",
       "      <td>0.066667</td>\n",
       "      <td>0.133333</td>\n",
       "      <td>0.066667</td>\n",
       "      <td>0.0</td>\n",
       "      <td>0.066667</td>\n",
       "      <td>0.000000</td>\n",
       "    </tr>\n",
       "    <tr>\n",
       "      <th>2</th>\n",
       "      <td>3</td>\n",
       "      <td>NaN</td>\n",
       "      <td>0.193411</td>\n",
       "      <td>0</td>\n",
       "      <td>32402.0</td>\n",
       "      <td>NaN</td>\n",
       "      <td>5.448998</td>\n",
       "      <td>Q. Whats 200 feet long and has 4 teeth?A. The ...</td>\n",
       "      <td>17</td>\n",
       "      <td>short</td>\n",
       "      <td>0.166667</td>\n",
       "      <td>0.000000</td>\n",
       "      <td>0.000000</td>\n",
       "      <td>0.166667</td>\n",
       "      <td>0.0</td>\n",
       "      <td>0.000000</td>\n",
       "      <td>0.166667</td>\n",
       "    </tr>\n",
       "  </tbody>\n",
       "</table>\n",
       "</div>"
      ],
      "text/plain": [
       "   Number  ratings2  ratings1  counts2  counts1  dev2      dev1  \\\n",
       "0       1       NaN  0.901997        0  32024.0   NaN  5.242998   \n",
       "1       2       NaN  0.162989        0  35277.0   NaN  5.627972   \n",
       "2       3       NaN  0.193411        0  32402.0   NaN  5.448998   \n",
       "\n",
       "                                                Text  length word_leng  \\\n",
       "0  A man visits the doctor. The doctor says, I ha...      30     short   \n",
       "1  This couple had an excellent relationship goin...      69    medium   \n",
       "2  Q. Whats 200 feet long and has 4 teeth?A. The ...      17     short   \n",
       "\n",
       "      anger       joy  positivity  negativity  surprise      fear  \\\n",
       "0  0.400000  0.100000    0.300000    0.400000       0.0  0.500000   \n",
       "1  0.066667  0.066667    0.133333    0.066667       0.0  0.066667   \n",
       "2  0.166667  0.000000    0.000000    0.166667       0.0  0.000000   \n",
       "\n",
       "   anticipation  \n",
       "0      0.100000  \n",
       "1      0.000000  \n",
       "2      0.166667  "
      ]
     },
     "execution_count": 12,
     "metadata": {},
     "output_type": "execute_result"
    }
   ],
   "source": [
    "anticipation_words = emolex_df[emolex_df.anticipation == 1]['word']\n",
    "df1['anticipation'] = wordcount_df[anticipation_words].sum(axis=1)\n",
    "df1.head(3)"
   ]
  },
  {
   "cell_type": "code",
   "execution_count": 41,
   "metadata": {
    "collapsed": true
   },
   "outputs": [],
   "source": [
    "df1.to_csv(\"sentiments.csv\")"
   ]
  },
  {
   "cell_type": "code",
   "execution_count": 13,
   "metadata": {},
   "outputs": [
    {
     "data": {
      "text/plain": [
       "<matplotlib.axes._subplots.AxesSubplot at 0x108455390>"
      ]
     },
     "execution_count": 13,
     "metadata": {},
     "output_type": "execute_result"
    },
    {
     "data": {
      "image/png": "[encoded data removed]",
      "text/plain": [
       "<matplotlib.figure.Figure at 0x108455978>"
      ]
     },
     "metadata": {},
     "output_type": "display_data"
    }
   ],
   "source": [
    "df1.plot(x='positivity', y='negativity', kind='scatter')"
   ]
  },
  {
   "cell_type": "code",
   "execution_count": 14,
   "metadata": {},
   "outputs": [
    {
     "data": {
      "text/plain": [
       "<matplotlib.axes._subplots.AxesSubplot at 0x10a232710>"
      ]
     },
     "execution_count": 14,
     "metadata": {},
     "output_type": "execute_result"
    },
    {
     "data": {
      "image/png": "[encoded data removed]",
      "text/plain": [
       "<matplotlib.figure.Figure at 0x10297f588>"
      ]
     },
     "metadata": {},
     "output_type": "display_data"
    }
   ],
   "source": [
    "df1.plot(x='anger', y='joy', kind='scatter')"
   ]
  },
  {
   "cell_type": "code",
   "execution_count": 23,
   "metadata": {},
   "outputs": [
    {
     "data": {
      "text/plain": [
       "(64, 17)"
      ]
     },
     "execution_count": 23,
     "metadata": {},
     "output_type": "execute_result"
    }
   ],
   "source": [
    "df_best = df1.loc[(df1['ratings2'] > 2.0) | (df1['ratings1'] == 0.0)]\n",
    "df_best.shape"
   ]
  },
  {
   "cell_type": "code",
   "execution_count": 24,
   "metadata": {},
   "outputs": [
    {
     "data": {
      "text/plain": [
       "(22, 17)"
      ]
     },
     "execution_count": 24,
     "metadata": {},
     "output_type": "execute_result"
    }
   ],
   "source": [
    "df_worst = df1.loc[(df1['ratings2'] < 0) | (df1['ratings1'] == 0.0)]\n",
    "df_worst.shape"
   ]
  },
  {
   "cell_type": "code",
   "execution_count": 25,
   "metadata": {},
   "outputs": [
    {
     "data": {
      "text/plain": [
       "<matplotlib.axes._subplots.AxesSubplot at 0x10a6a20f0>"
      ]
     },
     "execution_count": 25,
     "metadata": {},
     "output_type": "execute_result"
    },
    {
     "data": {
      "image/png": "[encoded data removed]",
      "text/plain": [
       "<matplotlib.figure.Figure at 0x10a759f28>"
      ]
     },
     "metadata": {},
     "output_type": "display_data"
    }
   ],
   "source": [
    "df_best.plot(x='anger', y='joy', kind='scatter')"
   ]
  },
  {
   "cell_type": "code",
   "execution_count": 26,
   "metadata": {},
   "outputs": [
    {
     "data": {
      "text/plain": [
       "<matplotlib.axes._subplots.AxesSubplot at 0x10a86fd68>"
      ]
     },
     "execution_count": 26,
     "metadata": {},
     "output_type": "execute_result"
    },
    {
     "data": {
      "image/png": "[encoded data removed]",
      "text/plain": [
       "<matplotlib.figure.Figure at 0x10a880e80>"
      ]
     },
     "metadata": {},
     "output_type": "display_data"
    }
   ],
   "source": [
    "df_worst.plot(x='anger', y='joy', kind='scatter')"
   ]
  },
  {
   "cell_type": "code",
   "execution_count": 27,
   "metadata": {},
   "outputs": [
    {
     "data": {
      "text/plain": [
       "<matplotlib.axes._subplots.AxesSubplot at 0x10a974208>"
      ]
     },
     "execution_count": 27,
     "metadata": {},
     "output_type": "execute_result"
    },
    {
     "data": {
      "image/png": "[encoded data removed]",
      "text/plain": [
       "<matplotlib.figure.Figure at 0x10a982dd8>"
      ]
     },
     "metadata": {},
     "output_type": "display_data"
    }
   ],
   "source": [
    "df_best.plot(x='positivity', y='negativity', kind='scatter')"
   ]
  },
  {
   "cell_type": "code",
   "execution_count": 28,
   "metadata": {},
   "outputs": [
    {
     "data": {
      "text/plain": [
       "<matplotlib.axes._subplots.AxesSubplot at 0x10a9a1eb8>"
      ]
     },
     "execution_count": 28,
     "metadata": {},
     "output_type": "execute_result"
    },
    {
     "data": {
      "image/png": "[encoded data removed]",
      "text/plain": [
       "<matplotlib.figure.Figure at 0x1083af8d0>"
      ]
     },
     "metadata": {},
     "output_type": "display_data"
    }
   ],
   "source": [
    "df_worst.plot(x='positivity', y='negativity', kind='scatter')"
   ]
  },
  {
   "cell_type": "markdown",
   "metadata": {},
   "source": [
    "SURPRISE"
   ]
  },
  {
   "cell_type": "code",
   "execution_count": 29,
   "metadata": {},
   "outputs": [
    {
     "data": {
      "text/plain": [
       "-0.031377134004192696"
      ]
     },
     "execution_count": 29,
     "metadata": {},
     "output_type": "execute_result"
    }
   ],
   "source": [
    "df_worst.surprise.mean() - df_best.surprise.mean()"
   ]
  },
  {
   "cell_type": "markdown",
   "metadata": {},
   "source": [
    "ANGER"
   ]
  },
  {
   "cell_type": "code",
   "execution_count": 30,
   "metadata": {
    "scrolled": true
   },
   "outputs": [
    {
     "data": {
      "text/plain": [
       "0.026807956928983245"
      ]
     },
     "execution_count": 30,
     "metadata": {},
     "output_type": "execute_result"
    }
   ],
   "source": [
    "df_worst.anger.mean() - df_best.anger.mean()"
   ]
  },
  {
   "cell_type": "markdown",
   "metadata": {},
   "source": [
    "ANTICIPATION"
   ]
  },
  {
   "cell_type": "code",
   "execution_count": 31,
   "metadata": {},
   "outputs": [
    {
     "data": {
      "text/plain": [
       "0.015629356486005497"
      ]
     },
     "execution_count": 31,
     "metadata": {},
     "output_type": "execute_result"
    }
   ],
   "source": [
    "df_worst.anticipation.mean() - df_best.anticipation.mean()"
   ]
  },
  {
   "cell_type": "markdown",
   "metadata": {},
   "source": [
    "### POSITIVITY"
   ]
  },
  {
   "cell_type": "code",
   "execution_count": 32,
   "metadata": {},
   "outputs": [
    {
     "data": {
      "text/plain": [
       "-0.098216699234720706"
      ]
     },
     "execution_count": 32,
     "metadata": {},
     "output_type": "execute_result"
    }
   ],
   "source": [
    "df_worst.positivity.mean() - df_best.positivity.mean()"
   ]
  },
  {
   "cell_type": "code",
   "execution_count": 33,
   "metadata": {},
   "outputs": [
    {
     "data": {
      "text/plain": [
       "0.099567099567099582"
      ]
     },
     "execution_count": 33,
     "metadata": {},
     "output_type": "execute_result"
    }
   ],
   "source": [
    "df_worst.positivity.mean()"
   ]
  },
  {
   "cell_type": "code",
   "execution_count": 34,
   "metadata": {},
   "outputs": [
    {
     "data": {
      "text/plain": [
       "0.19778379880182029"
      ]
     },
     "execution_count": 34,
     "metadata": {},
     "output_type": "execute_result"
    }
   ],
   "source": [
    "df_best.positivity.mean()"
   ]
  },
  {
   "cell_type": "code",
   "execution_count": 35,
   "metadata": {},
   "outputs": [
    {
     "data": {
      "text/plain": [
       "<matplotlib.axes._subplots.AxesSubplot at 0x10aa5e2e8>"
      ]
     },
     "execution_count": 35,
     "metadata": {},
     "output_type": "execute_result"
    },
    {
     "data": {
      "image/png": "[encoded data removed]",
      "text/plain": [
       "<matplotlib.figure.Figure at 0x10a83ffd0>"
      ]
     },
     "metadata": {},
     "output_type": "display_data"
    }
   ],
   "source": [
    "df1.plot(x='positivity', y='ratings1', kind='scatter')"
   ]
  },
  {
   "cell_type": "code",
   "execution_count": 36,
   "metadata": {},
   "outputs": [
    {
     "data": {
      "text/plain": [
       "<matplotlib.axes._subplots.AxesSubplot at 0x10ac79630>"
      ]
     },
     "execution_count": 36,
     "metadata": {},
     "output_type": "execute_result"
    },
    {
     "data": {
      "image/png": "[encoded data removed]",
      "text/plain": [
       "<matplotlib.figure.Figure at 0x10ac8a0b8>"
      ]
     },
     "metadata": {},
     "output_type": "display_data"
    }
   ],
   "source": [
    "df_best.plot(x='positivity', y='ratings1', kind='scatter')"
   ]
  },
  {
   "cell_type": "code",
   "execution_count": 37,
   "metadata": {},
   "outputs": [
    {
     "data": {
      "text/plain": [
       "<matplotlib.axes._subplots.AxesSubplot at 0x10acb5630>"
      ]
     },
     "execution_count": 37,
     "metadata": {},
     "output_type": "execute_result"
    },
    {
     "data": {
      "image/png": "[encoded data removed]",
      "text/plain": [
       "<matplotlib.figure.Figure at 0x10ad5ea58>"
      ]
     },
     "metadata": {},
     "output_type": "display_data"
    }
   ],
   "source": [
    "df_worst.plot(x='positivity', y='ratings1', kind='scatter')"
   ]
  },
  {
   "cell_type": "markdown",
   "metadata": {},
   "source": [
    "NEGATIVITY"
   ]
  },
  {
   "cell_type": "code",
   "execution_count": 38,
   "metadata": {},
   "outputs": [
    {
     "data": {
      "text/plain": [
       "-0.011348798884410011"
      ]
     },
     "execution_count": 38,
     "metadata": {},
     "output_type": "execute_result"
    }
   ],
   "source": [
    "df_worst.negativity.mean() - df_best.negativity.mean()"
   ]
  },
  {
   "cell_type": "markdown",
   "metadata": {},
   "source": [
    "JOY"
   ]
  },
  {
   "cell_type": "code",
   "execution_count": 39,
   "metadata": {},
   "outputs": [
    {
     "data": {
      "text/plain": [
       "-0.0044361517001615461"
      ]
     },
     "execution_count": 39,
     "metadata": {},
     "output_type": "execute_result"
    }
   ],
   "source": [
    "df_worst.joy.mean() - df_best.joy.mean()"
   ]
  },
  {
   "cell_type": "markdown",
   "metadata": {},
   "source": [
    "FEAR"
   ]
  },
  {
   "cell_type": "code",
   "execution_count": 40,
   "metadata": {},
   "outputs": [
    {
     "data": {
      "text/plain": [
       "0.011351759665787636"
      ]
     },
     "execution_count": 40,
     "metadata": {},
     "output_type": "execute_result"
    }
   ],
   "source": [
    "df_worst.fear.mean() - df_best.fear.mean()"
   ]
  },
  {
   "cell_type": "code",
   "execution_count": null,
   "metadata": {
    "collapsed": true
   },
   "outputs": [],
   "source": []
  },
  {
   "cell_type": "code",
   "execution_count": null,
   "metadata": {
    "collapsed": true
   },
   "outputs": [],
   "source": []
  }
 ],
 "metadata": {
  "kernelspec": {
   "display_name": "Python 3",
   "language": "python",
   "name": "python3"
  },
  "language_info": {
   "codemirror_mode": {
    "name": "ipython",
    "version": 3
   },
   "file_extension": ".py",
   "mimetype": "text/x-python",
   "name": "python",
   "nbconvert_exporter": "python",
   "pygments_lexer": "ipython3",
   "version": "3.6.1"
  }
 },
 "nbformat": 4,
 "nbformat_minor": 2
}
